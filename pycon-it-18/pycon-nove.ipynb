{
 "cells": [
  {
   "cell_type": "markdown",
   "metadata": {
    "slideshow": {
     "slide_type": "slide"
    }
   },
   "source": [
    "# LOCATION, LOCATION, LOCATION: \n",
    "## ANALYSIS AND VISUALISATION OF GEOSPATIAL DATA IN PYTHON\n",
    "\n",
    "### *Michele Ferretti - King's College London*\n",
    "\n",
    "### PyCon Nove - Florence, 19<sup>th</sup>-22<sup>nd</sup> April 2018"
   ]
  },
  {
   "cell_type": "markdown",
   "metadata": {
    "slideshow": {
     "slide_type": "subslide"
    }
   },
   "source": [
    "# Disclaimer\n",
    "\n",
    "- **Beginners most welcome! **"
   ]
  },
  {
   "cell_type": "markdown",
   "metadata": {
    "slideshow": {
     "slide_type": "fragment"
    }
   },
   "source": [
    "- **Advanced users most welcome!**"
   ]
  },
  {
   "cell_type": "markdown",
   "metadata": {
    "slideshow": {
     "slide_type": "subslide"
    }
   },
   "source": [
    "# Programme:\n",
    "\n",
    "\n",
    "\n",
    "- **Formats**!\n",
    "\n",
    "-  **Coordinate Reference Formats**!\n",
    "\n",
    "-  **Analysis**!\n",
    "\n",
    "-  **Visualization**!"
   ]
  },
  {
   "cell_type": "markdown",
   "metadata": {
    "slideshow": {
     "slide_type": "slide"
    }
   },
   "source": [
    "# What is Geographic Data? (and why should I care)"
   ]
  },
  {
   "cell_type": "markdown",
   "metadata": {
    "slideshow": {
     "slide_type": "fragment"
    }
   },
   "source": [
    "> Any data with a <span class=\"alert\">location</span> component."
   ]
  },
  {
   "cell_type": "markdown",
   "metadata": {
    "slideshow": {
     "slide_type": "fragment"
    }
   },
   "source": [
    "- We can use geodata to analyze and/or visualize any event that happens <span class=\"black\">somewhere</span> on the Earth!"
   ]
  },
  {
   "cell_type": "markdown",
   "metadata": {
    "slideshow": {
     "slide_type": "fragment"
    }
   },
   "source": [
    "- Many different types, but can be grouped in two categories: <span class=\"black\">vector</span>  vs <span class=\"black\">raster</span> data."
   ]
  },
  {
   "cell_type": "markdown",
   "metadata": {
    "slideshow": {
     "slide_type": "subslide"
    }
   },
   "source": [
    "# Vector\n"
   ]
  },
  {
   "cell_type": "markdown",
   "metadata": {
    "slideshow": {
     "slide_type": "fragment"
    }
   },
   "source": [
    "- **Points**: crime events, pollution samples, social-media check-ins..\n",
    "![](imgs/point-map.jpg)"
   ]
  },
  {
   "cell_type": "markdown",
   "metadata": {
    "slideshow": {
     "slide_type": "subslide"
    }
   },
   "source": [
    "- **Lines**: GPS traces, streets, social networks...\n",
    "![](imgs/line-map.jpg)"
   ]
  },
  {
   "cell_type": "markdown",
   "metadata": {
    "slideshow": {
     "slide_type": "subslide"
    }
   },
   "source": [
    "- **Polygons**: Country boundaries, Census tracts, catchment areas...\n",
    "![](imgs/vector.gif)"
   ]
  },
  {
   "cell_type": "markdown",
   "metadata": {
    "slideshow": {
     "slide_type": "subslide"
    }
   },
   "source": [
    "# Raster"
   ]
  },
  {
   "cell_type": "markdown",
   "metadata": {
    "slideshow": {
     "slide_type": "fragment"
    }
   },
   "source": [
    "![](imgs/remote-sensing.jpeg)"
   ]
  },
  {
   "cell_type": "markdown",
   "metadata": {
    "slideshow": {
     "slide_type": "subslide"
    }
   },
   "source": [
    "![](imgs/dem.jpg)"
   ]
  },
  {
   "cell_type": "markdown",
   "metadata": {
    "slideshow": {
     "slide_type": "subslide"
    }
   },
   "source": [
    "![](imgs/temperature.png)"
   ]
  },
  {
   "cell_type": "markdown",
   "metadata": {
    "slideshow": {
     "slide_type": "subslide"
    }
   },
   "source": [
    "Most of the time you'll work with Vector data...so let's skip Rasters for now!"
   ]
  },
  {
   "cell_type": "markdown",
   "metadata": {
    "slideshow": {
     "slide_type": "slide"
    }
   },
   "source": [
    "# Shapefile\n",
    "\n",
    "![](https://ih1.redbubble.net/image.439227781.4623/flat,800x800,070,f.u1.jpg)"
   ]
  },
  {
   "cell_type": "markdown",
   "metadata": {
    "slideshow": {
     "slide_type": "subslide"
    }
   },
   "source": [
    "![](imgs/shapefile.png)"
   ]
  },
  {
   "cell_type": "markdown",
   "metadata": {
    "slideshow": {
     "slide_type": "subslide"
    }
   },
   "source": [
    "Composed by (at <span class=\"black\">least</span>) three files: \n"
   ]
  },
  {
   "cell_type": "markdown",
   "metadata": {
    "slideshow": {
     "slide_type": "fragment"
    }
   },
   "source": [
    "- **.shp**= Contains the actual *geometries* (Points, Lines, Polygons...)\n",
    "\n",
    "    "
   ]
  },
  {
   "cell_type": "markdown",
   "metadata": {
    "slideshow": {
     "slide_type": "fragment"
    }
   },
   "source": [
    "- **.dbf** = `dBASE` file contains the attribute information table in standard `DBF` *format*"
   ]
  },
  {
   "cell_type": "markdown",
   "metadata": {
    "slideshow": {
     "slide_type": "fragment"
    }
   },
   "source": [
    "- **.shx**= Indexing file for look-ups etc.."
   ]
  },
  {
   "cell_type": "markdown",
   "metadata": {
    "slideshow": {
     "slide_type": "fragment"
    }
   },
   "source": [
    "\n",
    "Optional, but quite important is:\n",
    "- **.prj** = contains the data <span class=\"alert\">projection</span> (more on this later...)"
   ]
  },
  {
   "cell_type": "markdown",
   "metadata": {
    "slideshow": {
     "slide_type": "subslide"
    }
   },
   "source": [
    "> “80% of successful GIS work is having a good folder structure”\n",
    ">  [@Shapefile](https://twitter.com/shapefiIe)\n",
    "\n"
   ]
  },
  {
   "cell_type": "markdown",
   "metadata": {
    "slideshow": {
     "slide_type": "slide"
    }
   },
   "source": [
    "# GeoJSON\n",
    "\n",
    "![](imgs/geojson.png)"
   ]
  },
  {
   "cell_type": "markdown",
   "metadata": {
    "slideshow": {
     "slide_type": "subslide"
    }
   },
   "source": [
    "- JSON (JavaScript Object Notation) superset (Easily understood by Javascript!) "
   ]
  },
  {
   "cell_type": "markdown",
   "metadata": {
    "slideshow": {
     "slide_type": "fragment"
    }
   },
   "source": [
    "- Open standard [geojson.org](http://geojson.org/)"
   ]
  },
  {
   "cell_type": "markdown",
   "metadata": {
    "slideshow": {
     "slide_type": "fragment"
    }
   },
   "source": [
    "-  *\"Supports geometry types: `Point`, `LineString`, `Polygon`, `MultiPoint`, `MultiLineString`, and `MultiPolygon`. Additional properties are `Feature` objects. Sets of features are contained by `FeatureCollection` objects\"*"
   ]
  },
  {
   "cell_type": "markdown",
   "metadata": {
    "slideshow": {
     "slide_type": "fragment"
    }
   },
   "source": [
    "- Geoweb *De facto* standard, e.g. [Github](https://gist.github.com/miccferr/156889b8a655def77fcfedecd55861cd#file-thailand-geojson) \n",
    "\n",
    "![](imgs/gist.png)"
   ]
  },
  {
   "cell_type": "markdown",
   "metadata": {
    "slideshow": {
     "slide_type": "subslide"
    }
   },
   "source": [
    "# Other formats"
   ]
  },
  {
   "cell_type": "markdown",
   "metadata": {
    "slideshow": {
     "slide_type": "fragment"
    }
   },
   "source": [
    "- **Mapbox Vector Tiles** = The (relatively) new kid on the block! [MPX Tile Spec](https://www.mapbox.com/vector-tiles/specification/)\n",
    "\n",
    "- **QA Tiles** = \"OpenStreetMap data as Mapbox Vector Tiles in an MBTiles file for data analysis\" [mbtiles-spec](https://github.com/mapbox/mbtiles-spec)\n",
    "\n",
    "- **Keyhole Markup Language (KML)** = Good 'ol Google Earth!\n",
    "\n",
    "- **GeoTIFF** = Geo-referenced imagery"
   ]
  },
  {
   "cell_type": "markdown",
   "metadata": {
    "slideshow": {
     "slide_type": "fragment"
    }
   },
   "source": [
    "- **ADRG**, **Digital raster graphic (DRG)**, **ECRG**, **ECW**, **Esri grid**, **IMG**, **JPEG2000**, **MrSID**, **netCDF-CF**, **RPF**, **CADRG**, **CIB**, **AutoCAD DXF**, **Cartesian coordinate system (XYZ)**, **Digital line graph (DLG)**, **Esri TIN **, **Geography Markup Language (GML)**, **GeoMedia**, **ISFC**, **MapInfo TAB format**, **National Transfer Format (NTF)**, **Spatialite**,  **Simple Features**, **SOSI**, **Spatial Data File**, **TIGER**, **Vector Product Format (VPF)**, **Grid formats (for elevation)**, **USGS DEM**, **GTOPO30**, **DTED**, **SDTS**, **Dual Independent Map Encoding (DIME)**, **Geographic Data Files (GDF) **, **GeoPackage (GPKG)**, **Well-known text (WKT)**, **Well-known binary (WKB)**, **World file**"
   ]
  },
  {
   "cell_type": "markdown",
   "metadata": {
    "slideshow": {
     "slide_type": "slide"
    }
   },
   "source": [
    "# Openstreetmap!\n",
    "\n",
    "![](imgs/osm-tot.png)"
   ]
  },
  {
   "cell_type": "markdown",
   "metadata": {
    "slideshow": {
     "slide_type": "subslide"
    }
   },
   "source": [
    "- Whole <span class=\"black\">planetary dataset</span> makes for ~over 846 GB uncompressed (60.7 GB bzip2-compressed) [Planet.OSM Wiki](https://wiki.openstreetmap.org/wiki/Planet.osm)."
   ]
  },
  {
   "cell_type": "markdown",
   "metadata": {
    "slideshow": {
     "slide_type": "fragment"
    }
   },
   "source": [
    "- ODBL License"
   ]
  },
  {
   "cell_type": "markdown",
   "metadata": {
    "slideshow": {
     "slide_type": "fragment"
    }
   },
   "source": [
    "- You can also find extracts for individual continents, countries, and metropolitan areas! (e.g. [Geofabrik.de](https://download.geofabrik.de/) )"
   ]
  },
  {
   "cell_type": "markdown",
   "metadata": {
    "slideshow": {
     "slide_type": "fragment"
    }
   },
   "source": [
    "- Or you can query  <span class=\"alert\"> individual features </span> using the awesome[Overpass API](https://overpass-turbo.eu/master/?q=LyoKVGhpcyBoYcSGYmVlbiBnxI1lcmF0ZWQgYnkgdGhlIG92xJJwxIlzLXR1cmJvIHdpemFyZC7EgsSdxJ9yaWdpbmFsIHNlxLBjaMSsxIk6CsOiwoDCnGFtxI1pdHk9cmVzdGHEqGFudCDEuiBGacWSbnplxYjCnQoqLwpbb3V0Ompzb25dW3RpxYzFq8WtMjVdOwovLyBmZXTFgiDEsMWAIMWIwpzFnsWgxaLFpMSbxKvEv8WBxYPEugp7e8SQb2NvZGVBxZJhOsaMxI3Fon19LT4uxpJyxYLGn8WAxb3Fv8SPxJTEnXIgxZJzdWx0cwooCiAgxrFxdcSSxJrEo3LFmmZvcjrGicWJxYvFjcWPxZHFk8WVxZfFmcWkxr8gbsacZVsix5BuxY55Ij0ixrfHlcSTxZkiXSjGh2HGqsWAxqxoxq5hKcW9Cse2xb7GgHDEt8WZxrbFk8a5xrsKxbjEmMacecW9PsW9yIRza2XEvXF0Ow&c=BORt36R5FP&R)\n",
    "\n",
    "![](imgs/overpass-example.png)"
   ]
  },
  {
   "cell_type": "code",
   "execution_count": 49,
   "metadata": {
    "slideshow": {
     "slide_type": "subslide"
    }
   },
   "outputs": [
    {
     "name": "stdout",
     "output_type": "stream",
     "text": [
      "{\"features\": [{\"geometry\": {\"coordinates\": [11.224469, 43.9144118], \"type\": \"Point\"}, \"id\": 114905303, \"properties\": {\"amenity\": \"restaurant\", \"created_by\": \"Texpo\", \"name\": \"Oreste Campagna\"}, \"type\": \"Feature\"}, {\"geometry\": {\"coordinates\": [11.2168797, 43.9084707], \"type\": \"Point\"}, \"id\": 115488217, \"properties\": {\"amenity\": \"restaurant\", \"created_by\": \"Texpo\", \"name\": \"Lago di Legri\"}, \"type\": \"Feature\"}, {\"geometry\": {\"coordinates\": [11.4238324, 44.0746595], \"type\": \"Point\"}, \"id\": 290089472, \"properties\": {\"addr:housenumber\": \"898\", \"addr:street\": \"Moscheta\", \"amenity\": \"restaurant\", \"cuisine\": \"grill;local;buschenschank\", \"name\": \"Badia di moscheta\"}, \"type\": \"Feature\"}, {\"geometry\": {\"coordinates\": [11.3933372, 43.79001], \"type\": \"Point\"}, \"id\": 300687966, \"properties\": {\"amenity\": \"restaurant\", \"cuisine\": \"italian\", \"name\": \"Lo Spiedo Girato\"}, \"type\": \"Feature\"}, {\"geometry\": {\"coordinates\": [11.2540587, 43.7732733], \"type\": \"Point\"}, \"id\": 335926924, \"properties\": {\"addr:housenumber\": \"15/r\", \"addr:postcode\": \"50123\", \"addr:street\": \"Piazza dell'Olio\", \"amenity\": \"restaurant\", \"name\": \"Fiaschetteria Nuvoli\", \"opening_hours\": \"Mo-Sa 08:00-21:00\", \"phone\": \"+390552396616\"}, \"type\": \"Feature\"}, {\"geometry\": {\"coordinates\": [11.2664312, 43.7711916], \"type\": \"Point\"}, \"id\": 335930294, \"properties\": {\"amenity\": \"restaurant\", \"name\": \"Il Cibreo\"}, \"type\": \"Feature\"}, {\"geometry\": {\"coordinates\": [11.2013555, 43.691909], \"type\": \"Point\"}, \"id\": 336738041, \"properties\": {\"amenity\": \"restaurant\", \"cuisine\": \"regional\", \"name\": \"Trattoria la Baracchina\"}, \"type\": \"Feature\"}, {\"geometry\": {\"coordinates\": [11.4221087, 43.7702791], \"type\": \"Point\"}, \"id\": 339685230, \"properties\": {\"amenity\": \"restaurant\", \"cuisine\": \"regional\", \"name\": \"La Bottega di Rosano\"}, \"type\": \"Feature\"}, {\"geometry\": {\"coordinates\": [11.0945662, 43.7809796], \"type\": \"Point\"}, \"id\": 402524770, \"properties\": {\"amenity\": \"restaurant\", \"cuisine\": \"italian\", \"name\": \"La Panoramica\"}, \"type\": \"Feature\"}, {\"geometry\": {\"coordinates\": [11.0975732, 43.7799214], \"type\": \"Point\"}, \"id\": 402524773, \"properties\": {\"addr:city\": \"Signa\", \"addr:country\": \"IT\", \"addr:housenumber\": \"3\", \"addr:street\": \"Via Egisto ferroni\", \"amenity\": \"restaurant\", \"cuisine\": \"pizza\", \"name\": \"Da Foffo\"}, \"type\": \"Feature\"}, {\"geometry\": {\"coordinates\": [11.0957518, 43.7762797], \"type\": \"Point\"}, \"id\": 402574092, \"properties\": {\"amenity\": \"restaurant\"}, \"type\": \"Feature\"}, {\"geometry\": {\"coordinates\": [11.4354664, 44.1216818], \"type\": \"Point\"}, \"id\": 403872071, \"properties\": {\"amenity\": \"restaurant\", \"cuisine\": \"regional\", \"name\": \"Da Iolanda\"}, \"type\": \"Feature\"}, {\"geometry\": {\"coordinates\": [10.9126048, 43.5534191], \"type\": \"Point\"}, \"id\": 413993382, \"properties\": {\"amenity\": \"restaurant\"}, \"type\": \"Feature\"}, {\"geometry\": {\"coordinates\": [11.3851628, 43.5539087], \"type\": \"Point\"}, \"id\": 429959503, \"properties\": {\"amenity\": \"restaurant\", \"cuisine\": \"regional\", \"name\": \"Villa San Michele\", \"tourism\": \"hotel\"}, \"type\": \"Feature\"}, {\"geometry\": {\"coordinates\": [11.1347105, 43.8215809], \"type\": \"Point\"}, \"id\": 443635867, \"properties\": {\"amenity\": \"restaurant\", \"cuisine\": \"regional\", \"name\": \"L'intingolo\"}, \"type\": \"Feature\"}, {\"geometry\": {\"coordinates\": [11.1336829, 43.8241785], \"type\": \"Point\"}, \"id\": 443635870, \"properties\": {\"amenity\": \"restaurant\", \"cuisine\": \"pizza\", \"name\": \"Da Rodolfo\"}, \"type\": \"Feature\"}, {\"geometry\": {\"coordinates\": [11.4427967, 43.6108909], \"type\": \"Point\"}, \"id\": 443931786, \"properties\": {\"amenity\": \"restaurant\", \"cuisine\": \"italian\"}, \"type\": \"Feature\"}, {\"geometry\": {\"coordinates\": [11.4494756, 43.6113333], \"type\": \"Point\"}, \"id\": 443931936, \"properties\": {\"amenity\": \"restaurant\", \"cuisine\": \"italian\"}, \"type\": \"Feature\"}, {\"geometry\": {\"coordinates\": [11.1553997, 43.8769422], \"type\": \"Point\"}, \"id\": 456822663, \"properties\": {\"addr:city\": \"Calenzano\", \"addr:housenumber\": \"10\", \"addr:postcode\": \"50041\", \"addr:street\": \"Via Macia\", \"amenity\": \"restaurant\", \"cuisine\": \"regional\", \"name\": \"Ristorante di Travalle\"}, \"type\": \"Feature\"}, {\"geometry\": {\"coordinates\": [11.2507167, 43.7889536], \"type\": \"Point\"}, \"id\": 457713078, \"properties\": {\"amenity\": \"restaurant\", \"cuisine\": \"pizza\", \"name\": \"Cipiglio\"}, \"type\": \"Feature\"}, {\"geometry\": {\"coordinates\": [11.2416544, 43.7931272], \"type\": \"Point\"}, \"id\": 468096474, \"properties\": {\"amenity\": \"restaurant\", \"cuisine\": \"pizza\", \"name\": \"Laterna Blu\"}, \"type\": \"Feature\"}, {\"geometry\": {\"coordinates\": [11.2466034, 43.7745959], \"type\": \"Point\"}, \"id\": 468096509, \"properties\": {\"amenity\": \"restaurant\", \"cuisine\": \"italian\", \"name\": \"La Grotta di Leo\"}, \"type\": \"Feature\"}, {\"geometry\": {\"coordinates\": [11.2601442, 43.7866215], \"type\": \"Point\"}, \"id\": 468096529, \"properties\": {\"amenity\": \"restaurant\", \"cuisine\": \"italian\", \"name\": \"Panta Rei\", \"opening_hours\": \"We-Mo 19:00-24:00\"}, \"type\": \"Feature\"}, {\"geometry\": {\"coordinates\": [11.2499572, 43.7866757], \"type\": \"Point\"}, \"id\": 468096577, \"properties\": {\"amenity\": \"restaurant\", \"cuisine\": \"asian\", \"name\": \"Buona Fortuna\"}, \"type\": \"Feature\"}, {\"geometry\": {\"coordinates\": [11.2503489, 43.7730881], \"type\": \"Point\"}, \"id\": 468096607, \"properties\": {\"amenity\": \"restaurant\", \"cuisine\": \"italian\", \"name\": \"al Trebbio\"}, \"type\": \"Feature\"}, {\"geometry\": {\"coordinates\": [11.2334541, 43.7867432], \"type\": \"Point\"}, \"id\": 471496022, \"properties\": {\"amenity\": \"restaurant\", \"cuisine\": \"pizza\", \"name\": \"Senzanome\"}, \"type\": \"Feature\"}, {\"geometry\": {\"coordinates\": [11.3753911, 43.7388601], \"type\": \"Point\"}, \"id\": 474993428, \"properties\": {\"addr:city\": \"Bagno a Ripoli\", \"addr:street\": \"Via Ponti di Millo\", \"amenity\": \"restaurant\", \"cuisine\": \"regional\", \"email\": \"info@nuovoranch.it\", \"name\": \"Nuovo Ranch\", \"opening_hours\": \"solo la sera chiuso luned\\u00ec\", \"outdoor_seating\": \"yes\", \"takeaway\": \"no\"}, \"type\": \"Feature\"}, {\"geometry\": {\"coordinates\": [11.1037725, 43.6725435], \"type\": \"Point\"}, \"id\": 496489091, \"properties\": {\"amenity\": \"restaurant\", \"name\": \"Il Focolare\"}, \"type\": \"Feature\"}, {\"geometry\": {\"coordinates\": [11.08476, 43.6644704], \"type\": \"Point\"}, \"id\": 496491175, \"properties\": {\"amenity\": \"restaurant\", \"name\": \"Il Mezzo Marinaio\"}, \"type\": \"Feature\"}, {\"geometry\": {\"coordinates\": [10.8905558, 43.5738654], \"type\": \"Point\"}, \"id\": 529715295, \"properties\": {\"addr:city\": \"Montaione\", \"addr:country\": \"IT\", \"addr:housenumber\": \"16\", \"addr:postcode\": \"50050\", \"addr:street\": \"Via Mura\", \"amenity\": \"restaurant\", \"cuisine\": \"tuscan\", \"name\": \"Ristorante il Caminetto\"}, \"type\": \"Feature\"}, {\"geometry\": {\"coordinates\": [11.1730524, 43.7388494], \"type\": \"Point\"}, \"id\": 538784387, \"properties\": {\"amenity\": \"restaurant\", \"name\": \"Anastasia\"}, \"type\": \"Feature\"}, {\"geometry\": {\"coordinates\": [11.2649092, 43.7619724], \"type\": \"Point\"}, \"id\": 543736101, \"properties\": {\"amenity\": \"restaurant\", \"name\": \"La Loggia\"}, \"type\": \"Feature\"}, {\"geometry\": {\"coordinates\": [11.4639668, 43.7022768], \"type\": \"Point\"}, \"id\": 583524533, \"properties\": {\"amenity\": \"restaurant\", \"name\": \"Dot.Com\", \"wheelchair\": \"no\"}, \"type\": \"Feature\"}, {\"geometry\": {\"coordinates\": [11.2429045, 43.7750808], \"type\": \"Point\"}, \"id\": 589084736, \"properties\": {\"amenity\": \"restaurant\", \"cuisine\": \"pizza\", \"name\": \"La Rotonda\"}, \"type\": \"Feature\"}, {\"geometry\": {\"coordinates\": [11.2832892, 43.7870735], \"type\": \"Point\"}, \"id\": 590526978, \"properties\": {\"amenity\": \"restaurant\", \"name\": \"Osteria God\\u00f2\"}, \"type\": \"Feature\"}, {\"geometry\": {\"coordinates\": [11.2119915, 43.7936062], \"type\": \"Point\"}, \"id\": 590537269, \"properties\": {\"amenity\": \"restaurant\", \"name\": \"Pizzeria Pizzaman\"}, \"type\": \"Feature\"}, {\"geometry\": {\"coordinates\": [11.2568912, 43.783195], \"type\": \"Point\"}, \"id\": 595635453, \"properties\": {\"amenity\": \"restaurant\", \"cuisine\": \"greek\", \"name\": \"Odissea\", \"name:el\": \"\\u039f\\u03b4\\u03cd\\u03c3\\u03c3\\u03b5\\u03b9\\u03b1\"}, \"type\": \"Feature\"}, {\"geometry\": {\"coordinates\": [11.2541025, 43.7790596], \"type\": \"Point\"}, \"id\": 595642611, \"properties\": {\"amenity\": \"restaurant\", \"cuisine\": \"pizza\", \"name\": \"Il giardino di Barbano\", \"operator\": \"Forasiepi Giancarlo & C. s.n.c.\", \"phone\": \"+39 055 486752\"}, \"type\": \"Feature\"}, {\"geometry\": {\"coordinates\": [11.1797421, 43.5648443], \"type\": \"Point\"}, \"id\": 600260593, \"properties\": {\"amenity\": \"restaurant\", \"name\": \"Trattoria la Regina\"}, \"type\": \"Feature\"}, {\"geometry\": {\"coordinates\": [11.528767, 43.6754766], \"type\": \"Point\"}, \"id\": 601662167, \"properties\": {\"amenity\": \"restaurant\", \"cuisine\": \"pizza\", \"name\": \"Stagnino\"}, \"type\": \"Feature\"}, {\"geometry\": {\"coordinates\": [11.2147281, 43.9603175], \"type\": \"Point\"}, \"id\": 615046353, \"properties\": {\"amenity\": \"restaurant\", \"cuisine\": \"regional\", \"name\": \"La Bottega del Cornocchio\"}, \"type\": \"Feature\"}, {\"geometry\": {\"coordinates\": [11.2137028, 43.9460808], \"type\": \"Point\"}, \"id\": 615049978, \"properties\": {\"amenity\": \"restaurant\", \"cuisine\": \"regional\", \"name\": \"Da Gianni\"}, \"type\": \"Feature\"}, {\"geometry\": {\"coordinates\": [11.234656, 43.8638402], \"type\": \"Point\"}, \"id\": 618779290, \"properties\": {\"amenity\": \"restaurant\", \"cuisine\": \"italian\", \"name\": \"Ristorante Vecciolino\"}, \"type\": \"Feature\"}, {\"geometry\": {\"coordinates\": [11.3191182, 43.7522244], \"type\": \"Point\"}, \"id\": 619481911, \"properties\": {\"addr:city\": \"Bagno a Ripoli\", \"amenity\": \"restaurant\"}, \"type\": \"Feature\"}, {\"geometry\": {\"coordinates\": [11.1858649, 43.793932], \"type\": \"Point\"}, \"id\": 623913279, \"properties\": {\"amenity\": \"restaurant\", \"name\": \"Trattoria da Burde\"}, \"type\": \"Feature\"}, {\"geometry\": {\"coordinates\": [10.8713295, 43.5602058], \"type\": \"Point\"}, \"id\": 638377515, \"properties\": {\"amenity\": \"restaurant\", \"name\": \"Castellare di Tonda\"}, \"type\": \"Feature\"}, {\"geometry\": {\"coordinates\": [10.8801369, 43.5836868], \"type\": \"Point\"}, \"id\": 638377524, \"properties\": {\"amenity\": \"restaurant\", \"name\": \"Trattoria Il lago\"}, \"type\": \"Feature\"}, {\"geometry\": {\"coordinates\": [10.8983459, 43.5788887], \"type\": \"Point\"}, \"id\": 638377530, \"properties\": {\"amenity\": \"restaurant\", \"name\": \"Casa Masi\"}, \"type\": \"Feature\"}, {\"geometry\": {\"coordinates\": [10.9543623, 43.5395033], \"type\": \"Point\"}, \"id\": 638377535, \"properties\": {\"amenity\": \"restaurant\", \"name\": \"Risorante Pizzeria Pinchiorba\"}, \"type\": \"Feature\"}, {\"geometry\": {\"coordinates\": [10.9277612, 43.5194865], \"type\": \"Point\"}, \"id\": 638377542, \"properties\": {\"amenity\": \"restaurant\", \"name\": \"Ristorante Pizzeria Le tre case\"}, \"type\": \"Feature\"}, {\"geometry\": {\"coordinates\": [10.9566837, 43.5398864], \"type\": \"Point\"}, \"id\": 638377550, \"properties\": {\"amenity\": \"restaurant\", \"name\": \"Ristorante Pizzeria Non sul Collo\"}, \"type\": \"Feature\"}, {\"geometry\": {\"coordinates\": [10.9553226, 43.5409038], \"type\": \"Point\"}, \"id\": 638377554, \"properties\": {\"amenity\": \"restaurant\", \"name\": \"Pizzeria Rimondino\"}, \"type\": \"Feature\"}, {\"geometry\": {\"coordinates\": [10.944906, 43.5327269], \"type\": \"Point\"}, \"id\": 638377559, \"properties\": {\"amenity\": \"restaurant\", \"name\": \"La Montagnola\"}, \"type\": \"Feature\"}, {\"geometry\": {\"coordinates\": [10.9470582, 43.5335068], \"type\": \"Point\"}, \"id\": 638377567, \"properties\": {\"amenity\": \"restaurant\", \"name\": \"Al Mirador della Catalana\"}, \"type\": \"Feature\"}, {\"geometry\": {\"coordinates\": [10.9555447, 43.541925], \"type\": \"Point\"}, \"id\": 638377576, \"properties\": {\"amenity\": \"restaurant\", \"name\": \"Il Castagno\"}, \"type\": \"Feature\"}, {\"geometry\": {\"coordinates\": [10.9130954, 43.5532441], \"type\": \"Point\"}, \"id\": 638377579, \"properties\": {\"amenity\": \"restaurant\", \"name\": \"Osteria del Pesce Rosso\"}, \"type\": \"Feature\"}, {\"geometry\": {\"coordinates\": [10.9055704, 43.5580217], \"type\": \"Point\"}, \"id\": 638377584, \"properties\": {\"amenity\": \"restaurant\", \"name\": \"La Tavernetta\"}, \"type\": \"Feature\"}, {\"geometry\": {\"coordinates\": [10.9141307, 43.5520039], \"type\": \"Point\"}, \"id\": 638377585, \"properties\": {\"amenity\": \"restaurant\", \"name\": \"Carpe Diem\"}, \"type\": \"Feature\"}, {\"geometry\": {\"coordinates\": [10.9145419, 43.5518679], \"type\": \"Point\"}, \"id\": 638377588, \"properties\": {\"amenity\": \"restaurant\", \"name\": \"L'Erasmus\"}, \"type\": \"Feature\"}, {\"geometry\": {\"coordinates\": [10.9122951, 43.5534228], \"type\": \"Point\"}, \"id\": 638377594, \"properties\": {\"amenity\": \"restaurant\", \"name\": \"Ristorante Pizzeria Corte Antica\"}, \"type\": \"Feature\"}, {\"geometry\": {\"coordinates\": [10.9537779, 43.5522743], \"type\": \"Point\"}, \"id\": 638377600, \"properties\": {\"amenity\": \"restaurant\", \"name\": \"Borgoforte\"}, \"type\": \"Feature\"}, {\"geometry\": {\"coordinates\": [10.9893792, 43.5908654], \"type\": \"Point\"}, \"id\": 638377605, \"properties\": {\"amenity\": \"restaurant\", \"name\": \"Ristorante Bowling Samarcanda\"}, \"type\": \"Feature\"}, {\"geometry\": {\"coordinates\": [10.9681039, 43.6003236], \"type\": \"Point\"}, \"id\": 638377609, \"properties\": {\"amenity\": \"restaurant\", \"name\": \"Ristorante Il tulipano\", \"wheelchair\": \"yes\"}, \"type\": \"Feature\"}, {\"geometry\": {\"coordinates\": [10.961499, 43.6133663], \"type\": \"Point\"}, \"id\": 638377615, \"properties\": {\"amenity\": \"restaurant\", \"name\": \"Ristorante Pizzeria\"}, \"type\": \"Feature\"}, {\"geometry\": {\"coordinates\": [10.9762358, 43.6055122], \"type\": \"Point\"}, \"id\": 638377630, \"properties\": {\"amenity\": \"restaurant\", \"name\": \"Ristorante Pizzeria Renai\"}, \"type\": \"Feature\"}, {\"geometry\": {\"coordinates\": [10.9655371, 43.6055515], \"type\": \"Point\"}, \"id\": 638377637, \"properties\": {\"amenity\": \"restaurant\", \"name\": \"Pizzeria di l\\u00e0 dal Ponte\"}, \"type\": \"Feature\"}, {\"geometry\": {\"coordinates\": [10.9697756, 43.6064357], \"type\": \"Point\"}, \"id\": 638377645, \"properties\": {\"amenity\": \"restaurant\", \"name\": \"Pizzeria Tavola Calda Patrizia\"}, \"type\": \"Feature\"}, {\"geometry\": {\"coordinates\": [10.9696364, 43.6036512], \"type\": \"Point\"}, \"id\": 638377653, \"properties\": {\"amenity\": \"restaurant\", \"name\": \"Pizzolando\"}, \"type\": \"Feature\"}, {\"geometry\": {\"coordinates\": [10.9702556, 43.6044379], \"type\": \"Point\"}, \"id\": 638377658, \"properties\": {\"amenity\": \"restaurant\", \"name\": \"Ristorante Pizzeria da Carlo\"}, \"type\": \"Feature\"}, {\"geometry\": {\"coordinates\": [10.9685789, 43.6052763], \"type\": \"Point\"}, \"id\": 638377661, \"properties\": {\"amenity\": \"restaurant\", \"name\": \"Osteria La Magona\"}, \"type\": \"Feature\"}, {\"geometry\": {\"coordinates\": [10.9661689, 43.6141626], \"type\": \"Point\"}, \"id\": 638377676, \"properties\": {\"amenity\": \"restaurant\", \"name\": \"Circolo ARCI \\\"Puppino\\\"\"}, \"type\": \"Feature\"}, {\"geometry\": {\"coordinates\": [10.9653872, 43.6135948], \"type\": \"Point\"}, \"id\": 638377679, \"properties\": {\"amenity\": \"restaurant\", \"name\": \"Special Pizza\"}, \"type\": \"Feature\"}, {\"geometry\": {\"coordinates\": [10.9666819, 43.5974056], \"type\": \"Point\"}, \"id\": 638377686, \"properties\": {\"amenity\": \"restaurant\", \"name\": \"Pizzeria Volterrani\", \"wheelchair\": \"limited\"}, \"type\": \"Feature\"}, {\"geometry\": {\"coordinates\": [11.0152276, 43.6235675], \"type\": \"Point\"}, \"id\": 646575070, \"properties\": {\"amenity\": \"restaurant\", \"cuisine\": \"regional\", \"name\": \"Il Gazebo\"}, \"type\": \"Feature\"}, {\"geometry\": {\"coordinates\": [11.1689199, 43.6385176], \"type\": \"Point\"}, \"id\": 650293952, \"properties\": {\"amenity\": \"restaurant\", \"name\": \"La Botte\"}, \"type\": \"Feature\"}, {\"geometry\": {\"coordinates\": [11.0351523, 43.7189079], \"type\": \"Point\"}, \"id\": 650396317, \"properties\": {\"amenity\": \"restaurant\", \"name\": \"Trattoria del Turbone\"}, \"type\": \"Feature\"}, {\"geometry\": {\"coordinates\": [11.1652679, 43.6457054], \"type\": \"Point\"}, \"id\": 651307878, \"properties\": {\"amenity\": \"restaurant\", \"name\": \"Alimentari Trattoria\"}, \"type\": \"Feature\"}, {\"geometry\": {\"coordinates\": [11.2542633, 43.7684227], \"type\": \"Point\"}, \"id\": 660479091, \"properties\": {\"amenity\": \"restaurant\", \"name\": \"Buca dell'Orafo\"}, \"type\": \"Feature\"}, {\"geometry\": {\"coordinates\": [11.2551024, 43.7735128], \"type\": \"Point\"}, \"id\": 660479093, \"properties\": {\"addr:housenumber\": \"8\", \"addr:street\": \"Piazza di San Giovanni\", \"amenity\": \"restaurant\", \"name\": \"Buca di San Giovanni\"}, \"type\": \"Feature\"}, {\"geometry\": {\"coordinates\": [11.244652, 43.796999], \"type\": \"Point\"}, \"id\": 715021298, \"properties\": {\"amenity\": \"restaurant\", \"cuisine\": \"pizza\", \"name\": \"da Franco\"}, \"type\": \"Feature\"}, {\"geometry\": {\"coordinates\": [11.243279, 43.8073266], \"type\": \"Point\"}, \"id\": 715021398, \"properties\": {\"amenity\": \"restaurant\", \"name\": \"Le Gore\"}, \"type\": \"Feature\"}, {\"geometry\": {\"coordinates\": [11.2422486, 43.8043799], \"type\": \"Point\"}, \"id\": 715021411, \"properties\": {\"amenity\": \"restaurant\"}, \"type\": \"Feature\"}, {\"geometry\": {\"coordinates\": [11.2490314, 43.8070388], \"type\": \"Point\"}, \"id\": 715021444, \"properties\": {\"amenity\": \"restaurant\"}, \"type\": \"Feature\"}, {\"geometry\": {\"coordinates\": [11.2492567, 43.8059316], \"type\": \"Point\"}, \"id\": 715021523, \"properties\": {\"amenity\": \"restaurant\"}, \"type\": \"Feature\"}, {\"geometry\": {\"coordinates\": [11.2410756, 43.7963599], \"type\": \"Point\"}, \"id\": 715759082, \"properties\": {\"amenity\": \"restaurant\", \"name\": \"4 mori\"}, \"type\": \"Feature\"}, {\"geometry\": {\"coordinates\": [11.2717005, 43.7868162], \"type\": \"Point\"}, \"id\": 715788359, \"properties\": {\"amenity\": \"restaurant\"}, \"type\": \"Feature\"}, {\"geometry\": {\"coordinates\": [11.2715503, 43.787126], \"type\": \"Point\"}, \"id\": 715788360, \"properties\": {\"amenity\": \"restaurant\"}, \"type\": \"Feature\"}, {\"geometry\": {\"coordinates\": [11.2337145, 43.7945697], \"type\": \"Point\"}, \"id\": 750009161, \"properties\": {\"amenity\": \"restaurant\", \"cuisine\": \"pizza\", \"name\": \"Pizza Man\"}, \"type\": \"Feature\"}, {\"geometry\": {\"coordinates\": [11.2459128, 43.7991423], \"type\": \"Point\"}, \"id\": 750009192, \"properties\": {\"amenity\": \"restaurant\", \"cuisine\": \"pizza\", \"name\": \"I sette peccati\", \"wheelchair\": \"yes\"}, \"type\": \"Feature\"}, {\"geometry\": {\"coordinates\": [11.240219, 43.7968711], \"type\": \"Point\"}, \"id\": 750009280, \"properties\": {\"amenity\": \"restaurant\", \"name\": \"Dalmazia\"}, \"type\": \"Feature\"}, {\"geometry\": {\"coordinates\": [11.2335345, 43.8104477], \"type\": \"Point\"}, \"id\": 750009510, \"properties\": {\"amenity\": \"restaurant\"}, \"type\": \"Feature\"}, {\"geometry\": {\"coordinates\": [11.2408102, 43.8066393], \"type\": \"Point\"}, \"id\": 750009578, \"properties\": {\"amenity\": \"restaurant\", \"name\": \"Trattoria Pinco Pallino\"}, \"type\": \"Feature\"}, {\"geometry\": {\"coordinates\": [11.2636149, 43.7840325], \"type\": \"Point\"}, \"id\": 750017278, \"properties\": {\"addr:housenumber\": \"2\", \"amenity\": \"restaurant\", \"name\": \"Perseus\"}, \"type\": \"Feature\"}, {\"geometry\": {\"coordinates\": [11.2729502, 43.7838624], \"type\": \"Point\"}, \"id\": 750017552, \"properties\": {\"addr:street\": \"Viale dei Mille\", \"amenity\": \"restaurant\", \"cuisine\": \"japanese\", \"name\": \"Wabi Sabi\"}, \"type\": \"Feature\"}, {\"geometry\": {\"coordinates\": [11.2771238, 43.7833899], \"type\": \"Point\"}, \"id\": 750017564, \"properties\": {\"amenity\": \"restaurant\"}, \"type\": \"Feature\"}, {\"geometry\": {\"coordinates\": [11.2720276, 43.7833899], \"type\": \"Point\"}, \"id\": 750017604, \"properties\": {\"amenity\": \"restaurant\"}, \"type\": \"Feature\"}, {\"geometry\": {\"coordinates\": [11.2723494, 43.7834054], \"type\": \"Point\"}, \"id\": 750017607, \"properties\": {\"amenity\": \"restaurant\"}, \"type\": \"Feature\"}, {\"geometry\": {\"coordinates\": [10.9267, 43.7877923], \"type\": \"Point\"}, \"id\": 762502635, \"properties\": {\"amenity\": \"restaurant\", \"name\": \"Il Ristoro del Museo\"}, \"type\": \"Feature\"}, {\"geometry\": {\"coordinates\": [11.4166885, 44.069511], \"type\": \"Point\"}, \"id\": 763212309, \"properties\": {\"amenity\": \"restaurant\", \"cuisine\": \"italian\", \"name\": \"Da santina\"}, \"type\": \"Feature\"}, {\"geometry\": {\"coordinates\": [10.9280728, 43.4926412], \"type\": \"Point\"}, \"id\": 766462663, \"properties\": {\"addr:housenumber\": \"2\", \"addr:street\": \"Via Volterrana\", \"amenity\": \"restaurant\", \"cuisine\": \"regional\", \"name\": \"Il Castagno\", \"payment:mastercard\": \"yes\"}, \"type\": \"Feature\"}, {\"geometry\": {\"coordinates\": [11.2452572, 43.7247494], \"type\": \"Point\"}, \"id\": 796778857, \"properties\": {\"amenity\": \"restaurant\", \"name\": \"Vecchia Scodella\"}, \"type\": \"Feature\"}, {\"geometry\": {\"coordinates\": [11.4869176, 44.1748648], \"type\": \"Point\"}, \"id\": 800579108, \"properties\": {\"amenity\": \"restaurant\"}, \"type\": \"Feature\"}, {\"geometry\": {\"coordinates\": [11.339115, 43.9035482], \"type\": \"Point\"}, \"id\": 843289325, \"properties\": {\"amenity\": \"restaurant\", \"cuisine\": \"regional\", \"name\": \"Lake Forest\"}, \"type\": \"Feature\"}, {\"geometry\": {\"coordinates\": [11.188372, 43.6584756], \"type\": \"Point\"}, \"id\": 847636198, \"properties\": {\"amenity\": \"restaurant\"}, \"type\": \"Feature\"}, {\"geometry\": {\"coordinates\": [11.186827, 43.6574122], \"type\": \"Point\"}, \"id\": 847636430, \"properties\": {\"amenity\": \"restaurant\", \"name\": \"Ristorante Nello\", \"name:en\": \"Restaurant Nello\"}, \"type\": \"Feature\"}, {\"geometry\": {\"coordinates\": [11.1827608, 43.6580021], \"type\": \"Point\"}, \"id\": 847636617, \"properties\": {\"amenity\": \"restaurant\", \"name\": \"Cinque Di Vino\"}, \"type\": \"Feature\"}, {\"geometry\": {\"coordinates\": [11.1847349, 43.656768], \"type\": \"Point\"}, \"id\": 847636794, \"properties\": {\"amenity\": \"restaurant\"}, \"type\": \"Feature\"}, {\"geometry\": {\"coordinates\": [11.1846277, 43.6584834], \"type\": \"Point\"}, \"id\": 847643469, \"properties\": {\"amenity\": \"restaurant\"}, \"type\": \"Feature\"}, {\"geometry\": {\"coordinates\": [11.1836725, 43.6532505], \"type\": \"Point\"}, \"id\": 847651252, \"properties\": {\"amenity\": \"restaurant\", \"name\": \"Il Fedino\"}, \"type\": \"Feature\"}, {\"geometry\": {\"coordinates\": [11.18187, 43.6515194], \"type\": \"Point\"}, \"id\": 847654299, \"properties\": {\"amenity\": \"restaurant\"}, \"type\": \"Feature\"}, {\"geometry\": {\"coordinates\": [11.1793905, 43.6494953], \"type\": \"Point\"}, \"id\": 847688278, \"properties\": {\"amenity\": \"restaurant\", \"name\": \"Villa Borromeo\"}, \"type\": \"Feature\"}, {\"geometry\": {\"coordinates\": [11.4583577, 44.154234], \"type\": \"Point\"}, \"id\": 849873767, \"properties\": {\"amenity\": \"restaurant\", \"name\": \"Osteria La Faina\"}, \"type\": \"Feature\"}, {\"geometry\": {\"coordinates\": [11.1857246, 43.6567937], \"type\": \"Point\"}, \"id\": 851239755, \"properties\": {\"amenity\": \"restaurant\"}, \"type\": \"Feature\"}, {\"geometry\": {\"coordinates\": [11.129034, 43.6841596], \"type\": \"Point\"}, \"id\": 852764087, \"properties\": {\"amenity\": \"restaurant\", \"name\": \"La Tenda Rossa\"}, \"type\": \"Feature\"}, {\"geometry\": {\"coordinates\": [11.1976603, 43.6827609], \"type\": \"Point\"}, \"id\": 854422617, \"properties\": {\"amenity\": \"restaurant\", \"name\": \"L'Albergaccio di Niccol\\u00f2 Machiavelli\"}, \"type\": \"Feature\"}, {\"geometry\": {\"coordinates\": [11.1788956, 43.6339302], \"type\": \"Point\"}, \"id\": 854429832, \"properties\": {\"amenity\": \"restaurant\", \"name\": \"Mamma Rosa\"}, \"type\": \"Feature\"}, {\"geometry\": {\"coordinates\": [11.1903433, 43.6152366], \"type\": \"Point\"}, \"id\": 854441844, \"properties\": {\"amenity\": \"restaurant\", \"name\": \"La Trattoria del Pesce\"}, \"type\": \"Feature\"}, {\"geometry\": {\"coordinates\": [11.2385295, 44.0006281], \"type\": \"Point\"}, \"id\": 919575005, \"properties\": {\"amenity\": \"restaurant\", \"name\": \"La Pizzeria\"}, \"type\": \"Feature\"}, {\"geometry\": {\"coordinates\": [11.2384379, 44.0011494], \"type\": \"Point\"}, \"id\": 919575006, \"properties\": {\"addr:street\": \"Via della Repubblica\", \"amenity\": \"restaurant\", \"name\": \"Trattoria Il Cavallino Bianco\", \"source\": \"Sourvey\"}, \"type\": \"Feature\"}, {\"geometry\": {\"coordinates\": [11.2427035, 43.9984027], \"type\": \"Point\"}, \"id\": 928997503, \"properties\": {\"amenity\": \"restaurant\", \"name\": \"Pizzeria Il gatto e la Volpe\"}, \"type\": \"Feature\"}, {\"geometry\": {\"coordinates\": [11.0798735, 43.7896354], \"type\": \"Point\"}, \"id\": 929119036, \"properties\": {\"amenity\": \"restaurant\", \"name\": \"Ristorante la Quercia di villa Castelletti\"}, \"type\": \"Feature\"}, {\"geometry\": {\"coordinates\": [11.2503414, 43.7924223], \"type\": \"Point\"}, \"id\": 938211195, \"properties\": {\"addr:housenumber\": \"12/r\", \"addr:street\": \"Piazza Giorgini\", \"alt_name\": \"Trattoria Fratelli Briganti\", \"amenity\": \"restaurant\", \"cuisine\": \"italian\", \"name\": \"I Briganti\"}, \"type\": \"Feature\"}, {\"geometry\": {\"coordinates\": [11.2378115, 43.7888176], \"type\": \"Point\"}, \"id\": 938212680, \"properties\": {\"amenity\": \"restaurant\", \"name\": \"Premier\"}, \"type\": \"Feature\"}, {\"geometry\": {\"coordinates\": [11.2510026, 43.7921053], \"type\": \"Point\"}, \"id\": 938226659, \"properties\": {\"amenity\": \"restaurant\", \"cuisine\": \"italian\", \"name\": \"La farmacia dei sani\"}, \"type\": \"Feature\"}, {\"geometry\": {\"coordinates\": [11.2632715, 43.7841951], \"type\": \"Point\"}, \"id\": 942823560, \"properties\": {\"amenity\": \"restaurant\"}, \"type\": \"Feature\"}, {\"geometry\": {\"coordinates\": [11.2438827, 43.7917013], \"type\": \"Point\"}, \"id\": 946016501, \"properties\": {\"amenity\": \"restaurant\", \"name\": \"La Biritullera\"}, \"type\": \"Feature\"}, {\"geometry\": {\"coordinates\": [11.2162023, 43.7708987], \"type\": \"Point\"}, \"id\": 948228563, \"properties\": {\"amenity\": \"restaurant\", \"name\": \"Pizzeria Calypso\"}, \"type\": \"Feature\"}, {\"geometry\": {\"coordinates\": [11.2412394, 43.7945929], \"type\": \"Point\"}, \"id\": 954915530, \"properties\": {\"amenity\": \"restaurant\", \"cuisine\": \"pizza\", \"name\": \"Pit Stop\"}, \"type\": \"Feature\"}, {\"geometry\": {\"coordinates\": [11.4672102, 43.9281161], \"type\": \"Point\"}, \"id\": 968559271, \"properties\": {\"amenity\": \"restaurant\", \"name\": \"La Casa del Prosciutto\", \"toilets:wheelchair\": \"no\", \"wheelchair\": \"no\"}, \"type\": \"Feature\"}, {\"geometry\": {\"coordinates\": [11.2135002, 43.7917398], \"type\": \"Point\"}, \"id\": 971951562, \"properties\": {\"addr:housenumber\": \"21\", \"addr:street\": \"Via del Barco\", \"amenity\": \"restaurant\", \"cuisine\": \"seafood\", \"name\": \"Da Settimo\", \"phone\": \"+39 055 433458\", \"website\": \"http://www.ristorantedasettimo.com/\"}, \"type\": \"Feature\"}, {\"geometry\": {\"coordinates\": [11.2408724, 43.7836607], \"type\": \"Point\"}, \"id\": 972064737, \"properties\": {\"amenity\": \"restaurant\", \"cuisine\": \"pizza\", \"name\": \"Trattoria-Pizzeria S. Jacopino\"}, \"type\": \"Feature\"}, {\"geometry\": {\"coordinates\": [11.2156767, 43.7922435], \"type\": \"Point\"}, \"id\": 972590940, \"properties\": {\"amenity\": \"restaurant\", \"cuisine\": \"pizza\", \"name\": \"Tito Peccati di gola\"}, \"type\": \"Feature\"}, {\"geometry\": {\"coordinates\": [11.2172494, 43.7920035], \"type\": \"Point\"}, \"id\": 972591514, \"properties\": {\"addr:city\": \"Firenze\", \"addr:postcode\": \"50127\", \"addr:street\": \"Via Francesco Baracca\", \"amenity\": \"restaurant\", \"capacity\": \"100\", \"cuisine\": \"pizza\", \"name\": \"Movida\", \"phone\": \"+39 055 422 1333\", \"smoking\": \"isolated\", \"takeaway\": \"yes\"}, \"type\": \"Feature\"}, {\"geometry\": {\"coordinates\": [11.2950054, 43.778868], \"type\": \"Point\"}, \"id\": 1001048039, \"properties\": {\"amenity\": \"restaurant\", \"name\": \"Il Grappolo\"}, \"type\": \"Feature\"}, {\"geometry\": {\"coordinates\": [11.2565875, 43.7347553], \"type\": \"Point\"}, \"id\": 1037155669, \"properties\": {\"amenity\": \"restaurant\", \"name\": \"La Rinascente\"}, \"type\": \"Feature\"}, {\"geometry\": {\"coordinates\": [11.4716194, 43.6182626], \"type\": \"Point\"}, \"id\": 1052541659, \"properties\": {\"amenity\": \"restaurant\"}, \"type\": \"Feature\"}, {\"geometry\": {\"coordinates\": [11.2139383, 43.5730869], \"type\": \"Point\"}, \"id\": 1074954217, \"properties\": {\"amenity\": \"restaurant\"}, \"type\": \"Feature\"}, {\"geometry\": {\"coordinates\": [11.2091576, 43.5768148], \"type\": \"Point\"}, \"id\": 1075024518, \"properties\": {\"amenity\": \"restaurant\"}, \"type\": \"Feature\"}, {\"geometry\": {\"coordinates\": [11.1978537, 43.5931687], \"type\": \"Point\"}, \"id\": 1075024584, \"properties\": {\"amenity\": \"restaurant\", \"name\": \"La Tancia\"}, \"type\": \"Feature\"}, {\"geometry\": {\"coordinates\": [11.2717617, 43.6327381], \"type\": \"Point\"}, \"id\": 1076691359, \"properties\": {\"amenity\": \"restaurant\"}, \"type\": \"Feature\"}, {\"geometry\": {\"coordinates\": [11.2827104, 43.6250344], \"type\": \"Point\"}, \"id\": 1088094441, \"properties\": {\"amenity\": \"restaurant\"}, \"type\": \"Feature\"}, {\"geometry\": {\"coordinates\": [11.2349686, 43.535584], \"type\": \"Point\"}, \"id\": 1091053424, \"properties\": {\"amenity\": \"restaurant\", \"name\": \"Ristorante Palazzo Pretorio\"}, \"type\": \"Feature\"}, {\"geometry\": {\"coordinates\": [11.2990364, 43.9650804], \"type\": \"Point\"}, \"id\": 1096289183, \"properties\": {\"amenity\": \"restaurant\", \"cuisine\": \"italian\", \"name\": \"Girodibacco\"}, \"type\": \"Feature\"}, {\"geometry\": {\"coordinates\": [11.2495654, 43.7722252], \"type\": \"Point\"}, \"id\": 1106259426, \"properties\": {\"amenity\": \"restaurant\", \"name\": \"La Spada\"}, \"type\": \"Feature\"}, {\"geometry\": {\"coordinates\": [11.6118394, 44.0752858], \"type\": \"Point\"}, \"id\": 1130258441, \"properties\": {\"amenity\": \"restaurant\"}, \"type\": \"Feature\"}, {\"geometry\": {\"coordinates\": [11.1352784, 43.8202177], \"type\": \"Point\"}, \"id\": 1186329702, \"properties\": {\"amenity\": \"restaurant\", \"cuisine\": \"pizza\", \"name\": \"Meryanna\"}, \"type\": \"Feature\"}, {\"geometry\": {\"coordinates\": [11.0256868, 43.6858947], \"type\": \"Point\"}, \"id\": 1232539670, \"properties\": {\"amenity\": \"restaurant\"}, \"type\": \"Feature\"}, {\"geometry\": {\"coordinates\": [11.1066966, 43.7709014], \"type\": \"Point\"}, \"id\": 1238068525, \"properties\": {\"amenity\": \"restaurant\", \"cuisine\": \"italian\", \"name\": \"Trattoria Sanesi\"}, \"type\": \"Feature\"}, {\"geometry\": {\"coordinates\": [10.9005639, 43.5614991], \"type\": \"Point\"}, \"id\": 1240039132, \"properties\": {\"amenity\": \"restaurant\", \"cuisine\": \"italian\", \"name\": \"I' Di...vino\"}, \"type\": \"Feature\"}, {\"geometry\": {\"coordinates\": [10.8999431, 43.5262197], \"type\": \"Point\"}, \"id\": 1241683774, \"properties\": {\"amenity\": \"restaurant\"}, \"type\": \"Feature\"}, {\"geometry\": {\"coordinates\": [10.8952609, 43.523577], \"type\": \"Point\"}, \"id\": 1245582618, \"properties\": {\"addr:city\": \"San Vivaldo\", \"addr:housenumber\": \"21\", \"addr:street\": \"Via San Vivaldo\", \"amenity\": \"restaurant\", \"cuisine\": \"italian\", \"name\": \"Osteria San Vivaldo\", \"operator\": \"Alari Carlo Maria\", \"outdoor_seating\": \"yes\"}, \"type\": \"Feature\"}, {\"geometry\": {\"coordinates\": [11.2392767, 43.7894718], \"type\": \"Point\"}, \"id\": 1260426264, \"properties\": {\"amenity\": \"restaurant\", \"cuisine\": \"pizza\", \"name\": \"a foho\"}, \"type\": \"Feature\"}, {\"geometry\": {\"coordinates\": [11.2478117, 43.7959964], \"type\": \"Point\"}, \"id\": 1260432730, \"properties\": {\"amenity\": \"restaurant\", \"name\": \"Pizzeria Il Poggetto\"}, \"type\": \"Feature\"}, {\"geometry\": {\"coordinates\": [11.2440244, 43.7979128], \"type\": \"Point\"}, \"id\": 1260432768, \"properties\": {\"amenity\": \"restaurant\", \"cuisine\": \"pizza\", \"name\": \"Il Purgatorio\"}, \"type\": \"Feature\"}, {\"geometry\": {\"coordinates\": [11.2409972, 43.8030572], \"type\": \"Point\"}, \"id\": 1263357019, \"properties\": {\"amenity\": \"restaurant\", \"cuisine\": \"italian\", \"name\": \"Trattoria \\\"La Carretta\\\"\"}, \"type\": \"Feature\"}, {\"geometry\": {\"coordinates\": [11.2696362, 43.7871578], \"type\": \"Point\"}, \"id\": 1267376465, \"properties\": {\"amenity\": \"restaurant\", \"cuisine\": \"regional\"}, \"type\": \"Feature\"}, {\"geometry\": {\"coordinates\": [11.2626533, 43.7700819], \"type\": \"Point\"}, \"id\": 1277077482, \"properties\": {\"addr:housenumber\": \"30r\", \"addr:postcode\": \"59100\", \"addr:street\": \"Via Ghibellina\", \"amenity\": \"restaurant\", \"cuisine\": \"spanish\", \"name\": \"Salamanca\"}, \"type\": \"Feature\"}, {\"geometry\": {\"coordinates\": [11.2493033, 43.7716039], \"type\": \"Point\"}, \"id\": 1283622346, \"properties\": {\"addr:city\": \"Firenze\", \"addr:housename\": \"Palazzo Rucellai\", \"addr:housenumber\": \"6/r\", \"addr:postcode\": \"50123\", \"addr:street\": \"Via dei Palchetti\", \"amenity\": \"restaurant\", \"cuisine\": \"regional\", \"name\": \"Fiaschetteria Il Latini\", \"opening_hours\": \"Tu-Su 12:00-00:00\", \"website\": \"http://www.illatini.com/\"}, \"type\": \"Feature\"}, {\"geometry\": {\"coordinates\": [11.221876, 43.7926125], \"type\": \"Point\"}, \"id\": 1295743548, \"properties\": {\"addr:city\": \"Firenze\", \"addr:housenumber\": \"73G\", \"addr:postcode\": \"50127\", \"addr:street\": \"Via Di Novoli\", \"amenity\": \"restaurant\", \"cuisine\": \"regional\", \"name\": \"Osteria Di Poneta\", \"opening_hours\": \"19:00-23:00\", \"phone\": \"+ 39 055 411 082\", \"smoking\": \"isolated\", \"takeaway\": \"no\"}, \"type\": \"Feature\"}, {\"geometry\": {\"coordinates\": [11.612919, 44.0761195], \"type\": \"Point\"}, \"id\": 1299990984, \"properties\": {\"amenity\": \"restaurant\"}, \"type\": \"Feature\"}, {\"geometry\": {\"coordinates\": [11.6156659, 44.0758254], \"type\": \"Point\"}, \"id\": 1299990993, \"properties\": {\"amenity\": \"restaurant\", \"name\": \"Ristorante \\\"La Colombaia\\\"\"}, \"type\": \"Feature\"}, {\"geometry\": {\"coordinates\": [11.2612653, 43.771303], \"type\": \"Point\"}, \"id\": 1338337267, \"properties\": {\"amenity\": \"restaurant\", \"name\": \"I Ghibellini\"}, \"type\": \"Feature\"}, {\"geometry\": {\"coordinates\": [11.2609705, 43.7627897], \"type\": \"Point\"}, \"id\": 1341528408, \"properties\": {\"amenity\": \"restaurant\", \"cuisine\": \"italian\", \"name\": \"La Beppa Fioraia\"}, \"type\": \"Feature\"}, {\"geometry\": {\"coordinates\": [11.260006, 43.7698442], \"type\": \"Point\"}, \"id\": 1376503119, \"properties\": {\"addr:housenumber\": \"1/r\", \"addr:street\": \"Via Isola delle Stinche\", \"amenity\": \"restaurant\", \"cuisine\": \"italian;regional\", \"fax\": \"+39 055 289573\", \"name\": \"Trattoria Pallottino\", \"phone\": \"+39 055 289573\", \"website\": \"http://www.trattoriapallottino.com\"}, \"type\": \"Feature\"}, {\"geometry\": {\"coordinates\": [11.2475745, 43.7730989], \"type\": \"Point\"}, \"id\": 1457867979, \"properties\": {\"addr:housenumber\": \"31r\", \"addr:postcode\": \"50123\", \"addr:street\": \"Via Palazzuolo\", \"amenity\": \"restaurant\", \"cuisine\": \"italian\", \"name\": \"Osteria dei Centopoveri\", \"opening_hours\": \"Mo-Su 12:00-15:00, 19:00-23:00\", \"website\": \"http://www.centopoveri.it\"}, \"type\": \"Feature\"}, {\"geometry\": {\"coordinates\": [11.2454649, 43.7742024], \"type\": \"Point\"}, \"id\": 1457997572, \"properties\": {\"addr:housenumber\": \"124\", \"addr:postcode\": \"50123\", \"addr:street\": \"Via palazzuolo\", \"amenity\": \"restaurant\", \"cuisine\": \"regional\", \"name\": \"\\u00cc Vinaino\"}, \"type\": \"Feature\"}, {\"geometry\": {\"coordinates\": [11.2518615, 43.7747253], \"type\": \"Point\"}, \"id\": 1464813552, \"properties\": {\"addr:housenumber\": \"10r\", \"amenity\": \"restaurant\", \"cuisine\": \"regional;italian;pizza\", \"name\": \"Ristorante Lorenzo de' Medici\", \"phone\": \"+39 055 212932\", \"website\": \"http://www.lorenzodemedici.eu\"}, \"type\": \"Feature\"}, {\"geometry\": {\"coordinates\": [11.2524754, 43.7746402], \"type\": \"Point\"}, \"id\": 1464813762, \"properties\": {\"amenity\": \"restaurant\", \"name\": \"Ciro & sons\"}, \"type\": \"Feature\"}, {\"geometry\": {\"coordinates\": [11.2530468, 43.7747215], \"type\": \"Point\"}, \"id\": 1464813765, \"properties\": {\"amenity\": \"restaurant\", \"name\": \"Trattoria lo Stracotto\"}, \"type\": \"Feature\"}, {\"geometry\": {\"coordinates\": [11.2529612, 43.7744483], \"type\": \"Point\"}, \"id\": 1464813929, \"properties\": {\"amenity\": \"restaurant\", \"name\": \"Cipolla Rossa Osteria\"}, \"type\": \"Feature\"}, {\"geometry\": {\"coordinates\": [11.2547338, 43.7745434], \"type\": \"Point\"}, \"id\": 1464817871, \"properties\": {\"amenity\": \"restaurant\", \"name\": \"Trattoria San Lorenzo\"}, \"type\": \"Feature\"}, {\"geometry\": {\"coordinates\": [11.2584648, 43.7747293], \"type\": \"Point\"}, \"id\": 1464820815, \"properties\": {\"amenity\": \"restaurant\", \"name\": \"Trattoria i'grullo\"}, \"type\": \"Feature\"}, {\"geometry\": {\"coordinates\": [11.2635343, 43.7735905], \"type\": \"Point\"}, \"id\": 1464863060, \"properties\": {\"amenity\": \"restaurant\", \"name\": \"Trattoria Accadi\"}, \"type\": \"Feature\"}, {\"geometry\": {\"coordinates\": [11.2594367, 43.7690327], \"type\": \"Point\"}, \"id\": 1468429068, \"properties\": {\"amenity\": \"restaurant\", \"name\": \"Francesco\", \"toilets\": \"yes\", \"toilets:access\": \"customers\"}, \"type\": \"Feature\"}, {\"geometry\": {\"coordinates\": [10.9220378, 43.6715523], \"type\": \"Point\"}, \"id\": 1472949117, \"properties\": {\"amenity\": \"restaurant\", \"cuisine\": \"italian\", \"name\": \"Pensavo Peggio\"}, \"type\": \"Feature\"}, {\"geometry\": {\"coordinates\": [11.2327419, 43.8122877], \"type\": \"Point\"}, \"id\": 1476409387, \"properties\": {\"addr:housenumber\": \"318\", \"addr:postcode\": \"50141\", \"addr:street\": \"Via Reginaldo Giuliani\", \"amenity\": \"restaurant\", \"cuisine\": \"regional\", \"name\": \"Mania Carioca\", \"website\": \"http://maniacariocafirenze.it\"}, \"type\": \"Feature\"}, {\"geometry\": {\"coordinates\": [11.2891841, 43.7563291], \"type\": \"Point\"}, \"id\": 1480255261, \"properties\": {\"amenity\": \"restaurant\", \"name\": \"Convivium\"}, \"type\": \"Feature\"}, {\"geometry\": {\"coordinates\": [11.2463756, 43.8431135], \"type\": \"Point\"}, \"id\": 1509292890, \"properties\": {\"amenity\": \"restaurant\", \"name\": \"Caravanserraglio\"}, \"type\": \"Feature\"}, {\"geometry\": {\"coordinates\": [11.2175908, 43.8612603], \"type\": \"Point\"}, \"id\": 1517850064, \"properties\": {\"amenity\": \"restaurant\", \"cuisine\": \"italian\", \"name\": \"La Bottega di Morello\"}, \"type\": \"Feature\"}, {\"geometry\": {\"coordinates\": [11.254534, 43.7765625], \"type\": \"Point\"}, \"id\": 1575619311, \"properties\": {\"addr:housenumber\": \"2/R\", \"addr:street\": \"Via Rosina\", \"amenity\": \"restaurant\", \"cuisine\": \"regional\", \"name\": \"Trattoria Mario\", \"website\": \"http://trattoria-mario.com/\"}, \"type\": \"Feature\"}, {\"geometry\": {\"coordinates\": [11.2538032, 43.7859577], \"type\": \"Point\"}, \"id\": 1588977167, \"properties\": {\"addr:city\": \"Firenze\", \"addr:housenumber\": \"9r\", \"addr:postcode\": \"50129\", \"addr:street\": \"Via della Cernaia\", \"amenity\": \"restaurant\", \"cuisine\": \"pizza\", \"cuisine_1\": \"primi piatti\", \"name\": \"Pizzeria Spera\", \"opening_hours\": \"Dal marted\\u00ec al venerd\\u00ec 12:00\\u201314:30, 19:00\\u201322:30 -Sabato e domenica 19:00\\u201322:30\", \"phone\": \"+39 055 495286\", \"takeaway\": \"yes\", \"website\": \"http://www.pizzeriaspera.it/\"}, \"type\": \"Feature\"}, {\"geometry\": {\"coordinates\": [11.3508887, 43.8802358], \"type\": \"Point\"}, \"id\": 1645066755, \"properties\": {\"amenity\": \"restaurant\"}, \"type\": \"Feature\"}, {\"geometry\": {\"coordinates\": [11.4441553, 43.6777361], \"type\": \"Point\"}, \"id\": 1665542793, \"properties\": {\"addr:housename\": \"Hotel Tenuta il Burchio\", \"addr:housenumber\": \"4\", \"addr:postcode\": \"50064\", \"addr:street\": \"Burchio - via Poggio al Burchio\", \"amenity\": \"restaurant\", \"cuisine\": \"regional\", \"name\": \"Ristorante della Tenuta\", \"website\": \"www.ilburchio.it\"}, \"type\": \"Feature\"}, {\"geometry\": {\"coordinates\": [11.4452608, 43.6791002], \"type\": \"Point\"}, \"id\": 1665548885, \"properties\": {\"amenity\": \"restaurant\", \"cuisine\": \"italian\", \"name\": \"Antica Trattoria\", \"opening_hours\": \"Tu-Su 12:30-14:30, 19:30-21:30\"}, \"type\": \"Feature\"}, {\"geometry\": {\"coordinates\": [11.4451789, 43.679215], \"type\": \"Point\"}, \"id\": 1665551411, \"properties\": {\"amenity\": \"restaurant\", \"contact:phone\": \"+39 055 8330880\", \"cuisine\": \"italian\", \"name\": \"La Casereccia\", \"note\": \"Yes, this restaurant also sells some \\\"alimentari\\\"\", \"shop\": \"convenience\"}, \"type\": \"Feature\"}, {\"geometry\": {\"coordinates\": [11.1753063, 43.850769], \"type\": \"Point\"}, \"id\": 1675533741, \"properties\": {\"addr:housenumber\": \"83\", \"addr:street\": \"Via Baldanzese\", \"alt_name\": \"Notte d\\u00ec\", \"amenity\": \"restaurant\", \"cuisine\": \"pizza\", \"name\": \"Notted\\u00ec\", \"website\": \"http://www.ristorantenottedi.it/\", \"wheelchair\": \"yes\"}, \"type\": \"Feature\"}, {\"geometry\": {\"coordinates\": [11.3939351, 43.652872], \"type\": \"Point\"}, \"id\": 1704241016, \"properties\": {\"addr:housenumber\": \"3\", \"amenity\": \"restaurant\", \"cuisine\": \"italian\", \"description\": \"Ristorante Zia Emilia\", \"name\": \"Zia Emilia\", \"phone\": \"+39 055 8337829\", \"wheelchair\": \"yes\"}, \"type\": \"Feature\"}, {\"geometry\": {\"coordinates\": [11.247615, 43.7742041], \"type\": \"Point\"}, \"id\": 1715110026, \"properties\": {\"addr:housenumber\": \"28r\", \"addr:street\": \"Via della Scala\", \"amenity\": \"restaurant\", \"cuisine\": \"italian\", \"name\": \"Tirabaralla\", \"website\": \"http://www.tirabaralla.it/\"}, \"type\": \"Feature\"}, {\"geometry\": {\"coordinates\": [11.2464356, 43.7691535], \"type\": \"Point\"}, \"id\": 1715189878, \"properties\": {\"amenity\": \"restaurant\", \"cuisine\": \"pizza\", \"source\": \"survey\"}, \"type\": \"Feature\"}, {\"geometry\": {\"coordinates\": [11.2370349, 43.7754284], \"type\": \"Point\"}, \"id\": 1719791765, \"properties\": {\"amenity\": \"restaurant\", \"name\": \"Conte Mascetti\", \"source\": \"survey\"}, \"type\": \"Feature\"}, {\"geometry\": {\"coordinates\": [11.0492803, 43.6974504], \"type\": \"Point\"}, \"id\": 1721626277, \"properties\": {\"addr:city\": \"Montelupo Fiorentino\", \"addr:housenumber\": \"99\", \"addr:postcode\": \"50056\", \"addr:street\": \"Via Pulica\", \"amenity\": \"restaurant\", \"cuisine\": \"pizza\", \"name\": \"Ristorante Lo Spigo\"}, \"type\": \"Feature\"}, {\"geometry\": {\"coordinates\": [11.2633873, 43.7699161], \"type\": \"Point\"}, \"id\": 1728199111, \"properties\": {\"addr:city\": \"Firenze\", \"addr:country\": \"IT\", \"addr:housenumber\": \"70r\", \"addr:postcode\": \"50122\", \"addr:street\": \"Via Ghibellina\", \"amenity\": \"restaurant\", \"cuisine\": \"regional\", \"email\": \"info@daqueiganzi.it\", \"name\": \"da Que' Ganzi\", \"operator\": \"I Moschettieri s.r.l.\", \"phone\": \"+39 055 2260010\", \"ref:vatin\": \"IT05917770488\", \"restaurant:type\": \"trattoria;osteria\", \"website\": \"http://www.daqueiganzi.it\"}, \"type\": \"Feature\"}, {\"geometry\": {\"coordinates\": [11.1067967, 43.7709708], \"type\": \"Point\"}, \"id\": 1730300235, \"properties\": {\"amenity\": \"restaurant\", \"name\": \"Voltapagina\"}, \"type\": \"Feature\"}, {\"geometry\": {\"coordinates\": [11.2651392, 43.8415055], \"type\": \"Point\"}, \"id\": 1741893513, \"properties\": {\"addr:city\": \"Sesto Fiorentino\", \"addr:housenumber\": \"20\", \"addr:postcode\": \"50019\", \"addr:street\": \"Via Dante da Castiglione\", \"amenity\": \"restaurant\", \"cuisine\": \"regional\", \"name\": \"Piccolo Trianon\", \"phone\": \"+39 055 402007\"}, \"type\": \"Feature\"}, {\"geometry\": {\"coordinates\": [11.2601227, 43.8583608], \"type\": \"Point\"}, \"id\": 1749891643, \"properties\": {\"amenity\": \"restaurant\", \"cuisine\": \"pizza\", \"name\": \"Il Vecchio Ranch\"}, \"type\": \"Feature\"}, {\"geometry\": {\"coordinates\": [11.4727179, 43.6163203], \"type\": \"Point\"}, \"id\": 1754108954, \"properties\": {\"amenity\": \"restaurant\", \"cuisine\": \"italian\", \"name\": \"Vineria La Porta del Chianti\"}, \"type\": \"Feature\"}, {\"geometry\": {\"coordinates\": [10.9430909, 43.7197298], \"type\": \"Point\"}, \"id\": 1755436028, \"properties\": {\"amenity\": \"restaurant\", \"name\": \"Pizzeria gli scugnizzi\"}, \"type\": \"Feature\"}, {\"geometry\": {\"coordinates\": [11.2137685, 43.6113818], \"type\": \"Point\"}, \"id\": 1763597197, \"properties\": {\"addr:housenumber\": \"4\", \"addr:street\": \"Via Santa Maria a Macerata\", \"amenity\": \"restaurant\", \"contact:phone\": \"+39 055 8244392\", \"name\": \"A Casa Mia\"}, \"type\": \"Feature\"}, {\"geometry\": {\"coordinates\": [11.1356091, 43.8221506], \"type\": \"Point\"}, \"id\": 1768068478, \"properties\": {\"amenity\": \"restaurant\", \"name\": \"La fontana\"}, \"type\": \"Feature\"}, {\"geometry\": {\"coordinates\": [11.5487629, 43.7318181], \"type\": \"Point\"}, \"id\": 1770621958, \"properties\": {\"amenity\": \"restaurant\", \"cuisine\": \"italian\"}, \"type\": \"Feature\"}, {\"geometry\": {\"coordinates\": [11.2050324, 43.9222095], \"type\": \"Point\"}, \"id\": 1775784387, \"properties\": {\"amenity\": \"restaurant\", \"cuisine\": \"italian\", \"name\": \"Carmagnini del '500\"}, \"type\": \"Feature\"}, {\"geometry\": {\"coordinates\": [11.2209463, 43.7706987], \"type\": \"Point\"}, \"id\": 1794902081, \"properties\": {\"addr:housenumber\": \"187\", \"addr:postcode\": \"50143\", \"amenity\": \"restaurant\", \"cuisine\": \"italian\", \"name\": \"A casa mia\"}, \"type\": \"Feature\"}, {\"geometry\": {\"coordinates\": [11.2568922, 43.7778846], \"type\": \"Point\"}, \"id\": 1820244597, \"properties\": {\"addr:housenumber\": \"16r\", \"addr:street\": \"Via San Gallo\", \"amenity\": \"restaurant\", \"cuisine\": \"greek\", \"name\": \"Ristorante Greco Dioniso\", \"website\": \"http://www.ristorantegrecodioniso-firenze.com/\"}, \"type\": \"Feature\"}, {\"geometry\": {\"coordinates\": [11.1565392, 43.880923], \"type\": \"Point\"}, \"id\": 1830881086, \"properties\": {\"amenity\": \"restaurant\", \"cuisine\": \"italian\", \"name\": \"Cocciopesto\"}, \"type\": \"Feature\"}, {\"geometry\": {\"coordinates\": [11.1856472, 43.6568622], \"type\": \"Point\"}, \"id\": 1835154330, \"properties\": {\"amenity\": \"restaurant\"}, \"type\": \"Feature\"}, {\"geometry\": {\"coordinates\": [11.3013724, 43.7624641], \"type\": \"Point\"}, \"id\": 1848264341, \"properties\": {\"amenity\": \"restaurant\", \"cuisine\": \"pizza;italian_pizza;fish\", \"name\": \"Firenze Sud\"}, \"type\": \"Feature\"}, {\"geometry\": {\"coordinates\": [11.3854641, 44.1111878], \"type\": \"Point\"}, \"id\": 1852888905, \"properties\": {\"amenity\": \"restaurant\", \"name\": \"Contessa Lina\"}, \"type\": \"Feature\"}, {\"geometry\": {\"coordinates\": [11.3139282, 44.0992056], \"type\": \"Point\"}, \"id\": 1852942390, \"properties\": {\"amenity\": \"restaurant\", \"name\": \"Natalina\"}, \"type\": \"Feature\"}, {\"geometry\": {\"coordinates\": [11.2751958, 44.0955143], \"type\": \"Point\"}, \"id\": 1853420094, \"properties\": {\"amenity\": \"restaurant\"}, \"type\": \"Feature\"}, {\"geometry\": {\"coordinates\": [11.4531084, 43.7215948], \"type\": \"Point\"}, \"id\": 1868669159, \"properties\": {\"amenity\": \"restaurant\", \"cuisine\": \"pizza\", \"name\": \"Trattoria da Brunero\"}, \"type\": \"Feature\"}, {\"geometry\": {\"coordinates\": [11.2503862, 43.7670805], \"type\": \"Point\"}, \"id\": 1880658231, \"properties\": {\"addr:housenumber\": \"1/R\", \"addr:street\": \"Via dei Vellutini\", \"amenity\": \"restaurant\", \"name\": \"Trattoria 4 Leoni\", \"toilets:wheelchair\": \"no\", \"wheelchair\": \"limited\", \"wheelchair:description\": \"Leider hat das Restaurant nur drau\\u00dfen Platz f\\u00fcr Rollstohlfahrerinnen. \\r\\nDas bistecca alla Fiorentina habe ich dort schon zweimal gegessen und es war imho sehr gut.\\r\\nEine Toilette ist in der N\\u00e4he.\"}, \"type\": \"Feature\"}, {\"geometry\": {\"coordinates\": [11.5289678, 43.6966909], \"type\": \"Point\"}, \"id\": 1888749565, \"properties\": {\"amenity\": \"restaurant\"}, \"type\": \"Feature\"}, {\"geometry\": {\"coordinates\": [11.1932129, 43.7537738], \"type\": \"Point\"}, \"id\": 1912786295, \"properties\": {\"addr:city\": \"Scandicci\", \"addr:postcode\": \"50018\", \"addr:street\": \"Piazza Marconi\", \"amenity\": \"restaurant\", \"name\": \"Pizzeria Bartolozzi\", \"phone\": \"+39 055 2591351\", \"wheelchair\": \"yes\", \"wheelchair:description\": \"Il bagno per Disabili si trova ad un metro all'esterno della pizzeria\"}, \"type\": \"Feature\"}, {\"geometry\": {\"coordinates\": [11.2403638, 43.7564119], \"type\": \"Point\"}, \"id\": 1912984664, \"properties\": {\"addr:housenumber\": \"89r\", \"addr:postcode\": \"50124\", \"addr:street\": \"Via Senese\", \"amenity\": \"restaurant\", \"cuisine\": \"italian\", \"name\": \"Trattoria Ruggero\", \"source\": \"local_knowledge\"}, \"type\": \"Feature\"}, {\"geometry\": {\"coordinates\": [11.2416369, 43.7599094], \"type\": \"Point\"}, \"id\": 1912994767, \"properties\": {\"addr:housenumber\": \"23r\", \"addr:postcode\": \"50124\", \"addr:street\": \"Via Senese\", \"amenity\": \"restaurant\", \"cuisine\": \"italian\", \"name\": \"Pizzeria L'Antica Porta\", \"source\": \"local_knowledge\", \"website\": \"http://www.anticaportafirenze.it/\"}, \"type\": \"Feature\"}, {\"geometry\": {\"coordinates\": [11.3943576, 43.651302], \"type\": \"Point\"}, \"id\": 1918646384, \"properties\": {\"amenity\": \"restaurant\", \"cuisine\": \"italian\", \"description\": \"Ristorante Becattini\", \"name\": \"Becattini\", \"wheelchair\": \"yes\"}, \"type\": \"Feature\"}, {\"geometry\": {\"coordinates\": [11.0501819, 43.6965747], \"type\": \"Point\"}, \"id\": 1923796155, \"properties\": {\"amenity\": \"restaurant\", \"cuisine\": \"regional\", \"name\": \"La lanterna\"}, \"type\": \"Feature\"}, {\"geometry\": {\"coordinates\": [11.2724881, 43.7673311], \"type\": \"Point\"}, \"id\": 1929509345, \"properties\": {\"amenity\": \"restaurant\", \"name\": \"La Taverna\", \"source\": \"survey\"}, \"type\": \"Feature\"}, {\"geometry\": {\"coordinates\": [11.2158434, 43.9849924], \"type\": \"Point\"}, \"id\": 1930310333, \"properties\": {\"addr:postcode\": \"50031\", \"addr:street\": \"via Meucci\", \"amenity\": \"restaurant\", \"name\": \"Torracchione\", \"name:en\": \"Torracchione\", \"name:it\": \"Torracchione\", \"opening_hours\": \"Mo-Su 10:00-20:00\"}, \"type\": \"Feature\"}, {\"geometry\": {\"coordinates\": [11.3979936, 43.7866226], \"type\": \"Point\"}, \"id\": 1938471773, \"properties\": {\"amenity\": \"restaurant\"}, \"type\": \"Feature\"}, {\"geometry\": {\"coordinates\": [11.3982779, 43.7863922], \"type\": \"Point\"}, \"id\": 1938642747, \"properties\": {\"amenity\": \"restaurant\", \"cuisine\": \"burger\"}, \"type\": \"Feature\"}, {\"geometry\": {\"coordinates\": [11.467259, 43.7706611], \"type\": \"Point\"}, \"id\": 1939399671, \"properties\": {\"amenity\": \"restaurant\", \"cuisine\": \"fish\", \"name\": \"Boccon Divino\"}, \"type\": \"Feature\"}, {\"geometry\": {\"coordinates\": [11.2504274, 43.8235194], \"type\": \"Point\"}, \"id\": 1940388855, \"properties\": {\"amenity\": \"restaurant\", \"name\": \"Lo Strettoio\"}, \"type\": \"Feature\"}, {\"geometry\": {\"coordinates\": [11.5159118, 43.6510461], \"type\": \"Point\"}, \"id\": 1942812476, \"properties\": {\"amenity\": \"restaurant\", \"cuisine\": \"italian\", \"name\": \"Laghi della tranquillit\\u00e0\"}, \"type\": \"Feature\"}, {\"geometry\": {\"coordinates\": [11.4882431, 43.8267856], \"type\": \"Point\"}, \"id\": 1963212572, \"properties\": {\"amenity\": \"restaurant\"}, \"type\": \"Feature\"}, {\"geometry\": {\"coordinates\": [11.4462687, 43.8167828], \"type\": \"Point\"}, \"id\": 1963220890, \"properties\": {\"amenity\": \"restaurant\", \"name\": \"il mulino a vento\"}, \"type\": \"Feature\"}, {\"geometry\": {\"coordinates\": [11.3155663, 43.5841244], \"type\": \"Point\"}, \"id\": 1973538942, \"properties\": {\"addr:postcode\": \"50022\", \"addr:street\": \"Piazza Trento\", \"amenity\": \"restaurant\", \"name\": \"Enoteca Ristorante Fuoripiazza\", \"website\": \"www.enotecaristorantefuoripiazza.it\"}, \"type\": \"Feature\"}, {\"geometry\": {\"coordinates\": [11.3558615, 43.5493529], \"type\": \"Point\"}, \"id\": 1988383335, \"properties\": {\"addr:city\": \"Greve in Chanti\", \"addr:housenumber\": \"6\", \"addr:postcode\": \"50022\", \"addr:street\": \"Localit\\u00e0 Lamole\", \"amenity\": \"restaurant\", \"name\": \"Ristoro di Lamole\", \"phone\": \"+39 055 8547050\", \"website\": \"http://www.ristorodilamole.it\", \"wheelchair\": \"no\", \"wheelchair:description\": \"Con aiuto \\u00e8 possibile entrare da dietro. With help it is possible to enter from the back.\"}, \"type\": \"Feature\"}, {\"geometry\": {\"coordinates\": [11.149392, 43.854429], \"type\": \"Point\"}, \"id\": 1995571276, \"properties\": {\"amenity\": \"restaurant\"}, \"type\": \"Feature\"}, {\"geometry\": {\"coordinates\": [11.2517381, 43.7741617], \"type\": \"Point\"}, \"id\": 2083632921, \"properties\": {\"amenity\": \"restaurant\", \"name\": \"Trattoria La Madia\", \"phone\": \"+39 055 218563\"}, \"type\": \"Feature\"}, {\"geometry\": {\"coordinates\": [11.4398681, 44.0955516], \"type\": \"Point\"}, \"id\": 2108976770, \"properties\": {\"addr:housenumber\": \"2\", \"addr:street\": \"via casetta di Tiara\", \"amenity\": \"restaurant\", \"cuisine\": \"regional\", \"name\": \"Ristorante da Sonia\", \"source\": \"Bing\"}, \"type\": \"Feature\"}, {\"geometry\": {\"coordinates\": [11.1749726, 44.0098053], \"type\": \"Point\"}, \"id\": 2109980539, \"properties\": {\"amenity\": \"restaurant\", \"cuisine\": \"italian\", \"name\": \"Circolo S.Michele\", \"phone\": \"+39 055 841035;+39 333 1720072;+39 320 9063486\"}, \"type\": \"Feature\"}, {\"geometry\": {\"coordinates\": [11.3391234, 44.1727625], \"type\": \"Point\"}, \"id\": 2116792619, \"properties\": {\"amenity\": \"restaurant\"}, \"type\": \"Feature\"}, {\"geometry\": {\"coordinates\": [11.2516176, 43.7747389], \"type\": \"Point\"}, \"id\": 2125421001, \"properties\": {\"addr:housenumber\": \"4/r\", \"addr:postcode\": \"50123\", \"addr:street\": \"Via del Melarancio\", \"amenity\": \"restaurant\", \"cuisine\": \"italian\", \"name\": \"Ristorante CuCo\", \"website\": \"http://cucofirenze.blogspot.it/\"}, \"type\": \"Feature\"}, {\"geometry\": {\"coordinates\": [11.2385309, 43.7892154], \"type\": \"Point\"}, \"id\": 2134264626, \"properties\": {\"amenity\": \"restaurant\", \"cuisine\": \"pizza\", \"name\": \"pulcinella\"}, \"type\": \"Feature\"}, {\"geometry\": {\"coordinates\": [11.4993403, 43.7318343], \"type\": \"Point\"}, \"id\": 2143135103, \"properties\": {\"amenity\": \"restaurant\", \"cuisine\": \"pizza\", \"name\": \"Pizzeria il Cacciatore\"}, \"type\": \"Feature\"}, {\"geometry\": {\"coordinates\": [11.2838385, 43.7872774], \"type\": \"Point\"}, \"id\": 2178131776, \"properties\": {\"amenity\": \"restaurant\"}, \"type\": \"Feature\"}, {\"geometry\": {\"coordinates\": [11.157324, 43.8550336], \"type\": \"Point\"}, \"id\": 2179116185, \"properties\": {\"addr:city\": \"Calenzano\", \"addr:housenumber\": \"31\", \"addr:street\": \"Via della Fogliaia\", \"amenity\": \"restaurant\", \"cuisine\": \"pizza\", \"name\": \"Chiaroscuro\"}, \"type\": \"Feature\"}, {\"geometry\": {\"coordinates\": [11.173279, 43.5528734], \"type\": \"Point\"}, \"id\": 2180372693, \"properties\": {\"addr:city\": \"Tavarnelle Val di Pesa\", \"addr:country\": \"IT\", \"addr:housenumber\": \"191\", \"addr:postcode\": \"50028\", \"addr:street\": \"Via Roma\", \"amenity\": \"restaurant\", \"email\": \"max@borgodicortefreda.com\", \"fax\": \"+39 055 8076707\", \"name\": \"Ristorante Cortefreda\", \"phone\": \"+39 055 8073333\", \"website\": \"http://www.ristorantecortefreda.com\"}, \"type\": \"Feature\"}, {\"geometry\": {\"coordinates\": [11.1403294, 43.8459989], \"type\": \"Point\"}, \"id\": 2187707112, \"properties\": {\"addr:housenumber\": \"22/24/26\", \"addr:postcode\": \"50013\", \"addr:street\": \"Via Fratelli Cervi\", \"amenity\": \"restaurant\", \"cuisine\": \"steak_house\", \"name\": \"Roadhouse\", \"operator\": \"Roadhouse Grill Italia\"}, \"type\": \"Feature\"}, {\"geometry\": {\"coordinates\": [11.2416613, 43.7671499], \"type\": \"Point\"}, \"id\": 2206536417, \"properties\": {\"addr:housenumber\": \"9/10r\", \"addr:street\": \"Piazza Torquato Tasso\", \"alt_name\": \"Trattoria BBQ Firenze\", \"amenity\": \"restaurant\", \"cuisine\": \"italian\", \"name\": \"Trattoria BBQ\", \"source\": \"local_knowledge\", \"website\": \"http://www.trattoriabbq.com/\"}, \"type\": \"Feature\"}, {\"geometry\": {\"coordinates\": [11.2415487, 43.7670298], \"type\": \"Point\"}, \"id\": 2206536418, \"properties\": {\"addr:housenumber\": \"14r\", \"addr:street\": \"Piazza Torquato Tasso\", \"amenity\": \"restaurant\", \"cuisine\": \"italian\", \"name\": \"Al Tranvai\", \"source\": \"local_knowledge\", \"website\": \"http://www.altranvai.it\"}, \"type\": \"Feature\"}, {\"geometry\": {\"coordinates\": [11.2504697, 43.7717307], \"type\": \"Point\"}, \"id\": 2235703691, \"properties\": {\"addr:housenumber\": \"27\", \"addr:street\": \"Via della Spada\", \"amenity\": \"restaurant\", \"name\": \"Trattoria Marione\", \"website\": \"www.casatrattoria.com\"}, \"type\": \"Feature\"}, {\"geometry\": {\"coordinates\": [11.4843108, 43.6248807], \"type\": \"Point\"}, \"id\": 2241544400, \"properties\": {\"amenity\": \"restaurant\"}, \"type\": \"Feature\"}, {\"geometry\": {\"coordinates\": [11.5181281, 43.654727], \"type\": \"Point\"}, \"id\": 2241615351, \"properties\": {\"amenity\": \"restaurant\"}, \"type\": \"Feature\"}, {\"geometry\": {\"coordinates\": [11.2579744, 43.7706853], \"type\": \"Point\"}, \"id\": 2287779018, \"properties\": {\"addr:housenumber\": \"8/R\", \"addr:street\": \"Via del Proconsolo\", \"amenity\": \"restaurant\", \"cuisine\": \"italian\", \"internet_access\": \"wlan\", \"name\": \"Gusto Leo\", \"website\": \"http://www.gustoleo.com/\"}, \"type\": \"Feature\"}, {\"geometry\": {\"coordinates\": [11.4476863, 43.5988459], \"type\": \"Point\"}, \"id\": 2291571406, \"properties\": {\"amenity\": \"restaurant\", \"cuisine\": \"italian\", \"name\": \"Perlamora\"}, \"type\": \"Feature\"}, {\"geometry\": {\"coordinates\": [11.4197984, 43.6094699], \"type\": \"Point\"}, \"id\": 2291594631, \"properties\": {\"amenity\": \"restaurant\", \"cuisine\": \"italian\", \"name\": \"La Palagina\"}, \"type\": \"Feature\"}, {\"geometry\": {\"coordinates\": [11.2533868, 43.7772385], \"type\": \"Point\"}, \"id\": 2292273559, \"properties\": {\"addr:housenumber\": \"6r\", \"addr:street\": \"Via Panicale\", \"amenity\": \"restaurant\", \"name\": \"La Burrasca\", \"operator\": \"ELIOS s.a.s.\", \"phone\": \"+39 055 215827\", \"ref:vatin\": \"IT05782626487\"}, \"type\": \"Feature\"}, {\"geometry\": {\"coordinates\": [11.0350178, 43.7193533], \"type\": \"Point\"}, \"id\": 2292290482, \"properties\": {\"amenity\": \"restaurant\", \"cuisine\": \"italian\", \"name\": \"Bonnani\"}, \"type\": \"Feature\"}, {\"geometry\": {\"coordinates\": [11.1158158, 43.5976583], \"type\": \"Point\"}, \"id\": 2292917289, \"properties\": {\"amenity\": \"restaurant\", \"cuisine\": \"italian\", \"name\": \"C'era una Volta\"}, \"type\": \"Feature\"}, {\"geometry\": {\"coordinates\": [11.2497937, 43.7685006], \"type\": \"Point\"}, \"id\": 2296338174, \"properties\": {\"addr:housenumber\": \"11, 12/R\", \"addr:street\": \"Piazza de' Frescobaldi\", \"amenity\": \"restaurant\", \"cuisine\": \"italian\", \"name\": \"Gelataria Santa Trinita\", \"opening_hours\": \"Mar\\u2013Dom: 9 a.m. \\u2013 11:30 a.m., 6 p.m. \\u2013 9:30 p.m.\", \"phone\": \"+39 55 238 1130\", \"website\": \"http://www.gelateriasantatrinita.it/\"}, \"type\": \"Feature\"}, {\"geometry\": {\"coordinates\": [11.2923618, 43.7402296], \"type\": \"Point\"}, \"id\": 2298207209, \"properties\": {\"addr:housenumber\": \"28r\", \"addr:postcode\": \"50126\", \"addr:street\": \"Via Chiantigiana\", \"amenity\": \"restaurant\", \"cuisine\": \"regional\", \"name\": \"Osteria Di'Giogo\", \"source\": \"local_knowledge\", \"website\": \"www.osteria-giogo.it\"}, \"type\": \"Feature\"}, {\"geometry\": {\"coordinates\": [11.1951623, 43.7984015], \"type\": \"Point\"}, \"id\": 2298621250, \"properties\": {\"addr:city\": \"Firenze\", \"addr:housenumber\": \"27/A\", \"addr:street\": \"Via Primo Settembre\", \"amenity\": \"restaurant\", \"cuisine\": \"pizza\", \"name\": \"Interno 27\"}, \"type\": \"Feature\"}, {\"geometry\": {\"coordinates\": [11.3395736, 43.8512159], \"type\": \"Point\"}, \"id\": 2301327156, \"properties\": {\"amenity\": \"restaurant\", \"cuisine\": \"italian\", \"internet_access\": \"no\", \"name\": \"La casa del prosciutto\"}, \"type\": \"Feature\"}, {\"geometry\": {\"coordinates\": [11.6552841, 43.9328052], \"type\": \"Point\"}, \"id\": 2310460927, \"properties\": {\"amenity\": \"restaurant\", \"name\": \"Il Muraglione\"}, \"type\": \"Feature\"}, {\"geometry\": {\"coordinates\": [11.6888086, 44.0733957], \"type\": \"Point\"}, \"id\": 2329800473, \"properties\": {\"addr:housenumber\": \"2\", \"addr:street\": \"Via di Valle Acerreta\", \"amenity\": \"restaurant\", \"name\": \"Agriturismo Badia della Valle\"}, \"type\": \"Feature\"}, {\"geometry\": {\"coordinates\": [11.3091387, 43.7819294], \"type\": \"Point\"}, \"id\": 2353576522, \"properties\": {\"addr:housenumber\": \"51R\", \"addr:postcode\": \"50135\", \"addr:street\": \"Via Gabriele D'Annunzio\", \"amenity\": \"restaurant\", \"cuisine\": \"regional\", \"name\": \"Trattoria Osvaldo\", \"website\": \"http://www.trattoriaosvaldo.it/index.shtml\"}, \"type\": \"Feature\"}, {\"geometry\": {\"coordinates\": [10.8577112, 43.5709564], \"type\": \"Point\"}, \"id\": 2355849981, \"properties\": {\"amenity\": \"restaurant\"}, \"type\": \"Feature\"}, {\"geometry\": {\"coordinates\": [11.1234657, 43.8270499], \"type\": \"Point\"}, \"id\": 2357960320, \"properties\": {\"amenity\": \"restaurant\", \"cuisine\": \"pizza\", \"name\": \"Bella vita\"}, \"type\": \"Feature\"}, {\"geometry\": {\"coordinates\": [11.1251191, 43.8264065], \"type\": \"Point\"}, \"id\": 2357960321, \"properties\": {\"amenity\": \"restaurant\", \"name\": \"Self Service La forchetta\", \"operator\": \"Ge.Ri.\"}, \"type\": \"Feature\"}, {\"geometry\": {\"coordinates\": [11.2480272, 43.7690682], \"type\": \"Point\"}, \"id\": 2361641253, \"properties\": {\"addr:city\": \"Firenze\", \"addr:country\": \"IT\", \"addr:housenumber\": \"1/r\", \"addr:postcode\": \"50123\", \"addr:street\": \"Piazza degli Scarlatti\", \"amenity\": \"restaurant\", \"cuisine\": \"italian;seafood;mediterranean\", \"email\": \"info@lungarnobistrot.it\", \"name\": \"Lungarno Bistrot\", \"opening_hours\": \"Mo-Su 12:30 - 15:00, 19:00 - 23:00\", \"phone\": \"0552654541\", \"source\": \"Comune di Firenze\", \"website\": \"http://www.lungarnobistrot.it\"}, \"type\": \"Feature\"}, {\"geometry\": {\"coordinates\": [11.2419831, 43.7704326], \"type\": \"Point\"}, \"id\": 2361642979, \"properties\": {\"addr:city\": \"Firenze\", \"addr:country\": \"IT\", \"addr:housenumber\": \"1R\", \"addr:postcode\": \"50123\", \"addr:street\": \"Via Sant'Onofrio\", \"amenity\": \"restaurant\", \"cuisine\": \"italian\", \"name\": \"All'Antico Ristoro di Cambi\", \"phone\": \"+39055217134\", \"source\": \"Comune di Firenze\", \"website\": \"http://www.anticoristorodicambi.it\"}, \"type\": \"Feature\"}, {\"geometry\": {\"coordinates\": [11.251282, 43.7728638], \"type\": \"Point\"}, \"id\": 2361643750, \"properties\": {\"addr:city\": \"Firenze\", \"addr:country\": \"IT\", \"addr:housenumber\": \"1R\", \"addr:postcode\": \"50123\", \"addr:street\": \"Via del Trebbio\", \"amenity\": \"restaurant\", \"name\": \"Buca Lapi\", \"opening_hours\": \"Mo-Sa 19:00-22:00\", \"source\": \"Comune di Firenze\"}, \"type\": \"Feature\"}, {\"geometry\": {\"coordinates\": [11.2504033, 43.7673258], \"type\": \"Point\"}, \"id\": 2361645360, \"properties\": {\"addr:city\": \"Firenze\", \"addr:country\": \"IT\", \"addr:housenumber\": \"1\", \"addr:postcode\": \"50125\", \"addr:street\": \"Piazza della Passera\", \"amenity\": \"restaurant\", \"name\": \"5 e Cinque\", \"phone\": \"+39 055 274 1583\", \"source\": \"Comune di Firenze\"}, \"type\": \"Feature\"}, {\"geometry\": {\"coordinates\": [11.2447596, 43.7734355], \"type\": \"Point\"}, \"id\": 2361650903, \"properties\": {\"addr:city\": \"Firenze\", \"addr:country\": \"IT\", \"addr:housenumber\": \"10 R\", \"addr:street\": \"Via Maso Finiguerra\", \"amenity\": \"restaurant\", \"name:en\": \"Ristorante Pizzeria Maso\", \"source\": \"Comune di Firenze\"}, \"type\": \"Feature\"}, {\"geometry\": {\"coordinates\": [11.255555, 43.7737491], \"type\": \"Point\"}, \"id\": 2361651054, \"properties\": {\"addr:city\": \"Firenze\", \"addr:country\": \"IT\", \"addr:housenumber\": \"10\", \"addr:postcode\": \"50122\", \"addr:street\": \"Via dei Martelli\", \"amenity\": \"restaurant\", \"name\": \"Pizza Brio\", \"name:it\": \"Pizza Brio\", \"source\": \"Comune di Firenze\"}, \"type\": \"Feature\"}, {\"geometry\": {\"coordinates\": [11.2427483, 43.7686458], \"type\": \"Point\"}, \"id\": 2361651297, \"properties\": {\"addr:city\": \"Firenze\", \"addr:country\": \"IT\", \"addr:housenumber\": \"10\", \"addr:postcode\": \"50124\", \"addr:street\": \"Piazza Piattellina\", \"amenity\": \"restaurant\", \"cuisine\": \"italian\", \"name\": \"I' Brindellone\", \"name:it\": \"I' Brindellone\", \"phone\": \"+39 055 217879\", \"source\": \"Comune di Firenze\"}, \"type\": \"Feature\"}, {\"geometry\": {\"coordinates\": [11.2539167, 43.7780195], \"type\": \"Point\"}, \"id\": 2361653517, \"properties\": {\"addr:city\": \"Firenze\", \"addr:country\": \"IT\", \"addr:housenumber\": \"100r\", \"addr:street\": \"Via Guelfa\", \"amenity\": \"restaurant\", \"cuisine\": \"italian\", \"internet_access\": \"wlan\", \"name\": \"La Divina Osteria\", \"source\": \"Comune di Firenze\", \"website\": \"http://www.ladivinaosteria.it/\"}, \"type\": \"Feature\"}, {\"geometry\": {\"coordinates\": [11.246053, 43.7739172], \"type\": \"Point\"}, \"id\": 2361653525, \"properties\": {\"addr:city\": \"Firenze\", \"addr:country\": \"IT\", \"addr:housenumber\": \"100 R\", \"addr:street\": \"Via Palazzuolo\", \"amenity\": \"restaurant\", \"name\": \"Trattoria Da Giorgio\", \"source\": \"Comune di Firenze\"}, \"type\": \"Feature\"}, {\"geometry\": {\"coordinates\": [11.2475677, 43.7664649], \"type\": \"Point\"}, \"id\": 2361657887, \"properties\": {\"addr:city\": \"Firenze\", \"addr:country\": \"IT\", \"addr:housenumber\": \"11r\", \"addr:postcode\": \"50125\", \"addr:street\": \"Piazza Santo Spirito\", \"amenity\": \"restaurant\", \"name\": \"Tamer\\u00f3\", \"source\": \"Comune di Firenze\"}, \"type\": \"Feature\"}, {\"geometry\": {\"coordinates\": [11.2464163, 43.7668174], \"type\": \"Point\"}, \"id\": 2361658273, \"properties\": {\"addr:city\": \"Firenze\", \"addr:country\": \"IT\", \"addr:housenumber\": \"11R\", \"addr:postcode\": \"50125\", \"addr:street\": \"Via Sant'Agostino\", \"amenity\": \"restaurant\", \"cuisine\": \"vegan\", \"internet_access\": \"wlan\", \"name\": \"#RAW\", \"opening_hours\": \"Tu-We, Sa-Su 11:00-16:00; Th-Fr 11:00-16:00, 19:00-22:00\", \"phone\": \"+39055219379\", \"source\": \"Comune di Firenze\", \"website\": \"https://www.facebook.com/HashtagRawVegan/\"}, \"type\": \"Feature\"}, {\"geometry\": {\"coordinates\": [11.2548261, 43.768438], \"type\": \"Point\"}, \"id\": 2361658358, \"properties\": {\"addr:city\": \"Firenze\", \"addr:country\": \"IT\", \"addr:housenumber\": \"11/R\", \"addr:postcode\": \"50122\", \"addr:street\": \"Via dei Georgofili\", \"amenity\": \"restaurant\", \"cuisine\": \"fine_dining\", \"name\": \"Ora d'Aria\", \"opening_hours\": \"Tu-Sa 12:30-14:30, 19:30-22:00; Mo 19:30-22:00\", \"phone\": \"+390552001699\", \"source\": \"Comune di Firenze\", \"website\": \"http://www.oradariaristorante.com\"}, \"type\": \"Feature\"}, {\"geometry\": {\"coordinates\": [11.2564688, 43.7721617], \"type\": \"Point\"}, \"id\": 2361658441, \"properties\": {\"addr:city\": \"Firenze\", \"addr:country\": \"IT\", \"addr:housenumber\": \"11/R\", \"addr:street\": \"Via delle Oche\", \"amenity\": \"restaurant\", \"name\": \"Enoteca Ristorante Coquinarius\", \"source\": \"Comune di Firenze\"}, \"type\": \"Feature\"}, {\"geometry\": {\"coordinates\": [11.2866482, 43.7468006], \"type\": \"Point\"}, \"id\": 2361659551, \"properties\": {\"addr:city\": \"Firenze\", \"addr:country\": \"IT\", \"addr:housenumber\": \"11\", \"addr:street\": \"Via Giovanni Agnelli\", \"amenity\": \"restaurant\", \"cuisine\": \"burger\", \"source\": \"Comune di Firenze\"}, \"type\": \"Feature\"}, {\"geometry\": {\"coordinates\": [11.2663996, 43.7712079], \"type\": \"Point\"}, \"id\": 2361664134, \"properties\": {\"addr:city\": \"Firenze\", \"addr:country\": \"IT\", \"addr:housenumber\": \"118 R\", \"addr:street\": \"Via dei Macci\", \"amenity\": \"restaurant\", \"source\": \"Comune di Firenze\"}, \"type\": \"Feature\"}, {\"geometry\": {\"coordinates\": [11.2620702, 43.7690464], \"type\": \"Point\"}, \"id\": 2361666968, \"properties\": {\"addr:city\": \"Firenze\", \"addr:country\": \"IT\", \"addr:housenumber\": \"12\", \"addr:street\": \"Piazza di Santa Croce\", \"amenity\": \"restaurant\", \"internet_access\": \"yes\", \"internet_access:fee\": \"no\", \"name\": \"Finisterrae\", \"operator\": \"La Locandiera s.r.l.\", \"phone\": \"+39 055 2638675\", \"ref:vatin\": \"IT02325910483\", \"source\": \"Comune di Firenze\"}, \"type\": \"Feature\"}, {\"geometry\": {\"coordinates\": [11.2907729, 43.7619111], \"type\": \"Point\"}, \"id\": 2361668204, \"properties\": {\"addr:city\": \"Firenze\", \"addr:country\": \"IT\", \"addr:housenumber\": \"12\", \"addr:postcode\": \"50126\", \"addr:street\": \"Via Erbosa\", \"amenity\": \"restaurant\", \"cuisine\": \"vegan\", \"name\": \"Bioveggy\", \"opening_hours\": \"Tu-Su 19:30-22:30\", \"source\": \"Comune di Firenze\", \"website\": \"http://www.bioveggy.it\"}, \"type\": \"Feature\"}, {\"geometry\": {\"coordinates\": [11.2635812, 43.7644509], \"type\": \"Point\"}, \"id\": 2361672208, \"properties\": {\"addr:city\": \"Firenze\", \"addr:country\": \"IT\", \"addr:housenumber\": \"8r\", \"addr:postcode\": \"50125\", \"addr:street\": \"Via di San Niccol\\u00f2\", \"amenity\": \"restaurant\", \"name:en\": \"hosteria del bricco\", \"source\": \"Comune di Firenze\"}, \"type\": \"Feature\"}, {\"geometry\": {\"coordinates\": [11.2664549, 43.7713661], \"type\": \"Point\"}, \"id\": 2361677275, \"properties\": {\"addr:city\": \"Firenze\", \"addr:country\": \"IT\", \"addr:housenumber\": \"126\", \"addr:street\": \"Via dei Macci\", \"amenity\": \"restaurant\", \"cuisine\": \"italian\", \"name\": \"Sergio Pollini Lampredotto\", \"opening_hours\": \"24/7\", \"source\": \"Comune di Firenze\"}, \"type\": \"Feature\"}, {\"geometry\": {\"coordinates\": [11.2594238, 43.7678858], \"type\": \"Point\"}, \"id\": 2361678635, \"properties\": {\"addr:city\": \"Firenze\", \"addr:country\": \"IT\", \"addr:housenumber\": \"13/R\", \"addr:street\": \"Via dei Benci\", \"amenity\": \"restaurant\", \"name\": \"Osteria de'Benci\", \"source\": \"Comune di Firenze\"}, \"type\": \"Feature\"}, {\"geometry\": {\"coordinates\": [11.2412979, 43.7702605], \"type\": \"Point\"}, \"id\": 2361688716, \"properties\": {\"addr:city\": \"Firenze\", \"addr:country\": \"IT\", \"addr:housenumber\": \"145R\", \"addr:postcode\": \"50124\", \"addr:street\": \"Borgo San Frediano\", \"amenity\": \"restaurant\", \"building:levels\": \"1\", \"cuisine\": \"italian\", \"email\": \"info@borgofirenze.com\", \"internet_access\": \"wlan\", \"name\": \"B.O.r.G.O.\", \"name:it\": \"B.O.r.G.O.\", \"opening_hours\": \"Su 19:30-22:30; Tu-Sa 19:30-22:30\", \"operator\": \"Gabriele Orsolini\", \"phone\": \"055223449\", \"source\": \"Comune di Firenze\"}, \"type\": \"Feature\"}, {\"geometry\": {\"coordinates\": [11.2482056, 43.7667523], \"type\": \"Point\"}, \"id\": 2361690351, \"properties\": {\"addr:city\": \"Firenze\", \"addr:country\": \"IT\", \"addr:housenumber\": \"15 R\", \"addr:street\": \"Via dei Michelozzi\", \"amenity\": \"restaurant\", \"name\": \"Gusta Osteria\", \"source\": \"Comune di Firenze\"}, \"type\": \"Feature\"}, {\"geometry\": {\"coordinates\": [11.2587974, 43.770517], \"type\": \"Point\"}, \"id\": 2361696137, \"properties\": {\"addr:city\": \"Firenze\", \"addr:country\": \"IT\", \"addr:housenumber\": \"151/r\", \"addr:postcode\": \"50122\", \"addr:street\": \"Via Ghibellina\", \"amenity\": \"restaurant\", \"name\": \"Osteria del Gatto e la Volpe\", \"opening_hours\": \"Mo-Su 11:00-23:00\", \"phone\": \"+39055289264\", \"source\": \"Comune di Firenze\", \"toilets:wheelchair\": \"yes\", \"wheelchair\": \"yes\"}, \"type\": \"Feature\"}, {\"geometry\": {\"coordinates\": [11.2491759, 43.7723435], \"type\": \"Point\"}, \"id\": 2361697218, \"properties\": {\"addr:city\": \"Firenze\", \"addr:country\": \"IT\", \"addr:housenumber\": \"16/r\", \"addr:postcode\": \"50123\", \"addr:street\": \"Piazza delgi Ottaviani\", \"amenity\": \"restaurant\", \"name\": \"Ristorante Buca Mario\", \"opening_hours\": \"Mo-Su 19:00-22:00\", \"phone\": \"+39055214179\", \"source\": \"Comune di Firenze\"}, \"type\": \"Feature\"}, {\"geometry\": {\"coordinates\": [11.2533938, 43.7758132], \"type\": \"Point\"}, \"id\": 2361697534, \"properties\": {\"addr:city\": \"Firenze\", \"addr:country\": \"IT\", \"addr:housenumber\": \"16/R\", \"addr:street\": \"Via dell'Ariento\", \"amenity\": \"restaurant\", \"name\": \"Casa del Vino\", \"source\": \"Comune di Firenze\"}, \"type\": \"Feature\"}, {\"geometry\": {\"coordinates\": [11.2462382, 43.7655315], \"type\": \"Point\"}, \"id\": 2361697548, \"properties\": {\"addr:city\": \"Firenze\", \"addr:country\": \"IT\", \"addr:housenumber\": \"16/R\", \"addr:street\": \"Via della Chiesa\", \"amenity\": \"restaurant\", \"name\": \"Il Chicco di Caffe / Trattoria La Lola\", \"source\": \"Comune di Firenze\"}, \"type\": \"Feature\"}, {\"geometry\": {\"coordinates\": [11.2564945, 43.7709534], \"type\": \"Point\"}, \"id\": 2361706707, \"properties\": {\"addr:city\": \"Firenze\", \"addr:country\": \"IT\", \"addr:housenumber\": \"18R\", \"addr:postcode\": \"50122\", \"addr:street\": \"Via Dante Alighieri\", \"amenity\": \"restaurant\", \"name\": \"I'Tuscani 3\", \"name:en\": \"I'Tuscani 3\", \"name:es\": \"I'Tuscani 3\", \"name:it\": \"I'Tuscani 3\", \"phone\": \"+39 055 285 356\", \"source\": \"Comune di Firenze\"}, \"type\": \"Feature\"}, {\"geometry\": {\"coordinates\": [11.2612958, 43.7641573], \"type\": \"Point\"}, \"id\": 2361715974, \"properties\": {\"addr:city\": \"Firenze\", \"addr:country\": \"IT\", \"addr:housenumber\": \"2\", \"addr:postcode\": \"50125\", \"addr:street\": \"Via San Miniato\", \"amenity\": \"restaurant\", \"cuisine\": \"italian_pizza;vegetarian\", \"email\": \"alfredo@pizzacchiere.com\", \"internet_access\": \"wlan\", \"name\": \"Zeb\", \"name:en\": \"l\\u2019 Pizzacchiere\", \"name:it\": \"l\\u2019 Pizzacchiere\", \"opening_hours\": \"Tu-Sa 12:15-14:30, 18:00-22:30\", \"phone\": \"+390552466332\", \"source\": \"Comune di Firenze\", \"website\": \"http://pizzacchiere.com\"}, \"type\": \"Feature\"}, {\"geometry\": {\"coordinates\": [11.2568343, 43.7699761], \"type\": \"Point\"}, \"id\": 2361716077, \"properties\": {\"addr:city\": \"Firenze\", \"addr:country\": \"IT\", \"addr:housenumber\": \"2-4/R\", \"addr:street\": \"Via dei Magazzini\", \"amenity\": \"restaurant\", \"name\": \"Ristorante & Wine Bar dei Frescobaldi\", \"source\": \"Comune di Firenze\"}, \"type\": \"Feature\"}, {\"geometry\": {\"coordinates\": [11.2612793, 43.7641954], \"type\": \"Point\"}, \"id\": 2361720374, \"properties\": {\"addr:city\": \"Firenze\", \"addr:country\": \"IT\", \"addr:housenumber\": \"2/1\", \"addr:street\": \"Via San Miniato\", \"amenity\": \"restaurant\", \"source\": \"Comune di Firenze\"}, \"type\": \"Feature\"}, {\"geometry\": {\"coordinates\": [11.2538403, 43.7706351], \"type\": \"Point\"}, \"id\": 2361722019, \"properties\": {\"addr:city\": \"Firenze\", \"addr:country\": \"IT\", \"addr:housenumber\": \"20\", \"addr:street\": \"Via dei Lamberti\", \"amenity\": \"restaurant\", \"cuisine\": \"italian\", \"name:fr\": \"La Posta\", \"phone\": \"0039055212701\", \"source\": \"Comune di Firenze\"}, \"type\": \"Feature\"}, {\"geometry\": {\"coordinates\": [11.2542929, 43.7766689], \"type\": \"Point\"}, \"id\": 2361728982, \"properties\": {\"addr:city\": \"Firenze\", \"addr:country\": \"IT\", \"addr:housenumber\": \"22 R\", \"addr:street\": \"Piazza del Mercato Centrale\", \"amenity\": \"restaurant\", \"name\": \"Trattoria Sara\", \"source\": \"Comune di Firenze\"}, \"type\": \"Feature\"}, {\"geometry\": {\"coordinates\": [11.2315357, 43.7867758], \"type\": \"Point\"}, \"id\": 2361733639, \"properties\": {\"addr:city\": \"Firenze\", \"addr:country\": \"IT\", \"addr:housenumber\": \"22A\", \"addr:postcode\": \"50144\", \"addr:street\": \"Via Francesco Veracini\", \"amenity\": \"restaurant\", \"name\": \"Giotto Pizzeria-Bistrot\", \"name:en\": \"Giotto Pizzeria-Bistrot\", \"name:es\": \"Giotto Pizzeria-Bistrot\", \"name:it\": \"Giotto Pizzeria-Bistrot\", \"phone\": \"+39 055 332 332\", \"source\": \"Comune di Firenze\"}, \"type\": \"Feature\"}, {\"geometry\": {\"coordinates\": [11.2542502, 43.7689436], \"type\": \"Point\"}, \"id\": 2361755378, \"properties\": {\"addr:city\": \"Firenze\", \"addr:country\": \"IT\", \"addr:housenumber\": \"24 R\", \"addr:street\": \"Via Lambertesca\", \"amenity\": \"restaurant\", \"name\": \"Mangia Pizza\", \"source\": \"Comune di Firenze\"}, \"type\": \"Feature\"}, {\"geometry\": {\"coordinates\": [11.2552837, 43.7774898], \"type\": \"Point\"}, \"id\": 2361762315, \"properties\": {\"addr:city\": \"Firenze\", \"addr:country\": \"IT\", \"addr:housenumber\": \"24A\", \"addr:postcode\": \"50129\", \"addr:street\": \"Via Guelfa\", \"amenity\": \"restaurant\", \"cuisine\": \"korean\", \"name\": \"Il Coco - Chicken & Beer\", \"opening_hours\": \"Tu-Su 12:00-23:00\", \"phone\": \"+39055214977\", \"source\": \"Comune di Firenze\"}, \"type\": \"Feature\"}, {\"geometry\": {\"coordinates\": [11.2471498, 43.7726743], \"type\": \"Point\"}, \"id\": 2361764708, \"properties\": {\"addr:city\": \"Firenze\", \"addr:country\": \"IT\", \"addr:housenumber\": \"25/R\", \"addr:street\": \"Via del Porcellana\", \"amenity\": \"restaurant\", \"name\": \"Trattoria Sostanza\", \"source\": \"Comune di Firenze\"}, \"type\": \"Feature\"}, {\"geometry\": {\"coordinates\": [11.2755596, 43.776475], \"type\": \"Point\"}, \"id\": 2361764761, \"properties\": {\"addr:city\": \"Firenze\", \"addr:country\": \"IT\", \"addr:housenumber\": \"25 R\", \"addr:street\": \"Viale Giuseppe Mazzini\", \"amenity\": \"restaurant\", \"name\": \"Ristorante Portofino\", \"source\": \"Comune di Firenze\"}, \"type\": \"Feature\"}, {\"geometry\": {\"coordinates\": [11.2597791, 43.7681627], \"type\": \"Point\"}, \"id\": 2361771134, \"properties\": {\"addr:city\": \"Firenze\", \"addr:country\": \"IT\", \"addr:housenumber\": \"27 R\", \"addr:street\": \"Via dei Benci\", \"amenity\": \"restaurant\", \"name\": \"Moyo Kitchen\", \"source\": \"Comune di Firenze\"}, \"type\": \"Feature\"}, {\"geometry\": {\"coordinates\": [11.2569928, 43.7764914], \"type\": \"Point\"}, \"id\": 2361772669, \"properties\": {\"addr:city\": \"Firenze\", \"addr:country\": \"IT\", \"addr:housenumber\": \"27\", \"addr:postcode\": \"50129\", \"addr:street\": \"Via Cavour\", \"amenity\": \"restaurant\", \"name\": \"Il Desco Bistro\", \"name:en\": \"Il Desco Bistro\", \"name:es\": \"Il Desco Bistro\", \"name:it\": \"Il Desco Bistro\", \"phone\": \"+39 055 288 330\", \"source\": \"Comune di Firenze\", \"website\": \"http://www.ildescofirenze.it/\"}, \"type\": \"Feature\"}, {\"geometry\": {\"coordinates\": [11.2513127, 43.7727509], \"type\": \"Point\"}, \"id\": 2361796228, \"properties\": {\"addr:city\": \"Firenze\", \"addr:country\": \"IT\", \"addr:housenumber\": \"3\", \"addr:street\": \"Piazza Antinori\", \"amenity\": \"restaurant\", \"name\": \"Cantinetta Antinori\", \"opening_hours\": \"Mo-Sa 12:00-14:30, 19:00-22:30\", \"source\": \"Comune di Firenze\"}, \"type\": \"Feature\"}, {\"geometry\": {\"coordinates\": [11.2840522, 43.7746054], \"type\": \"Point\"}, \"id\": 2361796726, \"properties\": {\"addr:city\": \"Firenze\", \"addr:country\": \"IT\", \"addr:housenumber\": \"3\", \"addr:street\": \"Via Damiano Chiesa\", \"amenity\": \"restaurant\", \"source\": \"Comune di Firenze\"}, \"type\": \"Feature\"}, {\"geometry\": {\"coordinates\": [11.2935379, 43.7851268], \"type\": \"Point\"}, \"id\": 2361801042, \"properties\": {\"addr:city\": \"Firenze\", \"addr:country\": \"IT\", \"addr:housenumber\": \"3\", \"addr:street\": \"Viale Augusto Righi\", \"amenity\": \"restaurant\", \"name\": \"I' giuggiolo\", \"phone\": \"+39 055 606240\", \"source\": \"Comune di Firenze\", \"website\": \"http://www.igiuggiolo.com\"}, \"type\": \"Feature\"}, {\"geometry\": {\"coordinates\": [11.2573817, 43.7807208], \"type\": \"Point\"}, \"id\": 2361805173, \"properties\": {\"addr:city\": \"Firenze\", \"addr:country\": \"IT\", \"addr:housenumber\": \"30r\", \"addr:postcode\": \"50129\", \"addr:street\": \"Via delle Ruote\", \"amenity\": \"restaurant\", \"name\": \"Il Vegetariano\", \"phone\": \"+39 055 475030\", \"source\": \"Comune di Firenze\", \"website\": \"http://il-vegetariano.it\"}, \"type\": \"Feature\"}, {\"geometry\": {\"coordinates\": [11.2466585, 43.7676854], \"type\": \"Point\"}, \"id\": 2361807907, \"properties\": {\"addr:city\": \"Firenze\", \"addr:country\": \"IT\", \"addr:housenumber\": \"31R\", \"addr:street\": \"Via Maffia\", \"amenity\": \"restaurant\", \"cuisine\": \"pizza,_italian\", \"name\": \"O'munaciello\", \"name:en\": \"O'munaciello\", \"name:it\": \"O'munaciello\", \"source\": \"Comune di Firenze\", \"website\": \"www.munaciello.com\"}, \"type\": \"Feature\"}, {\"geometry\": {\"coordinates\": [11.2423202, 43.77897], \"type\": \"Point\"}, \"id\": 2361808454, \"properties\": {\"addr:city\": \"Firenze\", \"addr:country\": \"IT\", \"addr:housenumber\": \"31r-33r\", \"addr:postcode\": \"50144\", \"addr:street\": \"Viale Fratelli Rosselli\", \"amenity\": \"restaurant\", \"name\": \"Haveli Indian Restaurant\", \"phone\": \"+39 055 355695\", \"source\": \"Comune di Firenze\", \"website\": \"http://florenceindianrestaurant.it\"}, \"type\": \"Feature\"}, {\"geometry\": {\"coordinates\": [11.2598834, 43.7682881], \"type\": \"Point\"}, \"id\": 2361822552, \"properties\": {\"addr:city\": \"Firenze\", \"addr:country\": \"IT\", \"addr:housenumber\": \"33 R\", \"addr:street\": \"Via dei Benci\", \"amenity\": \"restaurant\", \"name\": \"Red Garter\", \"source\": \"Comune di Firenze\"}, \"type\": \"Feature\"}, {\"geometry\": {\"coordinates\": [11.2407568, 43.7690029], \"type\": \"Point\"}, \"id\": 2361834456, \"properties\": {\"addr:city\": \"Firenze\", \"addr:country\": \"IT\", \"addr:housenumber\": \"35A\", \"addr:postcode\": \"50124\", \"addr:street\": \"Via dell'Orto\", \"amenity\": \"restaurant\", \"cuisine\": \"italian;italian_pizza\", \"internet_access\": \"wlan\", \"name\": \"Trattoria dell'Orto\", \"name:de\": \"Trattoria dell'Orto\", \"phone\": \"+39055224148\", \"source\": \"Comune di Firenze\", \"website\": \"http://trattoriadellorto.com\"}, \"type\": \"Feature\"}, {\"geometry\": {\"coordinates\": [11.2510896, 43.7678769], \"type\": \"Point\"}, \"id\": 2361838894, \"properties\": {\"addr:city\": \"Firenze\", \"addr:country\": \"IT\", \"addr:housenumber\": \"37 R\", \"addr:street\": \"Borgo San Iacopo\", \"amenity\": \"restaurant\", \"name\": \"Trattoria Mamma Gina\", \"source\": \"Comune di Firenze\"}, \"type\": \"Feature\"}, {\"geometry\": {\"coordinates\": [11.2495081, 43.7718749], \"type\": \"Point\"}, \"id\": 2361839283, \"properties\": {\"addr:city\": \"Firenze\", \"addr:country\": \"IT\", \"addr:housenumber\": \"37R\", \"addr:postcode\": \"50123\", \"addr:street\": \"Via dei Federighi\", \"amenity\": \"restaurant\", \"name\": \"I'Tuscani 2\", \"name:es\": \"I'Tuscani 2\", \"phone\": \"+39 055 906 5507\", \"source\": \"Comune di Firenze\", \"website\": \"http://www.ituscani2.com\"}, \"type\": \"Feature\"}, {\"geometry\": {\"coordinates\": [11.2369752, 43.7755141], \"type\": \"Point\"}, \"id\": 2361839515, \"properties\": {\"addr:city\": \"Firenze\", \"addr:country\": \"IT\", \"addr:housenumber\": \"35\", \"addr:street\": \"Corso Italia\", \"amenity\": \"restaurant\", \"cuisine\": \"regional\", \"name\": \"Borderline\", \"source\": \"Tripadvisor\"}, \"type\": \"Feature\"}, {\"geometry\": {\"coordinates\": [11.2543384, 43.7668811], \"type\": \"Point\"}, \"id\": 2361840707, \"properties\": {\"addr:city\": \"Firenze\", \"addr:country\": \"IT\", \"addr:housenumber\": \"37\", \"addr:street\": \"Via dei Bardi\", \"amenity\": \"restaurant\", \"name\": \"Palazzo Tempi\", \"name:it\": \"Palazzo Tempi\", \"source\": \"Comune di Firenze\"}, \"type\": \"Feature\"}, {\"geometry\": {\"coordinates\": [11.2578785, 43.7712218], \"type\": \"Point\"}, \"id\": 2361846446, \"properties\": {\"addr:city\": \"Firenze\", \"addr:country\": \"IT\", \"addr:housenumber\": \"39\", \"addr:street\": \"Via del Proconsolo\", \"amenity\": \"restaurant\", \"capacity\": \"100\", \"cuisine\": \"italian;pizza;regional\", \"name\": \"Yellow Bar\", \"smoking\": \"no\", \"source\": \"Comune di Firenze\"}, \"type\": \"Feature\"}, {\"geometry\": {\"coordinates\": [11.2826841, 43.7626247], \"type\": \"Point\"}, \"id\": 2361849065, \"properties\": {\"addr:city\": \"Firenze\", \"addr:country\": \"IT\", \"addr:housenumber\": \"4R\", \"addr:street\": \"Piazza Gavinana\", \"amenity\": \"restaurant\", \"name\": \"Osteria Del Nacchero\", \"opening_hours\": \"Mo-Su 12:30-23:00\", \"source\": \"Comune di Firenze\"}, \"type\": \"Feature\"}, {\"geometry\": {\"coordinates\": [11.2461152, 43.7640647], \"type\": \"Point\"}, \"id\": 2361869777, \"properties\": {\"addr:city\": \"Firenze\", \"addr:country\": \"IT\", \"addr:housenumber\": \"45\", \"addr:street\": \"Via Romana\", \"amenity\": \"restaurant\", \"name:en\": \"Trattoria Boboli$$-$$$ \\u0441\\u0442\\u0435\\u0439\\u043a\\u0438, \\u0437\\u0430\\u043a\\u0443\\u0441\\u043a\\u0438, \\u043f\\u0430\\u0441\\u0442\\u0430\", \"opening_hours\": \"Mo-Su 08:00-22:30\", \"source\": \"Comune di Firenze\"}, \"type\": \"Feature\"}, {\"geometry\": {\"coordinates\": [11.2561502, 43.7715126], \"type\": \"Point\"}, \"id\": 2361870933, \"properties\": {\"addr:city\": \"Firenze\", \"addr:country\": \"IT\", \"addr:housenumber\": \"36r\", \"addr:street\": \"Corso\", \"amenity\": \"restaurant\", \"cuisine\": \"italian\", \"name\": \"Chiaroscuro\", \"source\": \"Comune di Firenze\", \"website\": \"http://www.chiaroscuro.it/\"}, \"type\": \"Feature\"}, {\"geometry\": {\"coordinates\": [11.2540274, 43.7670724], \"type\": \"Point\"}, \"id\": 2361870997, \"properties\": {\"addr:city\": \"Firenze\", \"addr:country\": \"IT\", \"addr:housenumber\": \"46/r\", \"addr:postcode\": \"50125\", \"addr:street\": \"Via dei Bardi\", \"amenity\": \"restaurant\", \"email\": \"firenze.pontevecchio@signorvino.it\", \"name\": \"Signorvino\", \"opening_hours\": \"Mo-Su 09:30-00:00\", \"phone\": \"+39055286258\", \"source\": \"Comune di Firenze\", \"website\": \"http://www.signorvino.com/it/negozi/firenze\"}, \"type\": \"Feature\"}, {\"geometry\": {\"coordinates\": [11.264573, 43.7713972], \"type\": \"Point\"}, \"id\": 2361872166, \"properties\": {\"addr:city\": \"Firenze\", \"addr:country\": \"IT\", \"addr:housenumber\": \"47r\", \"addr:postcode\": \"50122\", \"addr:street\": \"Via Pietrapiana\", \"amenity\": \"restaurant\", \"cuisine\": \"vegan\", \"name\": \"Universo Vegano\", \"opening_hours\": \"Mo-Fr 10:00-23:00; Sa-Su 10:00-00:00\", \"phone\": \"+39 338 847 7269\", \"source\": \"Comune di Firenze\", \"website\": \"http://universovegano.it\"}, \"type\": \"Feature\"}, {\"geometry\": {\"coordinates\": [11.2654843, 43.7700265], \"type\": \"Point\"}, \"id\": 2361875993, \"properties\": {\"addr:city\": \"Firenze\", \"addr:country\": \"IT\", \"addr:housenumber\": \"48\", \"addr:street\": \"Via dell'Agnolo\", \"amenity\": \"restaurant\", \"name\": \"Osteria La Vinaina\", \"source\": \"Comune di Firenze\"}, \"type\": \"Feature\"}, {\"geometry\": {\"coordinates\": [11.2404463, 43.7690751], \"type\": \"Point\"}, \"id\": 2361876795, \"properties\": {\"addr:city\": \"Firenze\", \"addr:country\": \"IT\", \"addr:housenumber\": \"49/A\", \"addr:street\": \"Via dell'Orto\", \"amenity\": \"restaurant\", \"name\": \"Il Guscio\", \"source\": \"Comune di Firenze\"}, \"type\": \"Feature\"}, {\"geometry\": {\"coordinates\": [11.2419718, 43.7677601], \"type\": \"Point\"}, \"id\": 2361883827, \"properties\": {\"addr:city\": \"Firenze\", \"addr:country\": \"IT\", \"addr:housenumber\": \"50 R\", \"addr:postcode\": \"50124\", \"addr:street\": \"Via del Leone\", \"amenity\": \"restaurant\", \"name\": \"Trattoria Pandemonio di casa Brogi\", \"opening_hours\": \"Mo-Sa 12:30-13:30, 19:30-22:30\", \"source\": \"Comune di Firenze\"}, \"type\": \"Feature\"}, {\"geometry\": {\"coordinates\": [11.2496212, 43.772421], \"type\": \"Point\"}, \"id\": 2361887231, \"properties\": {\"addr:city\": \"Firenze\", \"addr:country\": \"IT\", \"addr:housenumber\": \"51\", \"addr:postcode\": \"50123\", \"addr:street\": \"Via del Moro\", \"amenity\": \"restaurant\", \"name\": \"Pensavo Peggio\", \"source\": \"Comune di Firenze\"}, \"type\": \"Feature\"}, {\"geometry\": {\"coordinates\": [11.2250685, 43.7910523], \"type\": \"Point\"}, \"id\": 2361889849, \"properties\": {\"addr:city\": \"Firenze\", \"addr:country\": \"IT\", \"addr:housenumber\": \"53/G\", \"addr:postcode\": \"50127\", \"addr:street\": \"Via di Novoli\", \"amenity\": \"restaurant\", \"cuisine\": \"chinese\", \"name\": \"Bamboo Sushi Wok\", \"phone\": \"+39 055 414 852\", \"source\": \"Comune di Firenze\"}, \"type\": \"Feature\"}, {\"geometry\": {\"coordinates\": [11.2766694, 43.7632074], \"type\": \"Point\"}, \"id\": 2361890892, \"properties\": {\"addr:city\": \"Firenze\", \"addr:country\": \"IT\", \"addr:housenumber\": \"55/A\", \"addr:postcode\": \"50126\", \"addr:street\": \"Via Giampaolo Orsini\", \"amenity\": \"restaurant\", \"name\": \"Crepapelle\", \"opening_hours\": \"Mo-Su 19:30-23:00\", \"source\": \"Comune di Firenze\", \"website\": \"http://crepapelle.org\"}, \"type\": \"Feature\"}, {\"geometry\": {\"coordinates\": [11.2561049, 43.7769437], \"type\": \"Point\"}, \"id\": 2361892167, \"properties\": {\"addr:city\": \"Firenze\", \"addr:country\": \"IT\", \"addr:housenumber\": \"56r\", \"addr:street\": \"Via dei Ginori\", \"amenity\": \"restaurant\", \"cuisine\": \"italian_pizza\", \"email\": \"contatti@simbiosi.bio\", \"internet_access\": \"wlan\", \"name\": \"simBIOsi\", \"phone\": \"+39 055 0640115\", \"source\": \"Comune di Firenze\", \"website\": \"http://www.simbiosi.bio\"}, \"type\": \"Feature\"}, {\"geometry\": {\"coordinates\": [11.2500234, 43.7681082], \"type\": \"Point\"}, \"id\": 2361893449, \"properties\": {\"addr:city\": \"Firenze\", \"addr:country\": \"IT\", \"addr:housenumber\": \"57 R\", \"addr:street\": \"Borgo San Iacopo\", \"amenity\": \"restaurant\", \"cuisine\": \"italian\", \"name\": \"Trattoria Cammillo\", \"source\": \"Comune di Firenze\"}, \"type\": \"Feature\"}, {\"geometry\": {\"coordinates\": [11.2534329, 43.7672377], \"type\": \"Point\"}, \"id\": 2361894628, \"properties\": {\"addr:city\": \"Firenze\", \"addr:country\": \"IT\", \"addr:housenumber\": \"58/r\", \"addr:postcode\": \"50125\", \"addr:street\": \"Via dei Bardi\", \"amenity\": \"restaurant\", \"name:en\": \"Golden View Open Bar\", \"name:ru\": \"Golden View Open Bar\", \"source\": \"Comune di Firenze\"}, \"type\": \"Feature\"}, {\"geometry\": {\"coordinates\": [11.2604721, 43.7721357], \"type\": \"Point\"}, \"id\": 2361894646, \"properties\": {\"addr:city\": \"Firenze\", \"addr:country\": \"IT\", \"addr:housenumber\": \"58R\", \"addr:street\": \"Via dell'Oriuolo\", \"amenity\": \"restaurant\", \"name\": \"Trattoria l'Oriuolo\", \"source\": \"Comune di Firenze\"}, \"type\": \"Feature\"}, {\"geometry\": {\"coordinates\": [11.2478199, 43.7666532], \"type\": \"Point\"}, \"id\": 2361895884, \"properties\": {\"addr:city\": \"Firenze\", \"addr:country\": \"IT\", \"addr:housenumber\": \"6 R\", \"addr:street\": \"Piazza Santo Spirito\", \"amenity\": \"restaurant\", \"name\": \"Trattoria Borgo Antico\", \"source\": \"Comune di Firenze\"}, \"type\": \"Feature\"}, {\"geometry\": {\"coordinates\": [11.2617033, 43.7715963], \"type\": \"Point\"}, \"id\": 2361896595, \"properties\": {\"addr:city\": \"Firenze\", \"addr:country\": \"IT\", \"addr:housenumber\": \"6/R\", \"addr:street\": \"Volta di San Piero\", \"amenity\": \"restaurant\", \"name\": \"Antico Noe\", \"source\": \"Comune di Firenze\"}, \"type\": \"Feature\"}, {\"geometry\": {\"coordinates\": [11.2469887, 43.768984], \"type\": \"Point\"}, \"id\": 2361901024, \"properties\": {\"addr:city\": \"Firenze\", \"addr:country\": \"IT\", \"addr:housenumber\": \"60 R\", \"addr:street\": \"Via Santo Spirito\", \"amenity\": \"restaurant\", \"name\": \"Il Santino\", \"source\": \"Comune di Firenze\"}, \"type\": \"Feature\"}, {\"geometry\": {\"coordinates\": [11.2612643, 43.764368], \"type\": \"Point\"}, \"id\": 2361901275, \"properties\": {\"addr:city\": \"Firenze\", \"addr:country\": \"IT\", \"addr:housenumber\": \"60r\", \"addr:street\": \"Via di San Niccol\\u00f2\", \"amenity\": \"restaurant\", \"name\": \"Osteria Antica Mescita San Niccolo\", \"source\": \"Comune di Firenze\"}, \"type\": \"Feature\"}, {\"geometry\": {\"coordinates\": [11.24676, 43.769037], \"type\": \"Point\"}, \"id\": 2361910872, \"properties\": {\"addr:city\": \"Firenze\", \"addr:country\": \"IT\", \"addr:housenumber\": \"66/R\", \"addr:street\": \"Via Santo Spirito\", \"amenity\": \"restaurant\", \"name\": \"Il Santo Bevitore\", \"source\": \"Comune di Firenze\"}, \"type\": \"Feature\"}, {\"geometry\": {\"coordinates\": [11.2456437, 43.7740026], \"type\": \"Point\"}, \"id\": 2361913988, \"properties\": {\"addr:city\": \"Firenze\", \"addr:country\": \"IT\", \"addr:housenumber\": \"69r\", \"addr:postcode\": \"50123\", \"addr:street\": \"Via Palazzuolo\", \"amenity\": \"restaurant\", \"cuisine\": \"italian\", \"name\": \"Trattoria il Contadino\", \"name:it\": \"Via Palazzuolo, 69r, 50123 Firenze, Italia\", \"phone\": \"+39 055 238 2673\", \"source\": \"Comune di Firenze\", \"website\": \"http://www.trattoriailcontadino.com\"}, \"type\": \"Feature\"}, {\"geometry\": {\"coordinates\": [11.2133241, 43.7727854], \"type\": \"Point\"}, \"id\": 2361917268, \"properties\": {\"addr:city\": \"Firenze\", \"addr:country\": \"IT\", \"addr:housenumber\": \"7\", \"addr:postcode\": \"50142\", \"addr:street\": \"Via Giovan Battista Foggini\", \"amenity\": \"restaurant\", \"contact:phone\": \"+39 055 712978\", \"cuisine\": \"italian, pizza\", \"diet\": \"vegan\", \"name\": \"Ristorante Pizzeria Sciu\\u00e8 Sciu\\u00e8\", \"opening_hours\": \"Mo off; Tu-Su 11:30-14:30; Tu-Sa 18:30-23:30\", \"operator\": \"Solemio Srl\", \"outdoor_seating\": \"yes\", \"ref:vatin\": \"IT05400380480\", \"smoking\": \"no\", \"source\": \"local_knowledge\", \"takeaway\": \"yes\", \"wheelchair\": \"yes\"}, \"type\": \"Feature\"}, {\"geometry\": {\"coordinates\": [11.2574917, 43.7684379], \"type\": \"Point\"}, \"id\": 2361920591, \"properties\": {\"addr:city\": \"Firenze\", \"addr:country\": \"IT\", \"addr:housenumber\": \"72\", \"addr:street\": \"Via dei Neri\", \"amenity\": \"restaurant\", \"name\": \"La Fettunta\", \"smoking\": \"no\", \"source\": \"Comune di Firenze\"}, \"type\": \"Feature\"}, {\"geometry\": {\"coordinates\": [11.2213648, 43.7928052], \"type\": \"Point\"}, \"id\": 2361925704, \"properties\": {\"addr:city\": \"Firenze\", \"addr:country\": \"IT\", \"addr:housenumber\": \"75/O\", \"addr:postcode\": \"50127\", \"addr:street\": \"Via di Novoli\", \"amenity\": \"restaurant\", \"capacity\": \"50\", \"cuisine\": \"italian\", \"delivery\": \"no\", \"name\": \"Ristorante Pizzeria Da Franco\", \"smoking\": \"no\", \"source\": \"Comune di Firenze\", \"takeaway\": \"yes\"}, \"type\": \"Feature\"}, {\"geometry\": {\"coordinates\": [11.2664165, 43.7711393], \"type\": \"Point\"}, \"id\": 2361932384, \"properties\": {\"addr:city\": \"Firenze\", \"addr:country\": \"IT\", \"addr:housenumber\": \"8r\", \"addr:postcode\": \"50122\", \"addr:street\": \"Via Andrea del Verrocchio\", \"amenity\": \"restaurant\", \"cuisine\": \"fine_dining;regional\", \"name\": \"Cibr\\u00e8o ristorante\", \"opening_hours\": \"Tu-Su 12:50-14:30, 19:00-23:15\", \"source\": \"Comune di Firenze\"}, \"type\": \"Feature\"}, {\"geometry\": {\"coordinates\": [11.2538642, 43.7754921], \"type\": \"Point\"}, \"id\": 2361934000, \"properties\": {\"addr:city\": \"Firenze\", \"addr:country\": \"IT\", \"addr:housenumber\": \"8 R\", \"addr:street\": \"Via del Canto de' Nelli\", \"amenity\": \"restaurant\", \"name\": \"Trattoria Gozzi\", \"source\": \"Comune di Firenze\"}, \"type\": \"Feature\"}, {\"geometry\": {\"coordinates\": [11.2632297, 43.7704107], \"type\": \"Point\"}, \"id\": 2361949847, \"properties\": {\"addr:city\": \"Firenze\", \"addr:country\": \"IT\", \"addr:housenumber\": \"85 R\", \"addr:postcode\": \"50122\", \"addr:street\": \"Via dell'Agnolo\", \"amenity\": \"restaurant\", \"cuisine\": \"italian\", \"name\": \"La Cucina del Ghianda\", \"phone\": \"+390553860534\", \"source\": \"Comune di Firenze\", \"website\": \"http://www.lacucinadelghianda.it\"}, \"type\": \"Feature\"}, {\"geometry\": {\"coordinates\": [11.2505854, 43.7732285], \"type\": \"Point\"}, \"id\": 2361951983, \"properties\": {\"addr:city\": \"Firenze\", \"addr:country\": \"IT\", \"addr:housenumber\": \"87 R\", \"addr:street\": \"Via del Moro\", \"amenity\": \"restaurant\", \"cuisine\": \"italian;italian_pizza;american\", \"internet_access\": \"wlan\", \"name\": \"Mattacena\", \"name:ru\": \"\\u041c\\u0430\\u0442\\u0442\\u0430\\u0447\\u0435\\u043d\\u0430\", \"opening_hours\": \"Mo-Su 10:00-23:00\", \"source\": \"Comune di Firenze\"}, \"type\": \"Feature\"}, {\"geometry\": {\"coordinates\": [11.2623225, 43.7700306], \"type\": \"Point\"}, \"id\": 2361952103, \"properties\": {\"addr:city\": \"Firenze\", \"addr:country\": \"IT\", \"addr:housenumber\": \"87\", \"addr:postcode\": \"50122\", \"addr:street\": \"Via Ghibellina\", \"amenity\": \"restaurant\", \"cuisine\": \"fine_dining\", \"name\": \"Enoteca Pinchiorri\", \"opening_hours\": \"Tu-Sa 19:30-22:00\", \"phone\": \"+39055242757\", \"source\": \"Comune di Firenze\", \"website\": \"http://www.enotecapinchiorri.com\"}, \"type\": \"Feature\"}, {\"geometry\": {\"coordinates\": [11.250759, 43.7782762], \"type\": \"Point\"}, \"id\": 2361952470, \"properties\": {\"addr:city\": \"Firenze\", \"addr:country\": \"IT\", \"addr:housenumber\": \"87/A\", \"addr:street\": \"Via Faenza\", \"amenity\": \"restaurant\", \"cuisine\": \"Ethiopian;Eritrean\", \"name\": \"Lalibela\", \"opening_hours\": \"Mi-Mo 19:00-23:00\", \"smoking\": \"no\", \"source\": \"Comune di Firenze;local knowledge\"}, \"type\": \"Feature\"}, {\"geometry\": {\"coordinates\": [11.2477876, 43.7648924], \"type\": \"Point\"}, \"id\": 2361955804, \"properties\": {\"addr:city\": \"Firenze\", \"addr:country\": \"IT\", \"addr:housenumber\": \"8-9 R\", \"addr:postcode\": \"50125\", \"addr:street\": \"Piazza di San Felice\", \"amenity\": \"restaurant\", \"name\": \"Trattoria La Mangiatoia\", \"source\": \"Comune di Firenze\", \"takeaway\": \"yes\"}, \"type\": \"Feature\"}, {\"geometry\": {\"coordinates\": [11.2525251, 43.7752453], \"type\": \"Point\"}, \"id\": 2361956073, \"properties\": {\"addr:city\": \"Firenze\", \"addr:country\": \"IT\", \"addr:housenumber\": \"9r\", \"addr:street\": \"Via Faenza\", \"amenity\": \"restaurant\", \"cuisine\": \"italian\", \"name\": \"Trattoria Antellesi\", \"name:en\": \"Trattoria Antellesi\", \"name:it\": \"Trattoria Antellesi\", \"opening_hours\": \"Mo-Su 12:00-22:30\", \"phone\": \"+390552654616\", \"source\": \"Comune di Firenze\"}, \"type\": \"Feature\"}, {\"geometry\": {\"coordinates\": [11.253252, 43.7668446], \"type\": \"Point\"}, \"id\": 2361956662, \"properties\": {\"addr:city\": \"Firenze\", \"addr:country\": \"IT\", \"addr:housenumber\": \"9 R\", \"addr:street\": \"Via Stracciatella\", \"amenity\": \"restaurant\", \"name\": \"Trattoria Bordino\", \"source\": \"Comune di Firenze\"}, \"type\": \"Feature\"}, {\"geometry\": {\"coordinates\": [11.2484656, 43.7666478], \"type\": \"Point\"}, \"id\": 2361956899, \"properties\": {\"addr:city\": \"Firenze\", \"addr:country\": \"IT\", \"addr:housenumber\": \"9r\", \"addr:street\": \"Via dei Michelozzi\", \"amenity\": \"restaurant\", \"cuisine\": \"italian\", \"internet_access\": \"wlan\", \"name\": \"Trattoria La Casalinga\", \"source\": \"Comune di Firenze\"}, \"type\": \"Feature\"}, {\"geometry\": {\"coordinates\": [11.2574017, 43.7737565], \"type\": \"Point\"}, \"id\": 2361956954, \"properties\": {\"addr:city\": \"Firenze\", \"addr:country\": \"IT\", \"addr:housenumber\": \"9 R\", \"addr:street\": \"Via dei Servi\", \"amenity\": \"restaurant\", \"cuisine\": \"regional\", \"description\": \"Mediterranean Cooking - Fish specialities\", \"name\": \"Decumanus Restaurant\", \"source\": \"Comune di Firenze\"}, \"type\": \"Feature\"}, {\"geometry\": {\"coordinates\": [11.2468081, 43.772356], \"type\": \"Point\"}, \"id\": 2361957237, \"properties\": {\"addr:city\": \"Firenze\", \"addr:country\": \"IT\", \"addr:housenumber\": \"9\", \"addr:street\": \"Via del Porcellana\", \"amenity\": \"restaurant\", \"name\": \"Trattoria dei 13 gobbi\", \"name:en\": \"13 Gobbi$$-$$$ \\u0441\\u0442\\u0435\\u0439\\u043a\", \"opening_hours\": \"Mo-Su 11:50-15:30, 19:10-23:15\", \"phone\": \"055284018\", \"source\": \"Comune di Firenze\"}, \"type\": \"Feature\"}, {\"geometry\": {\"coordinates\": [11.247382, 43.7663266], \"type\": \"Point\"}, \"id\": 2361958119, \"properties\": {\"addr:city\": \"Firenze\", \"addr:country\": \"IT\", \"addr:housenumber\": \"9\", \"addr:street\": \"Piazza Santo Spirito\", \"amenity\": \"restaurant\", \"name\": \"Tamer\\u00f2\", \"source\": \"Comune di Firenze\"}, \"type\": \"Feature\"}, {\"geometry\": {\"coordinates\": [11.2601169, 43.7816604], \"type\": \"Point\"}, \"id\": 2361963529, \"properties\": {\"addr:city\": \"Firenze\", \"addr:country\": \"IT\", \"addr:housenumber\": \"92r\", \"addr:postcode\": \"50120\", \"addr:street\": \"Via San Gallo\", \"amenity\": \"restaurant\", \"name\": \"Dolce Vegan\", \"phone\": \"+39 055 019 5437\", \"source\": \"Comune di Firenze\"}, \"type\": \"Feature\"}, {\"geometry\": {\"coordinates\": [11.2582963, 43.7765459], \"type\": \"Point\"}, \"id\": 2361965353, \"properties\": {\"addr:city\": \"Firenze\", \"addr:country\": \"IT\", \"addr:housenumber\": \"93 R\", \"addr:street\": \"Via Ricasoli\", \"amenity\": \"restaurant\", \"name\": \"Mangia e Bevi\", \"source\": \"Comune di Firenze\"}, \"type\": \"Feature\"}, {\"geometry\": {\"coordinates\": [11.251446, 43.7770275], \"type\": \"Point\"}, \"id\": 2361965921, \"properties\": {\"addr:city\": \"Firenze\", \"addr:country\": \"IT\", \"addr:housenumber\": \"95 R\", \"addr:street\": \"Via Faenza\", \"amenity\": \"restaurant\", \"source\": \"Comune di Firenze\"}, \"type\": \"Feature\"}, {\"geometry\": {\"coordinates\": [11.2668752, 43.770042], \"type\": \"Point\"}, \"id\": 2364474905, \"properties\": {\"amenity\": \"restaurant\", \"cuisine\": \"pizza\", \"name\": \"a Casa Mia\", \"source\": \"local_knowledge\"}, \"type\": \"Feature\"}, {\"geometry\": {\"coordinates\": [11.267413, 43.7704323], \"type\": \"Point\"}, \"id\": 2364474908, \"properties\": {\"amenity\": \"restaurant\", \"cuisine\": \"fish\", \"source\": \"local_knowledge\"}, \"type\": \"Feature\"}, {\"geometry\": {\"coordinates\": [11.2669516, 43.7705185], \"type\": \"Point\"}, \"id\": 2364474913, \"properties\": {\"amenity\": \"restaurant\", \"cuisine\": \"regional\", \"source\": \"local_knowledge\"}, \"type\": \"Feature\"}, {\"geometry\": {\"coordinates\": [11.2687769, 43.7707887], \"type\": \"Point\"}, \"id\": 2364474914, \"properties\": {\"amenity\": \"restaurant\", \"source\": \"local_knowledge\"}, \"type\": \"Feature\"}, {\"geometry\": {\"coordinates\": [11.2529182, 43.7696683], \"type\": \"Point\"}, \"id\": 2373905832, \"properties\": {\"addr:housenumber\": \"13\", \"addr:street\": \"Via delle Terme\", \"amenity\": \"restaurant\", \"name\": \"Hosteria Il Desco\"}, \"type\": \"Feature\"}, {\"geometry\": {\"coordinates\": [11.5892702, 44.0219729], \"type\": \"Point\"}, \"id\": 2391896412, \"properties\": {\"amenity\": \"restaurant\", \"name\": \"Charlet la Baita\"}, \"type\": \"Feature\"}, {\"geometry\": {\"coordinates\": [11.5889989, 44.0216969], \"type\": \"Point\"}, \"id\": 2391907916, \"properties\": {\"amenity\": \"restaurant\", \"name\": \"La casetta di Campigno (pizzeria)\"}, \"type\": \"Feature\"}, {\"geometry\": {\"coordinates\": [10.8588979, 43.548526], \"type\": \"Point\"}, \"id\": 2399436078, \"properties\": {\"amenity\": \"restaurant\", \"name\": \"Ristorante Il Rosmarino\"}, \"type\": \"Feature\"}, {\"geometry\": {\"coordinates\": [11.2253738, 43.7719728], \"type\": \"Point\"}, \"id\": 2424204495, \"properties\": {\"amenity\": \"restaurant\", \"cuisine\": \"pizza\", \"name\": \"Pizzeria Da Salvatore\"}, \"type\": \"Feature\"}, {\"geometry\": {\"coordinates\": [11.2177255, 43.7671712], \"type\": \"Point\"}, \"id\": 2424204498, \"properties\": {\"amenity\": \"restaurant\", \"cuisine\": \"italian\", \"name\": \"Alla Corte dei Tre\"}, \"type\": \"Feature\"}, {\"geometry\": {\"coordinates\": [11.4027974, 43.702423], \"type\": \"Point\"}, \"id\": 2431891817, \"properties\": {\"amenity\": \"restaurant\", \"cuisine\": \"italian\"}, \"type\": \"Feature\"}, {\"geometry\": {\"coordinates\": [10.9259202, 43.7857561], \"type\": \"Point\"}, \"id\": 2441122955, \"properties\": {\"amenity\": \"restaurant\"}, \"type\": \"Feature\"}, {\"geometry\": {\"coordinates\": [10.9270466, 43.7876582], \"type\": \"Point\"}, \"id\": 2441122962, \"properties\": {\"amenity\": \"restaurant\"}, \"type\": \"Feature\"}, {\"geometry\": {\"coordinates\": [11.260386, 43.78197], \"type\": \"Point\"}, \"id\": 2474064404, \"properties\": {\"addr:city\": \"Firenze\", \"addr:country\": \"IT\", \"addr:housenumber\": \"110\", \"addr:street\": \"Via San Gallo\", \"amenity\": \"restaurant\", \"cuisine\": \"pizza\", \"drive_in\": \"no\", \"internet_access\": \"no\", \"internet_access:fee\": \"no\", \"microbrewery\": \"no\", \"name\": \"Pizzeria Pulcinella\", \"note\": \"Very friendly athomsphere and good food.\", \"outdoor_seating\": \"no\", \"takeaway\": \"no\", \"wheelchair\": \"yes\"}, \"type\": \"Feature\"}, {\"geometry\": {\"coordinates\": [11.261437, 43.77126], \"type\": \"Point\"}, \"id\": 2489708441, \"properties\": {\"addr:city\": \"Firenze\", \"addr:housenumber\": \"4/r\", \"addr:postcode\": \"50122\", \"addr:street\": \"Piazza San Pier Maggiore\", \"amenity\": \"restaurant\", \"cuisine\": \"italian\", \"name\": \"Mastrociliegia\", \"opening_hours\": \"We-Mo 12:00-00:00\", \"outdoor_seating\": \"yes\", \"phone\": \"+390552480964\", \"wheelchair\": \"yes\"}, \"type\": \"Feature\"}, {\"geometry\": {\"coordinates\": [11.0881126, 43.6077992], \"type\": \"Point\"}, \"id\": 2490939957, \"properties\": {\"addr:city\": \"Montespertoli\", \"addr:housenumber\": \"10\", \"addr:postcode\": \"50025\", \"addr:street\": \"Via Colle a Montalbino\", \"amenity\": \"restaurant\", \"contact:email\": \"info@agriturismomontalbino.it\", \"cuisine\": \"italian\", \"internet_access\": \"wlan\", \"name\": \"La Lombricaia\", \"outdoor_seating\": \"yes\", \"phone\": \"+39 0571 608089\", \"smoking\": \"outside\", \"website\": \"http://www.agriturismomontalbino.it/index.php?ristorante_eng\"}, \"type\": \"Feature\"}, {\"geometry\": {\"coordinates\": [11.2389667, 43.770655], \"type\": \"Point\"}, \"id\": 2545434649, \"properties\": {\"addr:housenumber\": \"9/C\", \"addr:street\": \"Via Pisana\", \"amenity\": \"restaurant\", \"cuisine\": \"spaghetti\", \"name\": \"Ir Tegame\", \"phone\": \"+39 055 2337412\"}, \"type\": \"Feature\"}, {\"geometry\": {\"coordinates\": [11.2166899, 43.8230051], \"type\": \"Point\"}, \"id\": 2550350974, \"properties\": {\"amenity\": \"restaurant\", \"cuisine\": \"italian\", \"name\": \"Top Rank\", \"oven\": \"wood_fired\"}, \"type\": \"Feature\"}, {\"geometry\": {\"coordinates\": [10.9898879, 43.7064548], \"type\": \"Point\"}, \"id\": 2552443119, \"properties\": {\"amenity\": \"restaurant\", \"name\": \"Ritrovino\"}, \"type\": \"Feature\"}, {\"geometry\": {\"coordinates\": [11.2505798, 43.7735761], \"type\": \"Point\"}, \"id\": 2576406452, \"properties\": {\"amenity\": \"restaurant\", \"cuisine\": \"japanese\", \"internet_access\": \"no\", \"microbrewery\": \"no\", \"name\": \"Banki Ramen\", \"opening_hours\": \"Tu-Fr 19:00-22:00;Sa 12:30-14:30\", \"smoking\": \"no\", \"wheelchair\": \"yes\"}, \"type\": \"Feature\"}, {\"geometry\": {\"coordinates\": [10.9292526, 43.5045866], \"type\": \"Point\"}, \"id\": 2584999116, \"properties\": {\"amenity\": \"restaurant\", \"name\": \"Boscotondo\"}, \"type\": \"Feature\"}, {\"geometry\": {\"coordinates\": [11.2527724, 43.7758582], \"type\": \"Point\"}, \"id\": 2602223600, \"properties\": {\"addr:city\": \"Firenze\", \"addr:country\": \"IT\", \"addr:housenumber\": \"42R\", \"addr:postcode\": \"50100\", \"addr:street\": \"via Sant'Antonino\", \"amenity\": \"restaurant\", \"cuisine\": \"kebab\", \"internet_access\": \"no\", \"name\": \"Newroz Kebab\", \"phone\": \"+39 349 3566831\", \"smoking\": \"no\"}, \"type\": \"Feature\"}, {\"geometry\": {\"coordinates\": [11.1931604, 43.7999341], \"type\": \"Point\"}, \"id\": 2625556400, \"properties\": {\"addr:city\": \"Firenze\", \"addr:country\": \"IT\", \"addr:housenumber\": \"68/A\", \"addr:street\": \"Via Pratese\", \"amenity\": \"restaurant\", \"cuisine\": \"kebab\", \"name\": \"Bar Pizza Kebab\", \"operator\": \"Best Way s.a.s.\", \"phone\": \"+39 320 6430303\", \"source\": \"Comune di Firenze\"}, \"type\": \"Feature\"}, {\"geometry\": {\"coordinates\": [11.3258302, 43.546046], \"type\": \"Point\"}, \"id\": 2634913630, \"properties\": {\"amenity\": \"restaurant\", \"cuisine\": \"italian\", \"name\": \"Fattoria Montagliari\"}, \"type\": \"Feature\"}, {\"geometry\": {\"coordinates\": [11.2556822, 43.7740998], \"type\": \"Point\"}, \"id\": 2724212840, \"properties\": {\"amenity\": \"restaurant\", \"cuisine\": \"italian\", \"name\": \"Eataly\", \"shop\": \"deli\", \"source\": \"survey\"}, \"type\": \"Feature\"}, {\"geometry\": {\"coordinates\": [11.2539354, 43.7731524], \"type\": \"Point\"}, \"id\": 2748346154, \"properties\": {\"addr:city\": \"Firenze\", \"addr:housenumber\": \"10\", \"addr:postcode\": \"50122\", \"addr:street\": \"Piazza dell'Olio\", \"amenity\": \"restaurant\", \"contact:website\": \"http://osteriadellolio.com/\", \"cuisine\": \"regional\", \"name\": \"Osteria dell'Olio\", \"payment:bitcoin\": \"yes\", \"phone\": \"+39 055 211466\"}, \"type\": \"Feature\"}, {\"geometry\": {\"coordinates\": [11.175372, 43.8035714], \"type\": \"Point\"}, \"id\": 2776622974, \"properties\": {\"amenity\": \"restaurant\", \"cuisine\": \"italian\", \"name\": \"Il Vicolo\"}, \"type\": \"Feature\"}, {\"geometry\": {\"coordinates\": [11.178738, 43.8070919], \"type\": \"Point\"}, \"id\": 2776623028, \"properties\": {\"amenity\": \"restaurant\", \"cuisine\": \"japanese\", \"name\": \"Kokusai\"}, \"type\": \"Feature\"}, {\"geometry\": {\"coordinates\": [11.2508983, 43.7778732], \"type\": \"Point\"}, \"id\": 2777205583, \"properties\": {\"amenity\": \"restaurant\", \"cuisine\": \"italian\", \"name\": \"Trattoria Enzo e Piero\"}, \"type\": \"Feature\"}, {\"geometry\": {\"coordinates\": [11.0147349, 43.7512309], \"type\": \"Point\"}, \"id\": 2786672180, \"properties\": {\"addr:city\": \"Capraia e Limite\", \"addr:housename\": \"Osteria Cantagallo\", \"addr:housenumber\": \"35\", \"addr:postcode\": \"50056\", \"addr:street\": \"Via Valicarda\", \"amenity\": \"restaurant\", \"capacity\": \"50\", \"cuisine\": \"regional\", \"ele\": \"230\", \"name\": \"Osteria Cantagallo\", \"opening_hours\": \"\\\"dal Mercoledi al Lunedi dalle 19:30 alle 23, La domenica aperto anche a Pranzo\\\"\", \"phone\": \"+39 0571 1820860\", \"website\": \"http://www.enricopierazzuoli.com/osteria-index.html\", \"wheelchair\": \"yes\"}, \"type\": \"Feature\"}, {\"geometry\": {\"coordinates\": [11.2546877, 43.7735413], \"type\": \"Point\"}, \"id\": 2792899891, \"properties\": {\"amenity\": \"restaurant\", \"name\": \"Pizzeria a Taglio\"}, \"type\": \"Feature\"}, {\"geometry\": {\"coordinates\": [11.2989562, 43.8612014], \"type\": \"Point\"}, \"id\": 2824378603, \"properties\": {\"amenity\": \"restaurant\", \"capacity\": \"300 +\", \"cuisine\": \"italian\", \"name\": \"Zocchi\", \"opening_hours\": \"Mo-Su 00:00-01:00,11:00-24:00\", \"smoking\": \"outside\"}, \"type\": \"Feature\"}, {\"geometry\": {\"coordinates\": [11.2606871, 44.0523942], \"type\": \"Point\"}, \"id\": 2839859745, \"properties\": {\"addr:city\": \"Barberino Di Mugello\", \"addr:housenumber\": \"3\", \"addr:postcode\": \"50031\", \"addr:street\": \"Via di Montecarelli\", \"amenity\": \"restaurant\", \"cuisine\": \"regional\", \"name\": \"Maga Mag\\u00f2\", \"opening_hours\": \"Chiuso Martedi\", \"smoking\": \"no\"}, \"type\": \"Feature\"}, {\"geometry\": {\"coordinates\": [11.3755682, 44.0334981], \"type\": \"Point\"}, \"id\": 2839871742, \"properties\": {\"addr:city\": \"Scarperia\", \"addr:housenumber\": \"3\", \"addr:postcode\": \"50038\", \"addr:street\": \"Via del giogo\", \"amenity\": \"restaurant\", \"cuisine\": \"regional\", \"name\": \"Antica Osteria Nandone Omo Morto\"}, \"type\": \"Feature\"}, {\"geometry\": {\"coordinates\": [11.4367821, 43.7748894], \"type\": \"Point\"}, \"id\": 2868023436, \"properties\": {\"amenity\": \"restaurant\", \"name\": \"Pizzeria Far West\"}, \"type\": \"Feature\"}, {\"geometry\": {\"coordinates\": [11.4383178, 43.7753932], \"type\": \"Point\"}, \"id\": 2868023437, \"properties\": {\"amenity\": \"restaurant\", \"name\": \"Toscani da Sempre\"}, \"type\": \"Feature\"}, {\"geometry\": {\"coordinates\": [11.4460277, 43.7814125], \"type\": \"Point\"}, \"id\": 2868023439, \"properties\": {\"amenity\": \"restaurant\", \"name\": \"Pizzeria Boccia\"}, \"type\": \"Feature\"}, {\"geometry\": {\"coordinates\": [11.5513135, 43.7922032], \"type\": \"Point\"}, \"id\": 2868179728, \"properties\": {\"amenity\": \"restaurant\", \"name\": \"Le Cupole\"}, \"type\": \"Feature\"}, {\"geometry\": {\"coordinates\": [11.4393815, 43.7748039], \"type\": \"Point\"}, \"id\": 2868230910, \"properties\": {\"amenity\": \"restaurant\", \"name\": \"Pizzeria Centrale\"}, \"type\": \"Feature\"}, {\"geometry\": {\"coordinates\": [11.4391874, 43.7745659], \"type\": \"Point\"}, \"id\": 2868230911, \"properties\": {\"amenity\": \"restaurant\", \"name\": \"Il Girarrosto\"}, \"type\": \"Feature\"}, {\"geometry\": {\"coordinates\": [11.4450673, 43.7451872], \"type\": \"Point\"}, \"id\": 2868327863, \"properties\": {\"amenity\": \"restaurant\", \"name\": \"Da Pampurio\"}, \"type\": \"Feature\"}, {\"geometry\": {\"coordinates\": [11.4262744, 43.8239145], \"type\": \"Point\"}, \"id\": 2868327864, \"properties\": {\"amenity\": \"restaurant\", \"name\": \"Il Maccherone\"}, \"type\": \"Feature\"}, {\"geometry\": {\"coordinates\": [11.3441626, 43.7563059], \"type\": \"Point\"}, \"id\": 2872652849, \"properties\": {\"addr:street\": \"Via Vicchio e Paterno\", \"amenity\": \"restaurant\", \"cuisine\": \"regional\", \"name\": \"La Gargotta\", \"opening_hours\": \"Sempre aperto\"}, \"type\": \"Feature\"}, {\"geometry\": {\"coordinates\": [11.1554787, 43.8609535], \"type\": \"Point\"}, \"id\": 3042689933, \"properties\": {\"addr:city\": \"Calenzano\", \"addr:housenumber\": \"60\", \"addr:postcode\": \"50041\", \"addr:street\": \"Via del Molino\", \"amenity\": \"restaurant\", \"cuisine\": \"pizza\", \"name\": \"A tutta pizza - Piza a taglio\"}, \"type\": \"Feature\"}, {\"geometry\": {\"coordinates\": [10.7978602, 43.7200335], \"type\": \"Point\"}, \"id\": 3062723485, \"properties\": {\"addr:city\": \"Fucecchio\", \"addr:postcode\": \"50054\", \"addr:street\": \"Piazza Dina Buoncristiani\", \"amenity\": \"restaurant\", \"capacity\": \"50\", \"cuisine\": \"pizza,italian,beer\", \"name\": \"Scacciapensieri\", \"opening_hours\": \"Dal marted\\u00ec alla domenica e festivit\\u00e0, aperti a cena\", \"smoking\": \"outside\"}, \"type\": \"Feature\"}, {\"geometry\": {\"coordinates\": [10.9674186, 43.6038113], \"type\": \"Point\"}, \"id\": 3064751133, \"properties\": {\"addr:city\": \"Castelfiorentino\", \"addr:housenumber\": \"1\", \"addr:postcode\": \"50051\", \"addr:street\": \"Roosvelt\", \"amenity\": \"restaurant\", \"name\": \"Rosmarino\", \"phone\": \"+39 0571 629606\", \"website\": \"http://www.rosmarinobistrot.it/\", \"wheelchair\": \"yes\"}, \"type\": \"Feature\"}, {\"geometry\": {\"coordinates\": [11.5446402, 44.1120936], \"type\": \"Point\"}, \"id\": 3068954504, \"properties\": {\"addr:housenumber\": \"5\", \"addr:street\": \"Via Prato dei Berti\", \"amenity\": \"restaurant\", \"name\": \"Cinghiale Bianco\"}, \"type\": \"Feature\"}, {\"geometry\": {\"coordinates\": [11.2859043, 43.7722252], \"type\": \"Point\"}, \"id\": 3078986383, \"properties\": {\"amenity\": \"restaurant\", \"cuisine\": \"pizza\"}, \"type\": \"Feature\"}, {\"geometry\": {\"coordinates\": [11.3017357, 43.7646329], \"type\": \"Point\"}, \"id\": 3079029586, \"properties\": {\"amenity\": \"restaurant\", \"cuisine\": \"pizza\", \"name\": \"Orto del Cigno\"}, \"type\": \"Feature\"}, {\"geometry\": {\"coordinates\": [11.3491716, 43.7883913], \"type\": \"Point\"}, \"id\": 3080720895, \"properties\": {\"amenity\": \"restaurant\", \"cuisine\": \"pizza\", \"name\": \"Lago di Romena\", \"website\": \"http://www.lagodiromena.it/ristorante/\"}, \"type\": \"Feature\"}, {\"geometry\": {\"coordinates\": [11.2889611, 43.775026], \"type\": \"Point\"}, \"id\": 3089687799, \"properties\": {\"amenity\": \"restaurant\"}, \"type\": \"Feature\"}, {\"geometry\": {\"coordinates\": [11.2883543, 43.7750395], \"type\": \"Point\"}, \"id\": 3089718409, \"properties\": {\"amenity\": \"restaurant\", \"cuisine\": \"pizza\"}, \"type\": \"Feature\"}, {\"geometry\": {\"coordinates\": [11.2166452, 43.8242643], \"type\": \"Point\"}, \"id\": 3130696453, \"properties\": {\"amenity\": \"restaurant\", \"cuisine\": \"pizza\"}, \"type\": \"Feature\"}, {\"geometry\": {\"coordinates\": [11.2048169, 43.6481814], \"type\": \"Point\"}, \"id\": 3177987109, \"properties\": {\"amenity\": \"restaurant\", \"cuisine\": \"pizza\", \"name\": \"Caratello\"}, \"type\": \"Feature\"}, {\"geometry\": {\"coordinates\": [11.2063858, 43.6485594], \"type\": \"Point\"}, \"id\": 3177987110, \"properties\": {\"amenity\": \"restaurant\", \"cuisine\": \"italian\", \"name\": \"Il gallo giallo\"}, \"type\": \"Feature\"}, {\"geometry\": {\"coordinates\": [11.2522041, 43.780718], \"type\": \"Point\"}, \"id\": 3200104065, \"properties\": {\"amenity\": \"restaurant\", \"cuisine\": \"sushi\", \"name\": \"Sushi Mania\"}, \"type\": \"Feature\"}, {\"geometry\": {\"coordinates\": [11.2527623, 43.7814246], \"type\": \"Point\"}, \"id\": 3200104076, \"properties\": {\"amenity\": \"restaurant\", \"cuisine\": \"italian;pizza\"}, \"type\": \"Feature\"}, {\"geometry\": {\"coordinates\": [11.215597, 43.8521988], \"type\": \"Point\"}, \"id\": 3205237923, \"properties\": {\"amenity\": \"restaurant\", \"cuisine\": \"italian\", \"name\": \"Ulivo Rosso\", \"phone\": \"+39 055 4481890\"}, \"type\": \"Feature\"}, {\"geometry\": {\"coordinates\": [11.0330975, 43.7294634], \"type\": \"Point\"}, \"id\": 3238294044, \"properties\": {\"addr:city\": \"Montelupo Fiorentino\", \"addr:housenumber\": \"12\", \"addr:postcode\": \"50056\", \"addr:street\": \"via Malmantile\", \"amenity\": \"restaurant\", \"capacity\": \"12\", \"cuisine\": \"italian\", \"name\": \"Agriturismo Il Cavallone\", \"phone\": \"+39057151605 +393358290414\", \"smoking\": \"outside\", \"website\": \"www.ilcavallone.it\", \"wheelchair\": \"yes\"}, \"type\": \"Feature\"}, {\"geometry\": {\"coordinates\": [11.0740018, 43.8003003], \"type\": \"Point\"}, \"id\": 3257320370, \"properties\": {\"addr:city\": \"Signa\", \"addr:country\": \"IT\", \"addr:housenumber\": \"2\", \"addr:postcode\": \"50038\", \"addr:street\": \"Via San Filippo\", \"amenity\": \"restaurant\", \"name\": \"Pizzeria La Tinaia\", \"phone\": \"+39 055 875746\"}, \"type\": \"Feature\"}, {\"geometry\": {\"coordinates\": [11.1720469, 43.8607534], \"type\": \"Point\"}, \"id\": 3379783274, \"properties\": {\"amenity\": \"restaurant\", \"cuisine\": \"pizza\"}, \"type\": \"Feature\"}, {\"geometry\": {\"coordinates\": [11.4367027, 43.627224], \"type\": \"Point\"}, \"id\": 3388907707, \"properties\": {\"addr:housenumber\": \"52\", \"addr:street\": \"Via San Martino Altoreggi\", \"amenity\": \"restaurant\", \"cuisine\": \"italian;regional\", \"email\": \"locanda@casanuova-toscana.it\", \"internet_access\": \"wlan\", \"internet_access:fee\": \"no\", \"name\": \"Locanda Casanuova\", \"operator\": \"Gromann-Besancon\", \"phone\": \"+39 055 9500027\", \"tourism\": \"hotel\", \"website\": \"www.casanuova-toscana.it\", \"wheelchair\": \"no\"}, \"type\": \"Feature\"}, {\"geometry\": {\"coordinates\": [11.2564304, 43.7770682], \"type\": \"Point\"}, \"id\": 3442442555, \"properties\": {\"addr:housenumber\": \"24/R\", \"addr:street\": \"Via Guelfa\", \"amenity\": \"restaurant\", \"name\": \"Mangiafuoco\"}, \"type\": \"Feature\"}, {\"geometry\": {\"coordinates\": [11.247854, 43.773821], \"type\": \"Point\"}, \"id\": 3458190493, \"properties\": {\"addr:city\": \"Firenze\", \"addr:country\": \"IT\", \"addr:housenumber\": \"17R\", \"addr:postcode\": \"50123\", \"addr:province\": \"Toscana\", \"addr:street\": \"Via Della Scala\", \"amenity\": \"restaurant\", \"cuisine\": \"italian\", \"drive_in\": \"no\", \"email\": \"info@osteriapastella.it\", \"microbrewery\": \"no\", \"name\": \"Osteria Pastella\", \"phone\": \"+39 55 2670240\", \"website\": \"www.osteriapastella.it\"}, \"type\": \"Feature\"}, {\"geometry\": {\"coordinates\": [11.0439782, 43.548897], \"type\": \"Point\"}, \"id\": 3501640383, \"properties\": {\"amenity\": \"restaurant\", \"name\": \"A Casa Tua\"}, \"type\": \"Feature\"}, {\"geometry\": {\"coordinates\": [11.0439199, 43.5485675], \"type\": \"Point\"}, \"id\": 3501640385, \"properties\": {\"amenity\": \"restaurant\", \"name\": \"Da Messer Boccaccio\"}, \"type\": \"Feature\"}, {\"geometry\": {\"coordinates\": [11.0437953, 43.5487912], \"type\": \"Point\"}, \"id\": 3501640386, \"properties\": {\"addr:housenumber\": \"37\", \"addr:street\": \"Via Giovanni Boccaccio\", \"amenity\": \"restaurant\", \"name\": \"Enoteca Boccaccio\"}, \"type\": \"Feature\"}, {\"geometry\": {\"coordinates\": [11.0431626, 43.5486906], \"type\": \"Point\"}, \"id\": 3501640387, \"properties\": {\"amenity\": \"restaurant\", \"cuisine\": \"local\", \"name\": \"Il Castello\"}, \"type\": \"Feature\"}, {\"geometry\": {\"coordinates\": [11.0453987, 43.5492473], \"type\": \"Point\"}, \"id\": 3517247443, \"properties\": {\"amenity\": \"restaurant\", \"cuisine\": \"regional\", \"name\": \"Osteria da Chichibio\"}, \"type\": \"Feature\"}, {\"geometry\": {\"coordinates\": [11.2540675, 43.7688023], \"type\": \"Point\"}, \"id\": 3519954905, \"properties\": {\"amenity\": \"restaurant\"}, \"type\": \"Feature\"}, {\"geometry\": {\"coordinates\": [11.2541896, 43.7689466], \"type\": \"Point\"}, \"id\": 3519954907, \"properties\": {\"amenity\": \"restaurant\", \"name\": \"Mangia Pizza\"}, \"type\": \"Feature\"}, {\"geometry\": {\"coordinates\": [11.2548244, 43.7685958], \"type\": \"Point\"}, \"id\": 3519958952, \"properties\": {\"amenity\": \"restaurant\", \"name\": \"Trattoria Antico Fattore\"}, \"type\": \"Feature\"}, {\"geometry\": {\"coordinates\": [11.2597313, 43.7757869], \"type\": \"Point\"}, \"id\": 3519958953, \"properties\": {\"amenity\": \"restaurant\"}, \"type\": \"Feature\"}, {\"geometry\": {\"coordinates\": [11.2538435, 43.7686123], \"type\": \"Point\"}, \"id\": 3519960200, \"properties\": {\"amenity\": \"restaurant\", \"name\": \"Enoteca Salumeria Lombardi\", \"opening_hours\": \"Mo-Su 09:00-23:00\", \"website\": \"www.enoteca-lombardi.com\"}, \"type\": \"Feature\"}, {\"geometry\": {\"coordinates\": [11.2646673, 43.7701831], \"type\": \"Point\"}, \"id\": 3527079735, \"properties\": {\"addr:housenumber\": \"50R\", \"addr:postcode\": \"50122\", \"addr:street\": \"Borgo Allegri\", \"amenity\": \"restaurant\", \"cuisine\": \"pizza\", \"email\": \"divina@ladivinapizza.it\", \"name\": \"La Divina Pizza\", \"phone\": \"+39 055 2347498\"}, \"type\": \"Feature\"}, {\"geometry\": {\"coordinates\": [11.2468004, 43.803787], \"type\": \"Point\"}, \"id\": 3574028793, \"properties\": {\"amenity\": \"restaurant\"}, \"type\": \"Feature\"}, {\"geometry\": {\"coordinates\": [11.1699248, 43.8539652], \"type\": \"Point\"}, \"id\": 3583534123, \"properties\": {\"addr:city\": \"Calenzano\", \"addr:housenumber\": \"59\", \"addr:postcode\": \"50041\", \"addr:street\": \"Via Arsiero Salvanti\", \"amenity\": \"restaurant\", \"capacity\": \"100\", \"cuisine\": \"pizza\", \"name\": \"Stargate Lasergame\", \"phone\": \"+39 331 7199516\", \"smoking\": \"no\", \"takeaway\": \"no\", \"website\": \"www.lasergamefirenze.it\", \"wheelchair\": \"yes\"}, \"type\": \"Feature\"}, {\"geometry\": {\"coordinates\": [11.2549636, 43.774414], \"type\": \"Point\"}, \"id\": 3586771042, \"properties\": {\"addr:city\": \"Firenze\", \"addr:housenumber\": \"24\", \"addr:postcode\": \"50123\", \"addr:street\": \"Borgo San Lorenzo\", \"amenity\": \"restaurant\", \"cuisine\": \"italian\", \"name\": \"il Grande Nuti\", \"website\": \"http://www.ristorantenuti.com/\"}, \"type\": \"Feature\"}, {\"geometry\": {\"coordinates\": [11.2487936, 43.7654884], \"type\": \"Point\"}, \"id\": 3642842766, \"properties\": {\"amenity\": \"restaurant\", \"name\": \"Gelateria Pitti\"}, \"type\": \"Feature\"}, {\"geometry\": {\"coordinates\": [11.2555156, 43.7758698], \"type\": \"Point\"}, \"id\": 3685222279, \"properties\": {\"addr:city\": \"Firenze\", \"addr:housenumber\": \"8\", \"addr:postcode\": \"50123\", \"addr:street\": \"Via dei Ginori\", \"amenity\": \"restaurant\", \"cuisine\": \"international\", \"name\": \"La Menagere\", \"phone\": \"+39 055 0750600\", \"website\": \"http://www.lamenagere.it\"}, \"type\": \"Feature\"}, {\"geometry\": {\"coordinates\": [11.2569679, 43.7701399], \"type\": \"Point\"}, \"id\": 3698860539, \"properties\": {\"amenity\": \"restaurant\", \"name\": \"Il Mandarino\", \"name:cn\": \"\\u6c49\\u5bab\\u996d\\u5e97\"}, \"type\": \"Feature\"}, {\"geometry\": {\"coordinates\": [11.1999731, 43.8313523], \"type\": \"Point\"}, \"id\": 3747389756, \"properties\": {\"addr:city\": \"Sesto Fiorentino\", \"addr:housenumber\": \"5\", \"addr:postcode\": \"50019\", \"addr:street\": \"Via del Mercato\", \"amenity\": \"restaurant\", \"cuisine\": \"pizza,_regional\", \"name\": \"Sesto Senso\", \"phone\": \"+39 055 4480247\", \"website\": \"http://www.ristorantesestosenso.com/\"}, \"type\": \"Feature\"}, {\"geometry\": {\"coordinates\": [11.201087, 43.8337027], \"type\": \"Point\"}, \"id\": 3755634980, \"properties\": {\"addr:city\": \"Sesto Fiorentino\", \"addr:housenumber\": \"393\", \"addr:postcode\": \"50019\", \"addr:street\": \"Via Antonio Gramsci\", \"amenity\": \"restaurant\", \"cuisine\": \"regional,_pizza\", \"name\": \"Ristorante Pizzeria Grotta\", \"phone\": \"+39 055 4480843\", \"website\": \"http://www.ristorantepizzeriagrotta.it/\"}, \"type\": \"Feature\"}, {\"geometry\": {\"coordinates\": [11.2013136, 43.8310231], \"type\": \"Point\"}, \"id\": 3755658917, \"properties\": {\"addr:city\": \"Sesto Fiorentino\", \"addr:housenumber\": \"12\", \"addr:postcode\": \"50019\", \"addr:street\": \"Piazza Spartaco Lavagnini\", \"amenity\": \"restaurant\", \"cuisine\": \"regional\", \"name\": \"I'Quartino\", \"phone\": \"+39 055 440650\"}, \"type\": \"Feature\"}, {\"geometry\": {\"coordinates\": [11.199648, 43.8313962], \"type\": \"Point\"}, \"id\": 3765753035, \"properties\": {\"addr:city\": \"Sesto Fiorentino\", \"addr:housenumber\": \"29\", \"addr:postcode\": \"50019\", \"addr:street\": \"Piazza Vittorio Veneto\", \"amenity\": \"restaurant\", \"cuisine\": \"pizza\", \"name\": \"Sesto Pub\", \"website\": \"https://www.facebook.com/Sesto-Pub-408415132563727/timeline/\"}, \"type\": \"Feature\"}, {\"geometry\": {\"coordinates\": [11.1901878, 43.8397014], \"type\": \"Point\"}, \"id\": 3765769642, \"properties\": {\"addr:city\": \"Sesto Fiorentino\", \"addr:housenumber\": \"54\", \"addr:postcode\": \"50019\", \"addr:street\": \"Via Pratese\", \"amenity\": \"restaurant\", \"cuisine\": \"pizza\", \"name\": \"Ristorante Bar Pizzeria Sarzolo Turano Snc Di Turano Raffaele & C.\"}, \"type\": \"Feature\"}, {\"geometry\": {\"coordinates\": [11.1958608, 43.7988055], \"type\": \"Point\"}, \"id\": 3815877030, \"properties\": {\"amenity\": \"restaurant\", \"cuisine\": \"chinese\"}, \"type\": \"Feature\"}, {\"geometry\": {\"coordinates\": [11.322898, 43.7834055], \"type\": \"Point\"}, \"id\": 3845195818, \"properties\": {\"amenity\": \"restaurant\", \"cuisine\": \"italian\", \"name\": \"La Sosta del Rossellino\"}, \"type\": \"Feature\"}, {\"geometry\": {\"coordinates\": [11.3221695, 43.7833167], \"type\": \"Point\"}, \"id\": 3845199904, \"properties\": {\"amenity\": \"restaurant\", \"cuisine\": \"italian\", \"name\": \"La Capponcina di Settignano\"}, \"type\": \"Feature\"}, {\"geometry\": {\"coordinates\": [11.3014061, 43.8077045], \"type\": \"Point\"}, \"id\": 3845215630, \"properties\": {\"amenity\": \"restaurant\", \"name\": \"Pizzaria circolo ARCI di Fiesole\"}, \"type\": \"Feature\"}, {\"geometry\": {\"coordinates\": [11.2400353, 43.7707178], \"type\": \"Point\"}, \"id\": 3847914472, \"properties\": {\"addr:city\": \"Firenze\", \"addr:housenumber\": \"2 R\", \"addr:postcode\": \"50143\", \"addr:street\": \"Via Pisana\", \"amenity\": \"restaurant\", \"capacity\": \"70\", \"cuisine\": \"regional\", \"name\": \"Trattoria Sabatino\", \"opening_hours\": \"dal Luned\\u00ed al venerd\\u00ed  dalle 12:00 alle 14:30 e dalle 19:15 alle 22:00\", \"phone\": \"+39 055 22 59 55\", \"takeaway\": \"no\", \"website\": \"http://www.trattoriasabatino.it/\"}, \"type\": \"Feature\"}, {\"geometry\": {\"coordinates\": [11.2516753, 43.771882], \"type\": \"Point\"}, \"id\": 3851961305, \"properties\": {\"amenity\": \"restaurant\", \"name\": \"Obic\\u00e0\"}, \"type\": \"Feature\"}, {\"geometry\": {\"coordinates\": [11.2544982, 43.7765312], \"type\": \"Point\"}, \"id\": 3909378477, \"properties\": {\"addr:housenumber\": \"26\", \"addr:postcode\": \"50123\", \"addr:street\": \"Piazza del Mercato Centrale\", \"amenity\": \"restaurant\", \"cuisine\": \"italian;mediterranean;vegetarian;vegan;italian_pizza\", \"email\": \"info@trattoriazaza.it\", \"internet_access\": \"wlan\", \"name\": \"Trattoria Za-Za\", \"name:zh\": \"\\u624e\\u624e\\u725b\\u6392 Trattoria Z\\u00e0Z\\u00e0\", \"opening_hours\": \"Mo-Su 11:00-23:00\", \"phone\": \"+39 055 215411\", \"website\": \"http://www.trattoriazaza.it/\"}, \"type\": \"Feature\"}, {\"geometry\": {\"coordinates\": [11.2927746, 43.8064851], \"type\": \"Point\"}, \"id\": 3916337380, \"properties\": {\"amenity\": \"restaurant\"}, \"type\": \"Feature\"}, {\"geometry\": {\"coordinates\": [11.2937563, 43.8068742], \"type\": \"Point\"}, \"id\": 3916337627, \"properties\": {\"amenity\": \"restaurant\"}, \"type\": \"Feature\"}, {\"geometry\": {\"coordinates\": [11.1316925, 43.6671171], \"type\": \"Point\"}, \"id\": 3921030564, \"properties\": {\"addr:city\": \"Montespertoli\", \"addr:housenumber\": \"2\", \"addr:street\": \"Via Pian di Pesa\", \"amenity\": \"restaurant\", \"name\": \"Ribalta Pizzeria\", \"website\": \"http://www.ribalta.eu/\"}, \"type\": \"Feature\"}, {\"geometry\": {\"coordinates\": [11.2583875, 43.7698166], \"type\": \"Point\"}, \"id\": 3985028057, \"properties\": {\"addr:housenumber\": \"48/r\", \"addr:street\": \"Via dell'Anguillara\", \"amenity\": \"restaurant\", \"cuisine\": \"sandwich\", \"email\": \"ilbufalotrippone@alice.it\", \"name\": \"Il Bufalo Trippone\", \"opening_hours\": \"Mo-Su 10:00-20:00\", \"operator\": \"Alessandro Cappelli & C. sas\", \"outdoor_seating\": \"no\", \"phone\": \"+39 055 290518\", \"ref:vatin\": \"06221880484\", \"shop\": \"wine;deli\", \"takeaway\": \"yes\", \"website\": \"http://www.ilbufalotrippone.it/\", \"wheelchair\": \"limited\"}, \"type\": \"Feature\"}, {\"geometry\": {\"coordinates\": [11.2580523, 43.7724974], \"type\": \"Point\"}, \"id\": 3999086969, \"properties\": {\"amenity\": \"restaurant\", \"name\": \"Pasticceria Tabbachi\", \"shop\": \"tea\"}, \"type\": \"Feature\"}, {\"geometry\": {\"coordinates\": [11.2549382, 43.772786], \"type\": \"Point\"}, \"id\": 3999086990, \"properties\": {\"amenity\": \"restaurant\", \"name\": \"Move on\", \"name:it\": \"Move on\"}, \"type\": \"Feature\"}, {\"geometry\": {\"coordinates\": [11.254788, 43.7735393], \"type\": \"Point\"}, \"id\": 3999086992, \"properties\": {\"addr:housenumber\": \"24\", \"addr:street\": \"Pza S Giovanni\", \"amenity\": \"restaurant\", \"cuisine\": \"italian_pizza;italian\", \"internet_access\": \"wlan\", \"name\": \"Giotto\", \"name:it\": \"Giotto\"}, \"type\": \"Feature\"}, {\"geometry\": {\"coordinates\": [11.2578994, 43.7701151], \"type\": \"Point\"}, \"id\": 3999092736, \"properties\": {\"amenity\": \"restaurant\", \"internet_access\": \"wlan\", \"name\": \"Caffe' Bistrot\"}, \"type\": \"Feature\"}, {\"geometry\": {\"coordinates\": [11.2579262, 43.7701616], \"type\": \"Point\"}, \"id\": 3999092739, \"properties\": {\"amenity\": \"restaurant\"}, \"type\": \"Feature\"}, {\"geometry\": {\"coordinates\": [11.2502491, 43.7864242], \"type\": \"Point\"}, \"id\": 4010266081, \"properties\": {\"addr:city\": \"Firenze\", \"addr:housenumber\": \"21/A\", \"addr:postcode\": \"50129\", \"addr:street\": \"Via dello Statuto\", \"amenity\": \"restaurant\", \"cuisine\": \"sushi\", \"name\": \"Hokkaido\", \"opening_hours\": \"Tu-Su 12:00-15:00, 19:00-23:30\", \"phone\": \"+39 055 494393\", \"website\": \"http://www.hokkaidosushi.it\"}, \"type\": \"Feature\"}, {\"geometry\": {\"coordinates\": [10.8093601, 43.7326268], \"type\": \"Point\"}, \"id\": 4095960009, \"properties\": {\"amenity\": \"restaurant\", \"cuisine\": \"italian\", \"name\": \"Sapori del Borgo\", \"takeaway\": \"yes\"}, \"type\": \"Feature\"}, {\"geometry\": {\"coordinates\": [11.2662324, 43.7711295], \"type\": \"Point\"}, \"id\": 4115768989, \"properties\": {\"addr:housenumber\": \"113\", \"addr:street\": \"Via dei Macci\", \"amenity\": \"restaurant\", \"cuisine\": \"italian_pizza;italian;pizza\", \"name\": \"Il Pizzaiuolo\", \"opening_hours\": \"Mo-Sa 12:30-14:30,19:30-00:30\", \"phone\": \"+39 055 241171\", \"website\": \"http://www.ilpizzaiuolo.it\"}, \"type\": \"Feature\"}, {\"geometry\": {\"coordinates\": [11.2531394, 43.7763027], \"type\": \"Point\"}, \"id\": 4149881089, \"properties\": {\"addr:housenumber\": \"12R\", \"addr:street\": \"Piazza del Mercato Centrale\", \"amenity\": \"restaurant\", \"cuisine\": \"italian\", \"name\": \"Da Nerbone\", \"name:zh\": \"\\u5185\\u5c14\\u6ce2\\u8089\\u644a\\uff08\\u725b\\u809a\\u5305\\uff09\"}, \"type\": \"Feature\"}, {\"geometry\": {\"coordinates\": [10.9271036, 43.7867237], \"type\": \"Point\"}, \"id\": 4158127190, \"properties\": {\"amenity\": \"restaurant\"}, \"type\": \"Feature\"}, {\"geometry\": {\"coordinates\": [11.0655336, 43.6287221], \"type\": \"Point\"}, \"id\": 4161712248, \"properties\": {\"amenity\": \"restaurant\", \"cuisine\": \"regional\", \"name\": \"Osteria Del Tempo Perso di celeste\"}, \"type\": \"Feature\"}, {\"geometry\": {\"coordinates\": [11.2619946, 43.7719944], \"type\": \"Point\"}, \"id\": 4162418589, \"properties\": {\"addr:housenumber\": \"12/R\", \"addr:street\": \"Borgo Pinti\", \"amenity\": \"restaurant\", \"name\": \"La Giostra\"}, \"type\": \"Feature\"}, {\"geometry\": {\"coordinates\": [11.2486967, 43.7664922], \"type\": \"Point\"}, \"id\": 4181437294, \"properties\": {\"addr:housenumber\": \"46R\", \"addr:postcode\": \"50125\", \"addr:street\": \"Via Maggio\", \"amenity\": \"restaurant\", \"cuisine\": \"italian_pizza;vegan;vegetarian\", \"name\": \"gusta pizza\", \"name:en\": \"Gustapizza\", \"name:it\": \"Gustapizza\", \"opening_hours\": \"Tu-Su 11:00-15:30, 19:00-23:30\", \"phone\": \"+39055285068\", \"website\": \"http://facebook.com/GustapizzaFirenze\"}, \"type\": \"Feature\"}, {\"geometry\": {\"coordinates\": [11.2482556, 43.7767264], \"type\": \"Point\"}, \"id\": 4185819895, \"properties\": {\"amenity\": \"restaurant\", \"name\": \"Mc Cafe\"}, \"type\": \"Feature\"}, {\"geometry\": {\"coordinates\": [11.2629866, 43.7742872], \"type\": \"Point\"}, \"id\": 4189952005, \"properties\": {\"addr:housenumber\": \"26r\", \"addr:street\": \"Via degli Alfani\", \"amenity\": \"restaurant\", \"cuisine\": \"chinese\", \"internet_access\": \"wlan\", \"name\": \"Ristorante cinese Xing Wang\", \"opening_hours\": \"Mo-Su 11:00-22:30\", \"phone\": \"+39 055 2639182\"}, \"type\": \"Feature\"}, {\"geometry\": {\"coordinates\": [11.2618052, 43.7635952], \"type\": \"Point\"}, \"id\": 4197487307, \"properties\": {\"amenity\": \"restaurant\", \"cuisine\": \"italian\", \"name\": \"Trattoria di San Niccolo\", \"outdoor_seating\": \"yes\"}, \"type\": \"Feature\"}, {\"geometry\": {\"coordinates\": [11.2573304, 43.773572], \"type\": \"Point\"}, \"id\": 4219549828, \"properties\": {\"amenity\": \"restaurant\", \"name\": \"Le Botteghe di Donatello\"}, \"type\": \"Feature\"}, {\"geometry\": {\"coordinates\": [11.2581212, 43.7725018], \"type\": \"Point\"}, \"id\": 4219549830, \"properties\": {\"amenity\": \"restaurant\", \"name\": \"Lo Scudo\"}, \"type\": \"Feature\"}, {\"geometry\": {\"coordinates\": [11.2578193, 43.7716397], \"type\": \"Point\"}, \"id\": 4219549831, \"properties\": {\"amenity\": \"restaurant\", \"name\": \"Trattoria Le Mossacce\"}, \"type\": \"Feature\"}, {\"geometry\": {\"coordinates\": [11.2594477, 43.7679522], \"type\": \"Point\"}, \"id\": 4220279019, \"properties\": {\"amenity\": \"restaurant\", \"name\": \"El Chico\"}, \"type\": \"Feature\"}, {\"geometry\": {\"coordinates\": [11.2610724, 43.7695127], \"type\": \"Point\"}, \"id\": 4220279020, \"properties\": {\"amenity\": \"restaurant\", \"name\": \"La Schaccia Vino\"}, \"type\": \"Feature\"}, {\"geometry\": {\"coordinates\": [11.2609601, 43.769618], \"type\": \"Point\"}, \"id\": 4220279021, \"properties\": {\"amenity\": \"restaurant\", \"name\": \"Osteria D\\u00e9 Pazzi\"}, \"type\": \"Feature\"}, {\"geometry\": {\"coordinates\": [11.2580259, 43.7686677], \"type\": \"Point\"}, \"id\": 4220279179, \"properties\": {\"amenity\": \"restaurant\", \"name\": \"Trattoria Anita\"}, \"type\": \"Feature\"}, {\"geometry\": {\"coordinates\": [11.2587906, 43.7679994], \"type\": \"Point\"}, \"id\": 4220279180, \"properties\": {\"amenity\": \"restaurant\", \"name\": \"Lambel\\u00ea Bistro\"}, \"type\": \"Feature\"}, {\"geometry\": {\"coordinates\": [11.2612205, 43.7697164], \"type\": \"Point\"}, \"id\": 4220279182, \"properties\": {\"amenity\": \"restaurant\", \"cuisine\": \"regional\", \"name\": \"La Maremma\"}, \"type\": \"Feature\"}, {\"geometry\": {\"coordinates\": [11.2358385, 43.7816902], \"type\": \"Point\"}, \"id\": 4221402590, \"properties\": {\"amenity\": \"restaurant\", \"name\": \"Osteria de' Golosi\"}, \"type\": \"Feature\"}, {\"geometry\": {\"coordinates\": [11.2387367, 43.7790921], \"type\": \"Point\"}, \"id\": 4221448392, \"properties\": {\"amenity\": \"restaurant\", \"name\": \"I'Ripiglino\"}, \"type\": \"Feature\"}, {\"geometry\": {\"coordinates\": [11.2373686, 43.7802945], \"type\": \"Point\"}, \"id\": 4221476089, \"properties\": {\"amenity\": \"restaurant\", \"name\": \"Mqchupiccho\"}, \"type\": \"Feature\"}, {\"geometry\": {\"coordinates\": [11.2311797, 43.7843858], \"type\": \"Point\"}, \"id\": 4222559892, \"properties\": {\"amenity\": \"restaurant\", \"name\": \"La Tortuga\", \"restaurant:type:it\": \"ristorante;pizzeria\"}, \"type\": \"Feature\"}, {\"geometry\": {\"coordinates\": [11.2344423, 43.7825048], \"type\": \"Point\"}, \"id\": 4222561391, \"properties\": {\"amenity\": \"restaurant\", \"name\": \"El tesoro del Peru \"}, \"type\": \"Feature\"}, {\"geometry\": {\"coordinates\": [11.2341877, 43.7828612], \"type\": \"Point\"}, \"id\": 4222580789, \"properties\": {\"amenity\": \"restaurant\", \"name\": \"Norky \"}, \"type\": \"Feature\"}, {\"geometry\": {\"coordinates\": [11.2547226, 43.7738206], \"type\": \"Point\"}, \"id\": 4222798622, \"properties\": {\"amenity\": \"restaurant\", \"name\": \"La Cantinetta\"}, \"type\": \"Feature\"}, {\"geometry\": {\"coordinates\": [11.2568331, 43.7699906], \"type\": \"Point\"}, \"id\": 4222798626, \"properties\": {\"amenity\": \"restaurant\", \"name\": \"Dei Frescobaldi\"}, \"type\": \"Feature\"}, {\"geometry\": {\"coordinates\": [11.2538385, 43.7684372], \"type\": \"Point\"}, \"id\": 4222799744, \"properties\": {\"amenity\": \"restaurant\", \"name\": \"Caff\\u00e9 della Carrozze\"}, \"type\": \"Feature\"}, {\"geometry\": {\"coordinates\": [11.2525084, 43.7672469], \"type\": \"Point\"}, \"id\": 4222799745, \"properties\": {\"amenity\": \"restaurant\", \"name\": \"Pizzeria Franco\"}, \"type\": \"Feature\"}, {\"geometry\": {\"coordinates\": [11.2548073, 43.7742575], \"type\": \"Point\"}, \"id\": 4222799748, \"properties\": {\"amenity\": \"restaurant\", \"name\": \"Giannino in San Lorenzimo\"}, \"type\": \"Feature\"}, {\"geometry\": {\"coordinates\": [11.2547741, 43.774178], \"type\": \"Point\"}, \"id\": 4222799753, \"properties\": {\"amenity\": \"restaurant\", \"name\": \"Da i Matti\"}, \"type\": \"Feature\"}, {\"geometry\": {\"coordinates\": [11.2548508, 43.774051], \"type\": \"Point\"}, \"id\": 4222800055, \"properties\": {\"amenity\": \"restaurant\", \"name\": \"Osteria dell'Agnolo\"}, \"type\": \"Feature\"}, {\"geometry\": {\"coordinates\": [11.2565315, 43.7704787], \"type\": \"Point\"}, \"id\": 4222800058, \"properties\": {\"amenity\": \"restaurant\", \"name\": \"Divina Commedia\"}, \"type\": \"Feature\"}, {\"geometry\": {\"coordinates\": [11.2581116, 43.76804], \"type\": \"Point\"}, \"id\": 4222800213, \"properties\": {\"amenity\": \"restaurant\", \"fixme\": \"posizione\", \"name\": \"Trattoria da Benvenuto\"}, \"type\": \"Feature\"}, {\"geometry\": {\"coordinates\": [11.2610323, 43.7687165], \"type\": \"Point\"}, \"id\": 4224393619, \"properties\": {\"amenity\": \"restaurant\", \"name\": \"Boccadama\"}, \"type\": \"Feature\"}, {\"geometry\": {\"coordinates\": [11.2611716, 43.769287], \"type\": \"Point\"}, \"id\": 4224393620, \"properties\": {\"amenity\": \"restaurant\", \"name\": \"Dondino\"}, \"type\": \"Feature\"}, {\"geometry\": {\"coordinates\": [11.2611373, 43.769602], \"type\": \"Point\"}, \"id\": 4224393622, \"properties\": {\"amenity\": \"restaurant\", \"name\": \"Marina\"}, \"type\": \"Feature\"}, {\"geometry\": {\"coordinates\": [11.2607432, 43.7704364], \"type\": \"Point\"}, \"id\": 4224393625, \"properties\": {\"amenity\": \"restaurant\", \"name\": \"7 Secoli\"}, \"type\": \"Feature\"}, {\"geometry\": {\"coordinates\": [11.2601057, 43.770481], \"type\": \"Point\"}, \"id\": 4224393627, \"properties\": {\"amenity\": \"restaurant\", \"name\": \"Tijuana\"}, \"type\": \"Feature\"}, {\"geometry\": {\"coordinates\": [11.2589804, 43.7705921], \"type\": \"Point\"}, \"id\": 4224393629, \"properties\": {\"amenity\": \"restaurant\", \"name\": \"Rubaconte\"}, \"type\": \"Feature\"}, {\"geometry\": {\"coordinates\": [11.2580483, 43.7692736], \"type\": \"Point\"}, \"id\": 4224395297, \"properties\": {\"amenity\": \"restaurant\", \"name\": \"Il Bargello\"}, \"type\": \"Feature\"}, {\"geometry\": {\"coordinates\": [11.2611268, 43.7703688], \"type\": \"Point\"}, \"id\": 4224395392, \"properties\": {\"amenity\": \"restaurant\", \"name\": \"Il Teatro\"}, \"type\": \"Feature\"}, {\"geometry\": {\"coordinates\": [11.2545951, 43.7765665], \"type\": \"Point\"}, \"id\": 4225563366, \"properties\": {\"amenity\": \"restaurant\", \"name\": \"Osteria Pep\\u00f2\"}, \"type\": \"Feature\"}, {\"geometry\": {\"coordinates\": [11.2536912, 43.776431], \"type\": \"Point\"}, \"id\": 4225563500, \"properties\": {\"amenity\": \"restaurant\", \"name\": \"Pork's\"}, \"type\": \"Feature\"}, {\"geometry\": {\"coordinates\": [11.257658, 43.7676809], \"type\": \"Point\"}, \"id\": 4227367056, \"properties\": {\"amenity\": \"restaurant\", \"cuisine\": \"venezuelian\", \"name\": \"L'Areperia\"}, \"type\": \"Feature\"}, {\"geometry\": {\"coordinates\": [11.2573573, 43.7735537], \"type\": \"Point\"}, \"id\": 4227367066, \"properties\": {\"amenity\": \"restaurant\", \"name\": \"Le Botteghe di Donatello\"}, \"type\": \"Feature\"}, {\"geometry\": {\"coordinates\": [11.2560836, 43.7736708], \"type\": \"Point\"}, \"id\": 4227367203, \"properties\": {\"amenity\": \"restaurant\", \"name\": \"Buca Niccolini\"}, \"type\": \"Feature\"}, {\"geometry\": {\"coordinates\": [11.2591656, 43.7673801], \"type\": \"Point\"}, \"id\": 4227367345, \"properties\": {\"amenity\": \"restaurant\", \"name\": \"La Buchetta\"}, \"type\": \"Feature\"}, {\"geometry\": {\"coordinates\": [11.2560699, 43.7722323], \"type\": \"Point\"}, \"id\": 4227367500, \"properties\": {\"amenity\": \"restaurant\", \"name\": \"La Repubblica\"}, \"type\": \"Feature\"}, {\"geometry\": {\"coordinates\": [11.2501925, 43.7737241], \"type\": \"Point\"}, \"id\": 4229009726, \"properties\": {\"amenity\": \"restaurant\", \"name\": \"Grillo\"}, \"type\": \"Feature\"}, {\"geometry\": {\"coordinates\": [11.2501212, 43.7739532], \"type\": \"Point\"}, \"id\": 4229011142, \"properties\": {\"amenity\": \"restaurant\", \"name\": \"Vincanto\"}, \"type\": \"Feature\"}, {\"geometry\": {\"coordinates\": [11.2523968, 43.770251], \"type\": \"Point\"}, \"id\": 4229011146, \"properties\": {\"amenity\": \"restaurant\", \"name\": \"La Bussola\"}, \"type\": \"Feature\"}, {\"geometry\": {\"coordinates\": [11.2533243, 43.7701585], \"type\": \"Point\"}, \"id\": 4229011147, \"properties\": {\"amenity\": \"restaurant\", \"name\": \"La Grotta Guelfa\"}, \"type\": \"Feature\"}, {\"geometry\": {\"coordinates\": [11.2599613, 43.7701946], \"type\": \"Point\"}, \"id\": 4229013408, \"properties\": {\"amenity\": \"restaurant\", \"name\": \"Ar\\u00e0 \\u00c8 Sud\"}, \"type\": \"Feature\"}, {\"geometry\": {\"coordinates\": [11.2587897, 43.7702289], \"type\": \"Point\"}, \"id\": 4229013409, \"properties\": {\"addr:housenumber\": \"40/r\", \"addr:postcode\": \"50122\", \"addr:street\": \"Via della Vigna Vecchia\", \"amenity\": \"restaurant\", \"name\": \"Acqua al 2\", \"opening_hours\": \"Tu-Su 12:30-15:00, 19:00-01:00; Mo 19:00-01:00\", \"phone\": \"+39055284170\"}, \"type\": \"Feature\"}, {\"geometry\": {\"coordinates\": [11.2513572, 43.7734148], \"type\": \"Point\"}, \"id\": 4229013801, \"properties\": {\"amenity\": \"restaurant\", \"name\": \"Alla Griglia\"}, \"type\": \"Feature\"}, {\"geometry\": {\"coordinates\": [11.2521227, 43.7702891], \"type\": \"Point\"}, \"id\": 4229013804, \"properties\": {\"amenity\": \"restaurant\", \"name\": \"Enoteca Montecristo\"}, \"type\": \"Feature\"}, {\"geometry\": {\"coordinates\": [11.2536974, 43.7699705], \"type\": \"Point\"}, \"id\": 4229013806, \"properties\": {\"amenity\": \"restaurant\", \"name\": \"Osteria del Porcellino\"}, \"type\": \"Feature\"}, {\"geometry\": {\"coordinates\": [11.2627118, 43.7700377], \"type\": \"Point\"}, \"id\": 4229013809, \"properties\": {\"amenity\": \"restaurant\", \"name\": \"Salamanca\"}, \"type\": \"Feature\"}, {\"geometry\": {\"coordinates\": [11.2603014, 43.7701582], \"type\": \"Point\"}, \"id\": 4229013811, \"properties\": {\"amenity\": \"restaurant\", \"name\": \"Caff\\u00e8 Italiano\"}, \"type\": \"Feature\"}, {\"geometry\": {\"coordinates\": [11.1425896, 43.78597], \"type\": \"Point\"}, \"id\": 4230175039, \"properties\": {\"amenity\": \"restaurant\", \"cuisine\": \"regional\", \"name\": \"Trattoria Angiolino\"}, \"type\": \"Feature\"}, {\"geometry\": {\"coordinates\": [11.2607108, 43.7706092], \"type\": \"Point\"}, \"id\": 4231003140, \"properties\": {\"amenity\": \"restaurant\", \"name\": \"Sushinami\"}, \"type\": \"Feature\"}, {\"geometry\": {\"coordinates\": [11.2611753, 43.7709272], \"type\": \"Point\"}, \"id\": 4231005800, \"properties\": {\"amenity\": \"restaurant\", \"name\": \"Gastone\"}, \"type\": \"Feature\"}, {\"geometry\": {\"coordinates\": [11.2561789, 43.7712532], \"type\": \"Point\"}, \"id\": 4231007163, \"properties\": {\"amenity\": \"restaurant\", \"name\": \"Antico Barile\"}, \"type\": \"Feature\"}, {\"geometry\": {\"coordinates\": [11.2562114, 43.7708468], \"type\": \"Point\"}, \"id\": 4231007164, \"properties\": {\"amenity\": \"restaurant\", \"name\": \"Birreria Centrale\"}, \"type\": \"Feature\"}, {\"geometry\": {\"coordinates\": [11.2579593, 43.7709411], \"type\": \"Point\"}, \"id\": 4231007165, \"properties\": {\"addr:housenumber\": \"16r\", \"addr:postcode\": \"50122\", \"addr:street\": \"Via del Proconsolo\", \"amenity\": \"restaurant\", \"name\": \"Fishing Lab\", \"opening_hours\": \"Mo-Su 10:00-00:00\", \"phone\": \"+39055240618\", \"website\": \"http://www.fishinglab.it\"}, \"type\": \"Feature\"}, {\"geometry\": {\"coordinates\": [11.333306, 44.0165553], \"type\": \"Point\"}, \"id\": 4234621210, \"properties\": {\"amenity\": \"restaurant\", \"name\": \"casa\"}, \"type\": \"Feature\"}, {\"geometry\": {\"coordinates\": [11.2447072, 43.7667663], \"type\": \"Point\"}, \"id\": 4241554591, \"properties\": {\"amenity\": \"restaurant\", \"name\": \"Trattoria\"}, \"type\": \"Feature\"}, {\"geometry\": {\"coordinates\": [11.2671092, 43.7706631], \"type\": \"Point\"}, \"id\": 4251494590, \"properties\": {\"addr:street\": \"Piazza Sant'Ambrogio\", \"amenity\": \"restaurant\", \"name\": \"Trattoria da Rocco\"}, \"type\": \"Feature\"}, {\"geometry\": {\"coordinates\": [11.2596476, 43.775788], \"type\": \"Point\"}, \"id\": 4251703889, \"properties\": {\"addr:housenumber\": \"91\", \"addr:street\": \"Via degli Alfani\", \"amenity\": \"restaurant\", \"cuisine\": \"mediterranean;italian\", \"name\": \"Osteria de L'Ortolano\"}, \"type\": \"Feature\"}, {\"geometry\": {\"coordinates\": [11.2587609, 43.7652194], \"type\": \"Point\"}, \"id\": 4251733991, \"properties\": {\"addr:housenumber\": \"16\", \"addr:street\": \"Via dei Renai\", \"amenity\": \"restaurant\", \"internet_access\": \"wlan\", \"name\": \"I Tarocchi\"}, \"type\": \"Feature\"}, {\"geometry\": {\"coordinates\": [11.274589, 43.7702531], \"type\": \"Point\"}, \"id\": 4252850291, \"properties\": {\"addr:housenumber\": \"81\", \"addr:street\": \"Via Vincenzo Gioberti\", \"amenity\": \"restaurant\", \"name\": \"Il Barrino\"}, \"type\": \"Feature\"}, {\"geometry\": {\"coordinates\": [11.2781322, 43.7699834], \"type\": \"Point\"}, \"id\": 4252850791, \"properties\": {\"addr:housenumber\": \"32A\", \"addr:street\": \"Via Vincenzo Gioberti\", \"amenity\": \"restaurant\", \"name\": \"Cento Canti\"}, \"type\": \"Feature\"}, {\"geometry\": {\"coordinates\": [11.2530758, 43.772633], \"type\": \"Point\"}, \"id\": 4258544090, \"properties\": {\"addr:housenumber\": \"11\", \"addr:street\": \"Via dei Pecori\", \"amenity\": \"restaurant\", \"name\": \"Ristorante self-service Leonardo\", \"name:ru\": \"\\u0441\\u0442\\u043e\\u043b\\u043e\\u0432\\u043a\\u0430\"}, \"type\": \"Feature\"}, {\"geometry\": {\"coordinates\": [11.2650852, 43.7715111], \"type\": \"Point\"}, \"id\": 4258561102, \"properties\": {\"addr:housenumber\": \"40\", \"addr:street\": \"Via Pietrapiano\", \"amenity\": \"restaurant\", \"description\": \"Restaurant\", \"name\": \"Vagalume Ristorante Tapas Bar\"}, \"type\": \"Feature\"}, {\"geometry\": {\"coordinates\": [11.2579393, 43.7682266], \"type\": \"Point\"}, \"id\": 4261522064, \"properties\": {\"addr:housenumber\": \"50 R\", \"addr:street\": \"Via dei Neri\", \"amenity\": \"restaurant\", \"description\": \"Tripe and lampredotto. Tasty!\", \"name\": \"Club del Gusto, Trippa e Zampa\"}, \"type\": \"Feature\"}, {\"geometry\": {\"coordinates\": [11.1995214, 43.8311955], \"type\": \"Point\"}, \"id\": 4268060383, \"properties\": {\"addr:city\": \"Sesto Fiorentino\", \"addr:housenumber\": \"1\", \"addr:postcode\": \"50015\", \"addr:street\": \"Via Pietro Azzarri\", \"amenity\": \"restaurant\", \"capacity\": \"15\", \"cuisine\": \"hamburger_&_panini\", \"name\": \"Mamma che fame\", \"smoking\": \"no\", \"takeaway\": \"yes\"}, \"type\": \"Feature\"}, {\"geometry\": {\"coordinates\": [11.2447723, 43.7667185], \"type\": \"Point\"}, \"id\": 4274476657, \"properties\": {\"addr:housenumber\": \"47R\", \"addr:street\": \"Via Dell'Ardiglione\", \"amenity\": \"restaurant\", \"name\": \"Osteria Dell'Ardiglione\"}, \"type\": \"Feature\"}, {\"geometry\": {\"coordinates\": [11.2676428, 43.7713284], \"type\": \"Point\"}, \"id\": 4279384090, \"properties\": {\"amenity\": \"restaurant\", \"name\": \"Trattoria Il Giova\"}, \"type\": \"Feature\"}, {\"geometry\": {\"coordinates\": [11.3191469, 43.8678929], \"type\": \"Point\"}, \"id\": 4281980224, \"properties\": {\"amenity\": \"restaurant\"}, \"type\": \"Feature\"}, {\"geometry\": {\"coordinates\": [10.9493744, 43.7194589], \"type\": \"Point\"}, \"id\": 4289067489, \"properties\": {\"addr:housenumber\": \"55\", \"addr:street\": \"Piazza della Vittoria\", \"amenity\": \"restaurant\", \"cuisine\": \"burger;italian;vegetarian;local;regional\", \"name\": \"i\\u2019burghero\", \"opening_hours\": \"24/7\"}, \"type\": \"Feature\"}, {\"geometry\": {\"coordinates\": [11.2467843, 43.7665337], \"type\": \"Point\"}, \"id\": 4307399393, \"properties\": {\"addr:housenumber\": \"16\", \"addr:postcode\": \"50125\", \"addr:street\": \"Piazza Santo Spirito\", \"amenity\": \"restaurant\", \"name\": \"Osteria Santo Spirito\", \"opening_hours\": \"Mo-Su 12:00-23:30\", \"phone\": \"+390552382383\", \"website\": \"http://www.osteriasantospirito.it\"}, \"type\": \"Feature\"}, {\"geometry\": {\"coordinates\": [10.9885838, 43.6777484], \"type\": \"Point\"}, \"id\": 4311627497, \"properties\": {\"amenity\": \"restaurant\", \"name\": \"il contadino\"}, \"type\": \"Feature\"}, {\"geometry\": {\"coordinates\": [11.283301, 44.1086383], \"type\": \"Point\"}, \"id\": 4317176550, \"properties\": {\"addr:city\": \"Firenzuola\", \"addr:country\": \"IT\", \"addr:postcode\": \"50033\", \"addr:street\": \"Via Traversa, 454\", \"amenity\": \"restaurant\", \"cuisine\": \"italian\", \"name\": \"Trattoria Bar Bibo\", \"phone\": \"+39 055 815231\"}, \"type\": \"Feature\"}, {\"geometry\": {\"coordinates\": [11.2519613, 43.7772479], \"type\": \"Point\"}, \"id\": 4323022796, \"properties\": {\"amenity\": \"restaurant\", \"fixme\": \"posizione; creato con maps.me\", \"name\": \"Ristorane Le Fonticine1959\"}, \"type\": \"Feature\"}, {\"geometry\": {\"coordinates\": [11.2574485, 43.7725115], \"type\": \"Point\"}, \"id\": 4323022996, \"properties\": {\"amenity\": \"restaurant\", \"fixme\": \"posizione; creato con maps.me\", \"name\": \"Sasso di Dante\"}, \"type\": \"Feature\"}, {\"geometry\": {\"coordinates\": [11.0450489, 43.5486833], \"type\": \"Point\"}, \"id\": 4333722296, \"properties\": {\"amenity\": \"restaurant\", \"name\": \"L'antica fonte\"}, \"type\": \"Feature\"}, {\"geometry\": {\"coordinates\": [11.245927, 43.7675776], \"type\": \"Point\"}, \"id\": 4367458510, \"properties\": {\"amenity\": \"restaurant\", \"name\": \"Trattoria Giovanni\"}, \"type\": \"Feature\"}, {\"geometry\": {\"coordinates\": [11.2152343, 43.7731799], \"type\": \"Point\"}, \"id\": 4368509180, \"properties\": {\"addr:city\": \"Firenze\", \"addr:postcode\": \"50142\", \"addr:street\": \"Viale Francesco Talenti\", \"amenity\": \"restaurant\", \"cuisine\": \"japanese_and_chinese\", \"name\": \"Kazan\"}, \"type\": \"Feature\"}, {\"geometry\": {\"coordinates\": [11.2412022, 44.1431928], \"type\": \"Point\"}, \"id\": 4386938174, \"properties\": {\"amenity\": \"restaurant\", \"name\": \"Ristorante l'Appennino\"}, \"type\": \"Feature\"}, {\"geometry\": {\"coordinates\": [11.2581231, 43.7763376], \"type\": \"Point\"}, \"id\": 4388781843, \"properties\": {\"amenity\": \"restaurant\", \"name\": \"Snack Bar\"}, \"type\": \"Feature\"}, {\"geometry\": {\"coordinates\": [11.2582304, 43.7762817], \"type\": \"Point\"}, \"id\": 4388781846, \"properties\": {\"amenity\": \"restaurant\", \"name\": \"Panini Pizze e Vini\"}, \"type\": \"Feature\"}, {\"geometry\": {\"coordinates\": [11.281396, 44.0776486], \"type\": \"Point\"}, \"id\": 4392651633, \"properties\": {\"amenity\": \"restaurant\", \"description\": \"Bar/Ristorante\", \"name\": \"Albergo\"}, \"type\": \"Feature\"}, {\"geometry\": {\"coordinates\": [11.2584519, 43.7680977], \"type\": \"Point\"}, \"id\": 4393321890, \"properties\": {\"addr:housenumber\": \"32\", \"addr:street\": \"Via dei Neri\", \"amenity\": \"restaurant\", \"cuisine\": \"breakfast;coffee_shop\", \"internet_access\": \"wlan\", \"name\": \"Ditta Artigianale\"}, \"type\": \"Feature\"}, {\"geometry\": {\"coordinates\": [11.2637141, 43.7685362], \"type\": \"Point\"}, \"id\": 4395130943, \"properties\": {\"amenity\": \"restaurant\", \"name\": \"Canto del Ramerino\"}, \"type\": \"Feature\"}, {\"geometry\": {\"coordinates\": [11.3220187, 43.7263263], \"type\": \"Point\"}, \"id\": 4395280994, \"properties\": {\"addr:housenumber\": \"22\", \"addr:postcode\": \"50012\", \"addr:street\": \"Via di Pulicciano\", \"amenity\": \"restaurant\", \"name\": \"Osteria Staccia Buratta\", \"name:it\": \"Osteria Staccia Buratta\", \"phone\": \"+39 055 621643\", \"website\": \"https://m.facebook.com/stacciaburatta.osteria/\"}, \"type\": \"Feature\"}, {\"geometry\": {\"coordinates\": [11.2587454, 43.7747864], \"type\": \"Point\"}, \"id\": 4396368291, \"properties\": {\"amenity\": \"restaurant\", \"name\": \"Tavernetta del Battistero\"}, \"type\": \"Feature\"}, {\"geometry\": {\"coordinates\": [11.2555234, 43.7708236], \"type\": \"Point\"}, \"id\": 4397748190, \"properties\": {\"amenity\": \"restaurant\", \"name\": \"Perch\\u00e9 No!\", \"name:it\": \"Perch\\u00e9 No!\"}, \"type\": \"Feature\"}, {\"geometry\": {\"coordinates\": [11.2529321, 43.7668985], \"type\": \"Point\"}, \"id\": 4397916889, \"properties\": {\"amenity\": \"restaurant\"}, \"type\": \"Feature\"}, {\"geometry\": {\"coordinates\": [11.2603787, 43.7702476], \"type\": \"Point\"}, \"id\": 4397916989, \"properties\": {\"amenity\": \"restaurant\"}, \"type\": \"Feature\"}, {\"geometry\": {\"coordinates\": [11.2572659, 43.7806391], \"type\": \"Point\"}, \"id\": 4398944591, \"properties\": {\"amenity\": \"restaurant\", \"name\": \"Taverna del Bronzino\"}, \"type\": \"Feature\"}, {\"geometry\": {\"coordinates\": [11.2514547, 43.7698517], \"type\": \"Point\"}, \"id\": 4402690291, \"properties\": {\"addr:housenumber\": \"66\", \"addr:postcode\": \"50123\", \"addr:street\": \"Via dei Santi Apostoli\", \"amenity\": \"restaurant\", \"name\": \"Le Antiche Carrozze\", \"opening_hours\": \"Mo-Su 12:00-22:30\"}, \"type\": \"Feature\"}, {\"geometry\": {\"coordinates\": [11.3081126, 43.7541073], \"type\": \"Point\"}, \"id\": 4406974992, \"properties\": {\"amenity\": \"restaurant\", \"cuisine\": \"Osteria_Bruciategami\", \"name\": \"Trattoria\"}, \"type\": \"Feature\"}, {\"geometry\": {\"coordinates\": [11.2539506, 43.7669327], \"type\": \"Point\"}, \"id\": 4413326589, \"properties\": {\"amenity\": \"restaurant\", \"name\": \"Le Buchette del Vino\"}, \"type\": \"Feature\"}, {\"geometry\": {\"coordinates\": [11.2409096, 43.7753083], \"type\": \"Point\"}, \"id\": 4420059689, \"properties\": {\"addr:city\": \"Firenze\", \"addr:housenumber\": \"86 R\", \"addr:postcode\": \"50123\", \"addr:street\": \"Via Montebello\", \"amenity\": \"restaurant\", \"name\": \"Papero Rosso Ristorante\", \"toilets:wheelchair\": \"no\", \"website\": \"http://paperorosso.it/#_=_\", \"wheelchair\": \"limited\", \"wheelchair:description\": \"Hat eine Stufe im Eingang, aber auch Tische im Freien. Essen war lecker (imho).\"}, \"type\": \"Feature\"}, {\"geometry\": {\"coordinates\": [11.4663143, 43.9327398], \"type\": \"Point\"}, \"id\": 4424244091, \"properties\": {\"amenity\": \"restaurant\", \"cuisine\": \"italian\", \"name\": \"Locanda L'Antica Porta di Levante\", \"name:it\": \"Locanda L'Antica Porta di Levante\", \"website\": \"http://anticaportadilevante.it\"}, \"type\": \"Feature\"}, {\"geometry\": {\"coordinates\": [11.2504247, 43.7743977], \"type\": \"Point\"}, \"id\": 4426899698, \"properties\": {\"amenity\": \"restaurant\", \"name\": \"La Dantesca\"}, \"type\": \"Feature\"}, {\"geometry\": {\"coordinates\": [11.2538403, 43.7699484], \"type\": \"Point\"}, \"id\": 4431536990, \"properties\": {\"amenity\": \"restaurant\", \"name\": \"Mercato del Porcellino\"}, \"type\": \"Feature\"}, {\"geometry\": {\"coordinates\": [11.25017, 43.7738712], \"type\": \"Point\"}, \"id\": 4434723254, \"properties\": {\"amenity\": \"restaurant\", \"name\": \"Coco Club\"}, \"type\": \"Feature\"}, {\"geometry\": {\"coordinates\": [11.2483138, 43.7712861], \"type\": \"Point\"}, \"id\": 4439960289, \"properties\": {\"addr:housenumber\": \"22\", \"addr:street\": \"Via del Moro\", \"amenity\": \"restaurant\", \"name\": \"Osteria di Giovanni\", \"opening_hours\": \"Mo-Su 12:30-15:00, 19:00-23:00\"}, \"type\": \"Feature\"}, {\"geometry\": {\"coordinates\": [11.252984, 43.7751444], \"type\": \"Point\"}, \"id\": 4442380390, \"properties\": {\"addr:housenumber\": \"11/12\", \"addr:postcode\": \"50123\", \"addr:street\": \"Piazza di Madonna degli Aldobrandini\", \"amenity\": \"restaurant\", \"name\": \"Trattoria Il Porcospino\", \"phone\": \"39055217700\"}, \"type\": \"Feature\"}, {\"geometry\": {\"coordinates\": [11.2498462, 43.7707475], \"type\": \"Point\"}, \"id\": 4444064457, \"properties\": {\"addr:housenumber\": \"50R\", \"addr:postcode\": \"50123\", \"addr:street\": \"Via del Parione\", \"amenity\": \"restaurant\", \"cuisine\": \"italian\", \"name\": \"Il Barretto\"}, \"type\": \"Feature\"}, {\"geometry\": {\"coordinates\": [11.2499148, 43.7699016], \"type\": \"Point\"}, \"id\": 4444300290, \"properties\": {\"addr:housenumber\": \"4R\", \"addr:street\": \"Lungarno Corsini\", \"amenity\": \"restaurant\", \"cuisine\": \"seafood\", \"name\": \"Bistro Del Mare\"}, \"type\": \"Feature\"}, {\"geometry\": {\"coordinates\": [11.2449088, 43.773063], \"type\": \"Point\"}, \"id\": 4445799391, \"properties\": {\"addr:housenumber\": \"26\", \"addr:street\": \"Borgo Ognissanti\", \"amenity\": \"restaurant\", \"cuisine\": \"mediterranean\", \"name\": \"Asporto Halal\"}, \"type\": \"Feature\"}, {\"geometry\": {\"coordinates\": [11.2647773, 43.7695354], \"type\": \"Point\"}, \"id\": 4447028689, \"properties\": {\"amenity\": \"restaurant\", \"name\": \"Dino\"}, \"type\": \"Feature\"}, {\"geometry\": {\"coordinates\": [11.3161423, 43.5821835], \"type\": \"Point\"}, \"id\": 4449013292, \"properties\": {\"addr:housenumber\": \"80\", \"addr:postcode\": \"50022\", \"addr:street\": \"Piazza Giacomo Matteotti\", \"amenity\": \"restaurant\", \"name\": \"Osteria Mangiando Mangiando\"}, \"type\": \"Feature\"}, {\"geometry\": {\"coordinates\": [11.2613145, 43.764134], \"type\": \"Point\"}, \"id\": 4453321712, \"properties\": {\"amenity\": \"restaurant\", \"name\": \"I'Pizzacchieri\"}, \"type\": \"Feature\"}, {\"geometry\": {\"coordinates\": [11.2534486, 43.7671327], \"type\": \"Point\"}, \"id\": 4453360689, \"properties\": {\"addr:housenumber\": \"52R\", \"addr:postcode\": \"50125\", \"addr:street\": \"Via dei Bardi\", \"amenity\": \"restaurant\", \"cuisine\": \"italian_pizza;vegetarian;vegan;mediterranean\", \"email\": \"stefano.masini@live.it\", \"name\": \"Amici di Ponte Vecchio Da Stefano\", \"opening_hours\": \"Tu-Sa 11:30-17:30; Su 12:00-17:30\", \"phone\": \"+39055285301\", \"website\": \"https://m.facebook.com/Amici-di-Ponte-Vecchio-201921333158731\"}, \"type\": \"Feature\"}, {\"geometry\": {\"coordinates\": [11.2574726, 43.770156], \"type\": \"Point\"}, \"id\": 4454842689, \"properties\": {\"amenity\": \"restaurant\", \"cuisine\": \"italian;italian_pizza\", \"internet_access\": \"wlan\", \"name\": \"Caffe' Bistrot\"}, \"type\": \"Feature\"}, {\"geometry\": {\"coordinates\": [11.2422834, 43.771106], \"type\": \"Point\"}, \"id\": 4462513189, \"properties\": {\"addr:housenumber\": \"1/R\", \"addr:street\": \"Via Sant'Onofrio\", \"amenity\": \"restaurant\", \"name\": \"All'antico ristoro di' Cambi\", \"phone\": \"+39 055 217134\", \"website\": \"http://anticoristorodicambi.it\"}, \"type\": \"Feature\"}, {\"geometry\": {\"coordinates\": [11.2837278, 44.1095657], \"type\": \"Point\"}, \"id\": 4471751357, \"properties\": {\"addr:city\": \"Firenzuola\", \"addr:country\": \"IT\", \"addr:postcode\": \"50033\", \"addr:street\": \"Via Traversa, 351\", \"amenity\": \"restaurant\", \"cuisine\": \"italian\", \"name\": \"Albergo Berti E Ristorante Jolanda Di Berti Elvira Gabriella\", \"phone\": \"+39 055 815265\", \"tourism\": \"hotel\"}, \"type\": \"Feature\"}, {\"geometry\": {\"coordinates\": [11.265655, 43.7645065], \"type\": \"Point\"}, \"id\": 4477458890, \"properties\": {\"addr:housenumber\": \"69/r\", \"addr:postcode\": \"50125\", \"addr:street\": \"Lungarno Benvenuto Cellini\", \"amenity\": \"restaurant\", \"name\": \"La Bottega Del Buon Caff\\u00e8\", \"opening_hours\": \"Tu-Sa 12:30-15:00, 19:30-22:30; Su-Mo 19:30-22:30\", \"phone\": \"+390555535677\"}, \"type\": \"Feature\"}, {\"geometry\": {\"coordinates\": [11.2418737, 43.7701335], \"type\": \"Point\"}, \"id\": 4477485895, \"properties\": {\"addr:housenumber\": \"1\", \"addr:postcode\": \"50124\", \"addr:street\": \"Piazza dei Nerli\", \"amenity\": \"restaurant\", \"cuisine\": \"pizza\", \"name\": \"Berber\\u00e8\", \"opening_hours\": \"Mo-Th 19:00-00:00; Fr-Su 12:30-14:30, 19:00-00:00\", \"phone\": \"+390552382946\"}, \"type\": \"Feature\"}, {\"geometry\": {\"coordinates\": [11.2456343, 43.7692063], \"type\": \"Point\"}, \"id\": 4477486902, \"properties\": {\"addr:housenumber\": \"21/r\", \"addr:postcode\": \"50124\", \"addr:street\": \"Borgo San Frediano\", \"amenity\": \"restaurant\", \"name\": \"Gesto\", \"opening_hours\": \"Mo-Su 18:00-02:00\", \"phone\": \"+39055241288\", \"website\": \"http://www.gestofailtuo.it\"}, \"type\": \"Feature\"}, {\"geometry\": {\"coordinates\": [11.2599814, 43.7710928], \"type\": \"Point\"}, \"id\": 4477540289, \"properties\": {\"addr:housenumber\": \"12\", \"addr:postcode\": \"50122\", \"addr:street\": \"Via delle Seggiole\", \"amenity\": \"restaurant\", \"name\": \"Locale\", \"opening_hours\": \"Mo-Su 19:30-02:00\", \"phone\": \"+390559067188\"}, \"type\": \"Feature\"}, {\"geometry\": {\"coordinates\": [11.2542814, 43.7766754], \"type\": \"Point\"}, \"id\": 4477609189, \"properties\": {\"addr:housenumber\": \"22/r\", \"addr:postcode\": \"50123\", \"addr:street\": \"Piazza del Mercato Centrale\", \"amenity\": \"restaurant\", \"name\": \"Polpa Burger Trattoria\", \"phone\": \"+39055286770\", \"website\": \"http://www.polpa.it\"}, \"type\": \"Feature\"}, {\"geometry\": {\"coordinates\": [11.2640838, 43.7721676], \"type\": \"Point\"}, \"id\": 4477762290, \"properties\": {\"addr:housenumber\": \"24/26r\", \"addr:postcode\": \"50121\", \"addr:street\": \"Via di Mezzo\", \"amenity\": \"restaurant\", \"name\": \"La Pentola dell'Oro\", \"opening_hours\": \"Mo-Sa 12:30-14:30, 19:30-22:30; Su 19:30-22:30\", \"phone\": \"+39055241808\"}, \"type\": \"Feature\"}, {\"geometry\": {\"coordinates\": [11.2387908, 43.7707016], \"type\": \"Point\"}, \"id\": 4477871589, \"properties\": {\"addr:housenumber\": \"37/r\", \"addr:postcode\": \"50143\", \"addr:street\": \"Via Pisana\", \"amenity\": \"restaurant\", \"name\": \"Fuor d'acqua\", \"opening_hours\": \"Mo-Sa 20:00-02:00\", \"phone\": \"+39055222299\", \"website\": \"http://fuordacqua.it\"}, \"type\": \"Feature\"}, {\"geometry\": {\"coordinates\": [11.2461248, 43.7654347], \"type\": \"Point\"}, \"id\": 4485819573, \"properties\": {\"amenity\": \"restaurant\", \"cuisine\": \"italian\", \"name\": \"Caff\\u00e8 Notte\", \"opening_hours\": \"7:30-2:00\"}, \"type\": \"Feature\"}, {\"geometry\": {\"coordinates\": [11.1060872, 43.6331202], \"type\": \"Point\"}, \"id\": 4498639597, \"properties\": {\"addr:city\": \"Montespertoli\", \"addr:housenumber\": \"17\", \"addr:postcode\": \"50025\", \"addr:street\": \"Via Lucignano\", \"amenity\": \"restaurant\", \"cuisine\": \"vegetarian;vegan;ethnic;fusion\", \"description:it\": \"dal mercoled\\u00ec al sabato 20-24, domenica 13-15, 20-24;prenotazione obbligatoria\", \"name\": \"Ristorante La Fonte\", \"opening_hours\": \"We-Sa 20:00-24:00; Su 13:00-15:00,20:00-24:00\", \"phone\": \"+39 0571 609514\", \"reservation\": \"required\", \"smoking\": \"outside\"}, \"type\": \"Feature\"}, {\"geometry\": {\"coordinates\": [11.459785, 43.87983], \"type\": \"Point\"}, \"id\": 4500049193, \"properties\": {\"amenity\": \"restaurant\", \"name\": \"Bottega di Monte Giovi\"}, \"type\": \"Feature\"}, {\"geometry\": {\"coordinates\": [11.2414017, 43.7681972], \"type\": \"Point\"}, \"id\": 4500481470, \"properties\": {\"addr:city\": \"Firenze\", \"addr:housenumber\": \"3/red\", \"addr:street\": \"Piazza Torquato Tasso\", \"amenity\": \"restaurant\", \"cuisine\": \"macrobiotica\", \"name\": \"Circolo Culturale Un Punto Macrobiotico\", \"phone\": \"055 221167\", \"takeaway\": \"yes\"}, \"type\": \"Feature\"}, {\"geometry\": {\"coordinates\": [11.2373902, 43.6400629], \"type\": \"Point\"}, \"id\": 4512012192, \"properties\": {\"amenity\": \"restaurant\", \"cuisine\": \"american\", \"name\": \"vinile\"}, \"type\": \"Feature\"}, {\"geometry\": {\"coordinates\": [11.0944898, 43.7720989], \"type\": \"Point\"}, \"id\": 4525474394, \"properties\": {\"amenity\": \"restaurant\", \"name\": \"Accademia del Coccio\"}, \"type\": \"Feature\"}, {\"geometry\": {\"coordinates\": [11.1088715, 43.7709676], \"type\": \"Point\"}, \"id\": 4525500690, \"properties\": {\"amenity\": \"restaurant\", \"name\": \"Da Bertone\"}, \"type\": \"Feature\"}, {\"geometry\": {\"coordinates\": [11.2454782, 43.767145], \"type\": \"Point\"}, \"id\": 4543111003, \"properties\": {\"addr:housenumber\": \"35r\", \"addr:street\": \"Via dei Serragli\", \"amenity\": \"restaurant\", \"name\": \"Trattoria Ginone\"}, \"type\": \"Feature\"}, {\"geometry\": {\"coordinates\": [11.2446332, 43.7659061], \"type\": \"Point\"}, \"id\": 4543111004, \"properties\": {\"addr:housenumber\": \"108r\", \"addr:street\": \"Via dei Serragli\", \"amenity\": \"restaurant\", \"name\": \"Trattoria Diladdarno 108r\"}, \"type\": \"Feature\"}, {\"geometry\": {\"coordinates\": [11.2903537, 43.8072917], \"type\": \"Point\"}, \"id\": 4543376493, \"properties\": {\"amenity\": \"restaurant\", \"name\": \"La Reggia degli Etruschi\"}, \"type\": \"Feature\"}, {\"geometry\": {\"coordinates\": [11.289999, 43.8441325], \"type\": \"Point\"}, \"id\": 4568299416, \"properties\": {\"amenity\": \"restaurant\", \"amenity_1\": \"hotel\", \"name\": \"Ristorante Albergo Pizzeria \\\"Le Terrazze\\\"\", \"phone\": \"055 401434\"}, \"type\": \"Feature\"}, {\"geometry\": {\"coordinates\": [11.258929, 43.7678461], \"type\": \"Point\"}, \"id\": 4577865590, \"properties\": {\"addr:housenumber\": \"17\", \"addr:street\": \"Via dei Neri\", \"amenity\": \"restaurant\", \"name\": \"La Fiaschetteria\", \"name:it\": \"La Fiaschetteria\"}, \"type\": \"Feature\"}, {\"geometry\": {\"coordinates\": [11.2434435, 43.7739164], \"type\": \"Point\"}, \"id\": 4578950695, \"properties\": {\"amenity\": \"restaurant\", \"name\": \"Antica osteria\", \"name:it\": \"Antica osteria\"}, \"type\": \"Feature\"}, {\"geometry\": {\"coordinates\": [11.2431193, 43.7741476], \"type\": \"Point\"}, \"id\": 4580805490, \"properties\": {\"amenity\": \"restaurant\", \"name\": \"Curtatone\", \"name:it\": \"Curtatone\"}, \"type\": \"Feature\"}, {\"geometry\": {\"coordinates\": [11.472507, 43.61773], \"type\": \"Point\"}, \"id\": 4585607504, \"properties\": {\"amenity\": \"restaurant\", \"name\": \"Gli Ostinati\", \"name:it\": \"Gli Ostinati\"}, \"type\": \"Feature\"}, {\"geometry\": {\"coordinates\": [11.2491576, 43.7719557], \"type\": \"Point\"}, \"id\": 4602256096, \"properties\": {\"amenity\": \"restaurant\", \"name\": \"Gargani\", \"name:it\": \"Gargani\"}, \"type\": \"Feature\"}, {\"geometry\": {\"coordinates\": [11.2928491, 43.8064631], \"type\": \"Point\"}, \"id\": 4605847691, \"properties\": {\"amenity\": \"restaurant\", \"name\": \"Vinandro\", \"name:it\": \"Vinandro\"}, \"type\": \"Feature\"}, {\"geometry\": {\"coordinates\": [11.2520861, 43.7745458], \"type\": \"Point\"}, \"id\": 4624997092, \"properties\": {\"addr:housenumber\": \"49/51R\", \"addr:street\": \"Via del Giglio\", \"amenity\": \"restaurant\", \"name\": \"Lorenzo de'Medici\"}, \"type\": \"Feature\"}, {\"geometry\": {\"coordinates\": [11.2532347, 43.7782005], \"type\": \"Point\"}, \"id\": 4625007290, \"properties\": {\"addr:housenumber\": \"43\", \"addr:street\": \"Via Guelfa\", \"amenity\": \"restaurant\", \"name\": \"American Diner\", \"name:en\": \"American Diner\"}, \"type\": \"Feature\"}, {\"geometry\": {\"coordinates\": [11.2642373, 43.769718], \"type\": \"Point\"}, \"id\": 4625055690, \"properties\": {\"addr:housenumber\": \"46 red\", \"addr:street\": \"Via Ghibellina\", \"amenity\": \"restaurant\", \"name\": \"Baccarossa\"}, \"type\": \"Feature\"}, {\"geometry\": {\"coordinates\": [11.2651729, 43.7808403], \"type\": \"Point\"}, \"id\": 4625113489, \"properties\": {\"addr:housenumber\": \"30-2/H\", \"addr:street\": \"Viale Giacomo Matteotti\", \"amenity\": \"restaurant\", \"name\": \"Farina 00\", \"name:es\": \"harina 00\"}, \"type\": \"Feature\"}, {\"geometry\": {\"coordinates\": [11.2832642, 43.7751233], \"type\": \"Point\"}, \"id\": 4625128289, \"properties\": {\"addr:housenumber\": \"4\", \"addr:street\": \"Viale Malta\", \"amenity\": \"restaurant\", \"name\": \"Aviazilbe campo di marte\"}, \"type\": \"Feature\"}, {\"geometry\": {\"coordinates\": [11.1809337, 43.8063792], \"type\": \"Point\"}, \"id\": 4629907473, \"properties\": {\"amenity\": \"restaurant\", \"cuisine\": \"italian\", \"facebook\": \"www.facebook.com/Il-Fiorentino-Self-Service-219806561476591\", \"name\": \"Il Fiorentino Self Service\", \"phone\": \"+39 055 315012\", \"website\": \"www.ristoranteilfiorentino.com\"}, \"type\": \"Feature\"}, {\"geometry\": {\"coordinates\": [11.268699, 43.7704702], \"type\": \"Point\"}, \"id\": 4645670190, \"properties\": {\"amenity\": \"restaurant\", \"cuisine\": \"pizza\", \"name\": \"Santarpia\", \"name:it\": \"Santarpia\"}, \"type\": \"Feature\"}, {\"geometry\": {\"coordinates\": [11.0091194, 43.7138266], \"type\": \"Point\"}, \"id\": 4665010192, \"properties\": {\"amenity\": \"restaurant\", \"name\": \"Le fornace\", \"name:it\": \"Le fornace\"}, \"type\": \"Feature\"}, {\"geometry\": {\"coordinates\": [11.2631915, 43.7723763], \"type\": \"Point\"}, \"id\": 4685250189, \"properties\": {\"addr:housenumber\": \"42R\", \"addr:postcode\": \"50122\", \"addr:street\": \"Via di Mezzo\", \"amenity\": \"restaurant\", \"cuisine\": \"italian\", \"internet_access\": \"wlan\", \"name\": \"Touch Florence\", \"name:en\": \"Touch Florence\", \"opening_hours\": \"Mo-Sa 19:30-22:30\", \"phone\": \"+390552466150\", \"website\": \"http://www.touchflorence.com\"}, \"type\": \"Feature\"}, {\"geometry\": {\"coordinates\": [11.2468491, 43.7759606], \"type\": \"Point\"}, \"id\": 4693437692, \"properties\": {\"amenity\": \"restaurant\", \"level\": \"0\", \"name\": \"Trattoria dall'Oste\"}, \"type\": \"Feature\"}, {\"geometry\": {\"coordinates\": [11.2459234, 43.7767673], \"type\": \"Point\"}, \"id\": 4693437696, \"properties\": {\"amenity\": \"restaurant\", \"cuisine\": \"italian\", \"level\": \"0\", \"name\": \"Il Portale\"}, \"type\": \"Feature\"}, {\"geometry\": {\"coordinates\": [11.2457572, 43.7765974], \"type\": \"Point\"}, \"id\": 4693437697, \"properties\": {\"amenity\": \"restaurant\", \"cuisine\": \"pizza\", \"level\": \"0\", \"name\": \"I 4 Amici\"}, \"type\": \"Feature\"}, {\"geometry\": {\"coordinates\": [11.2387715, 43.7781201], \"type\": \"Point\"}, \"id\": 4693437699, \"properties\": {\"amenity\": \"restaurant\", \"level\": \"0\", \"name\": \"H12\"}, \"type\": \"Feature\"}, {\"geometry\": {\"coordinates\": [11.2404488, 43.7775647], \"type\": \"Point\"}, \"id\": 4693437703, \"properties\": {\"amenity\": \"restaurant\", \"level\": \"0\", \"name\": \"Trattoria Baldini\"}, \"type\": \"Feature\"}, {\"geometry\": {\"coordinates\": [11.2539164, 43.7763407], \"type\": \"Point\"}, \"id\": 4693731979, \"properties\": {\"amenity\": \"restaurant\", \"level\": \"0\", \"name\": \"Da Pinocchio\"}, \"type\": \"Feature\"}, {\"geometry\": {\"coordinates\": [11.2520981, 43.7748364], \"type\": \"Point\"}, \"id\": 4693731983, \"properties\": {\"amenity\": \"restaurant\", \"cuisine\": \"chinese\", \"level\": \"0\"}, \"type\": \"Feature\"}, {\"geometry\": {\"coordinates\": [11.2511811, 43.7766771], \"type\": \"Point\"}, \"id\": 4693731984, \"properties\": {\"amenity\": \"restaurant\", \"cuisine\": \"pizza\", \"level\": \"0\"}, \"type\": \"Feature\"}, {\"geometry\": {\"coordinates\": [11.1816075, 43.7958286], \"type\": \"Point\"}, \"id\": 4694078941, \"properties\": {\"addr:city\": \"Firenze\", \"addr:housenumber\": \"2\", \"addr:postcode\": \"50145\", \"addr:street\": \"Via della Saggina\", \"amenity\": \"restaurant\", \"capacity\": \"50\", \"cuisine\": \"cinese\", \"name\": \"Xiang Shun\"}, \"type\": \"Feature\"}, {\"geometry\": {\"coordinates\": [11.1948557, 43.7965839], \"type\": \"Point\"}, \"id\": 4694084476, \"properties\": {\"addr:city\": \"Firenze\", \"addr:housenumber\": \"44/r\", \"addr:postcode\": \"50145\", \"addr:street\": \"Via di Peretola\", \"amenity\": \"restaurant\", \"capacity\": \"50\", \"cuisine\": \"regional\", \"delivery\": \"no\", \"name\": \"Osteria Pronto e via\", \"outdoor_seating\": \"no\", \"smoking\": \"no\", \"takeaway\": \"yes\"}, \"type\": \"Feature\"}, {\"geometry\": {\"coordinates\": [11.2552756, 43.7718861], \"type\": \"Point\"}, \"id\": 4697701489, \"properties\": {\"amenity\": \"restaurant\", \"name\": \"Snack Self Service Marchetti\"}, \"type\": \"Feature\"}, {\"geometry\": {\"coordinates\": [11.2593877, 43.7675063], \"type\": \"Point\"}, \"id\": 4700615994, \"properties\": {\"amenity\": \"restaurant\", \"name\": \"Le colonnine\"}, \"type\": \"Feature\"}, {\"geometry\": {\"coordinates\": [10.7695369, 43.745115], \"type\": \"Point\"}, \"id\": 4703884537, \"properties\": {\"amenity\": \"restaurant\", \"name\": \"Osteria Numero Uno\"}, \"type\": \"Feature\"}, {\"geometry\": {\"coordinates\": [11.2551025, 43.7693888], \"type\": \"Point\"}, \"id\": 4712334790, \"properties\": {\"addr:street\": \"Piazza della Signoria\", \"amenity\": \"restaurant\", \"name\": \"Ristorante Pizzeria il Bargello\"}, \"type\": \"Feature\"}, {\"geometry\": {\"coordinates\": [11.2459378, 43.7675434], \"type\": \"Point\"}, \"id\": 4715045189, \"properties\": {\"amenity\": \"restaurant\", \"name\": \"Lospuntino\", \"name:it\": \"Lospuntino\"}, \"type\": \"Feature\"}, {\"geometry\": {\"coordinates\": [11.2478316, 43.7730236], \"type\": \"Point\"}, \"id\": 4715082986, \"properties\": {\"amenity\": \"restaurant\", \"name\": \"La Boite\"}, \"type\": \"Feature\"}, {\"geometry\": {\"coordinates\": [11.2480783, 43.7713763], \"type\": \"Point\"}, \"id\": 4715083304, \"properties\": {\"amenity\": \"restaurant\"}, \"type\": \"Feature\"}, {\"geometry\": {\"coordinates\": [11.2418412, 43.768743], \"type\": \"Point\"}, \"id\": 4716090890, \"properties\": {\"addr:housenumber\": \"25R\", \"addr:street\": \"Via dell'Orto\", \"amenity\": \"restaurant\", \"name\": \"O'Scugnizzo\", \"name:en\": \"O'Scugnizzo\", \"name:it\": \"O'Scugnizzo\", \"website\": \"http://www.oscugnizzo.net\"}, \"type\": \"Feature\"}, {\"geometry\": {\"coordinates\": [11.2464656, 43.7696787], \"type\": \"Point\"}, \"id\": 4717289292, \"properties\": {\"addr:housenumber\": \"5\", \"addr:street\": \"Lungarno Soderini\", \"amenity\": \"restaurant\", \"name\": \"Pizzeria Riva d'Arno\", \"name:en\": \"Pizzeria Riva d'Arno\", \"name:it\": \"Pizzeria Riva d'Arno\"}, \"type\": \"Feature\"}, {\"geometry\": {\"coordinates\": [11.2560858, 43.7706919], \"type\": \"Point\"}, \"id\": 4718246190, \"properties\": {\"addr:housenumber\": \"15 R\", \"addr:postcode\": \"50122\", \"addr:street\": \"Via dei Cerchi\", \"amenity\": \"restaurant\", \"name\": \"Osteria Buongustai\", \"phone\": \"+39 055 291 304\"}, \"type\": \"Feature\"}, {\"geometry\": {\"coordinates\": [11.2543391, 43.7760845], \"type\": \"Point\"}, \"id\": 4730427338, \"properties\": {\"amenity\": \"restaurant\", \"name\": \"Trattoria Da Garibardi\"}, \"type\": \"Feature\"}, {\"geometry\": {\"coordinates\": [11.2759906, 43.7701013], \"type\": \"Point\"}, \"id\": 4730850976, \"properties\": {\"amenity\": \"restaurant\"}, \"type\": \"Feature\"}, {\"geometry\": {\"coordinates\": [11.254077, 43.7693739], \"type\": \"Point\"}, \"id\": 4740554399, \"properties\": {\"amenity\": \"restaurant\", \"cuisine\": \"pizza; sandwich\", \"name\": \"Pizzeria Piccadilly\", \"outdoor_seating\": \"yes\", \"payment:credit_cards\": \"yes\", \"phone\": \"+390552396300\"}, \"type\": \"Feature\"}, {\"geometry\": {\"coordinates\": [11.2555441, 43.7708456], \"type\": \"Point\"}, \"id\": 4740940723, \"properties\": {\"addr:housenumber\": \"19-rd\", \"addr:postcode\": \"50122\", \"addr:street\": \"Via dei Tavolini\", \"amenity\": \"restaurant\", \"cuisine\": \"ice_cream\", \"name:en\": \"Perche No Ice Cream\", \"opening_hours\": \"Mo-Su 12:00-23:00\"}, \"type\": \"Feature\"}, {\"geometry\": {\"coordinates\": [11.254655, 43.7797292], \"type\": \"Point\"}, \"id\": 4789521725, \"properties\": {\"amenity\": \"restaurant\", \"name\": \"Fuoko Matto\", \"name:ru\": \"\\u043f\\u0438\\u0446\\u0446\\u0435\\u0440\\u0438\\u044f Fuoko Matto\"}, \"type\": \"Feature\"}, {\"geometry\": {\"coordinates\": [11.2683835, 43.7704494], \"type\": \"Point\"}, \"id\": 4797041722, \"properties\": {\"addr:housenumber\": \"9/C\", \"addr:postcode\": \"50122\", \"addr:street\": \"Largo Pietro Annigoni\", \"amenity\": \"restaurant\", \"name\": \"Pizzeria Santarpia\", \"opening_hours\": \"Mo-Su 19:30-00:00\"}, \"type\": \"Feature\"}, {\"geometry\": {\"coordinates\": [11.2190343, 43.980312], \"type\": \"Point\"}, \"id\": 4812119744, \"properties\": {\"amenity\": \"restaurant\", \"name\": \"Ristorante La Cavalina\", \"name:it\": \"Ristorante La Cavalina\"}, \"type\": \"Feature\"}, {\"geometry\": {\"coordinates\": [11.2533397, 43.7672558], \"type\": \"Point\"}, \"id\": 4817039821, \"properties\": {\"addr:housenumber\": \"58/r\", \"addr:street\": \"Via dei Bardi\", \"amenity\": \"restaurant\", \"name:en\": \"Golden View Open Bar\"}, \"type\": \"Feature\"}, {\"geometry\": {\"coordinates\": [11.2636724, 43.7644506], \"type\": \"Point\"}, \"id\": 4818093721, \"properties\": {\"addr:housenumber\": \"8r\", \"addr:street\": \"Via di San Niccol\\u00f2\", \"amenity\": \"restaurant\", \"name\": \"Hosteria del Bricco\"}, \"type\": \"Feature\"}, {\"geometry\": {\"coordinates\": [11.2529371, 43.7766124], \"type\": \"Point\"}, \"id\": 4818604723, \"properties\": {\"addr:city\": \"Firenze\", \"addr:housenumber\": \"4\", \"addr:postcode\": \"50123\", \"addr:street\": \"Piazza del Mercato Centrale\", \"amenity\": \"restaurant\", \"cuisine\": \"vegan;vegetarian;burger\", \"internet_access\": \"wlan\", \"level\": \"1\", \"name\": \"Veg & Veg\", \"website\": \"http://www.vegandveg.it\"}, \"type\": \"Feature\"}, {\"geometry\": {\"coordinates\": [11.3164262, 43.5445756], \"type\": \"Point\"}, \"id\": 4825332513, \"properties\": {\"amenity\": \"restaurant\", \"cuisine\": \"regional\", \"internet_access\": \"no\", \"level\": \"0\", \"name\": \"Officina della Bistecca\", \"opening_hours\": \"13:00-15:30,20:00-22:30; Dec 25 off\", \"outdoor_seating\": \"yes\", \"smoking\": \"outside\", \"website\": \"http://www.dariocecchini.com/dariocecchini/a-tavola/officina-della-bistecca/\", \"wheelchair\": \"limited\"}, \"type\": \"Feature\"}, {\"geometry\": {\"coordinates\": [11.3163451, 43.5444325], \"type\": \"Point\"}, \"id\": 4825796528, \"properties\": {\"amenity\": \"restaurant\", \"cuisine\": \"regional\", \"name\": \"Solociccia\", \"website\": \"http://www.dariocecchini.com/dariocecchini/a-tavola/solo-ciccia/\"}, \"type\": \"Feature\"}, {\"geometry\": {\"coordinates\": [10.9547156, 43.5390747], \"type\": \"Point\"}, \"id\": 4838003458, \"properties\": {\"addr:city\": \"Gambassi Terme\", \"addr:housenumber\": \"2\", \"addr:postcode\": \"50050\", \"addr:street\": \"Via delle Ripe\", \"amenity\": \"restaurant\", \"cuisine\": \"italian\", \"name\": \"Beltempo\"}, \"type\": \"Feature\"}, {\"geometry\": {\"coordinates\": [10.9564135, 43.5400366], \"type\": \"Point\"}, \"id\": 4838011377, \"properties\": {\"addr:city\": \"Gambassi Terme\", \"addr:housenumber\": \"23\", \"addr:postcode\": \"50050\", \"addr:street\": \"Via del Teatro\", \"amenity\": \"restaurant\", \"cuisine\": \"italian\", \"name\": \"Osteria Pinchiorba\"}, \"type\": \"Feature\"}, {\"geometry\": {\"coordinates\": [11.2612795, 43.7642036], \"type\": \"Point\"}, \"id\": 4842482629, \"properties\": {\"addr:housenumber\": \"59r\", \"addr:street\": \"Via di San Niccol\\u00f2\", \"amenity\": \"restaurant\", \"cuisine\": \"italian\", \"name\": \"Bevo Vino\", \"name:en\": \"Bevo Vino\", \"name:it\": \"Bevo Vino\"}, \"type\": \"Feature\"}, {\"geometry\": {\"coordinates\": [11.259696, 43.7675158], \"type\": \"Point\"}, \"id\": 4847893912, \"properties\": {\"amenity\": \"restaurant\", \"cuisine\": \"italian\", \"name\": \"Ristorante del Fagioli\", \"phone\": \"+39 055 244285\"}, \"type\": \"Feature\"}, {\"geometry\": {\"coordinates\": [11.2555274, 43.7773046], \"type\": \"Point\"}, \"id\": 4865980322, \"properties\": {\"addr:housenumber\": \"35r\", \"addr:postcode\": \"50129\", \"addr:street\": \"Via Guelfa\", \"amenity\": \"restaurant\", \"cuisine\": \"regional\", \"name\": \"Cafaggi\", \"name:it\": \"Cafaggi\", \"phone\": \"+39 055 294989\", \"website\": \"http://ristorantecafaggi.it\"}, \"type\": \"Feature\"}, {\"geometry\": {\"coordinates\": [11.2506514, 43.7671083], \"type\": \"Point\"}, \"id\": 4867013538, \"properties\": {\"amenity\": \"restaurant\", \"cuisine\": \"italian_pizza\", \"name\": \"Blancazerozero La Pinsa Romana\"}, \"type\": \"Feature\"}, {\"geometry\": {\"coordinates\": [11.1883422, 43.5812549], \"type\": \"Point\"}, \"id\": 4867512421, \"properties\": {\"addr:housenumber\": \"11\", \"addr:postcode\": \"50028\", \"addr:street\": \"Strada del Cerro\", \"amenity\": \"restaurant\", \"cuisine\": \"italian\", \"name\": \"La Fattoria\", \"name:it\": \"La Fattoria\", \"phone\": \"+39 055 807 0000\", \"website\": \"http://www.ristorantelafattoria-chianti.com\"}, \"type\": \"Feature\"}, {\"geometry\": {\"coordinates\": [11.2516805, 43.7766312], \"type\": \"Point\"}, \"id\": 4867851566, \"properties\": {\"amenity\": \"restaurant\"}, \"type\": \"Feature\"}, {\"geometry\": {\"coordinates\": [11.2523065, 43.7689207], \"type\": \"Point\"}, \"id\": 4868442731, \"properties\": {\"amenity\": \"restaurant\"}, \"type\": \"Feature\"}, {\"geometry\": {\"coordinates\": [11.2400846, 43.766877], \"type\": \"Point\"}, \"id\": 4874987760, \"properties\": {\"amenity\": \"restaurant\", \"name\": \"Alla Vecchia Bettola\"}, \"type\": \"Feature\"}, {\"geometry\": {\"coordinates\": [11.2597396, 43.7678967], \"type\": \"Point\"}, \"id\": 4885746122, \"properties\": {\"amenity\": \"restaurant\", \"name\": \"Oinos\"}, \"type\": \"Feature\"}, {\"geometry\": {\"coordinates\": [11.2403321, 43.771545], \"type\": \"Point\"}, \"id\": 4885756121, \"properties\": {\"addr:postcode\": \"50142\", \"addr:street\": \"Lungarno di Santa Rosa\", \"amenity\": \"restaurant\", \"cuisine\": \"vegan;sandwich;international;breakfast;cake;tea;local;coffee_shop;pasta;italian;vegetarian\", \"name\": \"Santa Rosa Bistrot\", \"name:en\": \"Santa Rosa Bistrot\", \"name:it\": \"Santa Rosa Bistrot\"}, \"type\": \"Feature\"}, {\"geometry\": {\"coordinates\": [11.2582845, 43.7676654], \"type\": \"Point\"}, \"id\": 4903780922, \"properties\": {\"addr:housenumber\": \"18\", \"addr:street\": \"Via de' Vagellai\", \"amenity\": \"restaurant\", \"cuisine\": \"vegan;vegetarian\", \"internet_access\": \"wlan\", \"name\": \"Libreria Brac\", \"opening_hours\": \"Mo-Su 12:00-18:00\", \"website\": \"https://m.facebook.com/libreria.brac/\"}, \"type\": \"Feature\"}, {\"geometry\": {\"coordinates\": [11.2459136, 43.7752407], \"type\": \"Point\"}, \"id\": 4904508528, \"properties\": {\"amenity\": \"restaurant\", \"name\": \"Antica Trattoria il Giardino\"}, \"type\": \"Feature\"}, {\"geometry\": {\"coordinates\": [11.2640743, 43.7833317], \"type\": \"Point\"}, \"id\": 4916844322, \"properties\": {\"addr:housenumber\": \"72\", \"addr:street\": \"Via Pier Capponi\", \"amenity\": \"restaurant\", \"name:en\": \"Icche Thai\"}, \"type\": \"Feature\"}, {\"geometry\": {\"coordinates\": [11.2532147, 43.7752909], \"type\": \"Point\"}, \"id\": 4922602621, \"properties\": {\"addr:housenumber\": \"30R\", \"addr:street\": \"Piazza di San Lorenzo\", \"amenity\": \"restaurant\", \"cuisine\": \"italian\", \"name\": \"Le Cappelle Medicee\"}, \"type\": \"Feature\"}, {\"geometry\": {\"coordinates\": [11.3254543, 43.9623447], \"type\": \"Point\"}, \"id\": 4926759731, \"properties\": {\"amenity\": \"restaurant\", \"cuisine\": \"italian\", \"name\": \"Cacio e Pere\", \"outdoor_seating\": \"yes\"}, \"type\": \"Feature\"}, {\"geometry\": {\"coordinates\": [11.3240951, 43.9613369], \"type\": \"Point\"}, \"id\": 4926759732, \"properties\": {\"amenity\": \"restaurant\", \"name\": \"Da Baffo\"}, \"type\": \"Feature\"}, {\"geometry\": {\"coordinates\": [11.3253521, 43.9622519], \"type\": \"Point\"}, \"id\": 4926759735, \"properties\": {\"amenity\": \"restaurant\", \"cuisine\": \"pizza\"}, \"type\": \"Feature\"}, {\"geometry\": {\"coordinates\": [11.3154544, 43.5840414], \"type\": \"Point\"}, \"id\": 4937439421, \"properties\": {\"addr:housenumber\": \"3\", \"addr:street\": \"Piazza Trento\", \"amenity\": \"restaurant\", \"cuisine\": \"italian_pizza;italian\", \"name\": \"La Cantina\", \"opening_hours\": \"Mo-Su 10:00-00:00\"}, \"type\": \"Feature\"}, {\"geometry\": {\"coordinates\": [11.1423764, 43.536206], \"type\": \"Point\"}, \"id\": 4939775448, \"properties\": {\"amenity\": \"restaurant\", \"name\": \"Il Paese dei Campanelli\", \"website\": \"http://www.ilpaesedeicampanelli.it/\"}, \"type\": \"Feature\"}, {\"geometry\": {\"coordinates\": [11.1865129, 43.8968363], \"type\": \"Point\"}, \"id\": 4941417646, \"properties\": {\"amenity\": \"restaurant\", \"name\": \"Gli Alberi\"}, \"type\": \"Feature\"}, {\"geometry\": {\"coordinates\": [11.2506616, 43.7585615], \"type\": \"Point\"}, \"id\": 4956887817, \"properties\": {\"amenity\": \"restaurant\", \"name\": \"La Terrazza del Principe\"}, \"type\": \"Feature\"}, {\"geometry\": {\"coordinates\": [11.2507583, 43.7736338], \"type\": \"Point\"}, \"id\": 4959626721, \"properties\": {\"addr:housenumber\": \"11/r\", \"addr:postcode\": \"50123\", \"addr:street\": \"Via del Giglio\", \"amenity\": \"restaurant\", \"cuisine\": \"italian\", \"name\": \"Giglio Rosso\", \"name:it\": \"Giglio Rosso\", \"phone\": \"055211795\", \"website\": \"http://www.ristorantegigliorosso.com\"}, \"type\": \"Feature\"}, {\"geometry\": {\"coordinates\": [11.2571564, 43.7713383], \"type\": \"Point\"}, \"id\": 4959848127, \"properties\": {\"addr:city\": \"Firenze\", \"addr:country\": \"IT\", \"addr:housenumber\": \"4 R\", \"addr:street\": \"Via Santa Margherita\", \"amenity\": \"restaurant\", \"name\": \"Da'Vinattieri\", \"phone\": \"+39 055 294703\", \"website\": \"http://www.davinattieri.it/\"}, \"type\": \"Feature\"}, {\"geometry\": {\"coordinates\": [11.270364, 43.7703802], \"type\": \"Point\"}, \"id\": 4988219031, \"properties\": {\"amenity\": \"restaurant\", \"cuisine\": \"ice_cream\", \"name:en\": \"Gelateria de' Medici\"}, \"type\": \"Feature\"}, {\"geometry\": {\"coordinates\": [11.1725508, 43.5605257], \"type\": \"Point\"}, \"id\": 5008275480, \"properties\": {\"addr:city\": \"Tavarnelle Val di Pesa\", \"addr:housenumber\": \"121\", \"addr:street\": \"Via Roma\", \"amenity\": \"restaurant\", \"cuisine\": \"italian\", \"level\": \"0\", \"name\": \"Il Caff\\u00e8 degli Amici\", \"outdoor_seating\": \"yes\"}, \"type\": \"Feature\"}, {\"geometry\": {\"coordinates\": [11.3636797, 43.5988083], \"type\": \"Point\"}, \"id\": 5009561052, \"properties\": {\"amenity\": \"restaurant\", \"cuisine\": \"italian\", \"internet_access\": \"wlan\", \"name\": \"Borgo Antico\"}, \"type\": \"Feature\"}, {\"geometry\": {\"coordinates\": [11.3919862, 44.0227391], \"type\": \"Point\"}, \"id\": 5026572222, \"properties\": {\"amenity\": \"restaurant\", \"name\": \"L'Aia Di Martino\", \"name:it\": \"L'Aia Di Martino\", \"website\": \"http://www.laiadimartino.it/ristorazione/\"}, \"type\": \"Feature\"}, {\"geometry\": {\"coordinates\": [11.2171268, 43.9845662], \"type\": \"Point\"}, \"id\": 5030891427, \"properties\": {\"addr:postcode\": \"50031\", \"addr:street\": \"via Meucci\", \"amenity\": \"restaurant\", \"opening_hours\": \"Mo-Su 12:00-22:00\"}, \"type\": \"Feature\"}, {\"geometry\": {\"coordinates\": [11.2142087, 43.9855045], \"type\": \"Point\"}, \"id\": 5030891448, \"properties\": {\"addr:postcode\": \"50031\", \"addr:street\": \"via Meucci\", \"amenity\": \"restaurant\", \"name\": \"Wok\", \"name:en\": \"Wok\", \"name:it\": \"Wok\", \"opening_hours\": \"Mo-Su 11:00-22:00\"}, \"type\": \"Feature\"}, {\"geometry\": {\"coordinates\": [11.3351171, 44.0211901], \"type\": \"Point\"}, \"id\": 5039624463, \"properties\": {\"amenity\": \"restaurant\"}, \"type\": \"Feature\"}, {\"geometry\": {\"coordinates\": [11.2427134, 44.1422122], \"type\": \"Point\"}, \"id\": 5039641942, \"properties\": {\"amenity\": \"restaurant\", \"name\": \"Da Paco\"}, \"type\": \"Feature\"}, {\"geometry\": {\"coordinates\": [11.4828813, 43.8228207], \"type\": \"Point\"}, \"id\": 5047499149, \"properties\": {\"addr:city\": \"Rufina\", \"addr:housenumber\": \"16/b\", \"addr:postcode\": \"50068\", \"addr:street\": \"Via 25 Aprile\", \"amenity\": \"restaurant\", \"cuisine\": \"regional;pizza;italian\", \"delivery\": \"no\", \"email\": \"amicimiei.rufina@gmail.com\", \"name\": \"Amici Miei\", \"outdoor_seating\": \"yes\", \"smoking\": \"outside\", \"takeaway\": \"yes\"}, \"type\": \"Feature\"}, {\"geometry\": {\"coordinates\": [11.2747267, 43.7680281], \"type\": \"Point\"}, \"id\": 5050896376, \"properties\": {\"addr:street\": \"Via Fra' Giovanni Angelico\", \"amenity\": \"restaurant\", \"name\": \"La Pasticceria\", \"name:it\": \"La Pasticceria\"}, \"type\": \"Feature\"}, {\"geometry\": {\"coordinates\": [11.2667717, 43.7710457], \"type\": \"Point\"}, \"id\": 5069362637, \"properties\": {\"addr:city\": \"Firenze\", \"addr:housenumber\": \"40r\", \"addr:postcode\": \"50122\", \"addr:street\": \"Piazza Lorenzo Ghiberti\", \"amenity\": \"restaurant\", \"cuisine\": \"regional\", \"name\": \"Gilda Bistrot\", \"opening_hours\": \"Mo-Sa 12,00-15,00 19,00-23,00\", \"outdoor_seating\": \"yes\", \"phone\": \"+39 055 234 3885\"}, \"type\": \"Feature\"}, {\"geometry\": {\"coordinates\": [11.3158915, 43.5834921], \"type\": \"Point\"}, \"id\": 5079056522, \"properties\": {\"addr:housenumber\": \"1\", \"addr:street\": \"Via Domenico Giuliotti\", \"amenity\": \"restaurant\", \"name\": \"Trattoria Di Borgo\"}, \"type\": \"Feature\"}, {\"geometry\": {\"coordinates\": [11.2578153, 43.7717111], \"type\": \"Point\"}, \"id\": 5082709822, \"properties\": {\"addr:housenumber\": \"59r\", \"addr:street\": \"Via del Proconsolo\", \"amenity\": \"restaurant\", \"name\": \"Osteria del Proconsolo\"}, \"type\": \"Feature\"}, {\"geometry\": {\"coordinates\": [11.2717384, 43.778374], \"type\": \"Point\"}, \"id\": 5102550521, \"properties\": {\"amenity\": \"restaurant\", \"name\": \"DONFEFE\", \"name:it\": \"DONFEFE\"}, \"type\": \"Feature\"}, {\"geometry\": {\"coordinates\": [11.2526747, 43.7702515], \"type\": \"Point\"}, \"id\": 5105299725, \"properties\": {\"addr:housenumber\": \"58\", \"addr:street\": \"Piazza dei Davanzati\", \"amenity\": \"restaurant\", \"cuisine\": \"italian;italian_pizza\", \"name\": \"la Bussola\", \"name:nl\": \"la Bussola\"}, \"type\": \"Feature\"}, {\"geometry\": {\"coordinates\": [11.4287467, 44.0038072], \"type\": \"Point\"}, \"id\": 5105526121, \"properties\": {\"addr:housenumber\": \"3\", \"addr:postcode\": \"50032\", \"addr:street\": \"Via Angelo Gatti\", \"amenity\": \"restaurant\", \"cuisine\": \"italian_pizza;local\", \"internet_access\": \"wlan\", \"name\": \"I'Cantuccio\", \"phone\": \"0558495710\", \"website\": \"http://icantuccio.it\"}, \"type\": \"Feature\"}, {\"geometry\": {\"coordinates\": [11.3239356, 43.9614327], \"type\": \"Point\"}, \"id\": 5105538722, \"properties\": {\"addr:housenumber\": \"38\", \"addr:postcode\": \"50037\", \"addr:street\": \"Via Provinciale\", \"amenity\": \"restaurant\", \"cuisine\": \"steak_house;italian_pizza\", \"name\": \"La Bisboccina\", \"opening_hours\": \"We-Mo 19:00-00:00\", \"phone\": \"0558486950\", \"website\": \"http://ristorantepizzerialabisboccina.com\"}, \"type\": \"Feature\"}, {\"geometry\": {\"coordinates\": [11.2560738, 43.7709875], \"type\": \"Point\"}, \"id\": 5113208003, \"properties\": {\"amenity\": \"restaurant\", \"cuisine\": \"persian\", \"name\": \"Teheran\"}, \"type\": \"Feature\"}, {\"geometry\": {\"coordinates\": [11.1607791, 43.8462064], \"type\": \"Point\"}, \"id\": 5119428022, \"properties\": {\"addr:housenumber\": \"39\", \"addr:postcode\": \"50041\", \"addr:street\": \"Via di Pratignone\", \"amenity\": \"restaurant\", \"cuisine\": \"coffee_shop;italian\", \"name\": \"Caff\\u00e8 Neri\", \"opening_hours\": \"Mo-Su 06:30-16:00\", \"phone\": \"0558878280\", \"website\": \"http://caffeneri.it\"}, \"type\": \"Feature\"}, {\"geometry\": {\"coordinates\": [11.2521487, 43.7765448], \"type\": \"Point\"}, \"id\": 5136214730, \"properties\": {\"amenity\": \"restaurant\"}, \"type\": \"Feature\"}, {\"geometry\": {\"coordinates\": [10.9515979, 43.5569676], \"type\": \"Point\"}, \"id\": 5137013611, \"properties\": {\"amenity\": \"restaurant\", \"name\": \"Osteria del Pellegrino\"}, \"type\": \"Feature\"}, {\"geometry\": {\"coordinates\": [10.9541079, 43.5395389], \"type\": \"Point\"}, \"id\": 5137014599, \"properties\": {\"amenity\": \"restaurant\", \"name\": \"Osteria del Castagno\"}, \"type\": \"Feature\"}, {\"geometry\": {\"coordinates\": [11.2711778, 43.7888711], \"type\": \"Point\"}, \"id\": 5143467602, \"properties\": {\"amenity\": \"restaurant\", \"cuisine\": \"italian\", \"name\": \"Osteria I Riffaioli\"}, \"type\": \"Feature\"}, {\"geometry\": {\"coordinates\": [11.2489621, 43.7709136], \"type\": \"Point\"}, \"id\": 5147364323, \"properties\": {\"addr:housenumber\": \"74/76 R\", \"addr:postcode\": \"50123\", \"addr:street\": \"Via del Parione\", \"amenity\": \"restaurant\", \"name\": \"Parione\", \"phone\": \"+39 05 521 4005\", \"website\": \"http://www.parione.net\"}, \"type\": \"Feature\"}, {\"geometry\": {\"coordinates\": [11.2562035, 43.7713231], \"type\": \"Point\"}, \"id\": 5147372022, \"properties\": {\"addr:housenumber\": \"40R\", \"addr:postcode\": \"50100\", \"addr:street\": \"Via dei Cerchi\", \"amenity\": \"restaurant\", \"cuisine\": \"steak_house;italian;mediterranean;grill;vegetarian\", \"email\": \"trattoriaoste@hotmail.com\", \"internet_access\": \"wlan\", \"name\": \"Trattoria dall Oste\", \"opening_hours\": \"Mo-Su 11:00-22:30\", \"phone\": \"+39 055 212048\", \"website\": \"http://www.osteriadalloste.it\"}, \"type\": \"Feature\"}, {\"geometry\": {\"coordinates\": [11.2494276, 43.7661881], \"type\": \"Point\"}, \"id\": 5158590922, \"properties\": {\"amenity\": \"restaurant\", \"name\": \"Alimentari\"}, \"type\": \"Feature\"}, {\"geometry\": {\"coordinates\": [11.2717484, 43.766143], \"type\": \"Point\"}, \"id\": 5160290521, \"properties\": {\"addr:housenumber\": \"52\", \"addr:street\": \"Lungarno del Tempio\", \"amenity\": \"restaurant\", \"name\": \"Trattoria Moderna\"}, \"type\": \"Feature\"}, {\"geometry\": {\"coordinates\": [11.2168366, 43.8241923], \"type\": \"Point\"}, \"id\": 5160705270, \"properties\": {\"amenity\": \"restaurant\", \"cuisine\": \"pizza\"}, \"type\": \"Feature\"}, {\"geometry\": {\"coordinates\": [11.2456214, 43.7725753], \"type\": \"Point\"}, \"id\": 5186162121, \"properties\": {\"amenity\": \"restaurant\", \"cuisine\": \"korean\", \"name:en\": \"Ristorante Goong\"}, \"type\": \"Feature\"}, {\"geometry\": {\"coordinates\": [11.2474049, 43.7732383], \"type\": \"Point\"}, \"id\": 5190978423, \"properties\": {\"amenity\": \"restaurant\", \"name:en\": \"Osteria dei Centopoveri\"}, \"type\": \"Feature\"}, {\"geometry\": {\"coordinates\": [11.2686892, 43.7703772], \"type\": \"Point\"}, \"id\": 5194827121, \"properties\": {\"amenity\": \"restaurant\", \"cuisine\": \"fish;seafood\", \"name\": \"Vivo\"}, \"type\": \"Feature\"}, {\"geometry\": {\"coordinates\": [11.396863, 44.0013736], \"type\": \"Point\"}, \"id\": 5203672924, \"properties\": {\"addr:city\": \"Grezzano\", \"addr:housenumber\": \"95\", \"addr:postcode\": \"50032\", \"addr:street\": \"Via Giovanni Traversi\", \"amenity\": \"restaurant\", \"cuisine\": \"regional;tortelli\", \"name\": \"Bar Pizzeria Valeri\"}, \"type\": \"Feature\"}, {\"geometry\": {\"coordinates\": [11.4070077, 44.0129205], \"type\": \"Point\"}, \"id\": 5203684021, \"properties\": {\"amenity\": \"restaurant\", \"name\": \"Bottega di Grezzano\"}, \"type\": \"Feature\"}, {\"geometry\": {\"coordinates\": [11.2427473, 43.7749674], \"type\": \"Point\"}, \"id\": 5204833795, \"properties\": {\"addr:housenumber\": \"4/b\", \"addr:street\": \"via Il Prato\", \"amenity\": \"restaurant\", \"cuisine\": \"vegan\", \"name\": \"Nirvana\", \"phone\": \"+393466381015\", \"website\": \"https://www.nirvanaristorante.it/\"}, \"type\": \"Feature\"}, {\"geometry\": {\"coordinates\": [11.2578385, 43.7763706], \"type\": \"Point\"}, \"id\": 5216665023, \"properties\": {\"addr:housenumber\": \"149/R\", \"addr:postcode\": \"50121\", \"addr:street\": \"Via degli Alfani\", \"amenity\": \"restaurant\", \"cuisine\": \"chinese\", \"internet_access\": \"wlan\", \"name\": \"Ristorante Alfani\", \"phone\": \"3939393966\"}, \"type\": \"Feature\"}, {\"geometry\": {\"coordinates\": [11.252016, 43.6840059], \"type\": \"Point\"}, \"id\": 5218570610, \"properties\": {\"amenity\": \"restaurant\"}, \"type\": \"Feature\"}, {\"geometry\": {\"coordinates\": [11.2059315, 43.7814165], \"type\": \"Point\"}, \"id\": 5222477621, \"properties\": {\"addr:housenumber\": \"65\", \"addr:street\": \"Via dell'Argingrosso\", \"amenity\": \"restaurant\", \"cuisine\": \"italian_pizza;regional\", \"name\": \"Cinzia\"}, \"type\": \"Feature\"}, {\"geometry\": {\"coordinates\": [11.2917993, 43.7676433], \"type\": \"Point\"}, \"id\": 5224935121, \"properties\": {\"amenity\": \"restaurant\", \"cuisine\": \"italian_pizza\", \"name\": \"Pizzeria Settebello\"}, \"type\": \"Feature\"}, {\"geometry\": {\"coordinates\": [11.1066301, 43.7708514], \"type\": \"Point\"}, \"id\": 5247555218, \"properties\": {\"amenity\": \"restaurant\", \"name\": \"Antica Trattoria Sanesi\"}, \"type\": \"Feature\"}, {\"geometry\": {\"coordinates\": [10.9395136, 43.7268281], \"type\": \"Point\"}, \"id\": 5270684294, \"properties\": {\"amenity\": \"restaurant\"}, \"type\": \"Feature\"}, {\"geometry\": {\"coordinates\": [10.9430675, 43.6782532], \"type\": \"Point\"}, \"id\": 5286543195, \"properties\": {\"amenity\": \"restaurant\", \"cuisine\": \"regional\", \"name\": \"Il Rifugio Monterappoli\", \"opening_hours\": \"Tu-Sa 19:00-23:00; Su 12:30-14:30, 19:00-23:00\"}, \"type\": \"Feature\"}, {\"geometry\": {\"coordinates\": [11.0749721, 43.5475382], \"type\": \"Point\"}, \"id\": 5326134182, \"properties\": {\"amenity\": \"restaurant\", \"name\": \"Pizzeria Ristorante Maroni Di Maroni Daniela\"}, \"type\": \"Feature\"}, {\"geometry\": {\"coordinates\": [11.2692174, 43.7727123], \"type\": \"Point\"}, \"id\": 5333797281, \"properties\": {\"amenity\": \"restaurant\", \"name\": \"Trattoria Cesarino\", \"outdoor_seating\": \"yes\"}, \"type\": \"Feature\"}, {\"geometry\": {\"coordinates\": [11.3610499, 43.7846339], \"type\": \"Point\"}, \"id\": 5349701284, \"properties\": {\"addr:city\": \"Compiobbi\", \"addr:housenumber\": \"1\", \"addr:postcode\": \"50061\", \"addr:street\": \"Piazza Giuseppe Mazzini\", \"amenity\": \"restaurant\", \"contact:facebook\": \"https://www.facebook.com/Pizzeriacrazytrain/\", \"cuisine\": \"pizza\", \"delivery\": \"yes\", \"name\": \"The Crazy Train\", \"opening_hours\": \"Su-Th 19:00-24:00; Fr-Sa 19:00-01:00\", \"outdoor_seating\": \"yes\", \"phone\": \"+39 055 6593640\", \"takeaway\": \"yes\"}, \"type\": \"Feature\"}, {\"geometry\": {\"coordinates\": [11.6179091, 43.9259298], \"type\": \"Point\"}, \"id\": 5379052921, \"properties\": {\"amenity\": \"restaurant\", \"cuisine\": \"regional;local\", \"name\": \"Agnoletti\"}, \"type\": \"Feature\"}, {\"geometry\": {\"coordinates\": [11.194116, 43.8351345], \"type\": \"Point\"}, \"id\": 5390115264, \"properties\": {\"amenity\": \"restaurant\", \"name\": \"Carlo\"}, \"type\": \"Feature\"}, {\"geometry\": {\"coordinates\": [11.1745547, 43.8471315], \"type\": \"Point\"}, \"id\": 5398469767, \"properties\": {\"amenity\": \"restaurant\", \"name\": \"1950 American Diner\"}, \"type\": \"Feature\"}, {\"geometry\": {\"coordinates\": [11.2647906, 44.1375894], \"type\": \"Point\"}, \"id\": 5402842091, \"properties\": {\"amenity\": \"restaurant\", \"cuisine\": \"regional\", \"name\": \"Ristorante Agriturismo Il Passeggere\"}, \"type\": \"Feature\"}, {\"geometry\": {\"coordinates\": [11.3295888, 43.8932738], \"type\": \"Point\"}, \"id\": 5402931404, \"properties\": {\"amenity\": \"restaurant\", \"name\": \"Bar Ristorante Hotel Gli Scoiattoli\"}, \"type\": \"Feature\"}, {\"geometry\": {\"coordinates\": [11.3212657, 43.8950817], \"type\": \"Point\"}, \"id\": 5402931408, \"properties\": {\"amenity\": \"restaurant\", \"name\": \"Ristorante Giotto Park\"}, \"type\": \"Feature\"}, {\"geometry\": {\"coordinates\": [11.3373409, 43.8583943], \"type\": \"Point\"}, \"id\": 5402943822, \"properties\": {\"amenity\": \"restaurant\", \"cuisine\": \"regional\", \"name\": \"Ristorante Dino Messeri Luigi\"}, \"type\": \"Feature\"}, {\"geometry\": {\"coordinates\": [11.2198579, 43.7110471], \"type\": \"Point\"}, \"id\": 5404884637, \"properties\": {\"amenity\": \"restaurant\", \"name\": \"I Maleavezzi\"}, \"type\": \"Feature\"}, {\"geometry\": {\"coordinates\": [11.2464359, 43.7720389], \"type\": \"Point\"}, \"id\": 5405011839, \"properties\": {\"amenity\": \"restaurant\", \"name\": \"Sei Divino\", \"name:it\": \"Sei Divino\"}, \"type\": \"Feature\"}, {\"geometry\": {\"coordinates\": [11.2587068, 43.7775259], \"type\": \"Point\"}, \"id\": 5431618984, \"properties\": {\"amenity\": \"restaurant\", \"contact:email\": \"info@ristoranteaccademia.it\", \"contact:phone\": \"+39 055 217343\", \"contact:website\": \"http://www.ristoranteaccademia.it\", \"cuisine\": \"italian\", \"name\": \"Ristorante Accademia\", \"opening_hours\": \"Mo-Su 12:00-15:00, 19:00-23:00\", \"payment:american_express\": \"yes\", \"payment:mastercard\": \"yes\", \"payment:visa\": \"yes\"}, \"type\": \"Feature\"}, {\"geometry\": {\"coordinates\": [11.2583977, 43.7776466], \"type\": \"Point\"}, \"id\": 5431622720, \"properties\": {\"amenity\": \"restaurant\", \"name\": \"Pasticceria\"}, \"type\": \"Feature\"}, {\"geometry\": {\"coordinates\": [11.2552297, 43.7794281], \"type\": \"Point\"}, \"id\": 5435977822, \"properties\": {\"addr:housenumber\": \"16\", \"addr:street\": \"Via 27 Aprile\", \"amenity\": \"restaurant\", \"name:en\": \"Fuoco Matto\", \"opening_hours\": \"Su-Fr 12:00-14:30, 19:00-23:30; Sa 19:00-23:30\"}, \"type\": \"Feature\"}, {\"geometry\": {\"coordinates\": [11.2529966, 43.7778406], \"type\": \"Point\"}, \"id\": 5446406624, \"properties\": {\"amenity\": \"restaurant\", \"name:en\": \"Mostodolce\"}, \"type\": \"Feature\"}, {\"geometry\": {\"coordinates\": [11.2562954, 43.7721797], \"type\": \"Point\"}, \"id\": 5501734301, \"properties\": {\"addr:city\": \"Firenze\", \"addr:housenumber\": \"15 r\", \"addr:postcode\": \"50122\", \"addr:street\": \"Via delle Oche\", \"amenity\": \"restaurant\", \"capacity\": \"45\", \"delivery\": \"no\", \"name\": \"Osteria de'Cicalini\", \"opening_hours\": \"Mo-Sa 12:30-14:30; 19:30-22:30\", \"outdoor_seating\": \"yes\", \"takeaway\": \"no\"}, \"type\": \"Feature\"}, {\"geometry\": {\"coordinates\": [11.2492332, 43.7682992], \"type\": \"Point\"}, \"id\": 5513759621, \"properties\": {\"amenity\": \"restaurant\", \"name\": \"Ristorante il Cantinone\"}, \"type\": \"Feature\"}, {\"geometry\": {\"coordinates\": [11.5248242, 43.8910019], \"type\": \"Point\"}, \"id\": 5525368484, \"properties\": {\"amenity\": \"restaurant\", \"name\": \"I' Ghiottone\"}, \"type\": \"Feature\"}, {\"geometry\": {\"coordinates\": [11.3007748, 43.6548257], \"type\": \"Point\"}, \"id\": 5531715974, \"properties\": {\"addr:city\": \"Greve in Chianti\", \"addr:street\": \"Via Jacopo da Strada\", \"amenity\": \"restaurant\", \"cuisine\": \"pizza\", \"delivery\": \"no\", \"name\": \"Giardino di Strada\", \"opening_hours\": \"Tu-Su 19:00-23:00\", \"takeaway\": \"yes\", \"wheelchair\": \"yes\"}, \"type\": \"Feature\"}, {\"geometry\": {\"coordinates\": [11.2728992, 43.7706058], \"type\": \"Point\"}, \"id\": 5533937524, \"properties\": {\"addr:housenumber\": \"140\", \"addr:street\": \"Via Vincenzo Gioberti\", \"amenity\": \"restaurant\", \"name\": \"Osteria del Cocotrippone\", \"phone\": \"0552347527\"}, \"type\": \"Feature\"}, {\"geometry\": {\"coordinates\": [11.2493524, 43.5801558], \"type\": \"Point\"}, \"id\": 5547388635, \"properties\": {\"amenity\": \"restaurant\", \"cuisine\": \"italian\", \"name\": \"La Cantinetta Di Passignano\", \"outdoor_seating\": \"yes\"}, \"type\": \"Feature\"}, {\"geometry\": {\"coordinates\": [11.247274, 43.5780243], \"type\": \"Point\"}, \"id\": 5547388636, \"properties\": {\"amenity\": \"restaurant\", \"cuisine\": \"italian\", \"name\": \"Ristoro l'Antica Scuderia\", \"outdoor_seating\": \"yes\"}, \"type\": \"Feature\"}, {\"geometry\": {\"coordinates\": [11.2459356, 43.5768507], \"type\": \"Point\"}, \"id\": 5547388637, \"properties\": {\"amenity\": \"restaurant\", \"cuisine\": \"italian\", \"name\": \"Osteria di Passignano\", \"outdoor_seating\": \"yes\"}, \"type\": \"Feature\"}, {\"geometry\": {\"coordinates\": [11.5374413, 43.7000629], \"type\": \"Point\"}, \"id\": 5547896124, \"properties\": {\"addr:housenumber\": \"68\", \"addr:street\": \"Ponte di Caslino\", \"amenity\": \"restaurant\", \"cuisine\": \"italian;fish;diner\", \"name\": \"Ristorante Archimede\"}, \"type\": \"Feature\"}, {\"geometry\": {\"coordinates\": [11.3672302, 43.7829177], \"type\": \"Point\"}, \"id\": 5547970824, \"properties\": {\"addr:housenumber\": \"59\", \"addr:street\": \"Via di Rosano\", \"amenity\": \"restaurant\", \"cuisine\": \"italian;seafood;fish\", \"name\": \"Acquacheta\"}, \"type\": \"Feature\"}, {\"geometry\": {\"coordinates\": [11.4694131, 43.8524878], \"type\": \"Point\"}, \"id\": 5548013421, \"properties\": {\"addr:housenumber\": \"65\", \"addr:street\": \"Via della Vittoria\", \"amenity\": \"restaurant\", \"cuisine\": \"diner;pizza;italian_pizza\", \"name\": \"Acone\"}, \"type\": \"Feature\"}, {\"geometry\": {\"coordinates\": [11.203855, 43.7959678], \"type\": \"Point\"}, \"id\": 5548027822, \"properties\": {\"addr:housenumber\": \"2\", \"addr:street\": \"Via Pistoiese\", \"amenity\": \"restaurant\", \"cuisine\": \"diner;seafood;italian_pizza\", \"name\": \"Aloisus\"}, \"type\": \"Feature\"}, {\"geometry\": {\"coordinates\": [11.4711755, 43.7511958], \"type\": \"Point\"}, \"id\": 5550857021, \"properties\": {\"addr:street\": \"Via Aretina 46\", \"amenity\": \"restaurant\", \"cuisine\": \"italian_pizza;diner;regional\", \"name\": \"Francesco\"}, \"type\": \"Feature\"}, {\"geometry\": {\"coordinates\": [11.3306035, 43.7581092], \"type\": \"Point\"}, \"id\": 5552533022, \"properties\": {\"addr:housenumber\": \"22\", \"addr:street\": \"Via di Rimaggio\", \"amenity\": \"restaurant\", \"cuisine\": \"italian;regional;diner\", \"name\": \"Trattoria Donnini\"}, \"type\": \"Feature\"}, {\"geometry\": {\"coordinates\": [11.2593012, 43.7759428], \"type\": \"Point\"}, \"id\": 5555208021, \"properties\": {\"addr:housenumber\": \"78r\", \"addr:street\": \"via Alfani\", \"amenity\": \"restaurant\", \"cuisine\": \"fish;fine_dining;seafood;regional\", \"name\": \"Skipper\"}, \"type\": \"Feature\"}, {\"geometry\": {\"coordinates\": [11.2353051, 43.7495585], \"type\": \"Point\"}, \"id\": 5555214542, \"properties\": {\"addr:housenumber\": \"160\", \"addr:street\": \"Via Senese\", \"amenity\": \"restaurant\", \"cuisine\": \"diner;italian_pizza;regional\", \"name\": \"Pipistrello\"}, \"type\": \"Feature\"}, {\"geometry\": {\"coordinates\": [11.256491, 43.7829561], \"type\": \"Point\"}, \"id\": 5557772222, \"properties\": {\"amenity\": \"restaurant\", \"cuisine\": \"chinese\", \"name\": \"Osir\"}, \"type\": \"Feature\"}, {\"geometry\": {\"coordinates\": [11.2946158, 43.8070754], \"type\": \"Point\"}, \"id\": 5560324322, \"properties\": {\"amenity\": \"restaurant\", \"cuisine\": \"indian\", \"name\": \"India\"}, \"type\": \"Feature\"}, {\"geometry\": {\"coordinates\": [11.2685501, 43.7689305], \"type\": \"Point\"}, \"id\": 5560324323, \"properties\": {\"amenity\": \"restaurant\", \"cuisine\": \"italian_pizza;local\", \"name\": \"Le Murate\"}, \"type\": \"Feature\"}, {\"geometry\": {\"coordinates\": [11.2931216, 43.8069438], \"type\": \"Point\"}, \"id\": 5560324522, \"properties\": {\"amenity\": \"restaurant\", \"cuisine\": \"grill;local;steak_house\", \"name\": \"Perseus\"}, \"type\": \"Feature\"}, {\"geometry\": {\"coordinates\": [11.1744706, 43.7622422], \"type\": \"Point\"}, \"id\": 5561067322, \"properties\": {\"addr:housenumber\": \"38\", \"addr:street\": \"Via Gaetano Donizetti\", \"amenity\": \"restaurant\", \"cuisine\": \"italian_pizza;seafood;fish\", \"name\": \"L\\u2019Aragosta\"}, \"type\": \"Feature\"}, {\"geometry\": {\"coordinates\": [11.4283064, 43.7703239], \"type\": \"Point\"}, \"id\": 5561071422, \"properties\": {\"addr:housenumber\": \"20\", \"addr:street\": \"Via di Rosano\", \"amenity\": \"restaurant\", \"cuisine\": \"local;pizza\", \"name\": \"La Torre\"}, \"type\": \"Feature\"}, {\"geometry\": {\"coordinates\": [11.4774795, 43.8260773], \"type\": \"Point\"}, \"id\": 5561085821, \"properties\": {\"addr:housenumber\": \"28\", \"addr:street\": \"Via Colognolese\", \"amenity\": \"restaurant\", \"cuisine\": \"italian;local\", \"name\": \"La Casellina\"}, \"type\": \"Feature\"}, {\"geometry\": {\"coordinates\": [11.2193778, 43.7109032], \"type\": \"Point\"}, \"id\": 5561091521, \"properties\": {\"addr:housenumber\": \"50\", \"addr:street\": \"Via della Repubblica\", \"amenity\": \"restaurant\", \"cuisine\": \"italian_pizza;local\", \"name\": \"La Capricciosa\"}, \"type\": \"Feature\"}, {\"geometry\": {\"coordinates\": [11.2651628, 43.7728789], \"type\": \"Point\"}, \"id\": 5561103021, \"properties\": {\"addr:housenumber\": \"1\", \"addr:street\": \"Via Luigi Carlo Farini\", \"amenity\": \"restaurant\", \"cuisine\": \"diner;international\", \"name\": \"Il Sedano Allegro\", \"name:it\": \"Il Sedano Allegro (cucina ebraica)\"}, \"type\": \"Feature\"}, {\"geometry\": {\"coordinates\": [11.190856, 43.7537713], \"type\": \"Point\"}, \"id\": 5561125921, \"properties\": {\"addr:housenumber\": \"33\", \"addr:street\": \"Via Dante\", \"amenity\": \"restaurant\", \"cuisine\": \"steak_house;local;grill\", \"name\": \"La Braceria\"}, \"type\": \"Feature\"}, {\"geometry\": {\"coordinates\": [11.5047496, 43.9265138], \"type\": \"Point\"}, \"id\": 5561137021, \"properties\": {\"addr:street\": \"Localit\\u00e0 Rossoio\", \"amenity\": \"restaurant\", \"cuisine\": \"italian_pizza;local\", \"name\": \"Il Caldentino\"}, \"type\": \"Feature\"}, {\"geometry\": {\"coordinates\": [11.384028, 43.5985755], \"type\": \"Point\"}, \"id\": 5561147721, \"properties\": {\"addr:street\": \"Strada Provinciale Chianti-Valdarno\", \"amenity\": \"restaurant\", \"cuisine\": \"local;italian;grill\", \"name\": \"Il Dudda\"}, \"type\": \"Feature\"}, {\"geometry\": {\"coordinates\": [11.2337669, 43.791918], \"type\": \"Point\"}, \"id\": 5561147722, \"properties\": {\"addr:street\": \"Via Antonio Pigafetta\", \"amenity\": \"restaurant\", \"cuisine\": \"italian_pizza;local\", \"name\": \"I Ciri B\\u00e8\"}, \"type\": \"Feature\"}, {\"geometry\": {\"coordinates\": [11.1424599, 43.7485548], \"type\": \"Point\"}, \"id\": 5562839521, \"properties\": {\"addr:housenumber\": \"5\", \"addr:street\": \"Via di Calcinaia\", \"amenity\": \"restaurant\", \"cuisine\": \"local;sandwich;buschenschank\", \"name\": \"Antica Pizzicheria San Martino\"}, \"type\": \"Feature\"}, {\"geometry\": {\"coordinates\": [11.2661635, 43.8858672], \"type\": \"Point\"}, \"id\": 5562845721, \"properties\": {\"addr:housenumber\": \"2383\", \"addr:street\": \"Via di Paterno\", \"amenity\": \"restaurant\", \"cuisine\": \"local;buschenschank\", \"name\": \"Antica Trattoria di Paterno\"}, \"type\": \"Feature\"}, {\"geometry\": {\"coordinates\": [11.2829181, 43.7759438], \"type\": \"Point\"}, \"id\": 5562951421, \"properties\": {\"addr:housenumber\": \"4\", \"addr:street\": \"Viale Malta\", \"amenity\": \"restaurant\", \"cuisine\": \"steak_house;italian_pizza;burger\", \"name\": \"Aviazione\"}, \"type\": \"Feature\"}, {\"geometry\": {\"coordinates\": [11.2261347, 43.7906184], \"type\": \"Point\"}, \"id\": 5562964022, \"properties\": {\"addr:housenumber\": \"53\", \"addr:street\": \"Via di Novoli\", \"amenity\": \"restaurant\", \"cuisine\": \"sushi;chinese\", \"name\": \"Bamboo\"}, \"type\": \"Feature\"}, {\"geometry\": {\"coordinates\": [11.2580455, 43.7680824], \"type\": \"Point\"}, \"id\": 5562979821, \"properties\": {\"addr:housenumber\": \"16\", \"addr:street\": \"Via della Mosca\", \"amenity\": \"restaurant\", \"cuisine\": \"regional;buschenschank;diner\", \"name\": \"Benvenuto\"}, \"type\": \"Feature\"}, {\"geometry\": {\"coordinates\": [11.3643564, 44.0048442], \"type\": \"Point\"}, \"id\": 5569930933, \"properties\": {\"addr:housenumber\": \"93\", \"addr:street\": \"Viale Dante\", \"amenity\": \"restaurant\", \"cuisine\": \"local;italian\", \"name\": \"Il Palagio\", \"name:it\": \"Fattoria il Palagio\"}, \"type\": \"Feature\"}, {\"geometry\": {\"coordinates\": [11.3643564, 44.0048442], \"type\": \"Point\"}, \"id\": 78328019, \"properties\": {\"building\": \"yes\"}, \"type\": \"Feature\"}, {\"geometry\": {\"coordinates\": [11.3643564, 44.0048442], \"type\": \"Point\"}, \"id\": 78328020, \"properties\": {\"building\": \"yes\"}, \"type\": \"Feature\"}, {\"geometry\": {\"coordinates\": [11.3643564, 44.0048442], \"type\": \"Point\"}, \"id\": 109770092, \"properties\": {\"building\": \"yes\"}, \"type\": \"Feature\"}, {\"geometry\": {\"coordinates\": [11.3643564, 44.0048442], \"type\": \"Point\"}, \"id\": 112763071, \"properties\": {\"building\": \"yes\"}, \"type\": \"Feature\"}, {\"geometry\": {\"coordinates\": [11.3643564, 44.0048442], \"type\": \"Point\"}, \"id\": 170317241, \"properties\": {\"building\": \"apartments\"}, \"type\": \"Feature\"}, {\"geometry\": {\"coordinates\": [11.3643564, 44.0048442], \"type\": \"Point\"}, \"id\": 272730784, \"properties\": {\"building\": \"yes\"}, \"type\": \"Feature\"}, {\"geometry\": {\"coordinates\": [11.3643564, 44.0048442], \"type\": \"Point\"}, \"id\": 279796626, \"properties\": {\"building\": \"yes\"}, \"type\": \"Feature\"}, {\"geometry\": {\"coordinates\": [11.3643564, 44.0048442], \"type\": \"Point\"}, \"id\": 314476107, \"properties\": {\"building\": \"yes\"}, \"type\": \"Feature\"}], \"type\": \"FeatureCollection\"}\n"
     ]
    }
   ],
   "source": [
    "import overpass\n",
    "import json\n",
    "\n",
    "api = overpass.API()\n",
    "area_name = \"Firenze\"\n",
    "query = \"\"\"area[name=\"{}\"]->.a;(node[\"amenity\"=\"restaurant\"](area.a);<;);\"\"\".format(area_name)\n",
    "response = api.Get(\n",
    "    query,\n",
    "    responseformat=\"geojson\",\n",
    "    verbosity=\"meta\")\n",
    "print(response)"
   ]
  },
  {
   "cell_type": "code",
   "execution_count": 50,
   "metadata": {
    "slideshow": {
     "slide_type": "subslide"
    }
   },
   "outputs": [],
   "source": [
    "data_path = \"data/restaurants.geojson\"\n",
    "with open(data_path,\"w\") as output:\n",
    "    json.dump(response,output)"
   ]
  },
  {
   "cell_type": "markdown",
   "metadata": {
    "slideshow": {
     "slide_type": "slide"
    }
   },
   "source": [
    "# How to work with geodata?  Enter GeoPandas!"
   ]
  },
  {
   "cell_type": "markdown",
   "metadata": {
    "slideshow": {
     "slide_type": "fragment"
    }
   },
   "source": [
    " - Extends `pandas`: tabular data understands geography!"
   ]
  },
  {
   "cell_type": "markdown",
   "metadata": {
    "slideshow": {
     "slide_type": "fragment"
    }
   },
   "source": [
    " - `geometry` columns encodes geometric features with `shapely` data structures"
   ]
  },
  {
   "cell_type": "code",
   "execution_count": 51,
   "metadata": {
    "slideshow": {
     "slide_type": "fragment"
    }
   },
   "outputs": [],
   "source": [
    "import pandas as pd\n",
    "import geopandas as gpd\n",
    " \n",
    "restaurants = gpd.read_file(data_path)"
   ]
  },
  {
   "cell_type": "code",
   "execution_count": 96,
   "metadata": {
    "slideshow": {
     "slide_type": "fragment"
    }
   },
   "outputs": [
    {
     "data": {
      "text/html": [
       "<div>\n",
       "<style scoped>\n",
       "    .dataframe tbody tr th:only-of-type {\n",
       "        vertical-align: middle;\n",
       "    }\n",
       "\n",
       "    .dataframe tbody tr th {\n",
       "        vertical-align: top;\n",
       "    }\n",
       "\n",
       "    .dataframe thead th {\n",
       "        text-align: right;\n",
       "    }\n",
       "</style>\n",
       "<table border=\"1\" class=\"dataframe\">\n",
       "  <thead>\n",
       "    <tr style=\"text-align: right;\">\n",
       "      <th></th>\n",
       "      <th>payment:american_express</th>\n",
       "      <th>payment:visa</th>\n",
       "      <th>building</th>\n",
       "      <th>geometry</th>\n",
       "    </tr>\n",
       "    <tr>\n",
       "      <th>index_right</th>\n",
       "      <th></th>\n",
       "      <th></th>\n",
       "      <th></th>\n",
       "      <th></th>\n",
       "    </tr>\n",
       "  </thead>\n",
       "  <tbody>\n",
       "    <tr>\n",
       "      <th>0</th>\n",
       "      <td>None</td>\n",
       "      <td>None</td>\n",
       "      <td>yes</td>\n",
       "      <td>POINT (11.3643564 44.0048442)</td>\n",
       "    </tr>\n",
       "    <tr>\n",
       "      <th>1</th>\n",
       "      <td>None</td>\n",
       "      <td>None</td>\n",
       "      <td>yes</td>\n",
       "      <td>POINT (11.3643564 44.0048442)</td>\n",
       "    </tr>\n",
       "    <tr>\n",
       "      <th>2</th>\n",
       "      <td>None</td>\n",
       "      <td>None</td>\n",
       "      <td>yes</td>\n",
       "      <td>POINT (11.3643564 44.0048442)</td>\n",
       "    </tr>\n",
       "    <tr>\n",
       "      <th>3</th>\n",
       "      <td>None</td>\n",
       "      <td>None</td>\n",
       "      <td>yes</td>\n",
       "      <td>POINT (11.3643564 44.0048442)</td>\n",
       "    </tr>\n",
       "    <tr>\n",
       "      <th>4</th>\n",
       "      <td>None</td>\n",
       "      <td>None</td>\n",
       "      <td>None</td>\n",
       "      <td>POINT (11.224469 43.9144118)</td>\n",
       "    </tr>\n",
       "  </tbody>\n",
       "</table>\n",
       "</div>"
      ],
      "text/plain": [
       "            payment:american_express payment:visa building  \\\n",
       "index_right                                                  \n",
       "0                               None         None      yes   \n",
       "1                               None         None      yes   \n",
       "2                               None         None      yes   \n",
       "3                               None         None      yes   \n",
       "4                               None         None     None   \n",
       "\n",
       "                                  geometry  \n",
       "index_right                                 \n",
       "0            POINT (11.3643564 44.0048442)  \n",
       "1            POINT (11.3643564 44.0048442)  \n",
       "2            POINT (11.3643564 44.0048442)  \n",
       "3            POINT (11.3643564 44.0048442)  \n",
       "4             POINT (11.224469 43.9144118)  "
      ]
     },
     "execution_count": 96,
     "metadata": {},
     "output_type": "execute_result"
    }
   ],
   "source": [
    "restaurants.iloc[:,68:].head(5)"
   ]
  },
  {
   "cell_type": "markdown",
   "metadata": {
    "slideshow": {
     "slide_type": "slide"
    }
   },
   "source": [
    "# Coordinate Reference Systems!\n",
    "\n",
    "<!-- What is the problem cartographers are tyring to solve?-->\n",
    "\n",
    "\n",
    "<!-- How represent a our spherical world on a flat surface (a map)! -->\n",
    "\n",
    "![](imgs/carto-dilemma.png)"
   ]
  },
  {
   "cell_type": "markdown",
   "metadata": {
    "slideshow": {
     "slide_type": "subslide"
    }
   },
   "source": [
    "> In that Empire, the Art of Cartography attained such Perfection that the map of a single Province occupied the entirety of a City, and the map of the Empire, the entirety of a Province. In time, those Unconscionable Maps no longer satisfied, and the Cartographers Guilds struck **a Map of the Empire whose size was that of the Empire, and which coincided point for point with it** -  *L.Borges, \"Del rigor en la ciencia\"*"
   ]
  },
  {
   "cell_type": "markdown",
   "metadata": {
    "slideshow": {
     "slide_type": "fragment"
    }
   },
   "source": [
    "![](imgs/giant-earth.jpg)"
   ]
  },
  {
   "cell_type": "markdown",
   "metadata": {
    "slideshow": {
     "slide_type": "subslide"
    }
   },
   "source": [
    "## Projections! \n",
    "\n",
    "![](imgs/map-head.jpg)\n",
    "[<span class=\"black\">QUICK DEMO</span>](http://bl.ocks.org/vlandham/raw/9216751/)\n",
    "\n",
    "<!---\n",
    "## There are many types of projections....\n",
    "- **Azimuthal**= preserves the azimuth (direction) from center\n",
    "- **Conformal**= preserves angles, thus local(small!) shapes \n",
    "-  **Equal-area**= preserve areas, thus distorting shapes\n",
    "- **Equidistant**= preserves distances from center (or along certain lines, like along meridians) are correct\n",
    "...each one carries a <span class=\"alert\">trade-off<span>!\n",
    "[<span class=\"black\">QUICK DEMO</alert>](https://bl.ocks.org/syntagmatic/raw/ba569633d51ebec6ec6e/)\n",
    "-->"
   ]
  },
  {
   "cell_type": "markdown",
   "metadata": {
    "slideshow": {
     "slide_type": "subslide"
    }
   },
   "source": [
    "## ...each one carries a trade-off!\n",
    "\n",
    "![](imgs/distorsion.png)\n",
    "\n",
    "[<span class=\"black\">QUICK DEMO</span>](https://geopuzzle.org/)"
   ]
  },
  {
   "cell_type": "markdown",
   "metadata": {
    "slideshow": {
     "slide_type": "subslide"
    }
   },
   "source": [
    "## Which one to use?  \n",
    "\n",
    "![](imgs/xkcd1.png)\n",
    "*(Obligatory XKCD reference #1)*"
   ]
  },
  {
   "cell_type": "markdown",
   "metadata": {
    "slideshow": {
     "slide_type": "subslide"
    }
   },
   "source": [
    "# How to deal with CRS (from a python perspective)?\n",
    "<!--[](https://alastaira.wordpress.com/2011/01/23/the-google-maps-bing-maps-spherical-mercator-projection/)-->"
   ]
  },
  {
   "cell_type": "code",
   "execution_count": 97,
   "metadata": {
    "slideshow": {
     "slide_type": "fragment"
    }
   },
   "outputs": [
    {
     "name": "stdout",
     "output_type": "stream",
     "text": [
      "{'init': 'epsg:4326'}\n"
     ]
    }
   ],
   "source": [
    "# Let's check if the data already has a CRS\n",
    "print(restaurants.crs)"
   ]
  },
  {
   "cell_type": "code",
   "execution_count": 54,
   "metadata": {
    "slideshow": {
     "slide_type": "fragment"
    }
   },
   "outputs": [],
   "source": [
    "# Hooray! The data is projected in The World Geodetic System 1984\n",
    "# CRS is useby GPS. Longitude and latitude are in decimal degrees. \n",
    "# GeoJSON's CRS\n",
    "proj_restaurants = restaurants.to_crs({\"init\":\"epsg:3857\"})"
   ]
  },
  {
   "cell_type": "code",
   "execution_count": 55,
   "metadata": {
    "slideshow": {
     "slide_type": "fragment"
    }
   },
   "outputs": [
    {
     "name": "stdout",
     "output_type": "stream",
     "text": [
      "0    POINT (1265074.367641279 5466191.865034976)\n",
      "1    POINT (1265074.367641279 5466191.865034976)\n",
      "2    POINT (1265074.367641279 5466191.865034976)\n",
      "3    POINT (1265074.367641279 5466191.865034976)\n",
      "4    POINT (1249502.173504885 5452206.751375701)\n",
      "Name: geometry, dtype: object\n"
     ]
    }
   ],
   "source": [
    "print(proj_restaurants[\"geometry\"].head())"
   ]
  },
  {
   "cell_type": "markdown",
   "metadata": {
    "slideshow": {
     "slide_type": "slide"
    }
   },
   "source": [
    "# Data Visualization!\n",
    "\n",
    "![](imgs/map-types.png)"
   ]
  },
  {
   "cell_type": "code",
   "execution_count": 56,
   "metadata": {
    "slideshow": {
     "slide_type": "subslide"
    }
   },
   "outputs": [],
   "source": [
    "import os\n",
    "from mapboxgl import HeatmapViz, create_color_stops\n"
   ]
  },
  {
   "cell_type": "code",
   "execution_count": 57,
   "metadata": {
    "slideshow": {
     "slide_type": "fragment"
    }
   },
   "outputs": [],
   "source": [
    "#Mapbox token\n",
    "token = os.getenv(\"MAPBOX_ACCESS_TOKEN\")\n",
    "\n",
    "#Create a heatmap style\n",
    "heatmap_color_stops = create_color_stops([0.1,0.25,0.5,0.75,1], colors=\"YlOrRd\")\n",
    "heatmap_radius_stops = [[9, 15], [20, 100]] #increase radius with zoom\n",
    "intensity_stops = [[9, 0.01], [20, 0.3]]\n",
    "\n",
    "#Create a heatmap \n",
    "heatmap = HeatmapViz(\"data/restaurants.geojson\", \n",
    "                  access_token=token,\n",
    "                  color_stops = heatmap_color_stops,\n",
    "                  radius_stops = heatmap_radius_stops,\n",
    "                  intensity_stops = intensity_stops,\n",
    "                  opacity = 0.9,\n",
    "                  center = (11.25, 43.77),\n",
    "                  zoom = 13\n",
    "                  \n",
    "                 )"
   ]
  },
  {
   "cell_type": "code",
   "execution_count": 58,
   "metadata": {
    "scrolled": true,
    "slideshow": {
     "slide_type": "subslide"
    }
   },
   "outputs": [
    {
     "data": {
      "text/html": [
       "<iframe id=\"map\", srcdoc=\"<!DOCTYPE html>\n",
       "<html>\n",
       "<head>\n",
       "<title>mapboxgl-jupyter viz</title>\n",
       "<meta charset='UTF-8' />\n",
       "<meta name='viewport'\n",
       "      content='initial-scale=1,maximum-scale=1,user-scalable=no' />\n",
       "<script type='text/javascript'\n",
       "        src='https://api.tiles.mapbox.com/mapbox-gl-js/v0.44.1/mapbox-gl.js'></script>\n",
       "<link type='text/css'\n",
       "      href='https://api.tiles.mapbox.com/mapbox-gl-js/v0.44.1/mapbox-gl.css' rel='stylesheet' />\n",
       "<style type='text/css'>\n",
       "    body { margin:0; padding:0; }\n",
       "    .map { position:absolute; top:0; bottom:0; width:100%; }\n",
       "    .legend {\n",
       "        background-color: white;\n",
       "        color: black;\n",
       "        border-radius: 3px;\n",
       "        bottom: 50px;\n",
       "        width: 100px;\n",
       "        box-shadow: 0 1px 2px rgba(0, 0, 0, 0.10);\n",
       "        font: 12px/20px 'Helvetica Neue', Arial, Helvetica, sans-serif;\n",
       "        padding: 12px;\n",
       "        position: absolute;\n",
       "        right: 10px;\n",
       "        z-index: 1;\n",
       "    }\n",
       "    .legend h4 { margin: 0 0 10px; }\n",
       "    .legend-title {\n",
       "        margin: 6px;\n",
       "        padding: 6px;\n",
       "        font-weight: bold !important;\n",
       "        font-size: 14px;\n",
       "        font: 12px/20px 'Helvetica Neue', Arial, Helvetica, sans-serif;\n",
       "    }\n",
       "    .legend div span {\n",
       "        border-radius: 50%;\n",
       "        display: inline-block;\n",
       "        height: 10px;\n",
       "        margin-right: 5px;\n",
       "        width: 10px;\n",
       "    }\n",
       "</style>\n",
       "\n",
       "</head>\n",
       "<body>\n",
       "\n",
       "<div id='map' class='map'></div>\n",
       "<div id='legend' class='legend'></div>\n",
       "\n",
       "<script type='text/javascript'>\n",
       "\n",
       "function calcCircleColorLegend(myColorStops, title) {\n",
       "    //Calculate a legend element on a Mapbox GL Style Spec property function stops array\n",
       "    var mytitle = document.createElement('div');\n",
       "    mytitle.textContent = title;\n",
       "    mytitle.className = 'legend-title'\n",
       "    var legend = document.getElementById('legend');\n",
       "    legend.appendChild(mytitle);\n",
       "\n",
       "    for (p = 0; p < myColorStops.length; p++) {\n",
       "        if (!!document.getElementById('legend-points-value-' + p)) {\n",
       "            //update the legend if it already exists\n",
       "            document.getElementById('legend-points-value-' + p).textContent = myColorStops[p][0];\n",
       "            document.getElementById('legend-points-id-' + p).style.backgroundColor = myColorStops[p][1];\n",
       "        } else {\n",
       "            //create the legend if it doesn't yet exist\n",
       "            var item = document.createElement('div');\n",
       "            var key = document.createElement('span');\n",
       "            key.className = 'legend-key';\n",
       "            var value = document.createElement('span');\n",
       "\n",
       "            key.id = 'legend-points-id-' + p;\n",
       "            key.style.backgroundColor = myColorStops[p][1];\n",
       "            value.id = 'legend-points-value-' + p;\n",
       "\n",
       "            item.appendChild(key);\n",
       "            item.appendChild(value);\n",
       "            legend.appendChild(item);\n",
       "            \n",
       "            data = document.getElementById('legend-points-value-' + p)\n",
       "            data.textContent = myColorStops[p][0];\n",
       "        }\n",
       "    }\n",
       "}\n",
       "\n",
       "function generateInterpolateExpression(propertyValue, stops) {\n",
       "    var expression;\n",
       "    if (propertyValue == 'zoom') {\n",
       "        expression = ['interpolate', ['exponential', 1.2], ['zoom']]\n",
       "    }\n",
       "    else if (propertyValue == 'heatmap-density') {\n",
       "        expression = ['interpolate', ['linear'], ['heatmap-density']]\n",
       "    }\n",
       "    else {\n",
       "        expression = ['interpolate', ['linear'], ['get', propertyValue]]\n",
       "    }\n",
       "\n",
       "    for (var i=0; i<stops.length; i++) {\n",
       "        expression.push(stops[i][0], stops[i][1])\n",
       "    }\n",
       "    return expression\n",
       "}\n",
       "\n",
       "\n",
       "function generateMatchExpression(propertyValue, stops, defaultValue) {\n",
       "    var expression;\n",
       "    expression = ['match', ['get', propertyValue]]\n",
       "    for (var i=0; i<stops.length; i++) {\n",
       "        expression.push(stops[i][0], stops[i][1])\n",
       "    }\n",
       "    expression.push(defaultValue)\n",
       "    \n",
       "    return expression\n",
       "}\n",
       "\n",
       "\n",
       "function generatePropertyExpression(expressionType, propertyValue, stops, defaultValue) {\n",
       "    var expression;\n",
       "    if (expressionType == 'match') {\n",
       "        expression = generateMatchExpression(propertyValue, stops, defaultValue)\n",
       "    }\n",
       "    else {\n",
       "        expression = generateInterpolateExpression(propertyValue, stops)\n",
       "    }\n",
       "\n",
       "    return expression\n",
       "}\n",
       "\n",
       "\n",
       "</script>\n",
       "\n",
       "<!-- main map creation code, extended by mapboxgl/templates/heatmap.html -->\n",
       "<script type='text/javascript'>\n",
       "\n",
       "\n",
       "    mapboxgl.accessToken = 'pk.eyJ1IjoiY2FydG9taWtlIiwiYSI6IjA3ODMzYzc1NDQ5ZmZhMWY1ZjU4NGEwOGUyN2E3OWEzIn0.1AMo07FLn59Mtc3qSNp94g';\n",
       "\n",
       "    var map = new mapboxgl.Map({\n",
       "        container: 'map',\n",
       "        style: 'mapbox://styles/mapbox/light-v9?optimize=true',\n",
       "        center: [11.25, 43.77],\n",
       "        zoom: 13,\n",
       "        pitch: 0,\n",
       "        bearing: 0,\n",
       "        transformRequest: (url, resourceType)=> {\n",
       "            if ( url.slice(0,22) == 'https://api.mapbox.com' ) {\n",
       "                //Add Python Plugin identifier for Mapbox API traffic\n",
       "                return {\n",
       "                   url: [url.slice(0, url.indexOf('?')+1), 'pluginName=PythonMapboxgl&', url.slice(url.indexOf('?')+1)].join('')\n",
       "                 }\n",
       "             }\n",
       "             else {\n",
       "                 //Do not transform URL for non Mapbox GET requests\n",
       "                 return {url: url}\n",
       "             }\n",
       "        }\n",
       "    });\n",
       "\n",
       "    \n",
       "\n",
       "        map.addControl(new mapboxgl.NavigationControl());\n",
       "\n",
       "    \n",
       "\n",
       "    \n",
       "\n",
       "    document.getElementById('legend').style.visibility = 'hidden';\n",
       "\n",
       "\n",
       "\n",
       "    \n",
       "\n",
       "    map.on('style.load', function() {\n",
       "\n",
       "        map.addSource('data', {\n",
       "            'type': 'geojson',\n",
       "            'data': 'data/restaurants.geojson', //data from dataframe output to geojson\n",
       "            'buffer': 0,\n",
       "            'maxzoom': 14\n",
       "        });\n",
       "\n",
       "        map.addLayer({\n",
       "            'id': 'circle',\n",
       "            'source': 'data',\n",
       "            'type': 'heatmap',\n",
       "            'maxzoom': 24,\n",
       "            'minzoom': 0,\n",
       "            'paint': {\n",
       "                \n",
       "                    'heatmap-radius': generatePropertyExpression('interpolate', 'zoom', [[9, 15], [20, 100]]),\n",
       "                \n",
       "                \n",
       "                \n",
       "                    'heatmap-intensity': generateInterpolateExpression('zoom', [[9, 0.01], [20, 0.3]] ),\n",
       "                \n",
       "                \n",
       "                    'heatmap-color' : generateInterpolateExpression('heatmap-density', [[1e-05, 'rgba(0,0,0,0)'], [0.1, 'rgb(255,255,178)'], [0.25, 'rgb(254,204,92)'], [0.5, 'rgb(253,141,60)'], [0.75, 'rgb(240,59,32)'], [1, 'rgb(189,0,38)']] ),\n",
       "                \n",
       "                'heatmap-opacity' : 0.9\n",
       "            }\n",
       "        }, '' );\n",
       "\n",
       "    });\n",
       "\n",
       "\n",
       "\n",
       "\n",
       "</script>\n",
       "\n",
       "</body>\n",
       "</html>\" style=\"width: 100%; height: 500px;\"></iframe>"
      ],
      "text/plain": [
       "<IPython.core.display.HTML object>"
      ]
     },
     "metadata": {},
     "output_type": "display_data"
    }
   ],
   "source": [
    "heatmap.show()"
   ]
  },
  {
   "cell_type": "markdown",
   "metadata": {
    "slideshow": {
     "slide_type": "subslide"
    }
   },
   "source": [
    "![](imgs/xkcd2.png)\n",
    "(*Obligatory XKCD reference #2*)"
   ]
  },
  {
   "cell_type": "markdown",
   "metadata": {
    "slideshow": {
     "slide_type": "subslide"
    }
   },
   "source": [
    "## On Choropleths, data & color scales\n",
    "- \"Many Areas\" maps where each area is shaded proprtionally to the measured variable"
   ]
  },
  {
   "cell_type": "markdown",
   "metadata": {
    "slideshow": {
     "slide_type": "fragment"
    }
   },
   "source": [
    "- Problems: depend on the area resolution (e.g. MAUP)!\n",
    "    - ...sensitive to classification [Telling Truth](http://uxblog.idvsolutions.com/2011/10/telling-truth.html)\n",
    "    - ...and to different color scales [Colors for data scientists](http://tools.medialab.sciences-po.fr/iwanthue/), [colorpicker for data](http://tristen.ca/hcl-picker/#/hlc/6/1.05/704157/D86F72)\n",
    "\n",
    "![](imgs/colors-data-scientists.png)"
   ]
  },
  {
   "cell_type": "markdown",
   "metadata": {
    "slideshow": {
     "slide_type": "subslide"
    }
   },
   "source": [
    "![](imgs/classification.jpg)\n",
    "[@lisacrost](https://lisacharlotterost.github.io/2014/12/14/Styling-Choropleth-Maps-2/)"
   ]
  },
  {
   "cell_type": "code",
   "execution_count": 71,
   "metadata": {
    "slideshow": {
     "slide_type": "subslide"
    }
   },
   "outputs": [
    {
     "data": {
      "text/plain": [
       "<matplotlib.axes._subplots.AxesSubplot at 0x10fdf5f28>"
      ]
     },
     "execution_count": 71,
     "metadata": {},
     "output_type": "execute_result"
    },
    {
     "data": {
      "image/png": "[encoded data removed]",
      "text/plain": [
       "<Figure size 432x288 with 1 Axes>"
      ]
     },
     "metadata": {},
     "output_type": "display_data"
    }
   ],
   "source": [
    "# Load census tracts in Italy\n",
    "census_tracts = gpd.read_file('data/R09_11_WGS84/R09_11_WGS84.shp')\n",
    "\n",
    "# Subset to Florence's own\n",
    "florence_tracts = census_tracts.loc[census_tracts[\"COD_ISTAT\"]== 9048017]\n",
    "\n",
    "florence_tracts.plot()"
   ]
  },
  {
   "cell_type": "code",
   "execution_count": 72,
   "metadata": {
    "slideshow": {
     "slide_type": "fragment"
    }
   },
   "outputs": [
    {
     "name": "stdout",
     "output_type": "stream",
     "text": [
      "Warning: CRS does not match!\n"
     ]
    }
   ],
   "source": [
    "# Spatial Join tracts with restaurants\n",
    "restaurants_tract = gpd.sjoin(restaurants, florence_tracts, op=\"within\")"
   ]
  },
  {
   "cell_type": "code",
   "execution_count": 73,
   "metadata": {
    "slideshow": {
     "slide_type": "fragment"
    }
   },
   "outputs": [
    {
     "name": "stdout",
     "output_type": "stream",
     "text": [
      "{'init': 'epsg:4326'} {'init': 'epsg:32632'}\n"
     ]
    }
   ],
   "source": [
    "print(restaurants.crs, florence_tracts.crs)"
   ]
  },
  {
   "cell_type": "code",
   "execution_count": 74,
   "metadata": {
    "slideshow": {
     "slide_type": "subslide"
    }
   },
   "outputs": [],
   "source": [
    "# \"In a Spatial Join, observations from to GeoSeries or GeoDataFrames are combined\n",
    "# based on their spatial relationship to one another.\" [GeoPandas docs]\n",
    "restaurants_tract = gpd.sjoin(florence_tracts.to_crs(restaurants.crs),restaurants)"
   ]
  },
  {
   "cell_type": "code",
   "execution_count": 75,
   "metadata": {
    "slideshow": {
     "slide_type": "subslide"
    }
   },
   "outputs": [
    {
     "data": {
      "text/plain": [
       "SEZ2011\n",
       "480170060916    9\n",
       "480170060969    6\n",
       "480170060943    6\n",
       "480170060671    5\n",
       "480170060412    4\n",
       "dtype: int64"
      ]
     },
     "execution_count": 75,
     "metadata": {},
     "output_type": "execute_result"
    }
   ],
   "source": [
    "# how many restaurants per tract?\n",
    "restaurants_tract.groupby(\"SEZ2011\").size().sort_values(ascending=False).head()"
   ]
  },
  {
   "cell_type": "code",
   "execution_count": 76,
   "metadata": {
    "slideshow": {
     "slide_type": "fragment"
    }
   },
   "outputs": [],
   "source": [
    "# save variable\n",
    "restaurants_count = restaurants_tract.groupby(\"SEZ2011\").size().reset_index()\n",
    "\n",
    "# Merge tracts with counts WITH original tracts\n",
    "florence_tracts_restaurants_count = pd.merge(florence_tracts, restaurants_count, how=\"left\", on=\"SEZ2011\")\n",
    "\n",
    "# keep only useful columns\n",
    "florence_tracts_restaurants_count =  florence_tracts_restaurants_count[[\"SEZ2011\",\"geometry\",0]]\n",
    "\n",
    "# rename columns\n",
    "florence_tracts_restaurants_count.columns = [\"SEZ2011\",\"geometry\",\"density\"]\n",
    "\n",
    "# assign 0 to areas without restaurants\n",
    "florence_tracts_restaurants_count = florence_tracts_restaurants_count.fillna(0)\n",
    "\n",
    "# re-project to EPSG 4326\n",
    "florence_tracts_restaurants_count_prj = florence_tracts_restaurants_count.to_crs({\"init\":\"epsg:4326\"})\n",
    "# save for later\n",
    "# florence_tracts_restaurants_count_prj.to_file(\"data/restaurants_count.geojson\",driver=\"GeoJSON\")\n"
   ]
  },
  {
   "cell_type": "code",
   "execution_count": 77,
   "metadata": {
    "slideshow": {
     "slide_type": "subslide"
    }
   },
   "outputs": [
    {
     "name": "stderr",
     "output_type": "stream",
     "text": [
      "/Users/mferretti/.virtualenvs/pycon/lib/python3.6/site-packages/matplotlib/axes/_axes.py:6462: UserWarning: The 'normed' kwarg is deprecated, and has been replaced by the 'density' kwarg.\n",
      "  warnings.warn(\"The 'normed' kwarg is deprecated, and has been \"\n"
     ]
    },
    {
     "data": {
      "text/plain": [
       "<matplotlib.axes._subplots.AxesSubplot at 0x10f36b1d0>"
      ]
     },
     "execution_count": 77,
     "metadata": {},
     "output_type": "execute_result"
    },
    {
     "data": {
      "image/png": "[encoded data removed]",
      "text/plain": [
       "<Figure size 432x288 with 1 Axes>"
      ]
     },
     "metadata": {},
     "output_type": "display_data"
    }
   ],
   "source": [
    "import seaborn as sns\n",
    "sns.distplot(florence_tracts_restaurants_count_prj[\"density\"], kde=False, rug=True)\n",
    "\n"
   ]
  },
  {
   "cell_type": "code",
   "execution_count": 92,
   "metadata": {
    "slideshow": {
     "slide_type": "subslide"
    }
   },
   "outputs": [],
   "source": [
    "from mapboxgl import ChoroplethViz, create_color_stops, jenks\n",
    "\n",
    "\n",
    "# bin data with jenks classification alg.\n",
    "jenks_classification = jenks(florence_tracts_restaurants_count_prj[\"density\"].tolist(),7)\n",
    "# [0.0, 0.0, 1.0, 2.0, 4.0, 9.0]"
   ]
  },
  {
   "cell_type": "code",
   "execution_count": 93,
   "metadata": {
    "slideshow": {
     "slide_type": "fragment"
    }
   },
   "outputs": [],
   "source": [
    "# create choropleth from polygon features stored as GeoJSON\n",
    "viz = ChoroplethViz(\"data/restaurants_count.geojson\", \n",
    "                     color_property='density',\n",
    "                     color_stops=create_color_stops(jenks_classification, colors='YlOrRd'),\n",
    "                     color_function_type='interpolate',\n",
    "                     line_stroke='--',\n",
    "                     line_color='rgb(128,0,38)',\n",
    "                     line_width=1,\n",
    "                     opacity=0.8,\n",
    "                     center=(11.25, 43.77),\n",
    "                     zoom=13,\n",
    "                     access_token = token,  \n",
    "                     height_property =\"density\",\n",
    "                     height_stops = [[0, 0], [100, 250], [250, 500], [500, 1500]]\n",
    "                    )"
   ]
  },
  {
   "cell_type": "code",
   "execution_count": 94,
   "metadata": {
    "slideshow": {
     "slide_type": "subslide"
    }
   },
   "outputs": [
    {
     "data": {
      "text/html": [
       "<iframe id=\"map\", srcdoc=\"<!DOCTYPE html>\n",
       "<html>\n",
       "<head>\n",
       "<title>mapboxgl-jupyter viz</title>\n",
       "<meta charset='UTF-8' />\n",
       "<meta name='viewport'\n",
       "      content='initial-scale=1,maximum-scale=1,user-scalable=no' />\n",
       "<script type='text/javascript'\n",
       "        src='https://api.tiles.mapbox.com/mapbox-gl-js/v0.44.1/mapbox-gl.js'></script>\n",
       "<link type='text/css'\n",
       "      href='https://api.tiles.mapbox.com/mapbox-gl-js/v0.44.1/mapbox-gl.css' rel='stylesheet' />\n",
       "<style type='text/css'>\n",
       "    body { margin:0; padding:0; }\n",
       "    .map { position:absolute; top:0; bottom:0; width:100%; }\n",
       "    .legend {\n",
       "        background-color: white;\n",
       "        color: black;\n",
       "        border-radius: 3px;\n",
       "        bottom: 50px;\n",
       "        width: 100px;\n",
       "        box-shadow: 0 1px 2px rgba(0, 0, 0, 0.10);\n",
       "        font: 12px/20px 'Helvetica Neue', Arial, Helvetica, sans-serif;\n",
       "        padding: 12px;\n",
       "        position: absolute;\n",
       "        right: 10px;\n",
       "        z-index: 1;\n",
       "    }\n",
       "    .legend h4 { margin: 0 0 10px; }\n",
       "    .legend-title {\n",
       "        margin: 6px;\n",
       "        padding: 6px;\n",
       "        font-weight: bold !important;\n",
       "        font-size: 14px;\n",
       "        font: 12px/20px 'Helvetica Neue', Arial, Helvetica, sans-serif;\n",
       "    }\n",
       "    .legend div span {\n",
       "        border-radius: 50%;\n",
       "        display: inline-block;\n",
       "        height: 10px;\n",
       "        margin-right: 5px;\n",
       "        width: 10px;\n",
       "    }\n",
       "</style>\n",
       "\n",
       "    <style type='text/css'>\n",
       "        .legend div span { border-radius: 20%; }\n",
       "    </style>\n",
       "\n",
       "</head>\n",
       "<body>\n",
       "\n",
       "<div id='map' class='map'></div>\n",
       "<div id='legend' class='legend'></div>\n",
       "\n",
       "<script type='text/javascript'>\n",
       "\n",
       "function calcCircleColorLegend(myColorStops, title) {\n",
       "    //Calculate a legend element on a Mapbox GL Style Spec property function stops array\n",
       "    var mytitle = document.createElement('div');\n",
       "    mytitle.textContent = title;\n",
       "    mytitle.className = 'legend-title'\n",
       "    var legend = document.getElementById('legend');\n",
       "    legend.appendChild(mytitle);\n",
       "\n",
       "    for (p = 0; p < myColorStops.length; p++) {\n",
       "        if (!!document.getElementById('legend-points-value-' + p)) {\n",
       "            //update the legend if it already exists\n",
       "            document.getElementById('legend-points-value-' + p).textContent = myColorStops[p][0];\n",
       "            document.getElementById('legend-points-id-' + p).style.backgroundColor = myColorStops[p][1];\n",
       "        } else {\n",
       "            //create the legend if it doesn't yet exist\n",
       "            var item = document.createElement('div');\n",
       "            var key = document.createElement('span');\n",
       "            key.className = 'legend-key';\n",
       "            var value = document.createElement('span');\n",
       "\n",
       "            key.id = 'legend-points-id-' + p;\n",
       "            key.style.backgroundColor = myColorStops[p][1];\n",
       "            value.id = 'legend-points-value-' + p;\n",
       "\n",
       "            item.appendChild(key);\n",
       "            item.appendChild(value);\n",
       "            legend.appendChild(item);\n",
       "            \n",
       "            data = document.getElementById('legend-points-value-' + p)\n",
       "            data.textContent = myColorStops[p][0];\n",
       "        }\n",
       "    }\n",
       "}\n",
       "\n",
       "function generateInterpolateExpression(propertyValue, stops) {\n",
       "    var expression;\n",
       "    if (propertyValue == 'zoom') {\n",
       "        expression = ['interpolate', ['exponential', 1.2], ['zoom']]\n",
       "    }\n",
       "    else if (propertyValue == 'heatmap-density') {\n",
       "        expression = ['interpolate', ['linear'], ['heatmap-density']]\n",
       "    }\n",
       "    else {\n",
       "        expression = ['interpolate', ['linear'], ['get', propertyValue]]\n",
       "    }\n",
       "\n",
       "    for (var i=0; i<stops.length; i++) {\n",
       "        expression.push(stops[i][0], stops[i][1])\n",
       "    }\n",
       "    return expression\n",
       "}\n",
       "\n",
       "\n",
       "function generateMatchExpression(propertyValue, stops, defaultValue) {\n",
       "    var expression;\n",
       "    expression = ['match', ['get', propertyValue]]\n",
       "    for (var i=0; i<stops.length; i++) {\n",
       "        expression.push(stops[i][0], stops[i][1])\n",
       "    }\n",
       "    expression.push(defaultValue)\n",
       "    \n",
       "    return expression\n",
       "}\n",
       "\n",
       "\n",
       "function generatePropertyExpression(expressionType, propertyValue, stops, defaultValue) {\n",
       "    var expression;\n",
       "    if (expressionType == 'match') {\n",
       "        expression = generateMatchExpression(propertyValue, stops, defaultValue)\n",
       "    }\n",
       "    else {\n",
       "        expression = generateInterpolateExpression(propertyValue, stops)\n",
       "    }\n",
       "\n",
       "    return expression\n",
       "}\n",
       "\n",
       "\n",
       "</script>\n",
       "\n",
       "<!-- main map creation code, extended by mapboxgl/templates/choropleth.html -->\n",
       "<script type='text/javascript'>\n",
       "\n",
       "\n",
       "    mapboxgl.accessToken = 'pk.eyJ1IjoiY2FydG9taWtlIiwiYSI6IjA3ODMzYzc1NDQ5ZmZhMWY1ZjU4NGEwOGUyN2E3OWEzIn0.1AMo07FLn59Mtc3qSNp94g';\n",
       "\n",
       "    var map = new mapboxgl.Map({\n",
       "        container: 'map',\n",
       "        style: 'mapbox://styles/mapbox/light-v9?optimize=true',\n",
       "        center: [11.25, 43.77],\n",
       "        zoom: 13,\n",
       "        pitch: 0,\n",
       "        bearing: 0,\n",
       "        transformRequest: (url, resourceType)=> {\n",
       "            if ( url.slice(0,22) == 'https://api.mapbox.com' ) {\n",
       "                //Add Python Plugin identifier for Mapbox API traffic\n",
       "                return {\n",
       "                   url: [url.slice(0, url.indexOf('?')+1), 'pluginName=PythonMapboxgl&', url.slice(url.indexOf('?')+1)].join('')\n",
       "                 }\n",
       "             }\n",
       "             else {\n",
       "                 //Do not transform URL for non Mapbox GET requests\n",
       "                 return {url: url}\n",
       "             }\n",
       "        }\n",
       "    });\n",
       "\n",
       "    \n",
       "\n",
       "        map.addControl(new mapboxgl.NavigationControl());\n",
       "\n",
       "    \n",
       "\n",
       "    \n",
       "\n",
       "    var legend = document.getElementById('legend');\n",
       "    \n",
       "    \n",
       "        \n",
       "            \n",
       "                calcCircleColorLegend([[0, 'rgb(255,255,178)'], [1, 'rgb(254,217,118)'], [2, 'rgb(254,178,76)'], [3, 'rgb(253,141,60)'], [4, 'rgb(252,78,42)'], [6, 'rgb(227,26,28)'], [9, 'rgb(177,0,38)']], 'density');\n",
       "            \n",
       "        \n",
       "    \n",
       "\n",
       "\n",
       "\n",
       "    \n",
       "\n",
       "    map.on('style.load', function() {\n",
       "        \n",
       "        \n",
       "\n",
       "        // Add geojson data source\n",
       "        map.addSource('data', {\n",
       "            'type': 'geojson',\n",
       "            'data': 'data/restaurants_count.geojson',\n",
       "            'buffer': 1,\n",
       "            'maxzoom': 14\n",
       "        });\n",
       "\n",
       "        // Add data layer\n",
       "        map.addLayer({\n",
       "            'id': 'choropleth-fill',\n",
       "            'source': 'data',\n",
       "            'type': 'fill',\n",
       "            'paint': {\n",
       "                'fill-color': generatePropertyExpression('interpolate', 'density', [[0, 'rgb(255,255,178)'], [1, 'rgb(254,217,118)'], [2, 'rgb(254,178,76)'], [3, 'rgb(253,141,60)'], [4, 'rgb(252,78,42)'], [6, 'rgb(227,26,28)'], [9, 'rgb(177,0,38)']], 'grey'),\n",
       "                'fill-opacity': 0.8\n",
       "            }\n",
       "        }, '' );\n",
       "\n",
       "        // Add border layer\n",
       "        map.addLayer({\n",
       "            'id': 'choropleth-line',\n",
       "            'source': 'data',\n",
       "            'type': 'line',\n",
       "            'layout': {\n",
       "                'line-join': 'round',\n",
       "                'line-cap': 'round'\n",
       "            },\n",
       "            'paint': {\n",
       "                \n",
       "                'line-dasharray': [6, 4],\n",
       "                \n",
       "                'line-color': 'rgb(128,0,38)',\n",
       "                'line-width': 1,\n",
       "                'line-opacity': 0.8\n",
       "            }\n",
       "        }, '' );\n",
       "\n",
       "        // Add label layer\n",
       "        map.addLayer({\n",
       "            'id': 'choropleth-label',\n",
       "            'source': 'data',\n",
       "            'type': 'symbol',\n",
       "            'layout': {\n",
       "                \n",
       "                'text-size' : generateInterpolateExpression('zoom', [[0,8],[22,16]] ),\n",
       "                'text-offset': [0,-1]\n",
       "            },\n",
       "            'paint': {\n",
       "                'text-halo-color': 'white',\n",
       "                'text-halo-width': 1\n",
       "            }\n",
       "        }, '' );\n",
       "\n",
       "        // Optional extrusion layer\n",
       "        \n",
       "\n",
       "            map.addLayer({\n",
       "                id: 'choropleth-extrusion',\n",
       "                type: 'fill-extrusion',            \n",
       "                source: 'data',\n",
       "                paint: {\n",
       "                    'fill-extrusion-opacity': 0.8,\n",
       "                    'fill-extrusion-color': generatePropertyExpression('interpolate', 'density', [[0, 'rgb(255,255,178)'], [1, 'rgb(254,217,118)'], [2, 'rgb(254,178,76)'], [3, 'rgb(253,141,60)'], [4, 'rgb(252,78,42)'], [6, 'rgb(227,26,28)'], [9, 'rgb(177,0,38)']], 'grey'),\n",
       "                    'fill-extrusion-height': generatePropertyExpression('interpolate', 'density', [[0, 0], [100, 250], [250, 500], [500, 1500]], 0.0),\n",
       "                }\n",
       "            }, '');\n",
       "\n",
       "        \n",
       "\n",
       "\n",
       "        \n",
       "\n",
       "        // Create a popup\n",
       "        var popup = new mapboxgl.Popup({\n",
       "            closeButton: false,\n",
       "            closeOnClick: false\n",
       "        });\n",
       "        \n",
       "        \n",
       "\n",
       "        // Show the popup on mouseover\n",
       "        map.on('mousemove', 'choropleth-fill', function(e) {\n",
       "            map.getCanvas().style.cursor = 'pointer';\n",
       "            \n",
       "            let f = e.features[0];\n",
       "            let popup_html = '<div>';\n",
       "\n",
       "            for (key in f.properties) {\n",
       "                popup_html += '<li><b> ' + key + '</b>: ' + f.properties[key] + ' </li>'\n",
       "            }\n",
       "\n",
       "            popup_html += '</div>'\n",
       "            popup.setLngLat(e.lngLat)\n",
       "                .setHTML(popup_html)\n",
       "                .addTo(map);\n",
       "        });\n",
       "\n",
       "        \n",
       "\n",
       "        map.on('mouseleave', 'choropleth-fill', function() {\n",
       "            map.getCanvas().style.cursor = '';\n",
       "            popup.remove();\n",
       "        });\n",
       "        \n",
       "        // Fly to on click\n",
       "        map.on('click', 'choropleth-fill', function(e) {\n",
       "            map.flyTo({\n",
       "                center: e.lngLat,\n",
       "                zoom: map.getZoom() + 1\n",
       "            });\n",
       "        });\n",
       "\n",
       "    });\n",
       "\n",
       "\n",
       "\n",
       "\n",
       "</script>\n",
       "\n",
       "</body>\n",
       "</html>\" style=\"width: 100%; height: 500px;\"></iframe>"
      ],
      "text/plain": [
       "<IPython.core.display.HTML object>"
      ]
     },
     "metadata": {},
     "output_type": "display_data"
    }
   ],
   "source": [
    "viz.show()"
   ]
  },
  {
   "cell_type": "markdown",
   "metadata": {
    "slideshow": {
     "slide_type": "subslide"
    }
   },
   "source": [
    "# To Sum-Up:\n",
    "\n",
    "- `overpass` = sweet, sweet OSM geodata\n",
    "- `geopandas` = trustworthy companion in your geospatial toolbelt\n",
    "- `mapboxgl` = sprinkle eye candy dust\n",
    "- Honorable mentions: `shapely`,`pysal`, `rasterio` , `osmnx`"
   ]
  },
  {
   "cell_type": "markdown",
   "metadata": {
    "slideshow": {
     "slide_type": "slide"
    }
   },
   "source": [
    "# <span class=\"final\">Thank you!</span>\n",
    "## <span class=\"final\">(Questions?)<span>\n",
    "\n",
    "<span class=\"contacts\">![](imgs/contacts.png)<span>\n",
    "<!-- [@miccferr](twitter.com/miccferr)-->"
   ]
  }
 ],
 "metadata": {
  "celltoolbar": "Slideshow",
  "kernelspec": {
   "display_name": "Python 3",
   "language": "python",
   "name": "python3"
  },
  "language_info": {
   "codemirror_mode": {
    "name": "ipython",
    "version": 3
   },
   "file_extension": ".py",
   "mimetype": "text/x-python",
   "name": "python",
   "nbconvert_exporter": "python",
   "pygments_lexer": "ipython3",
   "version": "3.6.4"
  }
 },
 "nbformat": 4,
 "nbformat_minor": 2
}
