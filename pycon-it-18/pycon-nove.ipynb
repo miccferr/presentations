{
 "cells": [
  {
   "cell_type": "markdown",
   "metadata": {
    "slideshow": {
     "slide_type": "slide"
    }
   },
   "source": [
    "# LOCATION, LOCATION, LOCATION: \n",
    "## ANALYSIS AND VISUALISATION OF GEOSPATIAL DATA IN PYTHON\n",
    "\n",
    "### PyCon Nove - Florence, 19<sup>th</sup>-22<sup>nd</sup> April 2018"
   ]
  },
  {
   "cell_type": "markdown",
   "metadata": {
    "slideshow": {
     "slide_type": "slide"
    }
   },
   "source": [
    "# PLEASE:  <span class=\"alert\">Interrupt</span> if you have questions!"
   ]
  },
  {
   "cell_type": "markdown",
   "metadata": {
    "slideshow": {
     "slide_type": "slide"
    }
   },
   "source": [
    "# Programme:\n",
    "\n",
    "<!-- What do we mean by <span class=\"alert\">Geospatial</span> data? (And why should we care..) -->\n",
    "- Formats!\n",
    "- Projections!\n",
    "- Analysis!\n",
    "- Visualization!"
   ]
  },
  {
   "cell_type": "markdown",
   "metadata": {
    "slideshow": {
     "slide_type": "slide"
    }
   },
   "source": [
    "# Disclaimer\n",
    "\n",
    "This talk is aimed at total beginners! \n",
    "Follow along at XXX"
   ]
  },
  {
   "cell_type": "markdown",
   "metadata": {},
   "source": []
  },
  {
   "cell_type": "markdown",
   "metadata": {
    "slideshow": {
     "slide_type": "slide"
    }
   },
   "source": [
    "# What is Geographic Data? "
   ]
  },
  {
   "cell_type": "markdown",
   "metadata": {
    "slideshow": {
     "slide_type": "fragment"
    }
   },
   "source": [
    "Any data with a <span class=\"alert\">location</span> component."
   ]
  },
  {
   "cell_type": "markdown",
   "metadata": {
    "slideshow": {
     "slide_type": "fragment"
    }
   },
   "source": [
    "- We can use them to analyze and/or visualize spatial phenomena\n",
    "- Many different types but can be grouped under two common denominators: <span class=\"black\">raster</span> vs <span class=\"black\">vector</span> data."
   ]
  },
  {
   "cell_type": "code",
   "execution_count": null,
   "metadata": {
    "slideshow": {
     "slide_type": "slide"
    }
   },
   "outputs": [],
   "source": []
  },
  {
   "cell_type": "markdown",
   "metadata": {
    "slideshow": {
     "slide_type": "subslide"
    }
   },
   "source": [
    "# Raster\n",
    "\n",
    "![](https://iphonedroneimagery.files.wordpress.com/2014/02/ndvi-farm.jpg)"
   ]
  },
  {
   "cell_type": "markdown",
   "metadata": {
    "slideshow": {
     "slide_type": "subslide"
    }
   },
   "source": [
    "![](imgs/dem.jpg)"
   ]
  },
  {
   "cell_type": "markdown",
   "metadata": {
    "slideshow": {
     "slide_type": "subslide"
    }
   },
   "source": [
    "![](imgs/temperature.png)"
   ]
  },
  {
   "cell_type": "markdown",
   "metadata": {
    "slideshow": {
     "slide_type": "subslide"
    }
   },
   "source": [
    "# Vector\n",
    "\n",
    "![](vector.gif)"
   ]
  },
  {
   "cell_type": "markdown",
   "metadata": {
    "slideshow": {
     "slide_type": "subslide"
    }
   },
   "source": [
    "- **Points**: crime events, pollution samples, social-media check-ins..\n",
    "- **Lines**: GPS traces, streets, social networks...\n",
    "- **Polygons**: Country boundaries, Census tracts, catchment areas..."
   ]
  },
  {
   "cell_type": "markdown",
   "metadata": {
    "slideshow": {
     "slide_type": "subslide"
    }
   },
   "source": [
    "Most of the time you'll work with vector data...so let's leave Rasters for later!"
   ]
  },
  {
   "cell_type": "markdown",
   "metadata": {
    "slideshow": {
     "slide_type": "subslide"
    }
   },
   "source": [
    "# Shapefile\n",
    "\n",
    "![](https://ih1.redbubble.net/image.439227781.4623/flat,800x800,070,f.u1.jpg)"
   ]
  },
  {
   "cell_type": "markdown",
   "metadata": {
    "slideshow": {
     "slide_type": "subslide"
    }
   },
   "source": [
    "![](imgs/shapefile.png)"
   ]
  },
  {
   "cell_type": "markdown",
   "metadata": {
    "slideshow": {
     "slide_type": "subslide"
    }
   },
   "source": [
    "Composed by (at <span class=\"black\">least</span>) three files: \n",
    "- **.dbf** = `dBASE` file contains the attribute information table in standard `DBF` *format*\n",
    "- **.shx**= Indexing file for look-ups etc..\n",
    "- **.shp**= Contains the actual *geometries* (Points, Lines, Polygons...)\n",
    "\n",
    "    "
   ]
  },
  {
   "cell_type": "markdown",
   "metadata": {
    "slideshow": {
     "slide_type": "fragment"
    }
   },
   "source": [
    "\n",
    "Optional, but quite important is:\n",
    "- **prj** = contains the data <span class=\"alert\">projection</span> (more on this later...)"
   ]
  },
  {
   "cell_type": "markdown",
   "metadata": {
    "slideshow": {
     "slide_type": "subslide"
    }
   },
   "source": [
    "> “80% of successful GIS work is having a good folder structure”\n",
    ">  [@Shapefile](https://twitter.com/shapefiIe)"
   ]
  },
  {
   "cell_type": "markdown",
   "metadata": {
    "slideshow": {
     "slide_type": "subslide"
    }
   },
   "source": [
    "![](imgs/demo-time.jpg)"
   ]
  },
  {
   "cell_type": "markdown",
   "metadata": {
    "slideshow": {
     "slide_type": "slide"
    }
   },
   "source": [
    "# GeoJSON\n",
    "\n",
    "![](imgs/geojson.png)"
   ]
  },
  {
   "cell_type": "markdown",
   "metadata": {
    "slideshow": {
     "slide_type": "slide"
    }
   },
   "source": [
    "- GeoJSON is an extension of a format called JSON, which stands for JavaScript Object Notation.\n",
    "- Because GeoJSON is basically just JavaScript, it can easily be used in web maps!\n",
    "- It has become de *de facto* standard for displaying geodata on the web\n",
    "- Even [Github](https://gist.github.com/miccferr/156889b8a655def77fcfedecd55861cd#file-thailand-geojson) automatically visualizes it \n",
    "- Comes from JSON and javascript,  but it's like a Python `dict`\n"
   ]
  },
  {
   "cell_type": "markdown",
   "metadata": {
    "slideshow": {
     "slide_type": "fragment"
    }
   },
   "source": [
    "- GeoJSON has some required attributes. GeoJSON features need a type, geometry, and properties"
   ]
  },
  {
   "cell_type": "markdown",
   "metadata": {
    "slideshow": {
     "slide_type": "slide"
    }
   },
   "source": [
    "# Other formats\n",
    "\n",
    "- **Vector Tiles** = \n"
   ]
  },
  {
   "cell_type": "markdown",
   "metadata": {
    "slideshow": {
     "slide_type": "fragment"
    }
   },
   "source": [
    "- **KML** = Good 'ol Google Earth!"
   ]
  },
  {
   "cell_type": "markdown",
   "metadata": {
    "slideshow": {
     "slide_type": "fragment"
    }
   },
   "source": [
    "Other formats include QA Tiles"
   ]
  },
  {
   "cell_type": "code",
   "execution_count": null,
   "metadata": {
    "slideshow": {
     "slide_type": "slide"
    }
   },
   "outputs": [],
   "source": [
    "# How to work with these data formats?\n",
    "\n",
    "- Fiona\n",
    "- Shapely"
   ]
  },
  {
   "cell_type": "code",
   "execution_count": null,
   "metadata": {
    "slideshow": {
     "slide_type": "subslide"
    }
   },
   "outputs": [],
   "source": [
    "import fiona\n",
    "shape = fiona.open(\"data/Fontanelle_OSM_ODbL.shp\")\n",
    "print(shape.schema)\n",
    "# {'geometry': 'LineString', 'properties': OrderedDict([(u'FID', 'float:11')])}"
   ]
  },
  {
   "cell_type": "code",
   "execution_count": null,
   "metadata": {
    "slideshow": {
     "slide_type": "fragment"
    }
   },
   "outputs": [],
   "source": [
    "#first feature of the shapefile\n",
    "first = shape.next()\n",
    "print first # (GeoJSON format)\n",
    "{'geometry': {'type': 'LineString', 'coordinates': [(0.0, 0.0), (25.0, 10.0), (50.0, 50.0)]}, 'type': 'Feature', 'id': '0', 'properties': OrderedDict([(u'FID', 0.0)])}"
   ]
  },
  {
   "cell_type": "code",
   "execution_count": null,
   "metadata": {
    "slideshow": {
     "slide_type": "subslide"
    }
   },
   "outputs": [],
   "source": [
    "from osgeo import ogr\n",
    "file = ogr.Open(\"data/Fontanelle_OSM_ODbL.shp\")\n",
    "shape = file.GetLayer(0)\n",
    "#first feature of the shapefile"
   ]
  },
  {
   "cell_type": "code",
   "execution_count": null,
   "metadata": {
    "slideshow": {
     "slide_type": "fragment"
    }
   },
   "outputs": [],
   "source": [
    "feature = shape.GetFeature(0)\n",
    "first = feature.ExportToJson()\n",
    "print first # (GeoJSON format)\n",
    "{\"geometry\": {\"type\": \"LineString\", \"coordinates\": [[0.0, 0.0], [25.0, 10.0], [50.0, 50.0]]}, \"type\": \"Feature\", \"properties\": {\"FID\": 0.0}, \"id\": 0}\n",
    "2"
   ]
  },
  {
   "cell_type": "code",
   "execution_count": null,
   "metadata": {
    "slideshow": {
     "slide_type": "subslide"
    }
   },
   "outputs": [],
   "source": [
    "# now use the shape function of Shapely\n",
    "from shapely.geometry import shape\n",
    "shp_geom = shape(first['geometry']) # or shp_geom = shape(first) with PyShp)\n",
    "print(shp_geom)"
   ]
  },
  {
   "cell_type": "code",
   "execution_count": null,
   "metadata": {
    "slideshow": {
     "slide_type": "fragment"
    }
   },
   "outputs": [],
   "source": [
    "print(type(shp_geom))"
   ]
  },
  {
   "cell_type": "markdown",
   "metadata": {
    "slideshow": {
     "slide_type": "slide"
    }
   },
   "source": [
    "# Openstreetmap!\n"
   ]
  },
  {
   "cell_type": "code",
   "execution_count": 5,
   "metadata": {
    "slideshow": {
     "slide_type": "subslide"
    }
   },
   "outputs": [
    {
     "data": {
      "text/html": [
       "\n",
       "        <iframe\n",
       "            width=\"400\"\n",
       "            height=\"300\"\n",
       "            src=\"https://www.youtube.com/embed/https://www.youtube.com/watch?v=7sC83j6vzjo\"\n",
       "            frameborder=\"0\"\n",
       "            allowfullscreen\n",
       "        ></iframe>\n",
       "        "
      ],
      "text/plain": [
       "<IPython.lib.display.YouTubeVideo at 0x1097f3e80>"
      ]
     },
     "execution_count": 5,
     "metadata": {},
     "output_type": "execute_result"
    }
   ],
   "source": [
    "from IPython.lib.display import YouTubeVideo\n",
    "YouTubeVideo('https://www.youtube.com/watch?v=7sC83j6vzjo')"
   ]
  },
  {
   "cell_type": "markdown",
   "metadata": {
    "slideshow": {
     "slide_type": "subslide"
    }
   },
   "source": [
    "![](imgs/osm-tot.jpg)\n",
    "\n",
    "- Whole <span class=\"black\">planetary dataset</span> makes for ~over 846 GB uncompressed (60.7 GB bzip2-compressed) [Planet.OSM Wiki](https://wiki.openstreetmap.org/wiki/Planet.osm)."
   ]
  },
  {
   "cell_type": "markdown",
   "metadata": {
    "slideshow": {
     "slide_type": "fragment"
    }
   },
   "source": [
    "- You can also find extracts for individual continents, countries, and metropolitan areas! (e.g. [Geofabrik.de](https://download.geofabrik.de/) )"
   ]
  },
  {
   "cell_type": "markdown",
   "metadata": {
    "slideshow": {
     "slide_type": "fragment"
    }
   },
   "source": [
    "- Or you can query individual features using the awesome <span class=\"alert\">Overpass API</span>"
   ]
  },
  {
   "cell_type": "markdown",
   "metadata": {
    "slideshow": {
     "slide_type": "fragment"
    }
   },
   "source": [
    "Of course there's a python package for it!"
   ]
  },
  {
   "cell_type": "code",
   "execution_count": 8,
   "metadata": {
    "slideshow": {
     "slide_type": "subslide"
    }
   },
   "outputs": [
    {
     "ename": "OverpassSyntaxError",
     "evalue": "[out:json];\n{{geocodeArea:Florence}}->.searchArea;\n// gather results\n(\n relation\n    [\"boundary\"=\"administrative\"]\n    [\"admin_level\"=\"4\"](area.searchArea);\n)\n;out body;",
     "output_type": "error",
     "traceback": [
      "\u001b[0;31m---------------------------------------------------------------------------\u001b[0m",
      "\u001b[0;31mOverpassSyntaxError\u001b[0m                       Traceback (most recent call last)",
      "\u001b[0;32m<ipython-input-8-9477bc6d081e>\u001b[0m in \u001b[0;36m<module>\u001b[0;34m()\u001b[0m\n\u001b[1;32m     10\u001b[0m     \u001b[0;34m[\u001b[0m\u001b[0;34m\"admin_level\"\u001b[0m\u001b[0;34m=\u001b[0m\u001b[0;34m\"4\"\u001b[0m\u001b[0;34m]\u001b[0m\u001b[0;34m(\u001b[0m\u001b[0marea\u001b[0m\u001b[0;34m.\u001b[0m\u001b[0msearchArea\u001b[0m\u001b[0;34m)\u001b[0m\u001b[0;34m;\u001b[0m\u001b[0;34m\u001b[0m\u001b[0m\n\u001b[1;32m     11\u001b[0m )\n\u001b[0;32m---> 12\u001b[0;31m \"\"\")\n\u001b[0m",
      "\u001b[0;32m~/.virtualenvs/pycon/lib/python3.6/site-packages/overpass/api.py\u001b[0m in \u001b[0;36mget\u001b[0;34m(self, query, responseformat, verbosity, build)\u001b[0m\n\u001b[1;32m     64\u001b[0m \u001b[0;34m\u001b[0m\u001b[0m\n\u001b[1;32m     65\u001b[0m         \u001b[0;31m# Get the response from Overpass\u001b[0m\u001b[0;34m\u001b[0m\u001b[0;34m\u001b[0m\u001b[0m\n\u001b[0;32m---> 66\u001b[0;31m         \u001b[0mr\u001b[0m \u001b[0;34m=\u001b[0m \u001b[0mself\u001b[0m\u001b[0;34m.\u001b[0m\u001b[0m_get_from_overpass\u001b[0m\u001b[0;34m(\u001b[0m\u001b[0mfull_query\u001b[0m\u001b[0;34m)\u001b[0m\u001b[0;34m\u001b[0m\u001b[0m\n\u001b[0m\u001b[1;32m     67\u001b[0m         \u001b[0mcontent_type\u001b[0m \u001b[0;34m=\u001b[0m \u001b[0mr\u001b[0m\u001b[0;34m.\u001b[0m\u001b[0mheaders\u001b[0m\u001b[0;34m.\u001b[0m\u001b[0mget\u001b[0m\u001b[0;34m(\u001b[0m\u001b[0;34m'content-type'\u001b[0m\u001b[0;34m)\u001b[0m\u001b[0;34m\u001b[0m\u001b[0m\n\u001b[1;32m     68\u001b[0m \u001b[0;34m\u001b[0m\u001b[0m\n",
      "\u001b[0;32m~/.virtualenvs/pycon/lib/python3.6/site-packages/overpass/api.py\u001b[0m in \u001b[0;36m_get_from_overpass\u001b[0;34m(self, query)\u001b[0m\n\u001b[1;32m    144\u001b[0m         \u001b[0;32mif\u001b[0m \u001b[0mself\u001b[0m\u001b[0;34m.\u001b[0m\u001b[0m_status\u001b[0m \u001b[0;34m!=\u001b[0m \u001b[0;36m200\u001b[0m\u001b[0;34m:\u001b[0m\u001b[0;34m\u001b[0m\u001b[0m\n\u001b[1;32m    145\u001b[0m             \u001b[0;32mif\u001b[0m \u001b[0mself\u001b[0m\u001b[0;34m.\u001b[0m\u001b[0m_status\u001b[0m \u001b[0;34m==\u001b[0m \u001b[0;36m400\u001b[0m\u001b[0;34m:\u001b[0m\u001b[0;34m\u001b[0m\u001b[0m\n\u001b[0;32m--> 146\u001b[0;31m                 \u001b[0;32mraise\u001b[0m \u001b[0mOverpassSyntaxError\u001b[0m\u001b[0;34m(\u001b[0m\u001b[0mquery\u001b[0m\u001b[0;34m)\u001b[0m\u001b[0;34m\u001b[0m\u001b[0m\n\u001b[0m\u001b[1;32m    147\u001b[0m             \u001b[0;32melif\u001b[0m \u001b[0mself\u001b[0m\u001b[0;34m.\u001b[0m\u001b[0m_status\u001b[0m \u001b[0;34m==\u001b[0m \u001b[0;36m429\u001b[0m\u001b[0;34m:\u001b[0m\u001b[0;34m\u001b[0m\u001b[0m\n\u001b[1;32m    148\u001b[0m                 \u001b[0;32mraise\u001b[0m \u001b[0mMultipleRequestsError\u001b[0m\u001b[0;34m(\u001b[0m\u001b[0;34m)\u001b[0m\u001b[0;34m\u001b[0m\u001b[0m\n",
      "\u001b[0;31mOverpassSyntaxError\u001b[0m: [out:json];\n{{geocodeArea:Florence}}->.searchArea;\n// gather results\n(\n relation\n    [\"boundary\"=\"administrative\"]\n    [\"admin_level\"=\"4\"](area.searchArea);\n)\n;out body;"
     ]
    }
   ],
   "source": [
    "import overpass\n",
    "api = overpass.API()\n",
    "# response = api.get('node[\"name\"=\"Florence\"]')\n",
    "response = api.get(\n",
    "\"\"\"\n",
    "{{geocodeArea:Florence}}->.searchArea;\n",
    "// gather results\n",
    "(\n",
    " relation\n",
    "    [\"boundary\"=\"administrative\"]\n",
    "    [\"admin_level\"=\"4\"](area.searchArea);\n",
    ")\n",
    "\"\"\")\n"
   ]
  },
  {
   "cell_type": "code",
   "execution_count": 4,
   "metadata": {
    "slideshow": {
     "slide_type": "fragment"
    }
   },
   "outputs": [
    {
     "name": "stdout",
     "output_type": "stream",
     "text": [
      "<class 'geojson.feature.FeatureCollection'>\n"
     ]
    }
   ],
   "source": [
    "print(type(response))"
   ]
  },
  {
   "cell_type": "code",
   "execution_count": 5,
   "metadata": {
    "slideshow": {
     "slide_type": "fragment"
    }
   },
   "outputs": [
    {
     "name": "stdout",
     "output_type": "stream",
     "text": [
      "{\"features\": [{\"geometry\": {\"coordinates\": [-111.3873431, 33.0314508], \"type\": \"Point\"}, \"id\": 150943573, \"properties\": {\"census:population\": \"17009;2006\", \"ele\": \"454\", \"gnis:Class\": \"Populated Place\", \"gnis:County\": \"Pinal\", \"gnis:County_num\": \"021\", \"gnis:ST_alpha\": \"AZ\", \"gnis:ST_num\": \"04\", \"gnis:id\": \"4688\", \"import_uuid\": \"bb7269ee-502a-5391-8056-e3ce0e66489c\", \"is_in\": \"Pinal,Arizona,Ariz.,AZ,USA\", \"name\": \"Florence\", \"place\": \"town\", \"population\": \"17009\", \"wikidata\": \"Q845754\"}, \"type\": \"Feature\"}, {\"geometry\": {\"coordinates\": [-124.099839, 43.982672], \"type\": \"Point\"}, \"id\": 150952681, \"properties\": {\"census:population\": \"8122;2006\", \"ele\": \"15\", \"gnis:Class\": \"Populated Place\", \"gnis:County\": \"Lane\", \"gnis:County_num\": \"039\", \"gnis:ST_alpha\": \"OR\", \"gnis:ST_num\": \"41\", \"gnis:id\": \"1142259\", \"import_uuid\": \"bb7269ee-502a-5391-8056-e3ce0e66489c\", \"is_in\": \"Lane,Oregon,Ore.,OR,USA\", \"name\": \"Florence\", \"place\": \"town\", \"population\": \"8122\", \"wikidata\": \"Q862740\"}, \"type\": \"Feature\"}, {\"geometry\": {\"coordinates\": [-118.2659106, 33.9752173], \"type\": \"Point\"}, \"id\": 150956686, \"properties\": {\"ele\": \"46\", \"gnis:Class\": \"Populated Place\", \"gnis:County\": \"Los Angeles\", \"gnis:County_num\": \"037\", \"gnis:ST_alpha\": \"CA\", \"gnis:ST_num\": \"06\", \"gnis:id\": \"242320\", \"import_uuid\": \"bb7269ee-502a-5391-8056-e3ce0e66489c\", \"is_in\": \"Los Angeles,California,Calif.,CA,USA\", \"name\": \"Florence\", \"place\": \"suburb\", \"wikidata\": \"Q16993506\"}, \"type\": \"Feature\"}, {\"geometry\": {\"coordinates\": [-116.0284654, 45.5010061], \"type\": \"Point\"}, \"id\": 150965804, \"properties\": {\"ele\": \"1854\", \"gnis:Class\": \"Populated Place\", \"gnis:County\": \"Idaho\", \"gnis:County_num\": \"049\", \"gnis:ST_alpha\": \"ID\", \"gnis:ST_num\": \"16\", \"gnis:id\": \"399874\", \"import_uuid\": \"bb7269ee-502a-5391-8056-e3ce0e66489c\", \"is_in\": \"Idaho,Idaho,Idaho,ID,USA\", \"name\": \"Florence\", \"place\": \"hamlet\", \"wikidata\": \"Q5460525\"}, \"type\": \"Feature\"}, {\"geometry\": {\"coordinates\": [-122.3318187, 48.2206548], \"type\": \"Point\"}, \"id\": 150966409, \"properties\": {\"ele\": \"4\", \"gnis:Class\": \"Populated Place\", \"gnis:County\": \"Snohomish\", \"gnis:County_num\": \"061\", \"gnis:ST_alpha\": \"WA\", \"gnis:ST_num\": \"53\", \"gnis:id\": \"1512215\", \"import_uuid\": \"bb7269ee-502a-5391-8056-e3ce0e66489c\", \"is_in\": \"Snohomish,Washington,Wash.,WA,USA\", \"name\": \"Florence\", \"place\": \"hamlet\", \"wikidata\": \"Q27988950\"}, \"type\": \"Feature\"}, {\"geometry\": {\"coordinates\": [-114.0789959, 46.6315897], \"type\": \"Point\"}, \"id\": 150976623, \"properties\": {\"ele\": \"995\", \"gnis:Class\": \"Populated Place\", \"gnis:County\": \"Ravalli\", \"gnis:County_num\": \"081\", \"gnis:ST_alpha\": \"MT\", \"gnis:ST_num\": \"30\", \"gnis:id\": \"783551\", \"import_uuid\": \"bb7269ee-502a-5391-8056-e3ce0e66489c\", \"is_in\": \"Ravalli,Montana,Mont.,MT,USA\", \"name\": \"Florence\", \"place\": \"hamlet\"}, \"type\": \"Feature\"}, {\"geometry\": {\"coordinates\": [-105.1185988, 38.3902777], \"type\": \"Point\"}, \"id\": 151345929, \"properties\": {\"census:population\": \"3692;2006\", \"ele\": \"1579\", \"gnis:Class\": \"Populated Place\", \"gnis:County\": \"Fremont\", \"gnis:County_num\": \"043\", \"gnis:ST_alpha\": \"CO\", \"gnis:ST_num\": \"08\", \"gnis:id\": \"204775\", \"import_uuid\": \"bb7269ee-502a-5391-8056-e3ce0e66489c\", \"is_in\": \"Fremont,Colorado,Colo.,CO,USA\", \"name\": \"Florence\", \"place\": \"village\", \"population\": \"3692\"}, \"type\": \"Feature\"}, {\"geometry\": {\"coordinates\": [-93.8193899, 42.7031934], \"type\": \"Point\"}, \"id\": 151618209, \"properties\": {\"ele\": \"343\", \"gnis:Class\": \"Populated Place\", \"gnis:County\": \"Wright\", \"gnis:County_num\": \"197\", \"gnis:ST_alpha\": \"IA\", \"gnis:ST_num\": \"19\", \"gnis:id\": \"464544\", \"import_uuid\": \"bb7269ee-502a-5391-8056-e3ce0e66489c\", \"is_in\": \"Wright,Iowa,Iowa,IA,USA\", \"name\": \"Florence\", \"place\": \"hamlet\"}, \"type\": \"Feature\"}, {\"geometry\": {\"coordinates\": [-97.7936268, 30.8412954], \"type\": \"Point\"}, \"id\": 151702555, \"properties\": {\"census:population\": \"1120;2006\", \"ele\": \"303\", \"gnis:Class\": \"Populated Place\", \"gnis:County\": \"Williamson\", \"gnis:County_num\": \"491\", \"gnis:ST_alpha\": \"TX\", \"gnis:ST_num\": \"48\", \"gnis:id\": \"1357491\", \"import_uuid\": \"bb7269ee-502a-5391-8056-e3ce0e66489c\", \"is_in\": \"Williamson,Texas,Tex.,TX,USA\", \"name\": \"Florence\", \"place\": \"village\", \"population\": \"1120\"}, \"type\": \"Feature\"}, {\"geometry\": {\"coordinates\": [-96.9280787, 38.2444619], \"type\": \"Point\"}, \"id\": 151761934, \"properties\": {\"census:population\": \"637;2006\", \"ele\": \"387\", \"gnis:Class\": \"Populated Place\", \"gnis:County\": \"Marion\", \"gnis:County_num\": \"115\", \"gnis:ST_alpha\": \"KS\", \"gnis:ST_num\": \"20\", \"gnis:id\": \"477372\", \"import_uuid\": \"bb7269ee-502a-5391-8056-e3ce0e66489c\", \"is_in\": \"Marion,Kansas,Kans.,KS,USA\", \"name\": \"Florence\", \"place\": \"town\", \"population\": \"637\"}, \"type\": \"Feature\"}, {\"geometry\": {\"coordinates\": [-91.7237275, 29.7877075], \"type\": \"Point\"}, \"id\": 151764817, \"properties\": {\"ele\": \"1\", \"gnis:Class\": \"Populated Place\", \"gnis:County\": \"St. Mary\", \"gnis:County_num\": \"101\", \"gnis:ST_alpha\": \"LA\", \"gnis:ST_num\": \"22\", \"gnis:id\": \"560766\", \"import_uuid\": \"bb7269ee-502a-5391-8056-e3ce0e66489c\", \"is_in\": \"St. Mary,Louisiana,La.,LA,USA\", \"name\": \"Florence\", \"place\": \"hamlet\"}, \"type\": \"Feature\"}, {\"geometry\": {\"coordinates\": [-97.329802, 45.054685], \"type\": \"Point\"}, \"id\": 151769072, \"properties\": {\"census:population\": \"297;2006\", \"ele\": \"539\", \"gnis:Class\": \"Populated Place\", \"gnis:County\": \"Codington\", \"gnis:County_num\": \"029\", \"gnis:ST_alpha\": \"SD\", \"gnis:ST_num\": \"46\", \"gnis:id\": \"1255090\", \"import_uuid\": \"bb7269ee-502a-5391-8056-e3ce0e66489c\", \"is_in\": \"Codington,South Dakota,S.D.,SD,USA\", \"name\": \"Florence\", \"place\": \"village\", \"population\": \"297\", \"wikidata\": \"Q2674193\", \"wikipedia\": \"en:Florence, South Dakota\"}, \"type\": \"Feature\"}, {\"geometry\": {\"coordinates\": [-96.0519726, 44.2371877], \"type\": \"Point\"}, \"id\": 151789502, \"properties\": {\"census:population\": \"56;2006\", \"ele\": \"528\", \"gnis:Class\": \"Populated Place\", \"gnis:County\": \"Lyon\", \"gnis:County_num\": \"083\", \"gnis:ST_alpha\": \"MN\", \"gnis:ST_num\": \"27\", \"gnis:id\": \"643753\", \"import_uuid\": \"bb7269ee-502a-5391-8056-e3ce0e66489c\", \"is_in\": \"Lyon,Minnesota,Minn.,MN,USA\", \"name\": \"Florence\", \"name:ru\": \"\\u0424\\u043b\\u043e\\u0440\\u0435\\u043d\\u0441\", \"place\": \"hamlet\", \"population\": \"56\", \"wikidata\": \"Q1924404\", \"wikipedia\": \"en:Florence, Minnesota\"}, \"type\": \"Feature\"}, {\"geometry\": {\"coordinates\": [-91.645683, 33.7656612], \"type\": \"Point\"}, \"id\": 151803938, \"properties\": {\"ele\": \"56\", \"gnis:Class\": \"Populated Place\", \"gnis:County\": \"Drew\", \"gnis:County_num\": \"043\", \"gnis:ST_alpha\": \"AR\", \"gnis:ST_num\": \"05\", \"gnis:id\": \"57016\", \"import_uuid\": \"bb7269ee-502a-5391-8056-e3ce0e66489c\", \"is_in\": \"Drew,Arkansas,Ark.,AR,USA\", \"name\": \"Florence\", \"place\": \"hamlet\"}, \"type\": \"Feature\"}, {\"geometry\": {\"coordinates\": [-90.1311971, 32.1534836], \"type\": \"Point\"}, \"id\": 151807319, \"properties\": {\"census:population\": \"3225;2006\", \"ele\": \"95\", \"gnis:Class\": \"Populated Place\", \"gnis:County\": \"Rankin\", \"gnis:County_num\": \"121\", \"gnis:ST_alpha\": \"MS\", \"gnis:ST_num\": \"28\", \"gnis:id\": \"670045\", \"import_uuid\": \"bb7269ee-502a-5391-8056-e3ce0e66489c\", \"is_in\": \"Rankin,Mississippi,Miss.,MS,USA\", \"name\": \"Florence\", \"place\": \"village\", \"population\": \"3225\"}, \"type\": \"Feature\"}, {\"geometry\": {\"coordinates\": [-92.9790873, 38.5889094], \"type\": \"Point\"}, \"id\": 151844459, \"properties\": {\"ele\": \"289\", \"gnis:Class\": \"Populated Place\", \"gnis:County\": \"Morgan\", \"gnis:County_num\": \"141\", \"gnis:ST_alpha\": \"MO\", \"gnis:ST_num\": \"29\", \"gnis:id\": \"729740\", \"import_uuid\": \"bb7269ee-502a-5391-8056-e3ce0e66489c\", \"is_in\": \"Morgan,Missouri,Mo.,MO,USA\", \"name\": \"Florence\", \"place\": \"hamlet\"}, \"type\": \"Feature\"}, {\"geometry\": {\"coordinates\": [-90.6106819, 39.6272694], \"type\": \"Point\"}, \"id\": 151912238, \"properties\": {\"census:population\": \"67;2006\", \"ele\": \"138\", \"gnis:Class\": \"Populated Place\", \"gnis:County\": \"Pike\", \"gnis:County_num\": \"149\", \"gnis:ST_alpha\": \"IL\", \"gnis:ST_num\": \"17\", \"gnis:id\": \"422705\", \"import_uuid\": \"bb7269ee-502a-5391-8056-e3ce0e66489c\", \"is_in\": \"Pike,Illinois,Ill.,IL,USA\", \"name\": \"Florence\", \"place\": \"hamlet\", \"population\": \"67\"}, \"type\": \"Feature\"}, {\"geometry\": {\"coordinates\": [-88.251799, 45.922176], \"type\": \"Point\"}, \"id\": 153432875, \"properties\": {\"census:population\": \"2231;2006\", \"ele\": \"398\", \"gnis:Class\": \"Populated Place\", \"gnis:County\": \"Florence\", \"gnis:County_num\": \"037\", \"gnis:ST_alpha\": \"WI\", \"gnis:ST_num\": \"55\", \"gnis:id\": \"1565079\", \"import_uuid\": \"bb7269ee-502a-5391-8056-e3ce0e66489c\", \"is_in\": \"Florence,Wisconsin,Wis.,WI,USA\", \"name\": \"Florence\", \"place\": \"village\", \"population\": \"2231\", \"wikidata\": \"Q5460542\", \"wikipedia\": \"en:Florence, Wisconsin\"}, \"type\": \"Feature\"}, {\"geometry\": {\"coordinates\": [-87.677251, 34.79981], \"type\": \"Point\"}, \"id\": 153464478, \"properties\": {\"census:population\": \"36721;2006\", \"ele\": \"167\", \"gnis:Class\": \"Populated Place\", \"gnis:County\": \"Lauderdale\", \"gnis:County_num\": \"077\", \"gnis:ST_alpha\": \"AL\", \"gnis:ST_num\": \"01\", \"gnis:id\": \"118442\", \"import_uuid\": \"bb7269ee-502a-5391-8056-e3ce0e66489c\", \"is_in\": \"Lauderdale,Alabama,Ala.,AL,USA\", \"name\": \"Florence\", \"place\": \"city\", \"population\": \"36721\", \"wikidata\": \"Q79743\"}, \"type\": \"Feature\"}, {\"geometry\": {\"coordinates\": [-86.4679009, 35.9189363], \"type\": \"Point\"}, \"id\": 153660419, \"properties\": {\"ele\": \"167\", \"gnis:Class\": \"Populated Place\", \"gnis:County\": \"Rutherford\", \"gnis:County_num\": \"149\", \"gnis:ST_alpha\": \"TN\", \"gnis:ST_num\": \"47\", \"gnis:id\": \"1315065\", \"import_uuid\": \"bb7269ee-502a-5391-8056-e3ce0e66489c\", \"is_in\": \"Rutherford,Tennessee,Tenn.,TN,USA\", \"name\": \"Florence\", \"place\": \"hamlet\", \"wikidata\": \"Q30682650\"}, \"type\": \"Feature\"}, {\"geometry\": {\"coordinates\": [-85.0410895, 32.0891617], \"type\": \"Point\"}, \"id\": 153799048, \"properties\": {\"ele\": \"67\", \"gnis:Class\": \"Populated Place\", \"gnis:County\": \"Stewart\", \"gnis:County_num\": \"259\", \"gnis:ST_alpha\": \"GA\", \"gnis:ST_num\": \"13\", \"gnis:id\": \"355851\", \"import_uuid\": \"bb7269ee-502a-5391-8056-e3ce0e66489c\", \"is_in\": \"Stewart,Georgia,Ga.,GA,USA\", \"name\": \"Florence\", \"place\": \"hamlet\"}, \"type\": \"Feature\"}, {\"geometry\": {\"coordinates\": [-89.6598379, 42.2144666], \"type\": \"Point\"}, \"id\": 153808016, \"properties\": {\"census:population\": \"1271;2006\", \"ele\": \"262\", \"gnis:Class\": \"Populated Place\", \"gnis:County\": \"Stephenson\", \"gnis:County_num\": \"177\", \"gnis:ST_alpha\": \"IL\", \"gnis:ST_num\": \"17\", \"gnis:id\": \"408469\", \"import_uuid\": \"bb7269ee-502a-5391-8056-e3ce0e66489c\", \"is_in\": \"Stephenson,Illinois,Ill.,IL,USA\", \"name\": \"Florence\", \"place\": \"village\", \"population\": \"1271\"}, \"type\": \"Feature\"}, {\"geometry\": {\"coordinates\": [-80.7153588, 40.1195164], \"type\": \"Point\"}, \"id\": 153863747, \"properties\": {\"ele\": \"203\", \"gnis:Class\": \"Populated Place\", \"gnis:County\": \"Belmont\", \"gnis:County_num\": \"013\", \"gnis:ST_alpha\": \"OH\", \"gnis:ST_num\": \"39\", \"gnis:id\": \"1061417\", \"import_uuid\": \"bb7269ee-502a-5391-8056-e3ce0e66489c\", \"is_in\": \"Belmont,Ohio,Ohio,OH,USA\", \"name\": \"Florence\", \"place\": \"hamlet\"}, \"type\": \"Feature\"}, {\"geometry\": {\"coordinates\": [-81.5773087, 29.990243], \"type\": \"Point\"}, \"id\": 154154630, \"properties\": {\"ele\": \"1\", \"gnis:Class\": \"Populated Place\", \"gnis:County\": \"St. Johns\", \"gnis:County_num\": \"109\", \"gnis:ST_alpha\": \"FL\", \"gnis:ST_num\": \"12\", \"gnis:id\": \"307855\", \"import_uuid\": \"bb7269ee-502a-5391-8056-e3ce0e66489c\", \"is_in\": \"St. Johns,Florida,Fla.,FL,USA\", \"name\": \"Florence\", \"place\": \"hamlet\"}, \"type\": \"Feature\"}, {\"geometry\": {\"coordinates\": [-82.4137777, 41.3233827], \"type\": \"Point\"}, \"id\": 154168841, \"properties\": {\"census:population\": \"2519;2006\", \"ele\": \"250\", \"gnis:Class\": \"Populated Place\", \"gnis:County\": \"Erie\", \"gnis:County_num\": \"043\", \"gnis:ST_alpha\": \"OH\", \"gnis:ST_num\": \"39\", \"gnis:id\": \"1064659\", \"import_uuid\": \"bb7269ee-502a-5391-8056-e3ce0e66489c\", \"is_in\": \"Erie,Ohio,Ohio,OH,USA\", \"name\": \"Florence\", \"place\": \"village\", \"population\": \"2519\"}, \"type\": \"Feature\"}, {\"geometry\": {\"coordinates\": [-84.6266111, 38.9989499], \"type\": \"Point\"}, \"id\": 154171806, \"properties\": {\"census:population\": \"26929;2006\", \"ele\": \"282\", \"gnis:Class\": \"Populated Place\", \"gnis:County\": \"Boone\", \"gnis:County_num\": \"015\", \"gnis:ST_alpha\": \"KY\", \"gnis:ST_num\": \"21\", \"gnis:id\": \"492266\", \"import_uuid\": \"bb7269ee-502a-5391-8056-e3ce0e66489c\", \"is_in\": \"Boone,Kentucky,Ky.,KY,USA\", \"name\": \"Florence\", \"place\": \"town\", \"population\": \"26929\", \"wikidata\": \"Q985560\"}, \"type\": \"Feature\"}, {\"geometry\": {\"coordinates\": [-84.924393, 38.7842295], \"type\": \"Point\"}, \"id\": 154196802, \"properties\": {\"ele\": \"145\", \"gnis:Class\": \"Populated Place\", \"gnis:County\": \"Switzerland\", \"gnis:County_num\": \"155\", \"gnis:ST_alpha\": \"IN\", \"gnis:ST_num\": \"18\", \"gnis:id\": \"434612\", \"import_uuid\": \"bb7269ee-502a-5391-8056-e3ce0e66489c\", \"is_in\": \"Switzerland,Indiana,Ind.,IN,USA\", \"name\": \"Florence\", \"place\": \"hamlet\", \"wikidata\": \"Q11681872\"}, \"type\": \"Feature\"}, {\"geometry\": {\"coordinates\": [-80.4336768, 40.4322903], \"type\": \"Point\"}, \"id\": 154295744, \"properties\": {\"ele\": \"390\", \"gnis:Class\": \"Populated Place\", \"gnis:County\": \"Washington\", \"gnis:County_num\": \"125\", \"gnis:ST_alpha\": \"PA\", \"gnis:ST_num\": \"42\", \"gnis:id\": \"1174913\", \"import_uuid\": \"bb7269ee-502a-5391-8056-e3ce0e66489c\", \"is_in\": \"Washington,Pennsylvania,Pa.,PA,USA\", \"name\": \"Florence\", \"place\": \"hamlet\", \"wikidata\": \"Q19880465\"}, \"type\": \"Feature\"}, {\"geometry\": {\"coordinates\": [-81.5312353, 39.7578506], \"type\": \"Point\"}, \"id\": 154310737, \"properties\": {\"ele\": \"230\", \"gnis:Class\": \"Populated Place\", \"gnis:County\": \"Noble\", \"gnis:County_num\": \"121\", \"gnis:ST_alpha\": \"OH\", \"gnis:ST_num\": \"39\", \"gnis:id\": \"1064658\", \"import_uuid\": \"bb7269ee-502a-5391-8056-e3ce0e66489c\", \"is_in\": \"Noble,Ohio,Ohio,OH,USA\", \"name\": \"Florence\", \"place\": \"hamlet\"}, \"type\": \"Feature\"}, {\"geometry\": {\"coordinates\": [-84.4830098, 30.5947079], \"type\": \"Point\"}, \"id\": 154378840, \"properties\": {\"ele\": \"59\", \"gnis:Class\": \"Populated Place\", \"gnis:County\": \"Gadsden\", \"gnis:County_num\": \"039\", \"gnis:ST_alpha\": \"FL\", \"gnis:ST_num\": \"12\", \"gnis:id\": \"294770\", \"import_uuid\": \"bb7269ee-502a-5391-8056-e3ce0e66489c\", \"is_in\": \"Gadsden,Florida,Fla.,FL,USA\", \"name\": \"Florence\", \"place\": \"hamlet\"}, \"type\": \"Feature\"}, {\"geometry\": {\"coordinates\": [-76.6310395, 35.1443323], \"type\": \"Point\"}, \"id\": 158282370, \"properties\": {\"ele\": \"2\", \"gnis:Class\": \"Populated Place\", \"gnis:County\": \"Pamlico\", \"gnis:County_num\": \"137\", \"gnis:ST_alpha\": \"NC\", \"gnis:ST_num\": \"37\", \"gnis:id\": \"1020293\", \"import_uuid\": \"bb7269ee-502a-5391-8056-e3ce0e66489c\", \"is_in\": \"Pamlico,North Carolina,N.C.,NC,USA\", \"name\": \"Florence\", \"place\": \"hamlet\"}, \"type\": \"Feature\"}, {\"geometry\": {\"coordinates\": [-77.1085919, 39.3103823], \"type\": \"Point\"}, \"id\": 158569598, \"properties\": {\"ele\": \"196\", \"gnis:Class\": \"Populated Place\", \"gnis:County\": \"Howard\", \"gnis:County_num\": \"027\", \"gnis:ST_alpha\": \"MD\", \"gnis:ST_num\": \"24\", \"gnis:id\": \"584424\", \"import_uuid\": \"bb7269ee-502a-5391-8056-e3ce0e66489c\", \"is_in\": \"Howard,Maryland,Md.,MD,USA\", \"name\": \"Florence\", \"place\": \"hamlet\"}, \"type\": \"Feature\"}, {\"geometry\": {\"coordinates\": [-75.749359, 43.438462], \"type\": \"Point\"}, \"id\": 158617142, \"properties\": {\"census:population\": \"1102;2006\", \"ele\": \"298\", \"gnis:Class\": \"Populated Place\", \"gnis:County\": \"Oneida\", \"gnis:County_num\": \"065\", \"gnis:ST_alpha\": \"NY\", \"gnis:ST_num\": \"36\", \"gnis:id\": \"950299\", \"import_uuid\": \"bb7269ee-502a-5391-8056-e3ce0e66489c\", \"is_in\": \"Oneida,New York,N.Y.,NY,USA\", \"name\": \"Florence\", \"place\": \"village\", \"population\": \"1102\", \"wikidata\": \"Q3501582\"}, \"type\": \"Feature\"}, {\"geometry\": {\"coordinates\": [-79.9589264, 36.0254144], \"type\": \"Point\"}, \"id\": 158622278, \"properties\": {\"ele\": \"274\", \"gnis:Class\": \"Populated Place\", \"gnis:County\": \"Guilford\", \"gnis:County_num\": \"081\", \"gnis:ST_alpha\": \"NC\", \"gnis:ST_num\": \"37\", \"gnis:id\": \"985230\", \"import_uuid\": \"bb7269ee-502a-5391-8056-e3ce0e66489c\", \"is_in\": \"Guilford,North Carolina,N.C.,NC,USA\", \"name\": \"Florence\", \"place\": \"hamlet\"}, \"type\": \"Feature\"}, {\"geometry\": {\"coordinates\": [-75.4659512, 39.084424], \"type\": \"Point\"}, \"id\": 158642209, \"properties\": {\"ele\": \"4\", \"gnis:Class\": \"Populated Place\", \"gnis:County\": \"Kent\", \"gnis:County_num\": \"001\", \"gnis:ST_alpha\": \"DE\", \"gnis:ST_num\": \"10\", \"gnis:id\": \"216773\", \"import_uuid\": \"bb7269ee-502a-5391-8056-e3ce0e66489c\", \"is_in\": \"Kent,Delaware,Del.,DE,USA\", \"name\": \"Florence\", \"note:wikipedia\": \"No article as of 2012-12\", \"place\": \"hamlet\", \"source:location\": \"MSR_usgs_topo_maps\"}, \"type\": \"Feature\"}, {\"geometry\": {\"coordinates\": [-74.8054406, 40.1195546], \"type\": \"Point\"}, \"id\": 158800394, \"properties\": {\"census:population\": \"11637;2006\", \"ele\": \"8\", \"gnis:Class\": \"Populated Place\", \"gnis:County\": \"Burlington\", \"gnis:County_num\": \"005\", \"gnis:ST_alpha\": \"NJ\", \"gnis:ST_num\": \"34\", \"gnis:id\": \"876390\", \"import_uuid\": \"bb7269ee-502a-5391-8056-e3ce0e66489c\", \"is_in\": \"Burlington,New Jersey,N.J.,NJ,USA\", \"name\": \"Florence\", \"place\": \"town\", \"population\": \"11637\"}, \"type\": \"Feature\"}, {\"geometry\": {\"coordinates\": [-72.6717575, 42.3356448], \"type\": \"Point\"}, \"id\": 158815587, \"properties\": {\"ele\": \"84\", \"gnis:Class\": \"Populated Place\", \"gnis:County\": \"Hampshire\", \"gnis:County_num\": \"015\", \"gnis:ST_alpha\": \"MA\", \"gnis:ST_num\": \"25\", \"gnis:id\": \"608742\", \"import_uuid\": \"bb7269ee-502a-5391-8056-e3ce0e66489c\", \"is_in\": \"Hampshire,Massachusetts,Mass.,MA,USA\", \"name\": \"Florence\", \"place\": \"hamlet\", \"wikidata\": \"Q5460527\"}, \"type\": \"Feature\"}, {\"geometry\": {\"coordinates\": [-74.9182198, 39.7342825], \"type\": \"Point\"}, \"id\": 158827077, \"properties\": {\"ele\": \"42\", \"gnis:Class\": \"Populated Place\", \"gnis:County\": \"Camden\", \"gnis:County_num\": \"007\", \"gnis:ST_alpha\": \"NJ\", \"gnis:ST_num\": \"34\", \"gnis:id\": \"876389\", \"import_uuid\": \"bb7269ee-502a-5391-8056-e3ce0e66489c\", \"is_in\": \"Camden,New Jersey,N.J.,NJ,USA\", \"name\": \"Florence\", \"place\": \"hamlet\", \"wikidata\": \"Q5460537\"}, \"type\": \"Feature\"}, {\"geometry\": {\"coordinates\": [-73.0614987, 43.7164545], \"type\": \"Point\"}, \"id\": 158906289, \"properties\": {\"ele\": \"131\", \"gnis:Class\": \"Populated Place\", \"gnis:County\": \"Rutland\", \"gnis:County_num\": \"021\", \"gnis:ST_alpha\": \"VT\", \"gnis:ST_num\": \"50\", \"gnis:id\": \"1457459\", \"import_uuid\": \"bb7269ee-502a-5391-8056-e3ce0e66489c\", \"is_in\": \"Rutland,Vermont,Vt.,VT,USA\", \"name\": \"Florence\", \"place\": \"hamlet\", \"wikidata\": \"Q5460534\"}, \"type\": \"Feature\"}, {\"geometry\": {\"coordinates\": [-82.0080793, 42.6566092], \"type\": \"Point\"}, \"id\": 309201318, \"properties\": {\"name\": \"Florence\", \"place\": \"village\"}, \"type\": \"Feature\"}, {\"geometry\": {\"coordinates\": [-79.6644927, 33.986694], \"type\": \"Point\"}, \"id\": 316990218, \"properties\": {\"is_in\": \"South Carolina,S.C.,SC,USA\", \"name\": \"Florence\", \"place\": \"county\"}, \"type\": \"Feature\"}, {\"geometry\": {\"coordinates\": [-88.3902943, 45.8379973], \"type\": \"Point\"}, \"id\": 317007197, \"properties\": {\"name\": \"Florence\", \"place\": \"county\"}, \"type\": \"Feature\"}, {\"geometry\": {\"coordinates\": [-74.8050898, 40.1000218], \"type\": \"Point\"}, \"id\": 340331319, \"properties\": {\"name\": \"Florence\", \"operator\": \"NJ \", \"railway\": \"station\", \"wheelchair\": \"yes\", \"wikidata\": \"Q5460538\"}, \"type\": \"Feature\"}, {\"geometry\": {\"coordinates\": [-79.7671658, 34.1984435], \"type\": \"Point\"}, \"id\": 367807361, \"properties\": {\"addr:state\": \"SC\", \"ele\": \"44\", \"gnis:county_name\": \"Florence\", \"gnis:feature_id\": \"2490456\", \"gnis:import_uuid\": \"57871b70-0100-4405-bb30-88b2e001a944\", \"gnis:reviewed\": \"no\", \"name\": \"Florence\", \"place\": \"city\", \"population\": \"136885\", \"source\": \"USGS Geonames\", \"wikidata\": \"Q597842\", \"wikipedia\": \"en:Florence, South Carolina\"}, \"type\": \"Feature\"}, {\"geometry\": {\"coordinates\": [-2.1312853, 52.9699864], \"type\": \"Point\"}, \"id\": 611681377, \"properties\": {\"name\": \"Florence\", \"place\": \"locality\"}, \"type\": \"Feature\"}, {\"geometry\": {\"coordinates\": [6.1717928, 46.1941204], \"type\": \"Point\"}, \"id\": 933403856, \"properties\": {\"ele\": \"420\", \"highway\": \"bus_stop\", \"name\": \"Florence\", \"operator\": \"TPG\", \"uic_name\": \"Gen\\u00e8ve, Florence\", \"uic_ref\": \"8592823\"}, \"type\": \"Feature\"}, {\"geometry\": {\"coordinates\": [6.1723729, 46.1939963], \"type\": \"Point\"}, \"id\": 933403866, \"properties\": {\"ele\": \"420\", \"highway\": \"bus_stop\", \"name\": \"Florence\", \"operator\": \"TPG\", \"uic_name\": \"Gen\\u00e8ve, Florence\", \"uic_ref\": \"8592823\"}, \"type\": \"Feature\"}, {\"geometry\": {\"coordinates\": [-0.8488123, 44.6445365], \"type\": \"Point\"}, \"id\": 1257814676, \"properties\": {\"name\": \"Florence\", \"place\": \"hamlet\"}, \"type\": \"Feature\"}, {\"geometry\": {\"coordinates\": [-0.498527, 43.1116404], \"type\": \"Point\"}, \"id\": 1704062677, \"properties\": {\"name\": \"Florence\", \"place\": \"isolated_dwelling\", \"source\": \"Bing ; cadastre-dgi-fr source : Direction G\\u00e9n\\u00e9rale des Imp\\u00f4ts - Cadastre. Mise \\u00e0 jour : 2012\"}, \"type\": \"Feature\"}, {\"geometry\": {\"coordinates\": [33.9789859, 34.9894889], \"type\": \"Point\"}, \"id\": 2095645402, \"properties\": {\"amenity\": \"cafe\", \"name\": \"Florence\"}, \"type\": \"Feature\"}, {\"geometry\": {\"coordinates\": [-60.2650132, 46.2591649], \"type\": \"Point\"}, \"id\": 2190577530, \"properties\": {\"fixme\": \"Place type may not be valid\", \"name\": \"Florence\", \"place\": \"locality\", \"source\": \"NRCan-CanVec-10.0\"}, \"type\": \"Feature\"}, {\"geometry\": {\"coordinates\": [-118.2432801, 33.9737744], \"type\": \"Point\"}, \"id\": 2199138632, \"properties\": {\"light_rail\": \"yes\", \"name\": \"Florence\", \"network\": \"Metro Rail\", \"operator\": \"Los Angeles County Metropolitan Transportation Authority\", \"public_transport\": \"station\", \"railway\": \"station\", \"station\": \"light_rail\"}, \"type\": \"Feature\"}, {\"geometry\": {\"coordinates\": [2.1895699, 43.5649962], \"type\": \"Point\"}, \"id\": 2212433384, \"properties\": {\"name\": \"Florence\", \"place\": \"locality\"}, \"type\": \"Feature\"}, {\"geometry\": {\"coordinates\": [85.2872736, 27.7066446], \"type\": \"Point\"}, \"id\": 2218658277, \"properties\": {\"amenity\": \"kindergarten\", \"name\": \"Florence\"}, \"type\": \"Feature\"}, {\"geometry\": {\"coordinates\": [-118.2433118, 33.9736882], \"type\": \"Point\"}, \"id\": 2278824462, \"properties\": {\"light_rail\": \"yes\", \"name\": \"Florence\", \"network\": \"Metro Rail\", \"operator\": \"Los Angeles County Metropolitan Transportation Authority\", \"public_transport\": \"stop_position\", \"railway\": \"stop\"}, \"type\": \"Feature\"}, {\"geometry\": {\"coordinates\": [4.8431367, 43.9452895], \"type\": \"Point\"}, \"id\": 2445420384, \"properties\": {\"bus\": \"yes\", \"highway\": \"bus_stop\", \"name\": \"Florence\", \"public_transport\": \"platform\"}, \"type\": \"Feature\"}, {\"geometry\": {\"coordinates\": [4.8432249, 43.945338], \"type\": \"Point\"}, \"id\": 2445420385, \"properties\": {\"bus\": \"yes\", \"highway\": \"bus_stop\", \"name\": \"Florence\", \"public_transport\": \"platform\"}, \"type\": \"Feature\"}, {\"geometry\": {\"coordinates\": [2.5831656, 48.6290425], \"type\": \"Point\"}, \"id\": 2560655672, \"properties\": {\"bus\": \"yes\", \"highway\": \"bus_stop\", \"name\": \"Florence\", \"public_transport\": \"platform\", \"ref:FR:STIF\": \"33125\", \"ref:FR:STIF:stop_id\": \"StopPoint:29:157\"}, \"type\": \"Feature\"}, {\"geometry\": {\"coordinates\": [3.167135, 50.729313], \"type\": \"Point\"}, \"id\": 2620015156, \"properties\": {\"highway\": \"bus_stop\", \"name\": \"Florence\", \"operator\": \"Transpole\", \"public_transport\": \"platform\", \"shelter\": \"no\", \"source\": \"survey\"}, \"type\": \"Feature\"}, {\"geometry\": {\"coordinates\": [3.1675452, 50.7297623], \"type\": \"Point\"}, \"id\": 2620015159, \"properties\": {\"highway\": \"bus_stop\", \"name\": \"Florence\", \"operator\": \"Transpole\", \"public_transport\": \"platform\", \"shelter\": \"yes\", \"source\": \"survey\"}, \"type\": \"Feature\"}, {\"geometry\": {\"coordinates\": [3.1674797, 50.7297703], \"type\": \"Point\"}, \"id\": 2620015375, \"properties\": {\"bus\": \"yes\", \"name\": \"Florence\", \"public_transport\": \"stop_position\", \"source\": \"survey\"}, \"type\": \"Feature\"}, {\"geometry\": {\"coordinates\": [3.1258605, 50.6315495], \"type\": \"Point\"}, \"id\": 2621116261, \"properties\": {\"bus\": \"yes\", \"name\": \"Florence\", \"operator\": \"Transpole\", \"public_transport\": \"stop_position\"}, \"type\": \"Feature\"}, {\"geometry\": {\"coordinates\": [3.12587, 50.6315965], \"type\": \"Point\"}, \"id\": 2621116264, \"properties\": {\"bench\": \"no\", \"bus\": \"yes\", \"highway\": \"bus_stop\", \"name\": \"Florence\", \"operator\": \"Transpole\", \"public_transport\": \"platform\", \"shelter\": \"no\", \"source\": \"survey\"}, \"type\": \"Feature\"}, {\"geometry\": {\"coordinates\": [3.1249268, 50.6317639], \"type\": \"Point\"}, \"id\": 2621116269, \"properties\": {\"bench\": \"no\", \"bus\": \"yes\", \"highway\": \"bus_stop\", \"name\": \"Florence\", \"operator\": \"Transpole\", \"public_transport\": \"platform\", \"shelter\": \"no\", \"source\": \"survey\"}, \"type\": \"Feature\"}, {\"geometry\": {\"coordinates\": [3.1249613, 50.6318197], \"type\": \"Point\"}, \"id\": 2621116274, \"properties\": {\"bus\": \"yes\", \"name\": \"Florence\", \"operator\": \"Transpole\", \"public_transport\": \"stop_position\"}, \"type\": \"Feature\"}, {\"geometry\": {\"coordinates\": [3.1259133, 50.631961], \"type\": \"Point\"}, \"id\": 2621116278, \"properties\": {\"bus\": \"yes\", \"name\": \"Florence\", \"operator\": \"Transpole\", \"public_transport\": \"stop_position\"}, \"type\": \"Feature\"}, {\"geometry\": {\"coordinates\": [3.1258381, 50.6320277], \"type\": \"Point\"}, \"id\": 2621116281, \"properties\": {\"bench\": \"yes\", \"bus\": \"yes\", \"highway\": \"bus_stop\", \"name\": \"Florence\", \"operator\": \"Transpole\", \"public_transport\": \"platform\", \"shelter\": \"yes\", \"source\": \"survey\"}, \"type\": \"Feature\"}, {\"geometry\": {\"coordinates\": [4.3505207, 52.0776704], \"type\": \"Point\"}, \"id\": 2704920244, \"properties\": {\"addr:city\": \"Voorburg\", \"addr:housenumber\": \"40\", \"addr:postcode\": \"2274JL\", \"addr:street\": \"Koningin Julianalaan\", \"name\": \"Florence\", \"shop\": \"medical_supply\", \"source\": \"BAG\", \"source:date\": \"2014-02-11\"}, \"type\": \"Feature\"}, {\"geometry\": {\"coordinates\": [33.4043764, 47.9095031], \"type\": \"Point\"}, \"id\": 2841303561, \"properties\": {\"name\": \"Florence\", \"shop\": \"clothes\"}, \"type\": \"Feature\"}, {\"geometry\": {\"coordinates\": [6.3599572, 46.3123143], \"type\": \"Point\"}, \"id\": 3028288474, \"properties\": {\"name\": \"Florence\", \"place\": \"locality\", \"source\": \"cadastre-dgi-fr source : Direction G\\u00e9n\\u00e9rale des Finances Publiques - Cadastre. Mise \\u00e0 jour : 2014\"}, \"type\": \"Feature\"}, {\"geometry\": {\"coordinates\": [9.2606589, 45.9879506], \"type\": \"Point\"}, \"id\": 3093120872, \"properties\": {\"addr:city\": \"Bellagio\", \"addr:housenumber\": \"46\", \"addr:postcode\": \"22021\", \"addr:street\": \"Piazza Mazzini\", \"name\": \"Florence\", \"phone\": \"+39 031 950342\", \"tourism\": \"hotel\", \"website\": \"www.hotelflorencebellagio.it\"}, \"type\": \"Feature\"}, {\"geometry\": {\"coordinates\": [-5.576418, 33.8631258], \"type\": \"Point\"}, \"id\": 3140465490, \"properties\": {\"amenity\": \"cafe\", \"name\": \"Florence\"}, \"type\": \"Feature\"}, {\"geometry\": {\"coordinates\": [-0.2520509, 43.5361796], \"type\": \"Point\"}, \"id\": 3155086528, \"properties\": {\"name\": \"Florence\", \"place\": \"isolated_dwelling\", \"source\": \"cadastre-dgi-fr source : Direction G\\u00e9n\\u00e9rale des Imp\\u00f4ts - Cadastre ; mise \\u00e0 jour : 2014\"}, \"type\": \"Feature\"}, {\"geometry\": {\"coordinates\": [5.2168155, 52.372099], \"type\": \"Point\"}, \"id\": 3199024670, \"properties\": {\"amenity\": \"restaurant\", \"name\": \"Florence\"}, \"type\": \"Feature\"}, {\"geometry\": {\"coordinates\": [0.319282, 44.2640461], \"type\": \"Point\"}, \"id\": 3271181249, \"properties\": {\"name\": \"Florence\", \"place\": \"locality\", \"ref:FR:FANTOIR\": \"47043B066N\", \"source\": \"Cadastre M\\u00e0J 2015; Bano\", \"source:name\": \"Cadastre M\\u00e0J 2015; Bano\", \"source:ref\": \"Bano\"}, \"type\": \"Feature\"}, {\"geometry\": {\"coordinates\": [4.3091207, 52.0390547], \"type\": \"Point\"}, \"id\": 3388242306, \"properties\": {\"amenity\": \"retirement_home\", \"name\": \"Florence\", \"source\": \"survey\"}, \"type\": \"Feature\"}, {\"geometry\": {\"coordinates\": [25.1019198, -33.9044519], \"type\": \"Point\"}, \"id\": 3497388618, \"properties\": {\"name\": \"Florence\"}, \"type\": \"Feature\"}, {\"geometry\": {\"coordinates\": [4.3683467, 52.0842196], \"type\": \"Point\"}, \"id\": 3670962775, \"properties\": {\"amenity\": \"social_facility\", \"name\": \"Florence\"}, \"type\": \"Feature\"}, {\"geometry\": {\"coordinates\": [18.5959023, 48.2216519], \"type\": \"Point\"}, \"id\": 3848938557, \"properties\": {\"amenity\": \"pub\", \"internet_access\": \"yes\", \"internet_access:fee\": \"no\", \"name\": \"Florence\", \"outdoor_seating\": \"yes\", \"smoking\": \"no\", \"wheelchair\": \"yes\"}, \"type\": \"Feature\"}, {\"geometry\": {\"coordinates\": [-102.3988964, 31.9082034], \"type\": \"Point\"}, \"id\": 4137142065, \"properties\": {\"name\": \"Florence\", \"place\": \"neighbourhood\"}, \"type\": \"Feature\"}, {\"geometry\": {\"coordinates\": [-118.243246, 33.9738422], \"type\": \"Point\"}, \"id\": 4400708464, \"properties\": {\"light_rail\": \"yes\", \"name\": \"Florence\", \"network\": \"Metro Rail\", \"operator\": \"Los Angeles County Metropolitan Transportation Authority\", \"public_transport\": \"stop_position\", \"railway\": \"stop\"}, \"type\": \"Feature\"}, {\"geometry\": {\"coordinates\": [-0.4673454, 52.1380661], \"type\": \"Point\"}, \"id\": 4460869408, \"properties\": {\"addr:housenumber\": \"1\", \"addr:postcode\": \"MK40 1NH\", \"addr:street\": \"Clair Court\", \"fhrs:id\": \"95214\", \"name\": \"Florence\", \"shop\": \"grocery\"}, \"type\": \"Feature\"}, {\"geometry\": {\"coordinates\": [-3.0501491, 53.8154723], \"type\": \"Point\"}, \"id\": 4533606289, \"properties\": {\"name\": \"Florence\", \"tourism\": \"apartments\"}, \"type\": \"Feature\"}, {\"geometry\": {\"coordinates\": [2.5837406, 48.6289641], \"type\": \"Point\"}, \"id\": 4811656889, \"properties\": {\"bus\": \"yes\", \"highway\": \"bus_stop\", \"name\": \"Florence\", \"public_transport\": \"platform\", \"ref:FR:STIF\": \"33124\", \"ref:FR:STIF:stop_id\": \"StopPoint:29:156\"}, \"type\": \"Feature\"}, {\"geometry\": {\"coordinates\": [9.2605328, 45.988065], \"type\": \"Point\"}, \"id\": 4931221438, \"properties\": {\"amenity\": \"restaurant\", \"name\": \"Florence\"}, \"type\": \"Feature\"}, {\"geometry\": {\"coordinates\": [2.3557091, 47.5733917], \"type\": \"Point\"}, \"id\": 5025469062, \"properties\": {\"name\": \"Florence\", \"place\": \"isolated_dwelling\"}, \"type\": \"Feature\"}, {\"geometry\": {\"coordinates\": [-74.0619561, 4.6459362], \"type\": \"Point\"}, \"id\": 5174971086, \"properties\": {\"addr:street\": \"Calle 60\", \"name\": \"Florence\", \"shop\": \"clothes\", \"source\": \"Kaart Ground Survey 2017\"}, \"type\": \"Feature\"}, {\"geometry\": {\"coordinates\": [2.4640542, 47.741641], \"type\": \"Point\"}, \"id\": 5212928572, \"properties\": {\"name\": \"Florence\", \"place\": \"locality\"}, \"type\": \"Feature\"}, {\"geometry\": {\"coordinates\": [134.0160397, 35.0739858], \"type\": \"Point\"}, \"id\": 5468740951, \"properties\": {\"amenity\": \"cafe\", \"name\": \"Florence\"}, \"type\": \"Feature\"}, {\"geometry\": {\"coordinates\": [-1.5885329, 53.7976203], \"type\": \"Point\"}, \"id\": 5478423470, \"properties\": {\"addr:city\": \"Leeds\", \"addr:housenumber\": \"18\", \"addr:postcode\": \"LS12 3AQ\", \"addr:street\": \"Branch Road\", \"addr:suburb\": \"Armley\", \"amenity\": \"cafe\", \"fhrs:id\": \"322614\", \"name\": \"Florence\"}, \"type\": \"Feature\"}], \"type\": \"FeatureCollection\"}\n"
     ]
    }
   ],
   "source": [
    "print(response)"
   ]
  },
  {
   "cell_type": "code",
   "execution_count": null,
   "metadata": {},
   "outputs": [],
   "source": [
    "Geographic data is very commonly stored in tables of various types.b"
   ]
  },
  {
   "cell_type": "code",
   "execution_count": null,
   "metadata": {},
   "outputs": [],
   "source": [
    "These include CSV, Excel, Google Spreadsheets, and many others."
   ]
  },
  {
   "cell_type": "markdown",
   "metadata": {},
   "source": [
    "There's the file geodatabase, TopoJSON, PostGIS, SpatiaLite, Well-known Text, Web Feature Service, and even more."
   ]
  },
  {
   "cell_type": "markdown",
   "metadata": {},
   "source": [
    "(If you're going to poke around, check out PostGIS first. Super powerful.)"
   ]
  },
  {
   "cell_type": "markdown",
   "metadata": {},
   "source": [
    "There are many tools that allow for transformation, including QGIS, GDAL, and OGR2OGR, among others.\n"
   ]
  },
  {
   "cell_type": "code",
   "execution_count": null,
   "metadata": {},
   "outputs": [],
   "source": [
    "import geopandas as gpd\n",
    "gpd.Geo\n"
   ]
  },
  {
   "cell_type": "markdown",
   "metadata": {
    "slideshow": {
     "slide_type": "slide"
    }
   },
   "source": [
    "# Projections!"
   ]
  },
  {
   "cell_type": "code",
   "execution_count": null,
   "metadata": {},
   "outputs": [],
   "source": [
    "En aquel Imperio, el Arte de la Cartografía logró tal Perfección que el mapa de una sola Provincia ocupaba toda una Ciudad, y el mapa del Imperio, toda una Provincia. Con el tiempo, estos Mapas Desmesurados no satisficieron y los Colegios de Cartógrafos levantaron un Mapa del Imperio, que tenía el tamaño del Imperio y coincidía puntualmente con él.\n",
    "\n",
    "Menos Adictas al Estudio de la Cartografía, las Generaciones Siguientes entendieron que ese dilatado Mapa era Inútil y no sin Impiedad lo entregaron a las Inclemencias del Sol y los Inviernos. En los desiertos del Oeste perduran despedazadas Ruinas del Mapa, habitadas por Animales y por Mendigos; en todo el País no hay otra reliquia de las Disciplinas Geográficas.\n",
    "\n",
    "Suárez Miranda, Viajes de Varones Prudentes, Libro Cuarto, Cap. XLV, Lérida, 1658.\n",
    "\n",
    "FIN"
   ]
  },
  {
   "cell_type": "markdown",
   "metadata": {
    "slideshow": {
     "slide_type": "subslide"
    }
   },
   "source": [
    "### Obligatory XKCD reference #1\n",
    "![](imgs/xkcd1.png)"
   ]
  },
  {
   "cell_type": "markdown",
   "metadata": {
    "slideshow": {
     "slide_type": "subslide"
    }
   },
   "source": [
    "## The true shape of Africa\n",
    "\n",
    "![](imgs/true-africa.jpg)\n",
    "\n",
    "[<span class=\"black\">QUICK DEMO</span>](https://geopuzzle.org/)"
   ]
  },
  {
   "cell_type": "markdown",
   "metadata": {
    "slideshow": {
     "slide_type": "subslide"
    }
   },
   "source": [
    "## Tissot indicators to the rescue!"
   ]
  },
  {
   "cell_type": "markdown",
   "metadata": {
    "slideshow": {
     "slide_type": "subslide"
    }
   },
   "source": [
    "## There's many types of projections:"
   ]
  },
  {
   "cell_type": "markdown",
   "metadata": {
    "slideshow": {
     "slide_type": "fragment"
    }
   },
   "source": [
    "- **Azimuthal**= preserves the azimuth (direction) from center § conformal-"
   ]
  },
  {
   "cell_type": "markdown",
   "metadata": {
    "slideshow": {
     "slide_type": "fragment"
    }
   },
   "source": [
    "- **Conformal**= local angles are correct, preserving small shapes "
   ]
  },
  {
   "cell_type": "markdown",
   "metadata": {
    "slideshow": {
     "slide_type": "fragment"
    }
   },
   "source": [
    "-  **Equal-area**= preserve area measure, generally distorting shapes"
   ]
  },
  {
   "cell_type": "markdown",
   "metadata": {
    "slideshow": {
     "slide_type": "fragment"
    }
   },
   "source": [
    "- **Equidistant**= distances from center (or along certain lines, like along meridians) are correct"
   ]
  },
  {
   "cell_type": "markdown",
   "metadata": {
    "slideshow": {
     "slide_type": "fragment"
    }
   },
   "source": [
    "[<span class=\"black\">QUICK DEMO</alert>](https://bl.ocks.org/syntagmatic/raw/ba569633d51ebec6ec6e/)"
   ]
  },
  {
   "cell_type": "markdown",
   "metadata": {
    "slideshow": {
     "slide_type": "subslide"
    }
   },
   "source": [
    "Which one to use? "
   ]
  },
  {
   "cell_type": "markdown",
   "metadata": {
    "slideshow": {
     "slide_type": "fragment"
    }
   },
   "source": [
    "There is <span class=\"alert\">no perfect answer!</span>"
   ]
  },
  {
   "cell_type": "markdown",
   "metadata": {
    "slideshow": {
     "slide_type": "fragment"
    }
   },
   "source": [
    "The most used one are "
   ]
  },
  {
   "cell_type": "markdown",
   "metadata": {
    "slideshow": {
     "slide_type": "subslide"
    }
   },
   "source": [
    "# How to deal with projections (from a pythonic perspective)?"
   ]
  },
  {
   "cell_type": "markdown",
   "metadata": {
    "slideshow": {
     "slide_type": "fragment"
    }
   },
   "source": [
    "Enter OGR2OGR and GDAL!"
   ]
  },
  {
   "cell_type": "markdown",
   "metadata": {
    "slideshow": {
     "slide_type": "fragment"
    }
   },
   "source": [
    "- **OGR2OGR** = \n",
    "- **GDAL** = "
   ]
  },
  {
   "cell_type": "code",
   "execution_count": null,
   "metadata": {},
   "outputs": [],
   "source": [
    "import ogr2ogr"
   ]
  },
  {
   "cell_type": "markdown",
   "metadata": {
    "slideshow": {
     "slide_type": "slide"
    }
   },
   "source": [
    "# Data Visualization!"
   ]
  },
  {
   "cell_type": "markdown",
   "metadata": {
    "slideshow": {
     "slide_type": "slide"
    }
   },
   "source": [
    "### Obligatory XKCD reference #2\n",
    "![](imgs/xkcd2.png)"
   ]
  },
  {
   "cell_type": "markdown",
   "metadata": {
    "slideshow": {
     "slide_type": "slide"
    }
   },
   "source": [
    "# Analysis!"
   ]
  }
 ],
 "metadata": {
  "celltoolbar": "Slideshow",
  "kernelspec": {
   "display_name": "Python 3",
   "language": "python",
   "name": "python3"
  },
  "language_info": {
   "codemirror_mode": {
    "name": "ipython",
    "version": 3
   },
   "file_extension": ".py",
   "mimetype": "text/x-python",
   "name": "python",
   "nbconvert_exporter": "python",
   "pygments_lexer": "ipython3",
   "version": "3.6.4"
  }
 },
 "nbformat": 4,
 "nbformat_minor": 2
}
