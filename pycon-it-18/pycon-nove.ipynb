{
 "cells": [
  {
   "cell_type": "markdown",
   "metadata": {
    "slideshow": {
     "slide_type": "slide"
    }
   },
   "source": [
    "# LOCATION, LOCATION, LOCATION: \n",
    "## ANALYSIS AND VISUALISATION OF GEOSPATIAL DATA IN PYTHON\n",
    "\n",
    "### PyCon Nove - Florence, 19<sup>th</sup>-22<sup>nd</sup> April 2018"
   ]
  },
  {
   "cell_type": "markdown",
   "metadata": {
    "slideshow": {
     "slide_type": "slide"
    }
   },
   "source": [
    "# PLEASE:  <span class=\"alert\">Interrupt</span> if you have questions!"
   ]
  },
  {
   "cell_type": "markdown",
   "metadata": {
    "slideshow": {
     "slide_type": "slide"
    }
   },
   "source": [
    "# Programme:\n",
    "\n",
    "<!-- What do we mean by <span class=\"alert\">Geospatial</span> data? (And why should we care..) -->\n",
    "- Formats!\n",
    "- Projections!\n",
    "- Analysis!\n",
    "- Visualization!"
   ]
  },
  {
   "cell_type": "markdown",
   "metadata": {
    "slideshow": {
     "slide_type": "slide"
    }
   },
   "source": [
    "# Disclaimer\n",
    "\n",
    "This talk is aimed at total beginners! \n",
    "Follow along at XXX"
   ]
  },
  {
   "cell_type": "markdown",
   "metadata": {
    "slideshow": {
     "slide_type": "slide"
    }
   },
   "source": [
    "# What is Geographic Data? "
   ]
  },
  {
   "cell_type": "markdown",
   "metadata": {
    "slideshow": {
     "slide_type": "fragment"
    }
   },
   "source": [
    "Any data with a <span class=\"alert\">location</span> component."
   ]
  },
  {
   "cell_type": "markdown",
   "metadata": {
    "slideshow": {
     "slide_type": "fragment"
    }
   },
   "source": [
    "- We can use them to analyze and/or visualize spatial phenomena\n",
    "- Many different types but can be grouped under two common denominators: raster vs vector data."
   ]
  },
  {
   "cell_type": "markdown",
   "metadata": {
    "slideshow": {
     "slide_type": "subslide"
    }
   },
   "source": [
    "# Vector\n",
    "\n",
    "![](vector.gif)"
   ]
  },
  {
   "cell_type": "markdown",
   "metadata": {
    "slideshow": {
     "slide_type": "subslide"
    }
   },
   "source": [
    "# Raster\n",
    "\n",
    "![](https://iphonedroneimagery.files.wordpress.com/2014/02/ndvi-farm.jpg)"
   ]
  },
  {
   "cell_type": "markdown",
   "metadata": {
    "slideshow": {
     "slide_type": "subslide"
    }
   },
   "source": [
    "Most of the time you'll work with vector data, so let's skip the raster until the addendum"
   ]
  },
  {
   "cell_type": "markdown",
   "metadata": {
    "slideshow": {
     "slide_type": "subslide"
    }
   },
   "source": [
    "# Shapefile\n",
    "\n",
    "![](https://ih1.redbubble.net/image.439227781.4623/flat,800x800,070,f.u1.jpg)"
   ]
  },
  {
   "cell_type": "markdown",
   "metadata": {
    "slideshow": {
     "slide_type": "slide"
    }
   },
   "source": [
    "![](imgs/shapefile.png)"
   ]
  },
  {
   "cell_type": "markdown",
   "metadata": {
    "slideshow": {
     "slide_type": "subslide"
    }
   },
   "source": [
    "Composed by (at <span class=\"black\">least</span>) three files: \n",
    "- **.dbf** = `dBASE` file contains the attribute information table in standard `DBF` *format*\n",
    "- **.shx**= Indexing file for look-ups etc..\n",
    "- **.shp**= Contains the actual *geometries* (Points, Lines, Polygons...)\n",
    "\n",
    "    "
   ]
  },
  {
   "cell_type": "markdown",
   "metadata": {
    "slideshow": {
     "slide_type": "fragment"
    }
   },
   "source": [
    "Optional, but highly important is:\n",
    "- **prj** = contains the data <span class=\"alert\">projection</span>! (more on this later...)"
   ]
  },
  {
   "cell_type": "markdown",
   "metadata": {
    "slideshow": {
     "slide_type": "subslide"
    }
   },
   "source": [
    "> “80% of successful GIS work is having a good folder structure”\n",
    ">  [@Shapefile](https://twitter.com/shapefiIe)"
   ]
  },
  {
   "cell_type": "markdown",
   "metadata": {
    "slideshow": {
     "slide_type": "subslide"
    }
   },
   "source": [
    "![](imgs/hate-shapefile.jpg)"
   ]
  },
  {
   "cell_type": "markdown",
   "metadata": {
    "slideshow": {
     "slide_type": "slide"
    }
   },
   "source": [
    "# GeoJSON\n",
    "\n",
    "![](imgs/geojson.png)"
   ]
  },
  {
   "cell_type": "markdown",
   "metadata": {
    "slideshow": {
     "slide_type": "slide"
    }
   },
   "source": [
    "- GeoJSON is an extension of a format called JSON, which stands for JavaScript Object Notation.\n",
    "- Because GeoJSON is basically just JavaScript, it can easily be used in web maps!\n",
    "- It has become de *de facto* standard for displaying geodata on the web\n",
    "- Even [Github](https://gist.github.com/miccferr/156889b8a655def77fcfedecd55861cd#file-thailand-geojson) automatically visualizes it \n",
    "- Comes from JSON and javascript,  but it's like a Python `dict`\n"
   ]
  },
  {
   "cell_type": "markdown",
   "metadata": {
    "slideshow": {
     "slide_type": "fragment"
    }
   },
   "source": [
    "- GeoJSON has some required attributes. GeoJSON features need a type, geometry, and properties"
   ]
  },
  {
   "cell_type": "markdown",
   "metadata": {
    "slideshow": {
     "slide_type": "slide"
    }
   },
   "source": [
    "# Other formats\n",
    "\n",
    "- **Vector Tiles** = \n"
   ]
  },
  {
   "cell_type": "markdown",
   "metadata": {
    "slideshow": {
     "slide_type": "fragment"
    }
   },
   "source": [
    "- **KML** = Good 'ol Google Earth!"
   ]
  },
  {
   "cell_type": "markdown",
   "metadata": {
    "slideshow": {
     "slide_type": "fragment"
    }
   },
   "source": [
    "Other formats include QA Tiles"
   ]
  },
  {
   "cell_type": "code",
   "execution_count": null,
   "metadata": {
    "slideshow": {
     "slide_type": "slide"
    }
   },
   "outputs": [],
   "source": [
    "# How to work with these data formats?\n",
    "\n",
    "- Fiona\n",
    "- Shapely"
   ]
  },
  {
   "cell_type": "code",
   "execution_count": null,
   "metadata": {
    "slideshow": {
     "slide_type": "subslide"
    }
   },
   "outputs": [],
   "source": [
    "import fiona\n",
    "shape = fiona.open(\"data/Fontanelle_OSM_ODbL.shp\")\n",
    "print(shape.schema)\n",
    "# {'geometry': 'LineString', 'properties': OrderedDict([(u'FID', 'float:11')])}"
   ]
  },
  {
   "cell_type": "code",
   "execution_count": null,
   "metadata": {
    "slideshow": {
     "slide_type": "fragment"
    }
   },
   "outputs": [],
   "source": [
    "#first feature of the shapefile\n",
    "first = shape.next()\n",
    "print first # (GeoJSON format)\n",
    "{'geometry': {'type': 'LineString', 'coordinates': [(0.0, 0.0), (25.0, 10.0), (50.0, 50.0)]}, 'type': 'Feature', 'id': '0', 'properties': OrderedDict([(u'FID', 0.0)])}"
   ]
  },
  {
   "cell_type": "code",
   "execution_count": null,
   "metadata": {
    "slideshow": {
     "slide_type": "subslide"
    }
   },
   "outputs": [],
   "source": [
    "from osgeo import ogr\n",
    "file = ogr.Open(\"data/Fontanelle_OSM_ODbL.shp\")\n",
    "shape = file.GetLayer(0)\n",
    "#first feature of the shapefile"
   ]
  },
  {
   "cell_type": "code",
   "execution_count": null,
   "metadata": {
    "slideshow": {
     "slide_type": "fragment"
    }
   },
   "outputs": [],
   "source": [
    "feature = shape.GetFeature(0)\n",
    "first = feature.ExportToJson()\n",
    "print first # (GeoJSON format)\n",
    "{\"geometry\": {\"type\": \"LineString\", \"coordinates\": [[0.0, 0.0], [25.0, 10.0], [50.0, 50.0]]}, \"type\": \"Feature\", \"properties\": {\"FID\": 0.0}, \"id\": 0}\n",
    "2"
   ]
  },
  {
   "cell_type": "code",
   "execution_count": null,
   "metadata": {
    "slideshow": {
     "slide_type": "subslide"
    }
   },
   "outputs": [],
   "source": [
    "# now use the shape function of Shapely\n",
    "from shapely.geometry import shape\n",
    "shp_geom = shape(first['geometry']) # or shp_geom = shape(first) with PyShp)\n",
    "print(shp_geom)"
   ]
  },
  {
   "cell_type": "code",
   "execution_count": null,
   "metadata": {
    "slideshow": {
     "slide_type": "fragment"
    }
   },
   "outputs": [],
   "source": [
    "print(type(shp_geom))"
   ]
  },
  {
   "cell_type": "markdown",
   "metadata": {
    "slideshow": {
     "slide_type": "slide"
    }
   },
   "source": [
    "# Openstreetmap!\n",
    "![](imgs/osm1.jpg)"
   ]
  },
  {
   "cell_type": "markdown",
   "metadata": {
    "slideshow": {
     "slide_type": "subslide"
    }
   },
   "source": [
    "![](imgs/osm2.jpg)"
   ]
  },
  {
   "cell_type": "markdown",
   "metadata": {
    "slideshow": {
     "slide_type": "subslide"
    }
   },
   "source": [
    "There's many ways and formats to Simple tool to extract data from OSM is \n",
    "Today we'll see the easiset: <span class=\"alert\">Overpass Turbo!</span>"
   ]
  },
  {
   "cell_type": "markdown",
   "metadata": {
    "slideshow": {
     "slide_type": "fragment"
    }
   },
   "source": [
    "Of course there's a python package for it!"
   ]
  },
  {
   "cell_type": "code",
   "execution_count": 36,
   "metadata": {
    "slideshow": {
     "slide_type": "subslide"
    }
   },
   "outputs": [],
   "source": [
    "import overpass\n",
    "api = overpass.API()\n",
    "response = api.get('node[\"name\"=\"Florence\"]')"
   ]
  },
  {
   "cell_type": "code",
   "execution_count": 37,
   "metadata": {
    "slideshow": {
     "slide_type": "subslide"
    }
   },
   "outputs": [
    {
     "name": "stdout",
     "output_type": "stream",
     "text": [
      "<class 'geojson.feature.FeatureCollection'>\n"
     ]
    }
   ],
   "source": [
    "print(type(response))"
   ]
  },
  {
   "cell_type": "code",
   "execution_count": null,
   "metadata": {},
   "outputs": [],
   "source": []
  }
 ],
 "metadata": {
  "celltoolbar": "Slideshow",
  "kernelspec": {
   "display_name": "Python 3",
   "language": "python",
   "name": "python3"
  },
  "language_info": {
   "codemirror_mode": {
    "name": "ipython",
    "version": 3
   },
   "file_extension": ".py",
   "mimetype": "text/x-python",
   "name": "python",
   "nbconvert_exporter": "python",
   "pygments_lexer": "ipython3",
   "version": "3.6.4"
  }
 },
 "nbformat": 4,
 "nbformat_minor": 2
}
